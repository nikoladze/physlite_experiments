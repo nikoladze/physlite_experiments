{
 "cells": [
  {
   "cell_type": "code",
   "execution_count": 1,
   "id": "atlantic-prompt",
   "metadata": {},
   "outputs": [],
   "source": [
    "import uproot\n",
    "import awkward as ak\n",
    "import numpy as np\n",
    "import matplotlib.pyplot as plt\n",
    "import pandas as pd\n",
    "from physlite_events import physlite_events, get_branch_forms, get_lazy_form"
   ]
  },
  {
   "cell_type": "code",
   "execution_count": 2,
   "id": "sapphire-singapore",
   "metadata": {},
   "outputs": [
    {
     "name": "stdout",
     "output_type": "stream",
     "text": [
      "CPU times: user 1.52 s, sys: 25.1 ms, total: 1.55 s\n",
      "Wall time: 1.55 s\n"
     ]
    }
   ],
   "source": [
    "%%time\n",
    "#f = uproot.open(\"user.nihartma.22884623.EXT0._000001.DAOD_PHYSLITE.test.pool.root\")\n",
    "filename = \"/home/nikolai/data/user.elmsheus.21230205.EXT0._000002.DAOD_PHYSLITE.mc.pool.root\"\n",
    "tree = uproot.open(f\"{filename}:CollectionTree\")"
   ]
  },
  {
   "cell_type": "code",
   "execution_count": 3,
   "id": "reduced-sherman",
   "metadata": {},
   "outputs": [
    {
     "name": "stdout",
     "output_type": "stream",
     "text": [
      "Can't interpret PrimaryVerticesAuxDyn.neutralParticleLinks\n",
      "CPU times: user 481 ms, sys: 9.95 ms, total: 491 ms\n",
      "Wall time: 492 ms\n"
     ]
    }
   ],
   "source": [
    "%%time\n",
    "events = physlite_events(tree, verbose=True)"
   ]
  },
  {
   "cell_type": "code",
   "execution_count": 4,
   "id": "compound-membrane",
   "metadata": {},
   "outputs": [
    {
     "name": "stdout",
     "output_type": "stream",
     "text": [
      "Can't interpret PrimaryVerticesAuxDyn.neutralParticleLinks\n",
      "CPU times: user 105 ms, sys: 3.11 ms, total: 108 ms\n",
      "Wall time: 106 ms\n"
     ]
    }
   ],
   "source": [
    "%%time\n",
    "form = get_lazy_form(get_branch_forms(tree))"
   ]
  },
  {
   "cell_type": "code",
   "execution_count": 5,
   "id": "ordered-cooking",
   "metadata": {},
   "outputs": [],
   "source": [
    "def has_overlap(obj1, obj2, filter_dr):\n",
    "    \"\"\"\n",
    "    Return mask array where obj1 has overlap with obj2 based on a filter\n",
    "    function on deltaR (and pt of the first one)\n",
    "    \"\"\"\n",
    "    dr = obj1.delta_r(obj1.nearest(obj2))\n",
    "    return ak.fill_none(filter_dr(dr, obj1.pt), False)\n",
    "\n",
    "\n",
    "def match_dr(dr, pt, cone_size=0.2):\n",
    "    return dr < cone_size\n",
    "\n",
    "\n",
    "def match_boosted_dr(dr, pt, max_cone_size=0.4):\n",
    "    return dr < np.minimum(*ak.broadcast_arrays(10000. / pt + 0.04, max_cone_size))"
   ]
  },
  {
   "cell_type": "code",
   "execution_count": 6,
   "id": "whole-headset",
   "metadata": {},
   "outputs": [],
   "source": [
    "def muon_track_links(muons):\n",
    "    return muons[\"inDetTrackParticleLink.m_persIndex\"].mask[\n",
    "        muons[\"inDetTrackParticleLink.m_persKey\"] != 0\n",
    "    ]"
   ]
  },
  {
   "cell_type": "code",
   "execution_count": 7,
   "id": "medieval-astrology",
   "metadata": {},
   "outputs": [],
   "source": [
    "def jet_ghost_links(jets):\n",
    "    return jets.GhostTrack.m_persIndex.mask[jets.GhostTrack.m_persKey != 0]"
   ]
  },
  {
   "cell_type": "code",
   "execution_count": 8,
   "id": "portuguese-pioneer",
   "metadata": {},
   "outputs": [],
   "source": [
    "def is_associated(idx1, idx2):\n",
    "    \"\"\"\n",
    "    Used for muon-jet ghost association\n",
    "    \"\"\"\n",
    "    # TODO: check if keys also match\n",
    "    xx1, xx2 = ak.unzip(ak.cartesian([idx1, idx2], nested=True))\n",
    "    return ak.fill_none(ak.any(ak.any(xx1 == xx2, axis=-1), axis=-1), False)"
   ]
  },
  {
   "cell_type": "code",
   "execution_count": 9,
   "id": "working-amount",
   "metadata": {},
   "outputs": [],
   "source": [
    "def has_overlap_mujet(obj1, obj2, filter_dr):\n",
    "    \"\"\"\n",
    "    Check if either ghost associated or delta_r match\n",
    "    \"\"\"\n",
    "    if \"GhostTrack\" in obj1.fields:\n",
    "        ghost_match = is_associated(jet_ghost_links(obj1), muon_track_links(obj2))\n",
    "    else:\n",
    "        ghost_match = is_associated(muon_track_links(obj1), jet_ghost_links(obj2))\n",
    "    return (\n",
    "        has_overlap(obj1, obj2, filter_dr)\n",
    "        | ghost_match\n",
    "    )"
   ]
  },
  {
   "cell_type": "code",
   "execution_count": 80,
   "id": "spare-opening",
   "metadata": {},
   "outputs": [],
   "source": [
    "def get_obj_sel(evt):\n",
    "    # TODO: sort jets\n",
    "\n",
    "    # skip events without primary vertex (important for data)\n",
    "    evt = evt[ak.num(evt.PrimaryVertices.x) > 0]\n",
    "\n",
    "    # lepton selection\n",
    "    evt[\"Electrons\", \"baseline\"] = (\n",
    "        (evt.Electrons.DFCommonElectronsLHLooseBL == 1)\n",
    "        & (evt.Electrons.pt > 7000)\n",
    "        & (np.abs(evt.Electrons.eta) < 2.47)\n",
    "    )\n",
    "    evt[\"Electrons\", \"signal\"] = (\n",
    "        evt.Electrons.baseline\n",
    "        & (evt.Electrons.DFCommonElectronsLHTight == 1)\n",
    "        & (evt.Electrons.topoetcone20 / evt.Electrons.pt < 0.2)\n",
    "        & (evt.Electrons.ptvarcone20_TightTTVA_pt1000 / evt.Electrons.pt < 0.15)\n",
    "    )\n",
    "    evt[\"Muons\", \"baseline\"] = (\n",
    "        (evt.Muons.DFCommonGoodMuon == 1)\n",
    "        & (evt.Muons.pt > 6000)\n",
    "        & (np.abs(evt.Muons.eta) < 2.7)\n",
    "    )\n",
    "    evt[\"Muons\", \"signal\"] = (\n",
    "        evt.Muons.baseline\n",
    "        & (np.abs(evt.Muons.eta) < 2.5)\n",
    "        & (evt.Muons.topoetcone20 / evt.Muons.pt < 0.3)\n",
    "        & (evt.Muons.ptvarcone30 / evt.Muons.pt < 0.15)\n",
    "    )\n",
    "\n",
    "    # jet selection\n",
    "    evt[\"Jets\", \"baseline\"] = evt.Jets.pt >= 20000\n",
    "    jvt_pt_min = 20000\n",
    "    jvt_pt_max = 60000\n",
    "    jvt_eta_max = 2.4\n",
    "    evt[\"Jets\", \"passJvt\"] = (\n",
    "        ((evt.Jets.pt >= jvt_pt_min) & (evt.Jets.pt < jvt_pt_max) & (evt.Jets.Jvt > 0.2) & (np.abs(evt.Jets.eta) < jvt_eta_max))\n",
    "        | ((evt.Jets.pt >= jvt_pt_max) | (evt.Jets.pt < jvt_pt_min) | (np.abs(evt.Jets.eta) >= jvt_eta_max))\n",
    "    )\n",
    "    evt[\"Jets\", \"signal\"] = evt.Jets.baseline & evt.Jets.passJvt & (np.abs(evt.Jets.eta) < 4.5)\n",
    "\n",
    "    ## \"simplified\" overlap removal\n",
    "    # remove Jets overlapping with Electrons\n",
    "    evt[\"Jets\", \"passOR\"] = (\n",
    "        evt.Jets.baseline\n",
    "        & (\n",
    "            ~has_overlap(\n",
    "                evt.Jets,\n",
    "                evt.Electrons[evt.Electrons.baseline],\n",
    "                match_dr\n",
    "            )\n",
    "        )\n",
    "    )\n",
    "    # remove Electrons overlapping (boosted cone) with remaining Jets (if they pass jvt)\n",
    "    evt[\"Electrons\", \"passOR\"] = (\n",
    "        evt.Electrons.baseline\n",
    "        & (\n",
    "            ~has_overlap(\n",
    "                evt.Electrons,\n",
    "                evt.Jets[evt.Jets.passOR & evt.Jets.passJvt],\n",
    "                match_boosted_dr\n",
    "            )\n",
    "        )\n",
    "    )\n",
    "    # remove Jets overlapping with Muons (TODO: check ntrack requirement, ghost association)\n",
    "    evt[\"Jets\", \"passOR\"] = (\n",
    "        evt.Jets.passOR\n",
    "        & ~(\n",
    "            has_overlap_mujet(evt.Jets, evt.Muons[evt.Muons.baseline], match_dr)\n",
    "            & (evt.Jets.NumTrkPt500[:, :, 0] < 3)\n",
    "        )\n",
    "    )\n",
    "    # remove Muons overlapping (boosted cone) with remaining Jets (if they pass jvt)\n",
    "    evt[\"Muons\", \"passOR\"] = (\n",
    "        evt.Muons.baseline\n",
    "        & (\n",
    "            ~has_overlap_mujet(\n",
    "                evt.Muons,\n",
    "                evt.Jets[evt.Jets.baseline & evt.Jets.passOR & evt.Jets.passJvt],\n",
    "                match_boosted_dr\n",
    "            )\n",
    "        )\n",
    "    )\n",
    "    return evt\n"
   ]
  },
  {
   "cell_type": "code",
   "execution_count": 81,
   "id": "informal-exercise",
   "metadata": {},
   "outputs": [
    {
     "name": "stdout",
     "output_type": "stream",
     "text": [
      "CPU times: user 1.02 s, sys: 48 µs, total: 1.02 s\n",
      "Wall time: 1.02 s\n"
     ]
    }
   ],
   "source": [
    "%%time\n",
    "evt_ak = get_obj_sel(events)"
   ]
  },
  {
   "cell_type": "code",
   "execution_count": 12,
   "id": "unnecessary-minute",
   "metadata": {},
   "outputs": [],
   "source": [
    "from physlite_events import Factory, get_lazy_form, LazyGet"
   ]
  },
  {
   "cell_type": "code",
   "execution_count": 13,
   "id": "fatty-pledge",
   "metadata": {},
   "outputs": [],
   "source": [
    "import json"
   ]
  },
  {
   "cell_type": "code",
   "execution_count": 14,
   "id": "pointed-riding",
   "metadata": {},
   "outputs": [
    {
     "name": "stdout",
     "output_type": "stream",
     "text": [
      "Can't interpret PrimaryVerticesAuxDyn.neutralParticleLinks\n"
     ]
    }
   ],
   "source": [
    "form = json.dumps(get_lazy_form(get_branch_forms(tree)))"
   ]
  },
  {
   "cell_type": "code",
   "execution_count": 15,
   "id": "superior-norway",
   "metadata": {},
   "outputs": [],
   "source": [
    "container = LazyGet(tree, verbose=True)"
   ]
  },
  {
   "cell_type": "code",
   "execution_count": 16,
   "id": "numerical-female",
   "metadata": {},
   "outputs": [],
   "source": [
    "factory = Factory(form, tree.num_entries, container)"
   ]
  },
  {
   "cell_type": "code",
   "execution_count": 34,
   "id": "lonely-emission",
   "metadata": {},
   "outputs": [
    {
     "name": "stdout",
     "output_type": "stream",
     "text": [
      "CPU times: user 1.28 s, sys: 351 µs, total: 1.28 s\n",
      "Wall time: 1.3 s\n"
     ]
    },
    {
     "data": {
      "text/plain": [
       "<Array [...] type='50000 * {\"AntiKt10TruthTrimmedPtFrac5SmallR20Jets\": var * {\"D...'>"
      ]
     },
     "execution_count": 34,
     "metadata": {},
     "output_type": "execute_result"
    }
   ],
   "source": [
    "%%time\n",
    "get_obj_sel(factory.events)"
   ]
  },
  {
   "cell_type": "code",
   "execution_count": 45,
   "id": "massive-employee",
   "metadata": {},
   "outputs": [
    {
     "name": "stdout",
     "output_type": "stream",
     "text": [
      "CPU times: user 1.33 s, sys: 10 ms, total: 1.34 s\n",
      "Wall time: 1.34 s\n"
     ]
    },
    {
     "data": {
      "text/plain": [
       "<Array [...] type='50000 * {\"AntiKt10TruthTrimmedPtFrac5SmallR20Jets\": var * {\"T...'>"
      ]
     },
     "execution_count": 45,
     "metadata": {},
     "output_type": "execute_result"
    }
   ],
   "source": [
    "%%time\n",
    "get_obj_sel(\n",
    "    Factory(form, tree.num_entries, LazyGet(tree, verbose=False, cache=factory.container.cache)).events\n",
    ")"
   ]
  },
  {
   "cell_type": "code",
   "execution_count": 19,
   "id": "loose-prophet",
   "metadata": {},
   "outputs": [],
   "source": [
    "import timeit"
   ]
  },
  {
   "cell_type": "code",
   "execution_count": 20,
   "id": "athletic-candy",
   "metadata": {},
   "outputs": [],
   "source": [
    "def benchmark():\n",
    "    tree = uproot.open(f\"{filename}:CollectionTree\")\n",
    "    events = physlite_events(tree)\n",
    "    get_obj_sel(events)"
   ]
  },
  {
   "cell_type": "code",
   "execution_count": 52,
   "id": "exotic-breach",
   "metadata": {},
   "outputs": [
    {
     "name": "stdout",
     "output_type": "stream",
     "text": [
      "Can't interpret PrimaryVerticesAuxDyn.neutralParticleLinks\n",
      "Can't interpret PrimaryVerticesAuxDyn.neutralParticleLinks\n",
      "Can't interpret PrimaryVerticesAuxDyn.neutralParticleLinks\n",
      "Can't interpret PrimaryVerticesAuxDyn.neutralParticleLinks\n",
      "Can't interpret PrimaryVerticesAuxDyn.neutralParticleLinks\n"
     ]
    }
   ],
   "source": [
    "times = timeit.Timer(benchmark).repeat(number=1, repeat=5)"
   ]
  },
  {
   "cell_type": "code",
   "execution_count": 53,
   "id": "caroline-advantage",
   "metadata": {},
   "outputs": [
    {
     "data": {
      "text/plain": [
       "([4.820429678999062,\n",
       "  4.7871432130014,\n",
       "  4.734087848999479,\n",
       "  4.760186741001235,\n",
       "  4.772494769000332],\n",
       " 4.734087848999479)"
      ]
     },
     "execution_count": 53,
     "metadata": {},
     "output_type": "execute_result"
    }
   ],
   "source": [
    "times, min(times)"
   ]
  },
  {
   "cell_type": "code",
   "execution_count": 84,
   "id": "martial-divorce",
   "metadata": {},
   "outputs": [],
   "source": [
    "import time"
   ]
  },
  {
   "cell_type": "code",
   "execution_count": 86,
   "id": "promotional-decade",
   "metadata": {},
   "outputs": [],
   "source": [
    "def run_benchmark_no_overhead():\n",
    "    times = []\n",
    "    for i in range(5):\n",
    "        tree = uproot.open(f\"{filename}:CollectionTree\")\n",
    "        events = physlite_events(tree)\n",
    "        start = time.time()\n",
    "        get_obj_sel(events)\n",
    "        duration = time.time() - start\n",
    "        times.append(duration)\n",
    "    return times, min(times)"
   ]
  },
  {
   "cell_type": "code",
   "execution_count": 87,
   "id": "indie-extension",
   "metadata": {},
   "outputs": [
    {
     "name": "stdout",
     "output_type": "stream",
     "text": [
      "Can't interpret PrimaryVerticesAuxDyn.neutralParticleLinks\n",
      "Can't interpret PrimaryVerticesAuxDyn.neutralParticleLinks\n",
      "Can't interpret PrimaryVerticesAuxDyn.neutralParticleLinks\n",
      "Can't interpret PrimaryVerticesAuxDyn.neutralParticleLinks\n",
      "Can't interpret PrimaryVerticesAuxDyn.neutralParticleLinks\n"
     ]
    },
    {
     "data": {
      "text/plain": [
       "([2.4001080989837646,\n",
       "  2.4151716232299805,\n",
       "  2.4031999111175537,\n",
       "  2.4241979122161865,\n",
       "  2.38071346282959],\n",
       " 2.38071346282959)"
      ]
     },
     "execution_count": 87,
     "metadata": {},
     "output_type": "execute_result"
    }
   ],
   "source": [
    "run_benchmark_no_overhead()"
   ]
  },
  {
   "cell_type": "code",
   "execution_count": 50,
   "id": "monetary-spelling",
   "metadata": {},
   "outputs": [],
   "source": [
    "def run_benchmark_obj_sel():\n",
    "    tree = uproot.open(f\"{filename}:CollectionTree\")\n",
    "    events = physlite_events(tree)\n",
    "    get_obj_sel(events)\n",
    "    times = timeit.Timer(lambda: get_obj_sel(events)).repeat(number=1, repeat=5)\n",
    "    return times, min(times)"
   ]
  },
  {
   "cell_type": "code",
   "execution_count": 59,
   "id": "expired-launch",
   "metadata": {},
   "outputs": [
    {
     "name": "stdout",
     "output_type": "stream",
     "text": [
      "Can't interpret PrimaryVerticesAuxDyn.neutralParticleLinks\n"
     ]
    },
    {
     "data": {
      "text/plain": [
       "([1.0454151580015605,\n",
       "  1.0084446229993773,\n",
       "  1.0026163869988522,\n",
       "  1.0228222029982135,\n",
       "  1.0791139979992295],\n",
       " 1.0026163869988522)"
      ]
     },
     "execution_count": 59,
     "metadata": {},
     "output_type": "execute_result"
    }
   ],
   "source": [
    "run_benchmark_obj_sel()"
   ]
  },
  {
   "cell_type": "code",
   "execution_count": 25,
   "id": "encouraging-interpretation",
   "metadata": {},
   "outputs": [
    {
     "data": {
      "text/plain": [
       "10000.0"
      ]
     },
     "execution_count": 25,
     "metadata": {},
     "output_type": "execute_result"
    }
   ],
   "source": [
    "50000 / 5"
   ]
  },
  {
   "cell_type": "code",
   "execution_count": 72,
   "id": "bearing-squad",
   "metadata": {},
   "outputs": [],
   "source": [
    "loaded_keys = list(factory.container.cache.keys())"
   ]
  },
  {
   "cell_type": "code",
   "execution_count": 73,
   "id": "successful-chuck",
   "metadata": {},
   "outputs": [],
   "source": [
    "from deserialization_hacks import tree_arrays"
   ]
  },
  {
   "cell_type": "code",
   "execution_count": 74,
   "id": "objective-migration",
   "metadata": {},
   "outputs": [],
   "source": [
    "def run_benchmark_preload():\n",
    "    tree = uproot.open(f\"{filename}:CollectionTree\")\n",
    "    cache = tree_arrays(tree, lambda branch: branch.name in loaded_keys)\n",
    "    container = LazyGet(tree, verbose=False, cache=cache)\n",
    "    form = json.dumps(get_lazy_form(get_branch_forms(tree)))\n",
    "    return timeit.Timer(\n",
    "        lambda: get_obj_sel(Factory(form, tree.num_entries, container).events)\n",
    "    ).repeat(number=1, repeat=5)"
   ]
  },
  {
   "cell_type": "code",
   "execution_count": 75,
   "id": "rational-benjamin",
   "metadata": {},
   "outputs": [
    {
     "name": "stdout",
     "output_type": "stream",
     "text": [
      "Can't interpret PrimaryVerticesAuxDyn.neutralParticleLinks\n"
     ]
    },
    {
     "data": {
      "text/plain": [
       "[1.0754890900025202,\n",
       " 1.0704303519996756,\n",
       " 1.0420263699998031,\n",
       " 1.0395254109971575,\n",
       " 1.040600099000585]"
      ]
     },
     "execution_count": 75,
     "metadata": {},
     "output_type": "execute_result"
    }
   ],
   "source": [
    "run_benchmark_preload()"
   ]
  },
  {
   "cell_type": "code",
   "execution_count": 25,
   "id": "circular-hurricane",
   "metadata": {},
   "outputs": [],
   "source": [
    "# produced with athena + ST\n",
    "# using https://gitlab.cern.ch/nihartma/enaf\n",
    "def get_st_ntuple():\n",
    "    f = uproot.open(\"/home/nikolai/code/enaf/run/ST_ntuple.root\")\n",
    "    tree = f[\"analysis\"]\n",
    "    keys = [k for k in tree.keys()]\n",
    "    evt = ak.zip(\n",
    "        {\n",
    "            part[0].upper() + part[1:] + \"s\" : ak.zip(\n",
    "                {k.split(\"_\")[1] : tree[k].array() for k in keys if part in k}\n",
    "            )\n",
    "            for part in [\"jet\", \"electron\", \"muon\"]\n",
    "        },\n",
    "        depth_limit=1\n",
    "    )\n",
    "    # convert to bools\n",
    "    bools = [\"passOR\", \"passJvt\", \"baseline\", \"signal\", \"bad\"]\n",
    "    for part in evt.fields:\n",
    "        for var in evt[part].fields:\n",
    "            if var in bools:\n",
    "                evt[part, var] = evt[part, var] == 1\n",
    "    return evt"
   ]
  },
  {
   "cell_type": "code",
   "execution_count": 26,
   "id": "spanish-tournament",
   "metadata": {},
   "outputs": [],
   "source": [
    "evt_st = get_st_ntuple()"
   ]
  },
  {
   "cell_type": "code",
   "execution_count": 27,
   "id": "controlled-pollution",
   "metadata": {},
   "outputs": [
    {
     "data": {
      "text/plain": [
       "<Array [[True], [], [], ... True], [], [True]] type='50000 * var * bool'>"
      ]
     },
     "execution_count": 27,
     "metadata": {},
     "output_type": "execute_result"
    }
   ],
   "source": [
    "evt_st.Electrons.baseline"
   ]
  },
  {
   "cell_type": "code",
   "execution_count": 28,
   "id": "capable-kidney",
   "metadata": {},
   "outputs": [],
   "source": [
    "df = []\n",
    "for obj in [\"Electrons\", \"Muons\", \"Jets\"]:\n",
    "    flags = [\"all\", \"baseline\", \"passOR\", \"signal\"]\n",
    "    #if obj == \"Jets\":\n",
    "    #    flags += [\"passJvt\"]\n",
    "    for flag in flags:\n",
    "        counts = []\n",
    "        for e in [evt_ak, evt_st]:\n",
    "            if flag != \"all\":\n",
    "                counts.append(ak.count_nonzero(e[obj, flag]))\n",
    "            else:\n",
    "                counts.append(ak.sum(ak.num(e[obj])))\n",
    "        entry = {\n",
    "            \"object\" : obj,\n",
    "            \"flag\" : flag,\n",
    "            \"athena/SUSYTools\" : counts[1],\n",
    "            \"columnar analysis\" : counts[0]\n",
    "        }\n",
    "        df.append(entry)\n",
    "df = pd.DataFrame(df)"
   ]
  },
  {
   "cell_type": "code",
   "execution_count": 29,
   "id": "assigned-prevention",
   "metadata": {},
   "outputs": [
    {
     "data": {
      "text/html": [
       "<div>\n",
       "<style scoped>\n",
       "    .dataframe tbody tr th:only-of-type {\n",
       "        vertical-align: middle;\n",
       "    }\n",
       "\n",
       "    .dataframe tbody tr th {\n",
       "        vertical-align: top;\n",
       "    }\n",
       "\n",
       "    .dataframe thead th {\n",
       "        text-align: right;\n",
       "    }\n",
       "</style>\n",
       "<table border=\"1\" class=\"dataframe\">\n",
       "  <thead>\n",
       "    <tr style=\"text-align: right;\">\n",
       "      <th></th>\n",
       "      <th></th>\n",
       "      <th>athena/SUSYTools</th>\n",
       "      <th>columnar analysis</th>\n",
       "    </tr>\n",
       "    <tr>\n",
       "      <th>object</th>\n",
       "      <th>flag</th>\n",
       "      <th></th>\n",
       "      <th></th>\n",
       "    </tr>\n",
       "  </thead>\n",
       "  <tbody>\n",
       "    <tr>\n",
       "      <th rowspan=\"4\" valign=\"top\">Electrons</th>\n",
       "      <th>all</th>\n",
       "      <td>23081</td>\n",
       "      <td>23081</td>\n",
       "    </tr>\n",
       "    <tr>\n",
       "      <th>baseline</th>\n",
       "      <td>19219</td>\n",
       "      <td>19211</td>\n",
       "    </tr>\n",
       "    <tr>\n",
       "      <th>passOR</th>\n",
       "      <td>18907</td>\n",
       "      <td>18896</td>\n",
       "    </tr>\n",
       "    <tr>\n",
       "      <th>signal</th>\n",
       "      <td>14457</td>\n",
       "      <td>14623</td>\n",
       "    </tr>\n",
       "    <tr>\n",
       "      <th rowspan=\"4\" valign=\"top\">Muons</th>\n",
       "      <th>all</th>\n",
       "      <td>26475</td>\n",
       "      <td>26475</td>\n",
       "    </tr>\n",
       "    <tr>\n",
       "      <th>baseline</th>\n",
       "      <td>22826</td>\n",
       "      <td>23310</td>\n",
       "    </tr>\n",
       "    <tr>\n",
       "      <th>passOR</th>\n",
       "      <td>19455</td>\n",
       "      <td>17515</td>\n",
       "    </tr>\n",
       "    <tr>\n",
       "      <th>signal</th>\n",
       "      <td>17453</td>\n",
       "      <td>18226</td>\n",
       "    </tr>\n",
       "    <tr>\n",
       "      <th rowspan=\"4\" valign=\"top\">Jets</th>\n",
       "      <th>all</th>\n",
       "      <td>524205</td>\n",
       "      <td>524205</td>\n",
       "    </tr>\n",
       "    <tr>\n",
       "      <th>baseline</th>\n",
       "      <td>318948</td>\n",
       "      <td>318948</td>\n",
       "    </tr>\n",
       "    <tr>\n",
       "      <th>passOR</th>\n",
       "      <td>296403</td>\n",
       "      <td>298242</td>\n",
       "    </tr>\n",
       "    <tr>\n",
       "      <th>signal</th>\n",
       "      <td>298842</td>\n",
       "      <td>299005</td>\n",
       "    </tr>\n",
       "  </tbody>\n",
       "</table>\n",
       "</div>"
      ],
      "text/plain": [
       "                    athena/SUSYTools  columnar analysis\n",
       "object    flag                                         \n",
       "Electrons all                  23081              23081\n",
       "          baseline             19219              19211\n",
       "          passOR               18907              18896\n",
       "          signal               14457              14623\n",
       "Muons     all                  26475              26475\n",
       "          baseline             22826              23310\n",
       "          passOR               19455              17515\n",
       "          signal               17453              18226\n",
       "Jets      all                 524205             524205\n",
       "          baseline            318948             318948\n",
       "          passOR              296403             298242\n",
       "          signal              298842             299005"
      ]
     },
     "execution_count": 29,
     "metadata": {},
     "output_type": "execute_result"
    }
   ],
   "source": [
    "df.set_index([\"object\", \"flag\"])"
   ]
  },
  {
   "cell_type": "code",
   "execution_count": 30,
   "id": "endangered-latter",
   "metadata": {},
   "outputs": [
    {
     "data": {
      "text/plain": [
       "athena/SUSYTools     19455\n",
       "columnar analysis    17515\n",
       "Name: (Muons, passOR), dtype: int64"
      ]
     },
     "execution_count": 30,
     "metadata": {},
     "output_type": "execute_result"
    }
   ],
   "source": [
    "df.set_index([\"object\", \"flag\"]).loc[\"Muons\", \"passOR\"]"
   ]
  },
  {
   "cell_type": "code",
   "execution_count": 31,
   "id": "postal-gothic",
   "metadata": {},
   "outputs": [
    {
     "data": {
      "text/plain": [
       "athena/SUSYTools     296403\n",
       "columnar analysis    298242\n",
       "Name: (Jets, passOR), dtype: int64"
      ]
     },
     "execution_count": 31,
     "metadata": {},
     "output_type": "execute_result"
    }
   ],
   "source": [
    "df.set_index([\"object\", \"flag\"]).loc[\"Jets\", \"passOR\"]"
   ]
  },
  {
   "cell_type": "code",
   "execution_count": 32,
   "id": "apart-helen",
   "metadata": {},
   "outputs": [
    {
     "data": {
      "image/png": "[encoded data removed]",
      "text/plain": [
       "<Figure size 720x216 with 3 Axes>"
      ]
     },
     "metadata": {
      "needs_background": "light"
     },
     "output_type": "display_data"
    }
   ],
   "source": [
    "gb = df.groupby(\"object\")\n",
    "fig, axs = plt.subplots(figsize=(10, 3), ncols=len(gb), nrows=1)\n",
    "for ax, group in zip(axs.ravel(), gb):\n",
    "    group[1].pop(\"object\")\n",
    "    group[1].set_index(\"flag\").plot(kind=\"bar\", ax=ax, legend=False)\n",
    "    ax.set_xlabel(group[0])\n",
    "    if ax is axs[0]:\n",
    "        ax.set_ylabel(\"Object count\")\n",
    "legend = fig.legend(\n",
    "    *ax.get_legend_handles_labels(),\n",
    "    framealpha=1,\n",
    "    ncol=2,\n",
    "    bbox_to_anchor=(0.3, 1.02, 0.5, .102),\n",
    "    mode=\"expand\",\n",
    ")\n",
    "fig.tight_layout()\n",
    "fig.savefig(\"object_count_columnar_vs_st.pdf\", bbox_extra_artists=(legend,), bbox_inches='tight')"
   ]
  },
  {
   "cell_type": "code",
   "execution_count": 33,
   "id": "normal-alberta",
   "metadata": {},
   "outputs": [
    {
     "name": "stdout",
     "output_type": "stream",
     "text": [
      "Loading part0-AnalysisMuonsAuxDyn.combinedTrackParticleLink.m_persKey%content-data\n",
      "Loading part0-AnalysisMuonsAuxDyn.combinedTrackParticleLink.m_persIndex%content-data\n",
      "Loading part0-CombinedMuonTrackParticlesAuxDyn.truthOrigin%offsets-offsets\n",
      "Loading part0-PrimaryVerticesAuxDyn.z%content-data\n",
      "Loading part0-CombinedMuonTrackParticlesAuxDyn.z0%content-data\n"
     ]
    },
    {
     "data": {
      "image/png": "[encoded data removed]",
      "text/plain": [
       "<Figure size 432x288 with 1 Axes>"
      ]
     },
     "metadata": {
      "needs_background": "light"
     },
     "output_type": "display_data"
    }
   ],
   "source": [
    "plt.hist(\n",
    "    ak.flatten(ak.singletons(\n",
    "        evt_ak.Muons[evt_ak.Muons.baseline].trackParticle.z0 - ak.firsts(evt_ak.PrimaryVertices.z)\n",
    "    ), axis=None),\n",
    "    bins=100, range=(-1, 1)\n",
    ");"
   ]
  },
  {
   "cell_type": "code",
   "execution_count": 34,
   "id": "stable-pierce",
   "metadata": {},
   "outputs": [],
   "source": [
    "def overlay(selection, ax=None, **kwargs):\n",
    "    ax = ax or plt.gca()\n",
    "    ax.hist(ak.to_numpy(ak.flatten(selection(evt_ak))), **kwargs)\n",
    "    ax.hist(ak.to_numpy(ak.flatten(selection(evt_st))), **kwargs)\n",
    "    return ax"
   ]
  },
  {
   "cell_type": "code",
   "execution_count": 35,
   "id": "dress-bouquet",
   "metadata": {},
   "outputs": [
    {
     "data": {
      "text/plain": [
       "<Array [-46.9, 26.2, -35.8, ... -83.8, -4.79] type='50000 * float32'>"
      ]
     },
     "execution_count": 35,
     "metadata": {},
     "output_type": "execute_result"
    }
   ],
   "source": [
    "events.PrimaryVertices[:, 0].z"
   ]
  },
  {
   "cell_type": "code",
   "execution_count": 36,
   "id": "separated-delight",
   "metadata": {},
   "outputs": [
    {
     "data": {
      "image/png": "[encoded data removed]",
      "text/plain": [
       "<Figure size 432x288 with 1 Axes>"
      ]
     },
     "metadata": {
      "needs_background": "light"
     },
     "output_type": "display_data"
    }
   ],
   "source": [
    "ax = overlay(lambda evt: evt.Electrons[evt.Electrons.signal].eta, bins=100, range=(-3, 3), alpha=0.5)\n",
    "ax.set_yscale(\"log\")"
   ]
  },
  {
   "cell_type": "code",
   "execution_count": 37,
   "id": "understanding-purpose",
   "metadata": {},
   "outputs": [
    {
     "data": {
      "image/png": "[encoded data removed]",
      "text/plain": [
       "<Figure size 432x288 with 1 Axes>"
      ]
     },
     "metadata": {
      "needs_background": "light"
     },
     "output_type": "display_data"
    }
   ],
   "source": [
    "ax = overlay(lambda evt: evt.Muons[evt.Muons.signal].eta, bins=100, range=(-3, 3), alpha=0.5)\n",
    "ax.set_yscale(\"log\")"
   ]
  },
  {
   "cell_type": "code",
   "execution_count": 38,
   "id": "functional-healthcare",
   "metadata": {},
   "outputs": [
    {
     "data": {
      "image/png": "[encoded data removed]",
      "text/plain": [
       "<Figure size 432x288 with 1 Axes>"
      ]
     },
     "metadata": {
      "needs_background": "light"
     },
     "output_type": "display_data"
    }
   ],
   "source": [
    "ax = overlay(lambda evt: evt.Muons[evt.Muons.passOR].eta, bins=100, range=(-3, 3), alpha=0.5)\n",
    "ax.set_yscale(\"log\")"
   ]
  },
  {
   "cell_type": "code",
   "execution_count": 39,
   "id": "secondary-birth",
   "metadata": {},
   "outputs": [
    {
     "data": {
      "image/png": "[encoded data removed]",
      "text/plain": [
       "<Figure size 432x288 with 1 Axes>"
      ]
     },
     "metadata": {
      "needs_background": "light"
     },
     "output_type": "display_data"
    }
   ],
   "source": [
    "ax = overlay(lambda evt: evt.Electrons[evt.Electrons.signal].eta, bins=100, range=(-3, 3), alpha=0.5)\n",
    "ax.set_yscale(\"log\")"
   ]
  },
  {
   "cell_type": "code",
   "execution_count": null,
   "id": "electric-hacker",
   "metadata": {},
   "outputs": [],
   "source": []
  }
 ],
 "metadata": {
  "kernelspec": {
   "display_name": "Python 3",
   "language": "python",
   "name": "python3"
  },
  "language_info": {
   "codemirror_mode": {
    "name": "ipython",
    "version": 3
   },
   "file_extension": ".py",
   "mimetype": "text/x-python",
   "name": "python",
   "nbconvert_exporter": "python",
   "pygments_lexer": "ipython3",
   "version": "3.7.9"
  },
  "toc": {
   "base_numbering": 1,
   "nav_menu": {},
   "number_sections": true,
   "sideBar": true,
   "skip_h1_title": false,
   "title_cell": "Table of Contents",
   "title_sidebar": "Contents",
   "toc_cell": false,
   "toc_position": {},
   "toc_section_display": true,
   "toc_window_display": false
  }
 },
 "nbformat": 4,
 "nbformat_minor": 5
}
