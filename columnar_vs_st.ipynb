{
 "cells": [
  {
   "cell_type": "code",
   "execution_count": 1,
   "id": "atlantic-prompt",
   "metadata": {},
   "outputs": [],
   "source": [
    "import uproot\n",
    "import awkward as ak\n",
    "import numpy as np\n",
    "import matplotlib.pyplot as plt\n",
    "import pandas as pd\n",
    "from physlite_events import physlite_events, get_branch_forms, get_lazy_form"
   ]
  },
  {
   "cell_type": "code",
   "execution_count": 2,
   "id": "sapphire-singapore",
   "metadata": {},
   "outputs": [
    {
     "name": "stdout",
     "output_type": "stream",
     "text": [
      "CPU times: user 1.16 s, sys: 14.8 ms, total: 1.18 s\n",
      "Wall time: 1.18 s\n"
     ]
    }
   ],
   "source": [
    "%%time\n",
    "#f = uproot.open(\"user.nihartma.22884623.EXT0._000001.DAOD_PHYSLITE.test.pool.root\")\n",
    "filename = \"/home/nikolai/data/user.elmsheus.21230205.EXT0._000002.DAOD_PHYSLITE.mc.pool.root\"\n",
    "tree = uproot.open(f\"{filename}:CollectionTree\")"
   ]
  },
  {
   "cell_type": "code",
   "execution_count": 3,
   "id": "reduced-sherman",
   "metadata": {},
   "outputs": [
    {
     "name": "stdout",
     "output_type": "stream",
     "text": [
      "Can't interpret PrimaryVerticesAuxDyn.neutralParticleLinks\n",
      "CPU times: user 386 ms, sys: 0 ns, total: 386 ms\n",
      "Wall time: 386 ms\n"
     ]
    }
   ],
   "source": [
    "%%time\n",
    "events = physlite_events(tree, verbose=True)"
   ]
  },
  {
   "cell_type": "code",
   "execution_count": 4,
   "id": "compound-membrane",
   "metadata": {},
   "outputs": [
    {
     "name": "stdout",
     "output_type": "stream",
     "text": [
      "Can't interpret PrimaryVerticesAuxDyn.neutralParticleLinks\n",
      "CPU times: user 80.6 ms, sys: 212 µs, total: 80.8 ms\n",
      "Wall time: 80.1 ms\n"
     ]
    }
   ],
   "source": [
    "%%time\n",
    "form = get_lazy_form(get_branch_forms(tree))"
   ]
  },
  {
   "cell_type": "code",
   "execution_count": 5,
   "id": "ordered-cooking",
   "metadata": {},
   "outputs": [],
   "source": [
    "def has_overlap(obj1, obj2, filter_dr):\n",
    "    \"\"\"\n",
    "    Return mask array where obj1 has overlap with obj2 based on a filter\n",
    "    function on deltaR (and pt of the first one)\n",
    "    \"\"\"\n",
    "    dr = obj1.delta_r(obj1.nearest(obj2))\n",
    "    return ak.fill_none(filter_dr(dr, obj1.pt), False)\n",
    "\n",
    "\n",
    "def match_dr(dr, pt, cone_size=0.2):\n",
    "    return dr < cone_size\n",
    "\n",
    "\n",
    "def match_boosted_dr(dr, pt, max_cone_size=0.4):\n",
    "    return dr < np.minimum(*ak.broadcast_arrays(10000. / pt + 0.04, max_cone_size))"
   ]
  },
  {
   "cell_type": "code",
   "execution_count": 6,
   "id": "whole-headset",
   "metadata": {},
   "outputs": [],
   "source": [
    "def muon_track_links(muons):\n",
    "    return muons[\"inDetTrackParticleLink.m_persIndex\"].mask[\n",
    "        muons[\"inDetTrackParticleLink.m_persKey\"] != 0\n",
    "    ]"
   ]
  },
  {
   "cell_type": "code",
   "execution_count": 7,
   "id": "medieval-astrology",
   "metadata": {},
   "outputs": [],
   "source": [
    "def jet_ghost_links(jets):\n",
    "    return jets.GhostTrack.m_persIndex.mask[jets.GhostTrack.m_persKey != 0]"
   ]
  },
  {
   "cell_type": "code",
   "execution_count": 8,
   "id": "portuguese-pioneer",
   "metadata": {},
   "outputs": [],
   "source": [
    "def is_associated(idx1, idx2):\n",
    "    \"\"\"\n",
    "    Used for muon-jet ghost association\n",
    "    \"\"\"\n",
    "    # TODO: check if keys also match\n",
    "    xx1, xx2 = ak.unzip(ak.cartesian([idx1, idx2], nested=True))\n",
    "    return ak.fill_none(ak.any(ak.any(xx1 == xx2, axis=-1), axis=-1), False)"
   ]
  },
  {
   "cell_type": "code",
   "execution_count": 9,
   "id": "working-amount",
   "metadata": {},
   "outputs": [],
   "source": [
    "def has_overlap_mujet(obj1, obj2, filter_dr):\n",
    "    \"\"\"\n",
    "    Check if either ghost associated or delta_r match\n",
    "    \"\"\"\n",
    "    if \"GhostTrack\" in obj1.fields:\n",
    "        ghost_match = is_associated(jet_ghost_links(obj1), muon_track_links(obj2))\n",
    "    else:\n",
    "        ghost_match = is_associated(muon_track_links(obj1), jet_ghost_links(obj2))\n",
    "    return (\n",
    "        has_overlap(obj1, obj2, filter_dr)\n",
    "        | ghost_match\n",
    "    )"
   ]
  },
  {
   "cell_type": "code",
   "execution_count": 10,
   "id": "polish-shirt",
   "metadata": {},
   "outputs": [],
   "source": [
    "def mu_pflow_or_requirement(jets, muons):\n",
    "    \"\"\"\n",
    "    Taken from this beautiful piece:\n",
    "    https://gitlab.cern.ch/atlas/athena/-/blob/c8de5319c743b68e3e4935a5e34c7ccb8da778bf/PhysicsAnalysis/AnalysisCommon/AssociationUtils/Root/MuPFJetOverlapTool.cxx#L167\n",
    "    I have no idea what's going on here ...\n",
    "    \"\"\"\n",
    "\n",
    "    GeV = 1000.\n",
    "    lowNtrk_x1 = 0.7\n",
    "    lowNtrk_x2 = 0.85\n",
    "    lowNtrk_y0 = 15. * GeV\n",
    "    lowNtrk_y1 = 15. * GeV\n",
    "    lowNtrk_y2 = 30. * GeV\n",
    "    highNtrk_x1 = 0.6\n",
    "    highNtrk_x2 = 0.9\n",
    "    highNtrk_y0 = 5. * GeV\n",
    "    highNtrk_y1 = 5. * GeV\n",
    "    highNtrk_y2 = 30. * GeV\n",
    "    numJetTrk = 4\n",
    "    \n",
    "    mu_id_pt = muons.id_pt\n",
    "    mu_topoetcone40 = muons.topoetcone40\n",
    "    \n",
    "    nTrk = jets.NumTrkPt500_0\n",
    "    sumTrkPt = jets.SumPtTrkPt500_0\n",
    "    \n",
    "    def requirements(x1, x2, y0, y1, y2):\n",
    "        return (\n",
    "            (mu_topoetcone40 < y0)\n",
    "            | (mu_topoetcone40 < y0 + (y2 - y1) / (x2 - x1) * (mu_id_pt / sumTrkPt - x1))\n",
    "            | (mu_id_pt / sumTrkPt > x2)\n",
    "        )\n",
    "    \n",
    "    return ak.where(\n",
    "        nTrk < numJetTrk,\n",
    "        requirements(lowNtrk_x1, lowNtrk_x2, lowNtrk_y0, lowNtrk_y1, lowNtrk_y2),\n",
    "        requirements(highNtrk_x1, highNtrk_x2, highNtrk_y0, highNtrk_y1, highNtrk_y2),\n",
    "    )"
   ]
  },
  {
   "cell_type": "code",
   "execution_count": 11,
   "id": "roman-affair",
   "metadata": {},
   "outputs": [],
   "source": [
    "def has_mu_pflow_overlap(jets, muons, cone_size=0.4):\n",
    "    muons[\"id_pt\"] = muons.trackParticle.pt\n",
    "    jets[\"NumTrkPt500_0\"] = ak.firsts(jets.NumTrkPt500, axis=-1)\n",
    "    jets[\"SumPtTrkPt500_0\"] = ak.firsts(jets.SumPtTrkPt500, axis=-1)\n",
    "    jets_x, muons_x = ak.unzip(ak.cartesian([jets, muons], nested=True))\n",
    "    return ak.any(\n",
    "        mu_pflow_or_requirement(jets_x, muons_x) & (jets_x.delta_r(muons_x) < cone_size),\n",
    "        axis=-1\n",
    "    )"
   ]
  },
  {
   "cell_type": "code",
   "execution_count": 12,
   "id": "spare-opening",
   "metadata": {},
   "outputs": [],
   "source": [
    "def get_obj_sel(evt):\n",
    "    \n",
    "    ## Object selection\n",
    "    # ---------------------------------------------------------\n",
    "    # TODO: sort jets\n",
    "\n",
    "    # skip events without primary vertex (important for data)\n",
    "    evt = evt[ak.num(evt.PrimaryVertices.x) > 0]\n",
    "\n",
    "    # lepton selection\n",
    "    evt[\"Electrons\", \"baseline\"] = (\n",
    "        (evt.Electrons.DFCommonElectronsLHLooseBL == 1)\n",
    "        & (evt.Electrons.pt > 7000)\n",
    "        & (np.abs(evt.Electrons.eta) < 2.47)\n",
    "    )\n",
    "    evt[\"Electrons\", \"signal\"] = (\n",
    "        evt.Electrons.baseline\n",
    "        & (evt.Electrons.DFCommonElectronsLHTight == 1)\n",
    "        & (evt.Electrons.topoetcone20 / evt.Electrons.pt < 0.2)\n",
    "        & (evt.Electrons.ptvarcone20_TightTTVA_pt1000 / evt.Electrons.pt < 0.15)\n",
    "    )\n",
    "    evt[\"Muons\", \"baseline\"] = (\n",
    "        (~ak.is_none(evt.Muons.trackParticle, axis=1)) # require ID track\n",
    "        & (evt.Muons.DFCommonGoodMuon == 1)\n",
    "        & (evt.Muons.pt > 6000)\n",
    "        & (np.abs(evt.Muons.eta) < 2.7)\n",
    "    )\n",
    "    evt[\"Muons\", \"signal\"] = (\n",
    "        evt.Muons.baseline\n",
    "        & (np.abs(evt.Muons.eta) < 2.5)\n",
    "        & (evt.Muons.topoetcone20 / evt.Muons.pt < 0.3)\n",
    "        & (evt.Muons.ptvarcone30 / evt.Muons.pt < 0.15)\n",
    "    )\n",
    "\n",
    "    # jet selection\n",
    "    evt[\"Jets\", \"baseline\"] = evt.Jets.pt >= 20000\n",
    "    jvt_pt_min = 20000\n",
    "    jvt_pt_max = 60000\n",
    "    jvt_eta_max = 2.4\n",
    "    evt[\"Jets\", \"passJvt\"] = (\n",
    "        ((evt.Jets.pt >= jvt_pt_min) & (evt.Jets.pt < jvt_pt_max) & (evt.Jets.Jvt > 0.2) & (np.abs(evt.Jets.eta) < jvt_eta_max))\n",
    "        | ((evt.Jets.pt >= jvt_pt_max) | (evt.Jets.pt < jvt_pt_min) | (np.abs(evt.Jets.eta) >= jvt_eta_max))\n",
    "    )\n",
    "    evt[\"Jets\", \"signal\"] = evt.Jets.baseline & evt.Jets.passJvt & (np.abs(evt.Jets.eta) < 4.5)\n",
    "\n",
    "    ## Overlap removal\n",
    "    # --------------------------------------------------------------\n",
    "    # run the funny MuPFlowJetOR procedure ...\n",
    "    evt[\"Jets\", \"passOR\"] = (\n",
    "        evt.Jets.baseline\n",
    "        & ~has_mu_pflow_overlap(evt.Jets, evt.Muons[evt.Muons.baseline])\n",
    "    )\n",
    "    # remove Jets overlapping with Electrons\n",
    "    evt[\"Jets\", \"passOR\"] = (\n",
    "        evt.Jets.passOR\n",
    "        & (\n",
    "            ~has_overlap(\n",
    "                evt.Jets,\n",
    "                evt.Electrons[evt.Electrons.baseline],\n",
    "                match_dr\n",
    "            )\n",
    "        )\n",
    "    )\n",
    "    # remove Electrons overlapping (boosted cone) with remaining Jets (if they pass jvt)\n",
    "    evt[\"Electrons\", \"passOR\"] = (\n",
    "        evt.Electrons.baseline\n",
    "        & (\n",
    "            ~has_overlap(\n",
    "                evt.Electrons,\n",
    "                evt.Jets[evt.Jets.passOR & evt.Jets.passJvt],\n",
    "                match_boosted_dr\n",
    "            )\n",
    "        )\n",
    "    )\n",
    "    # remove Jets overlapping with Muons (TODO: check ntrack requirement, ghost association)\n",
    "    evt[\"Jets\", \"passOR\"] = (\n",
    "        evt.Jets.passOR\n",
    "        & ~(\n",
    "            has_overlap_mujet(evt.Jets, evt.Muons[evt.Muons.baseline], match_dr)\n",
    "            & (evt.Jets.NumTrkPt500[:, :, 0] < 3)\n",
    "        )\n",
    "    )\n",
    "    # remove Muons overlapping (boosted cone) with remaining Jets (if they pass jvt)\n",
    "    evt[\"Muons\", \"passOR\"] = (\n",
    "        evt.Muons.baseline\n",
    "        & (\n",
    "            ~has_overlap_mujet(\n",
    "                evt.Muons,\n",
    "                evt.Jets[evt.Jets.baseline & evt.Jets.passOR & evt.Jets.passJvt],\n",
    "                match_boosted_dr\n",
    "            )\n",
    "        )\n",
    "    )\n",
    "    return evt\n"
   ]
  },
  {
   "cell_type": "code",
   "execution_count": 13,
   "id": "informal-exercise",
   "metadata": {},
   "outputs": [
    {
     "name": "stdout",
     "output_type": "stream",
     "text": [
      "Loading part0-PrimaryVerticesAuxDyn.trackParticleLinks%offsets-offsets\n",
      "Cache miss for  PrimaryVerticesAuxDyn.trackParticleLinks\n",
      "Loading part0-AnalysisElectronsAuxDyn.trackParticleLinks%offsets-offsets\n",
      "Cache miss for  AnalysisElectronsAuxDyn.trackParticleLinks\n",
      "Loading part0-AnalysisElectronsAuxDyn.DFCommonElectronsLHLooseBL%content-data\n",
      "Cache miss for  AnalysisElectronsAuxDyn.DFCommonElectronsLHLooseBL\n",
      "Loading part0-AnalysisElectronsAuxDyn.pt%content-data\n",
      "Cache miss for  AnalysisElectronsAuxDyn.pt\n",
      "Loading part0-AnalysisElectronsAuxDyn.eta%content-data\n",
      "Cache miss for  AnalysisElectronsAuxDyn.eta\n",
      "Loading part0-AnalysisElectronsAuxDyn.DFCommonElectronsLHTight%content-data\n",
      "Cache miss for  AnalysisElectronsAuxDyn.DFCommonElectronsLHTight\n",
      "Loading part0-AnalysisElectronsAuxDyn.topoetcone20%content-data\n",
      "Cache miss for  AnalysisElectronsAuxDyn.topoetcone20\n",
      "Loading part0-AnalysisElectronsAuxDyn.ptvarcone20_TightTTVA_pt1000%content-data\n",
      "Cache miss for  AnalysisElectronsAuxDyn.ptvarcone20_TightTTVA_pt1000\n",
      "Loading part0-AnalysisMuonsAuxDyn.pt%offsets-offsets\n",
      "Cache miss for  AnalysisMuonsAuxDyn.pt\n",
      "Loading part0-AnalysisMuonsAuxDyn.combinedTrackParticleLink.m_persKey%content-data\n",
      "Cache miss for  AnalysisMuonsAuxDyn.combinedTrackParticleLink.m_persKey\n",
      "Loading part0-AnalysisMuonsAuxDyn.combinedTrackParticleLink.m_persIndex%content-data\n",
      "Cache miss for  AnalysisMuonsAuxDyn.combinedTrackParticleLink.m_persIndex\n",
      "Loading part0-CombinedMuonTrackParticlesAuxDyn.truthOrigin%offsets-offsets\n",
      "Cache miss for  CombinedMuonTrackParticlesAuxDyn.truthOrigin\n",
      "Loading part0-AnalysisMuonsAuxDyn.DFCommonGoodMuon%content-data\n",
      "Cache miss for  AnalysisMuonsAuxDyn.DFCommonGoodMuon\n",
      "Loading part0-AnalysisMuonsAuxDyn.pt%content-data\n",
      "Loading part0-AnalysisMuonsAuxDyn.eta%content-data\n",
      "Cache miss for  AnalysisMuonsAuxDyn.eta\n",
      "Loading part0-AnalysisMuonsAuxDyn.topoetcone20%content-data\n",
      "Cache miss for  AnalysisMuonsAuxDyn.topoetcone20\n",
      "Loading part0-AnalysisMuonsAuxDyn.ptvarcone30%content-data\n",
      "Cache miss for  AnalysisMuonsAuxDyn.ptvarcone30\n",
      "Loading part0-AnalysisJetsAuxDyn.pt%offsets-offsets\n",
      "Cache miss for  AnalysisJetsAuxDyn.pt\n",
      "Loading part0-AnalysisJetsAuxDyn.pt%content-data\n",
      "Loading part0-AnalysisJetsAuxDyn.Jvt%content-data\n",
      "Cache miss for  AnalysisJetsAuxDyn.Jvt\n",
      "Loading part0-AnalysisJetsAuxDyn.eta%content-data\n",
      "Cache miss for  AnalysisJetsAuxDyn.eta\n",
      "Loading part0-CombinedMuonTrackParticlesAuxDyn.qOverP%content-data\n",
      "Cache miss for  CombinedMuonTrackParticlesAuxDyn.qOverP\n",
      "Loading part0-CombinedMuonTrackParticlesAuxDyn.theta%content-data\n",
      "Cache miss for  CombinedMuonTrackParticlesAuxDyn.theta\n",
      "Loading part0-CombinedMuonTrackParticlesAuxDyn.phi%content-data\n",
      "Cache miss for  CombinedMuonTrackParticlesAuxDyn.phi\n",
      "Loading part0-AnalysisJetsAuxDyn.NumTrkPt500%content%offsets-offsets\n",
      "Cache miss for  AnalysisJetsAuxDyn.NumTrkPt500\n",
      "Loading part0-AnalysisJetsAuxDyn.NumTrkPt500%content%content-data\n",
      "Loading part0-AnalysisJetsAuxDyn.SumPtTrkPt500%content%offsets-offsets\n",
      "Cache miss for  AnalysisJetsAuxDyn.SumPtTrkPt500\n",
      "Loading part0-AnalysisJetsAuxDyn.SumPtTrkPt500%content%content-data\n",
      "Loading part0-AnalysisMuonsAuxDyn.EnergyLoss%content-data\n",
      "Cache miss for  AnalysisMuonsAuxDyn.EnergyLoss\n",
      "Loading part0-AnalysisMuonsAuxDyn.InnerDetectorPt%content-data\n",
      "Cache miss for  AnalysisMuonsAuxDyn.InnerDetectorPt\n",
      "Loading part0-AnalysisMuonsAuxDyn.MuonSpectrometerPt%content-data\n",
      "Cache miss for  AnalysisMuonsAuxDyn.MuonSpectrometerPt\n",
      "Loading part0-AnalysisMuonsAuxDyn.allAuthors%content-data\n",
      "Cache miss for  AnalysisMuonsAuxDyn.allAuthors\n",
      "Loading part0-AnalysisMuonsAuxDyn.author%content-data\n",
      "Cache miss for  AnalysisMuonsAuxDyn.author\n",
      "Loading part0-AnalysisMuonsAuxDyn.charge%content-data\n",
      "Cache miss for  AnalysisMuonsAuxDyn.charge\n",
      "Loading part0-AnalysisMuonsAuxDyn.combinedTrackOutBoundsPrecisionHits%content-data\n",
      "Cache miss for  AnalysisMuonsAuxDyn.combinedTrackOutBoundsPrecisionHits\n",
      "Loading part0-AnalysisMuonsAuxDyn.cscUnspoiledEtaHits%content-data\n",
      "Cache miss for  AnalysisMuonsAuxDyn.cscUnspoiledEtaHits\n",
      "Loading part0-AnalysisMuonsAuxDyn.energyLossType%content-data\n",
      "Cache miss for  AnalysisMuonsAuxDyn.energyLossType\n",
      "Loading part0-AnalysisMuonsAuxDyn.extendedLargeHits%content-data\n",
      "Cache miss for  AnalysisMuonsAuxDyn.extendedLargeHits\n",
      "Loading part0-AnalysisMuonsAuxDyn.extendedSmallHits%content-data\n",
      "Cache miss for  AnalysisMuonsAuxDyn.extendedSmallHits\n",
      "Loading part0-AnalysisMuonsAuxDyn.extendedSmallHoles%content-data\n",
      "Cache miss for  AnalysisMuonsAuxDyn.extendedSmallHoles\n",
      "Loading part0-AnalysisMuonsAuxDyn.extrapolatedMuonSpectrometerTrackParticleLink.m_persIndex%content-data\n",
      "Cache miss for  AnalysisMuonsAuxDyn.extrapolatedMuonSpectrometerTrackParticleLink.m_persIndex\n",
      "Loading part0-AnalysisMuonsAuxDyn.extrapolatedMuonSpectrometerTrackParticleLink.m_persKey%content-data\n",
      "Cache miss for  AnalysisMuonsAuxDyn.extrapolatedMuonSpectrometerTrackParticleLink.m_persKey\n",
      "Loading part0-AnalysisMuonsAuxDyn.inDetTrackParticleLink.m_persIndex%content-data\n",
      "Cache miss for  AnalysisMuonsAuxDyn.inDetTrackParticleLink.m_persIndex\n",
      "Loading part0-AnalysisMuonsAuxDyn.inDetTrackParticleLink.m_persKey%content-data\n",
      "Cache miss for  AnalysisMuonsAuxDyn.inDetTrackParticleLink.m_persKey\n",
      "Loading part0-AnalysisMuonsAuxDyn.innerLargeHits%content-data\n",
      "Cache miss for  AnalysisMuonsAuxDyn.innerLargeHits\n",
      "Loading part0-AnalysisMuonsAuxDyn.innerSmallHits%content-data\n",
      "Cache miss for  AnalysisMuonsAuxDyn.innerSmallHits\n",
      "Loading part0-AnalysisMuonsAuxDyn.isSmallGoodSectors%content-data\n",
      "Cache miss for  AnalysisMuonsAuxDyn.isSmallGoodSectors\n",
      "Loading part0-AnalysisMuonsAuxDyn.middleLargeHits%content-data\n",
      "Cache miss for  AnalysisMuonsAuxDyn.middleLargeHits\n",
      "Loading part0-AnalysisMuonsAuxDyn.middleSmallHits%content-data\n",
      "Cache miss for  AnalysisMuonsAuxDyn.middleSmallHits\n",
      "Loading part0-AnalysisMuonsAuxDyn.momentumBalanceSignificance%content-data\n",
      "Cache miss for  AnalysisMuonsAuxDyn.momentumBalanceSignificance\n",
      "Loading part0-AnalysisMuonsAuxDyn.muonSpectrometerTrackParticleLink.m_persIndex%content-data\n",
      "Cache miss for  AnalysisMuonsAuxDyn.muonSpectrometerTrackParticleLink.m_persIndex\n",
      "Loading part0-AnalysisMuonsAuxDyn.muonSpectrometerTrackParticleLink.m_persKey%content-data\n",
      "Cache miss for  AnalysisMuonsAuxDyn.muonSpectrometerTrackParticleLink.m_persKey\n",
      "Loading part0-AnalysisMuonsAuxDyn.muonType%content-data\n",
      "Cache miss for  AnalysisMuonsAuxDyn.muonType\n",
      "Loading part0-AnalysisMuonsAuxDyn.numberOfGoodPrecisionLayers%content-data\n",
      "Cache miss for  AnalysisMuonsAuxDyn.numberOfGoodPrecisionLayers\n",
      "Loading part0-AnalysisMuonsAuxDyn.numberOfPrecisionHoleLayers%content-data\n",
      "Cache miss for  AnalysisMuonsAuxDyn.numberOfPrecisionHoleLayers\n",
      "Loading part0-AnalysisMuonsAuxDyn.numberOfPrecisionLayers%content-data\n",
      "Cache miss for  AnalysisMuonsAuxDyn.numberOfPrecisionLayers\n",
      "Loading part0-AnalysisMuonsAuxDyn.outerLargeHits%content-data\n",
      "Cache miss for  AnalysisMuonsAuxDyn.outerLargeHits\n",
      "Loading part0-AnalysisMuonsAuxDyn.outerSmallHits%content-data\n",
      "Cache miss for  AnalysisMuonsAuxDyn.outerSmallHits\n",
      "Loading part0-AnalysisMuonsAuxDyn.phi%content-data\n",
      "Cache miss for  AnalysisMuonsAuxDyn.phi\n",
      "Loading part0-AnalysisMuonsAuxDyn.ptcone20%content-data\n",
      "Cache miss for  AnalysisMuonsAuxDyn.ptcone20\n",
      "Loading part0-AnalysisMuonsAuxDyn.ptcone20_TightTTVA_pt1000%content-data\n",
      "Cache miss for  AnalysisMuonsAuxDyn.ptcone20_TightTTVA_pt1000\n",
      "Loading part0-AnalysisMuonsAuxDyn.ptcone20_TightTTVA_pt500%content-data\n",
      "Cache miss for  AnalysisMuonsAuxDyn.ptcone20_TightTTVA_pt500\n",
      "Loading part0-AnalysisMuonsAuxDyn.ptcone30%content-data\n",
      "Cache miss for  AnalysisMuonsAuxDyn.ptcone30\n",
      "Loading part0-AnalysisMuonsAuxDyn.ptcone40%content-data\n",
      "Cache miss for  AnalysisMuonsAuxDyn.ptcone40\n",
      "Loading part0-AnalysisMuonsAuxDyn.ptvarcone20%content-data\n",
      "Cache miss for  AnalysisMuonsAuxDyn.ptvarcone20\n",
      "Loading part0-AnalysisMuonsAuxDyn.ptvarcone30_TightTTVA_pt1000%content-data\n",
      "Cache miss for  AnalysisMuonsAuxDyn.ptvarcone30_TightTTVA_pt1000\n",
      "Loading part0-AnalysisMuonsAuxDyn.ptvarcone30_TightTTVA_pt500%content-data\n",
      "Cache miss for  AnalysisMuonsAuxDyn.ptvarcone30_TightTTVA_pt500\n",
      "Loading part0-AnalysisMuonsAuxDyn.ptvarcone40%content-data\n",
      "Cache miss for  AnalysisMuonsAuxDyn.ptvarcone40\n",
      "Loading part0-AnalysisMuonsAuxDyn.quality%content-data\n",
      "Cache miss for  AnalysisMuonsAuxDyn.quality\n",
      "Loading part0-AnalysisMuonsAuxDyn.scatteringCurvatureSignificance%content-data\n",
      "Cache miss for  AnalysisMuonsAuxDyn.scatteringCurvatureSignificance\n",
      "Loading part0-AnalysisMuonsAuxDyn.scatteringNeighbourSignificance%content-data\n",
      "Cache miss for  AnalysisMuonsAuxDyn.scatteringNeighbourSignificance\n",
      "Loading part0-AnalysisMuonsAuxDyn.topoetcone30%content-data\n",
      "Cache miss for  AnalysisMuonsAuxDyn.topoetcone30\n"
     ]
    },
    {
     "name": "stdout",
     "output_type": "stream",
     "text": [
      "Loading part0-AnalysisMuonsAuxDyn.topoetcone40%content-data\n",
      "Cache miss for  AnalysisMuonsAuxDyn.topoetcone40\n",
      "Loading part0-AnalysisMuonsAuxDyn.truthOrigin%content-data\n",
      "Cache miss for  AnalysisMuonsAuxDyn.truthOrigin\n",
      "Loading part0-AnalysisMuonsAuxDyn.truthParticleLink.m_persIndex%content-data\n",
      "Cache miss for  AnalysisMuonsAuxDyn.truthParticleLink.m_persIndex\n",
      "Loading part0-AnalysisMuonsAuxDyn.truthParticleLink.m_persKey%content-data\n",
      "Cache miss for  AnalysisMuonsAuxDyn.truthParticleLink.m_persKey\n",
      "Loading part0-AnalysisMuonsAuxDyn.truthType%content-data\n",
      "Cache miss for  AnalysisMuonsAuxDyn.truthType\n"
     ]
    },
    {
     "name": "stderr",
     "output_type": "stream",
     "text": [
      "/home/nikolai/.conda/envs/py37/lib/python3.7/site-packages/awkward/_connect/_numpy.py:155: RuntimeWarning: divide by zero encountered in true_divide\n",
      "  *[nplike.asarray(x) for x in inputs], **kwargs\n"
     ]
    },
    {
     "name": "stdout",
     "output_type": "stream",
     "text": [
      "Loading part0-AnalysisJetsAuxDyn.phi%content-data\n",
      "Cache miss for  AnalysisJetsAuxDyn.phi\n",
      "Loading part0-AnalysisElectronsAuxDyn.phi%content-data\n",
      "Cache miss for  AnalysisElectronsAuxDyn.phi\n",
      "Loading part0-AnalysisJetsAuxDyn.GhostTrack%content%offsets-offsets\n",
      "Cache miss for  AnalysisJetsAuxDyn.GhostTrack\n",
      "Loading part0-AnalysisJetsAuxDyn.GhostTrack%content%m_persKey%content-data\n",
      "Loading part0-AnalysisJetsAuxDyn.GhostTrack%content%m_persIndex%content-data\n",
      "CPU times: user 4.3 s, sys: 1.01 s, total: 5.31 s\n",
      "Wall time: 4.4 s\n"
     ]
    }
   ],
   "source": [
    "%%time\n",
    "evt_ak = get_obj_sel(events)"
   ]
  },
  {
   "cell_type": "code",
   "execution_count": 14,
   "id": "unnecessary-minute",
   "metadata": {},
   "outputs": [],
   "source": [
    "from physlite_events import Factory, get_lazy_form, LazyGet"
   ]
  },
  {
   "cell_type": "code",
   "execution_count": 15,
   "id": "fatty-pledge",
   "metadata": {},
   "outputs": [],
   "source": [
    "import json"
   ]
  },
  {
   "cell_type": "code",
   "execution_count": 16,
   "id": "pointed-riding",
   "metadata": {},
   "outputs": [
    {
     "name": "stdout",
     "output_type": "stream",
     "text": [
      "Can't interpret PrimaryVerticesAuxDyn.neutralParticleLinks\n"
     ]
    }
   ],
   "source": [
    "form = json.dumps(get_lazy_form(get_branch_forms(tree)))"
   ]
  },
  {
   "cell_type": "code",
   "execution_count": 17,
   "id": "superior-norway",
   "metadata": {},
   "outputs": [],
   "source": [
    "container = LazyGet(tree, verbose=True)"
   ]
  },
  {
   "cell_type": "code",
   "execution_count": 18,
   "id": "numerical-female",
   "metadata": {},
   "outputs": [],
   "source": [
    "factory = Factory(form, tree.num_entries, container)"
   ]
  },
  {
   "cell_type": "code",
   "execution_count": 19,
   "id": "loose-prophet",
   "metadata": {},
   "outputs": [],
   "source": [
    "import timeit"
   ]
  },
  {
   "cell_type": "code",
   "execution_count": 20,
   "id": "athletic-candy",
   "metadata": {},
   "outputs": [],
   "source": [
    "def benchmark():\n",
    "    tree = uproot.open(f\"{filename}:CollectionTree\")\n",
    "    events = physlite_events(tree)\n",
    "    get_obj_sel(events)"
   ]
  },
  {
   "cell_type": "code",
   "execution_count": 46,
   "id": "exotic-breach",
   "metadata": {},
   "outputs": [
    {
     "name": "stdout",
     "output_type": "stream",
     "text": [
      "Can't interpret PrimaryVerticesAuxDyn.neutralParticleLinks\n"
     ]
    },
    {
     "name": "stderr",
     "output_type": "stream",
     "text": [
      "/home/nikolai/.conda/envs/py37/lib/python3.7/site-packages/awkward/_connect/_numpy.py:155: RuntimeWarning: divide by zero encountered in true_divide\n",
      "  *[nplike.asarray(x) for x in inputs], **kwargs\n"
     ]
    },
    {
     "name": "stdout",
     "output_type": "stream",
     "text": [
      "Can't interpret PrimaryVerticesAuxDyn.neutralParticleLinks\n",
      "Can't interpret PrimaryVerticesAuxDyn.neutralParticleLinks\n",
      "Can't interpret PrimaryVerticesAuxDyn.neutralParticleLinks\n",
      "Can't interpret PrimaryVerticesAuxDyn.neutralParticleLinks\n"
     ]
    }
   ],
   "source": [
    "times = timeit.Timer(benchmark).repeat(number=1, repeat=5)"
   ]
  },
  {
   "cell_type": "code",
   "execution_count": 47,
   "id": "caroline-advantage",
   "metadata": {},
   "outputs": [
    {
     "data": {
      "text/plain": [
       "([5.201907597998797,\n",
       "  5.286271934000979,\n",
       "  5.2070560960019066,\n",
       "  5.259616054998332,\n",
       "  5.248252514997148],\n",
       " 5.201907597998797)"
      ]
     },
     "execution_count": 47,
     "metadata": {},
     "output_type": "execute_result"
    }
   ],
   "source": [
    "times, min(times)"
   ]
  },
  {
   "cell_type": "code",
   "execution_count": 48,
   "id": "martial-divorce",
   "metadata": {},
   "outputs": [],
   "source": [
    "import time"
   ]
  },
  {
   "cell_type": "code",
   "execution_count": 49,
   "id": "promotional-decade",
   "metadata": {},
   "outputs": [],
   "source": [
    "def run_benchmark_no_overhead():\n",
    "    times = []\n",
    "    for i in range(5):\n",
    "        tree = uproot.open(f\"{filename}:CollectionTree\")\n",
    "        events = physlite_events(tree)\n",
    "        start = time.time()\n",
    "        get_obj_sel(events)\n",
    "        duration = time.time() - start\n",
    "        times.append(duration)\n",
    "    return times, min(times)"
   ]
  },
  {
   "cell_type": "code",
   "execution_count": 50,
   "id": "indie-extension",
   "metadata": {},
   "outputs": [
    {
     "name": "stdout",
     "output_type": "stream",
     "text": [
      "Can't interpret PrimaryVerticesAuxDyn.neutralParticleLinks\n",
      "Can't interpret PrimaryVerticesAuxDyn.neutralParticleLinks\n",
      "Can't interpret PrimaryVerticesAuxDyn.neutralParticleLinks\n",
      "Can't interpret PrimaryVerticesAuxDyn.neutralParticleLinks\n",
      "Can't interpret PrimaryVerticesAuxDyn.neutralParticleLinks\n"
     ]
    },
    {
     "data": {
      "text/plain": [
       "([3.8257579803466797,\n",
       "  3.8050127029418945,\n",
       "  3.7536356449127197,\n",
       "  3.7540013790130615,\n",
       "  3.8123700618743896],\n",
       " 3.7536356449127197)"
      ]
     },
     "execution_count": 50,
     "metadata": {},
     "output_type": "execute_result"
    }
   ],
   "source": [
    "run_benchmark_no_overhead()"
   ]
  },
  {
   "cell_type": "code",
   "execution_count": 26,
   "id": "monetary-spelling",
   "metadata": {},
   "outputs": [],
   "source": [
    "def run_benchmark_obj_sel():\n",
    "    tree = uproot.open(f\"{filename}:CollectionTree\")\n",
    "    events = physlite_events(tree)\n",
    "    get_obj_sel(events)\n",
    "    times = timeit.Timer(lambda: get_obj_sel(events)).repeat(number=1, repeat=5)\n",
    "    return times, min(times)"
   ]
  },
  {
   "cell_type": "code",
   "execution_count": 51,
   "id": "expired-launch",
   "metadata": {},
   "outputs": [
    {
     "name": "stdout",
     "output_type": "stream",
     "text": [
      "Can't interpret PrimaryVerticesAuxDyn.neutralParticleLinks\n"
     ]
    },
    {
     "data": {
      "text/plain": [
       "([1.1723876880023454,\n",
       "  1.1747755770011281,\n",
       "  1.1754699600023741,\n",
       "  1.173013521998655,\n",
       "  1.1736541610007407],\n",
       " 1.1723876880023454)"
      ]
     },
     "execution_count": 51,
     "metadata": {},
     "output_type": "execute_result"
    }
   ],
   "source": [
    "run_benchmark_obj_sel()"
   ]
  },
  {
   "cell_type": "code",
   "execution_count": 28,
   "id": "bearing-squad",
   "metadata": {},
   "outputs": [],
   "source": [
    "loaded_keys = list(factory.container.cache.keys())"
   ]
  },
  {
   "cell_type": "code",
   "execution_count": 29,
   "id": "successful-chuck",
   "metadata": {},
   "outputs": [],
   "source": [
    "from deserialization_hacks import tree_arrays"
   ]
  },
  {
   "cell_type": "code",
   "execution_count": 30,
   "id": "objective-migration",
   "metadata": {},
   "outputs": [],
   "source": [
    "def run_benchmark_preload():\n",
    "    tree = uproot.open(f\"{filename}:CollectionTree\")\n",
    "    cache = tree_arrays(tree, lambda branch: branch.name in loaded_keys)\n",
    "    container = LazyGet(tree, verbose=False, cache=cache)\n",
    "    form = json.dumps(get_lazy_form(get_branch_forms(tree)))\n",
    "    return timeit.Timer(\n",
    "        lambda: get_obj_sel(Factory(form, tree.num_entries, container).events)\n",
    "    ).repeat(number=1, repeat=5)"
   ]
  },
  {
   "cell_type": "code",
   "execution_count": 52,
   "id": "rational-benjamin",
   "metadata": {},
   "outputs": [
    {
     "name": "stdout",
     "output_type": "stream",
     "text": [
      "Can't interpret PrimaryVerticesAuxDyn.neutralParticleLinks\n"
     ]
    },
    {
     "data": {
      "text/plain": [
       "[3.8316211479977937,\n",
       " 1.26996032599709,\n",
       " 1.272076539000409,\n",
       " 1.2652769940032158,\n",
       " 1.2780639179982245]"
      ]
     },
     "execution_count": 52,
     "metadata": {},
     "output_type": "execute_result"
    }
   ],
   "source": [
    "run_benchmark_preload()"
   ]
  },
  {
   "cell_type": "code",
   "execution_count": 32,
   "id": "circular-hurricane",
   "metadata": {},
   "outputs": [],
   "source": [
    "# produced with athena + ST\n",
    "# using https://gitlab.cern.ch/nihartma/enaf\n",
    "def get_st_ntuple():\n",
    "    f = uproot.open(\"/home/nikolai/code/enaf/run/ST_ntuple.root\")\n",
    "    tree = f[\"analysis\"]\n",
    "    keys = [k for k in tree.keys()]\n",
    "    evt = ak.zip(\n",
    "        {\n",
    "            part[0].upper() + part[1:] + \"s\" : ak.zip(\n",
    "                {k.split(\"_\")[1] : tree[k].array() for k in keys if part in k}\n",
    "            )\n",
    "            for part in [\"jet\", \"electron\", \"muon\"]\n",
    "        },\n",
    "        depth_limit=1\n",
    "    )\n",
    "    # convert to bools\n",
    "    bools = [\"passOR\", \"passJvt\", \"baseline\", \"signal\", \"bad\"]\n",
    "    for part in evt.fields:\n",
    "        for var in evt[part].fields:\n",
    "            if var in bools:\n",
    "                evt[part, var] = evt[part, var] == 1\n",
    "    return evt"
   ]
  },
  {
   "cell_type": "code",
   "execution_count": 33,
   "id": "spanish-tournament",
   "metadata": {},
   "outputs": [],
   "source": [
    "evt_st = get_st_ntuple()"
   ]
  },
  {
   "cell_type": "code",
   "execution_count": 34,
   "id": "capable-kidney",
   "metadata": {},
   "outputs": [],
   "source": [
    "df = []\n",
    "for obj in [\"Electrons\", \"Muons\", \"Jets\"]:\n",
    "    flags = [\"all\", \"baseline\", \"passOR\", \"signal\"]\n",
    "    #if obj == \"Jets\":\n",
    "    #    flags += [\"passJvt\"]\n",
    "    for flag in flags:\n",
    "        counts = []\n",
    "        for e in [evt_ak, evt_st]:\n",
    "            if flag != \"all\":\n",
    "                counts.append(ak.count_nonzero(e[obj, flag]))\n",
    "            else:\n",
    "                counts.append(ak.sum(ak.num(e[obj])))\n",
    "        entry = {\n",
    "            \"object\" : obj,\n",
    "            \"flag\" : flag,\n",
    "            \"athena/SUSYTools\" : counts[1],\n",
    "            \"columnar analysis\" : counts[0]\n",
    "        }\n",
    "        df.append(entry)\n",
    "df = pd.DataFrame(df)"
   ]
  },
  {
   "cell_type": "code",
   "execution_count": 35,
   "id": "assigned-prevention",
   "metadata": {},
   "outputs": [
    {
     "data": {
      "text/html": [
       "<div>\n",
       "<style scoped>\n",
       "    .dataframe tbody tr th:only-of-type {\n",
       "        vertical-align: middle;\n",
       "    }\n",
       "\n",
       "    .dataframe tbody tr th {\n",
       "        vertical-align: top;\n",
       "    }\n",
       "\n",
       "    .dataframe thead th {\n",
       "        text-align: right;\n",
       "    }\n",
       "</style>\n",
       "<table border=\"1\" class=\"dataframe\">\n",
       "  <thead>\n",
       "    <tr style=\"text-align: right;\">\n",
       "      <th></th>\n",
       "      <th></th>\n",
       "      <th>athena/SUSYTools</th>\n",
       "      <th>columnar analysis</th>\n",
       "    </tr>\n",
       "    <tr>\n",
       "      <th>object</th>\n",
       "      <th>flag</th>\n",
       "      <th></th>\n",
       "      <th></th>\n",
       "    </tr>\n",
       "  </thead>\n",
       "  <tbody>\n",
       "    <tr>\n",
       "      <th rowspan=\"4\" valign=\"top\">Electrons</th>\n",
       "      <th>all</th>\n",
       "      <td>23081</td>\n",
       "      <td>23081</td>\n",
       "    </tr>\n",
       "    <tr>\n",
       "      <th>baseline</th>\n",
       "      <td>19219</td>\n",
       "      <td>19211</td>\n",
       "    </tr>\n",
       "    <tr>\n",
       "      <th>passOR</th>\n",
       "      <td>18907</td>\n",
       "      <td>18898</td>\n",
       "    </tr>\n",
       "    <tr>\n",
       "      <th>signal</th>\n",
       "      <td>14457</td>\n",
       "      <td>14623</td>\n",
       "    </tr>\n",
       "    <tr>\n",
       "      <th rowspan=\"4\" valign=\"top\">Muons</th>\n",
       "      <th>all</th>\n",
       "      <td>26475</td>\n",
       "      <td>26475</td>\n",
       "    </tr>\n",
       "    <tr>\n",
       "      <th>baseline</th>\n",
       "      <td>22826</td>\n",
       "      <td>22914</td>\n",
       "    </tr>\n",
       "    <tr>\n",
       "      <th>passOR</th>\n",
       "      <td>19455</td>\n",
       "      <td>19203</td>\n",
       "    </tr>\n",
       "    <tr>\n",
       "      <th>signal</th>\n",
       "      <td>17453</td>\n",
       "      <td>17938</td>\n",
       "    </tr>\n",
       "    <tr>\n",
       "      <th rowspan=\"4\" valign=\"top\">Jets</th>\n",
       "      <th>all</th>\n",
       "      <td>524205</td>\n",
       "      <td>524205</td>\n",
       "    </tr>\n",
       "    <tr>\n",
       "      <th>baseline</th>\n",
       "      <td>318948</td>\n",
       "      <td>318948</td>\n",
       "    </tr>\n",
       "    <tr>\n",
       "      <th>passOR</th>\n",
       "      <td>296403</td>\n",
       "      <td>296414</td>\n",
       "    </tr>\n",
       "    <tr>\n",
       "      <th>signal</th>\n",
       "      <td>298842</td>\n",
       "      <td>299005</td>\n",
       "    </tr>\n",
       "  </tbody>\n",
       "</table>\n",
       "</div>"
      ],
      "text/plain": [
       "                    athena/SUSYTools  columnar analysis\n",
       "object    flag                                         \n",
       "Electrons all                  23081              23081\n",
       "          baseline             19219              19211\n",
       "          passOR               18907              18898\n",
       "          signal               14457              14623\n",
       "Muons     all                  26475              26475\n",
       "          baseline             22826              22914\n",
       "          passOR               19455              19203\n",
       "          signal               17453              17938\n",
       "Jets      all                 524205             524205\n",
       "          baseline            318948             318948\n",
       "          passOR              296403             296414\n",
       "          signal              298842             299005"
      ]
     },
     "execution_count": 35,
     "metadata": {},
     "output_type": "execute_result"
    }
   ],
   "source": [
    "df.set_index([\"object\", \"flag\"])"
   ]
  },
  {
   "cell_type": "code",
   "execution_count": 36,
   "id": "endangered-latter",
   "metadata": {},
   "outputs": [
    {
     "data": {
      "text/plain": [
       "athena/SUSYTools     19455\n",
       "columnar analysis    19203\n",
       "Name: (Muons, passOR), dtype: int64"
      ]
     },
     "execution_count": 36,
     "metadata": {},
     "output_type": "execute_result"
    }
   ],
   "source": [
    "df.set_index([\"object\", \"flag\"]).loc[\"Muons\", \"passOR\"]"
   ]
  },
  {
   "cell_type": "code",
   "execution_count": 37,
   "id": "postal-gothic",
   "metadata": {},
   "outputs": [
    {
     "data": {
      "text/plain": [
       "athena/SUSYTools     296403\n",
       "columnar analysis    296414\n",
       "Name: (Jets, passOR), dtype: int64"
      ]
     },
     "execution_count": 37,
     "metadata": {},
     "output_type": "execute_result"
    }
   ],
   "source": [
    "df.set_index([\"object\", \"flag\"]).loc[\"Jets\", \"passOR\"]"
   ]
  },
  {
   "cell_type": "code",
   "execution_count": 38,
   "id": "apart-helen",
   "metadata": {},
   "outputs": [
    {
     "data": {
      "image/png": "[encoded data removed]",
      "text/plain": [
       "<Figure size 720x216 with 3 Axes>"
      ]
     },
     "metadata": {
      "needs_background": "light"
     },
     "output_type": "display_data"
    }
   ],
   "source": [
    "gb = df.groupby(\"object\")\n",
    "fig, axs = plt.subplots(figsize=(10, 3), ncols=len(gb), nrows=1)\n",
    "for ax, group in zip(axs.ravel(), gb):\n",
    "    group[1].pop(\"object\")\n",
    "    group[1].set_index(\"flag\").plot(kind=\"bar\", ax=ax, legend=False)\n",
    "    ax.set_xlabel(group[0])\n",
    "    if ax is axs[0]:\n",
    "        ax.set_ylabel(\"Object count\")\n",
    "legend = fig.legend(\n",
    "    *ax.get_legend_handles_labels(),\n",
    "    framealpha=1,\n",
    "    ncol=2,\n",
    "    bbox_to_anchor=(0.3, 1.02, 0.5, .102),\n",
    "    mode=\"expand\",\n",
    ")\n",
    "fig.tight_layout()\n",
    "fig.savefig(\"object_count_columnar_vs_st.pdf\", bbox_extra_artists=(legend,), bbox_inches='tight')"
   ]
  },
  {
   "cell_type": "code",
   "execution_count": 39,
   "id": "normal-alberta",
   "metadata": {},
   "outputs": [
    {
     "name": "stdout",
     "output_type": "stream",
     "text": [
      "Loading part0-PrimaryVerticesAuxDyn.z%content-data\n",
      "Cache miss for  PrimaryVerticesAuxDyn.z\n",
      "Loading part0-CombinedMuonTrackParticlesAuxDyn.z0%content-data\n",
      "Cache miss for  CombinedMuonTrackParticlesAuxDyn.z0\n"
     ]
    },
    {
     "data": {
      "image/png": "[encoded data removed]",
      "text/plain": [
       "<Figure size 432x288 with 1 Axes>"
      ]
     },
     "metadata": {
      "needs_background": "light"
     },
     "output_type": "display_data"
    }
   ],
   "source": [
    "plt.hist(\n",
    "    ak.flatten(ak.singletons(\n",
    "        evt_ak.Muons[evt_ak.Muons.baseline].trackParticle.z0 - ak.firsts(evt_ak.PrimaryVertices.z)\n",
    "    ), axis=None),\n",
    "    bins=100, range=(-1, 1)\n",
    ");"
   ]
  },
  {
   "cell_type": "code",
   "execution_count": 40,
   "id": "stable-pierce",
   "metadata": {},
   "outputs": [],
   "source": [
    "def overlay(selection, ax=None, **kwargs):\n",
    "    ax = ax or plt.gca()\n",
    "    ax.hist(ak.to_numpy(ak.flatten(selection(evt_ak))), **kwargs)\n",
    "    ax.hist(ak.to_numpy(ak.flatten(selection(evt_st))), **kwargs)\n",
    "    return ax"
   ]
  },
  {
   "cell_type": "code",
   "execution_count": 41,
   "id": "dress-bouquet",
   "metadata": {},
   "outputs": [
    {
     "data": {
      "text/plain": [
       "<Array [-46.9, 26.2, -35.8, ... -83.8, -4.79] type='50000 * float32'>"
      ]
     },
     "execution_count": 41,
     "metadata": {},
     "output_type": "execute_result"
    }
   ],
   "source": [
    "events.PrimaryVertices[:, 0].z"
   ]
  },
  {
   "cell_type": "code",
   "execution_count": 42,
   "id": "separated-delight",
   "metadata": {},
   "outputs": [
    {
     "data": {
      "image/png": "[encoded data removed]",
      "text/plain": [
       "<Figure size 432x288 with 1 Axes>"
      ]
     },
     "metadata": {
      "needs_background": "light"
     },
     "output_type": "display_data"
    }
   ],
   "source": [
    "ax = overlay(lambda evt: evt.Electrons[evt.Electrons.signal].eta, bins=100, range=(-3, 3), alpha=0.5)\n",
    "ax.set_yscale(\"log\")"
   ]
  },
  {
   "cell_type": "code",
   "execution_count": 43,
   "id": "understanding-purpose",
   "metadata": {},
   "outputs": [
    {
     "data": {
      "image/png": "[encoded data removed]",
      "text/plain": [
       "<Figure size 432x288 with 1 Axes>"
      ]
     },
     "metadata": {
      "needs_background": "light"
     },
     "output_type": "display_data"
    }
   ],
   "source": [
    "ax = overlay(lambda evt: evt.Muons[evt.Muons.signal].eta, bins=100, range=(-3, 3), alpha=0.5)\n",
    "ax.set_yscale(\"log\")"
   ]
  },
  {
   "cell_type": "code",
   "execution_count": 44,
   "id": "functional-healthcare",
   "metadata": {},
   "outputs": [
    {
     "data": {
      "image/png": "[encoded data removed]",
      "text/plain": [
       "<Figure size 432x288 with 1 Axes>"
      ]
     },
     "metadata": {
      "needs_background": "light"
     },
     "output_type": "display_data"
    }
   ],
   "source": [
    "ax = overlay(lambda evt: evt.Muons[evt.Muons.passOR].eta, bins=100, range=(-3, 3), alpha=0.5)\n",
    "ax.set_yscale(\"log\")"
   ]
  },
  {
   "cell_type": "code",
   "execution_count": 45,
   "id": "secondary-birth",
   "metadata": {},
   "outputs": [
    {
     "data": {
      "image/png": "[encoded data removed]",
      "text/plain": [
       "<Figure size 432x288 with 1 Axes>"
      ]
     },
     "metadata": {
      "needs_background": "light"
     },
     "output_type": "display_data"
    }
   ],
   "source": [
    "ax = overlay(lambda evt: evt.Electrons[evt.Electrons.signal].eta, bins=100, range=(-3, 3), alpha=0.5)\n",
    "ax.set_yscale(\"log\")"
   ]
  }
 ],
 "metadata": {
  "kernelspec": {
   "display_name": "Python 3",
   "language": "python",
   "name": "python3"
  },
  "language_info": {
   "codemirror_mode": {
    "name": "ipython",
    "version": 3
   },
   "file_extension": ".py",
   "mimetype": "text/x-python",
   "name": "python",
   "nbconvert_exporter": "python",
   "pygments_lexer": "ipython3",
   "version": "3.7.9"
  },
  "toc": {
   "base_numbering": 1,
   "nav_menu": {},
   "number_sections": true,
   "sideBar": true,
   "skip_h1_title": false,
   "title_cell": "Table of Contents",
   "title_sidebar": "Contents",
   "toc_cell": false,
   "toc_position": {},
   "toc_section_display": true,
   "toc_window_display": false
  }
 },
 "nbformat": 4,
 "nbformat_minor": 5
}
