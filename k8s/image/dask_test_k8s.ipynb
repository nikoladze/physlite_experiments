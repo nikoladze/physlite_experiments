{
 "cells": [
  {
   "cell_type": "code",
   "execution_count": 1,
   "id": "adult-wheel",
   "metadata": {},
   "outputs": [
    {
     "name": "stderr",
     "output_type": "stream",
     "text": [
      "/usr/local/lib/python3.6/site-packages/distributed/client.py:1134: VersionMismatchWarning: Mismatched versions found\n",
      "\n",
      "+---------+--------+-----------+---------+\n",
      "| Package | client | scheduler | workers |\n",
      "+---------+--------+-----------+---------+\n",
      "| blosc   | None   | 1.9.2     | None    |\n",
      "| lz4     | 3.1.3  | 3.1.1     | 3.1.3   |\n",
      "| msgpack | 1.0.2  | 1.0.0     | 1.0.2   |\n",
      "+---------+--------+-----------+---------+\n",
      "Notes: \n",
      "-  msgpack: Variation is ok, as long as everything is above 0.6\n",
      "  warnings.warn(version_module.VersionMismatchWarning(msg[0][\"warning\"]))\n"
     ]
    },
    {
     "data": {
      "text/html": [
       "<table style=\"border: 2px solid white;\">\n",
       "<tr>\n",
       "<td style=\"vertical-align: top; border: 0px solid white\">\n",
       "<h3 style=\"text-align: left;\">Client</h3>\n",
       "<ul style=\"text-align: left; list-style: none; margin: 0; padding: 0;\">\n",
       "  <li><b>Scheduler: </b>tcp://my-dask-scheduler:8786</li>\n",
       "  <li><b>Dashboard: </b><a href='http://my-dask-scheduler:8787/status' target='_blank'>http://my-dask-scheduler:8787/status</a></li>\n",
       "</ul>\n",
       "</td>\n",
       "<td style=\"vertical-align: top; border: 0px solid white\">\n",
       "<h3 style=\"text-align: left;\">Cluster</h3>\n",
       "<ul style=\"text-align: left; list-style:none; margin: 0; padding: 0;\">\n",
       "  <li><b>Workers: </b>3</li>\n",
       "  <li><b>Cores: </b>3</li>\n",
       "  <li><b>Memory: </b>10.50 GB</li>\n",
       "</ul>\n",
       "</td>\n",
       "</tr>\n",
       "</table>"
      ],
      "text/plain": [
       "<Client: 'tcp://172.17.0.8:8786' processes=3 threads=3, memory=10.50 GB>"
      ]
     },
     "execution_count": 1,
     "metadata": {},
     "output_type": "execute_result"
    }
   ],
   "source": [
    "from dask.distributed import Client, config\n",
    "client = Client()\n",
    "client"
   ]
  },
  {
   "cell_type": "markdown",
   "id": "anticipated-variety",
   "metadata": {},
   "source": [
    "For authentication, create a proxy certificate on your local machine (using `voms-proxy-init -voms atlas`) and upload the proxy certificate file (checkout `echo $X509_USER_PROXY` on your local machine) to the same folder as this jupyter notebook (you can use jupyter lab upload files on the left). Then rename it to `x509up` and set your user name in the following notebook cell:"
   ]
  },
  {
   "cell_type": "code",
   "execution_count": 6,
   "id": "preliminary-stress",
   "metadata": {
    "tags": []
   },
   "outputs": [],
   "source": [
    "import os\n",
    "import rucio.client\n",
    "x509_proxy_path = os.path.join(os.getcwd(), \"x509up\")\n",
    "os.chmod(x509_proxy_path, 0o400)\n",
    "os.environ['X509_USER_PROXY'] = x509_proxy_path\n",
    "os.environ['RUCIO_ACCOUNT']  = 'nihartma'\n",
    "rucio_client = rucio.client.Client()"
   ]
  },
  {
   "cell_type": "code",
   "execution_count": 7,
   "id": "complete-victim",
   "metadata": {},
   "outputs": [
    {
     "data": {
      "text/plain": [
       "['root://eosatlas.cern.ch:1094//eos/atlas/atlaslocalgroupdisk/dq2/rucio/data17_13TeV/26/59/DAOD_PHYSLITE.22958105._000001.pool.root.1',\n",
       " 'root://eosatlas.cern.ch:1094//eos/atlas/atlaslocalgroupdisk/dq2/rucio/data17_13TeV/48/73/DAOD_PHYSLITE.22958105._000002.pool.root.1',\n",
       " 'root://eosatlas.cern.ch:1094//eos/atlas/atlaslocalgroupdisk/dq2/rucio/data17_13TeV/63/bb/DAOD_PHYSLITE.22958105._000003.pool.root.1']"
      ]
     },
     "execution_count": 7,
     "metadata": {},
     "output_type": "execute_result"
    }
   ],
   "source": [
    "def get_cern_names():\n",
    "    g = rucio_client.list_replicas([{'scope': 'data17_13TeV', 'name': 'data17_13TeV.periodK.physics_Main.PhysCont.DAOD_PHYSLITE.grp17_v01_p4309'}])\n",
    "    cern_fnames = []\n",
    "    for n,a in enumerate(g):\n",
    "        cern_fname = [k for k,v in a['pfns'].items() if v['rse'] == 'CERN-PROD_LOCALGROUPDISK']\n",
    "        cern_fnames.append(cern_fname[0])\n",
    "        if n > 10:\n",
    "            break\n",
    "    return cern_fnames\n",
    "fnames = get_cern_names()\n",
    "fnames[:3]"
   ]
  },
  {
   "cell_type": "code",
   "execution_count": 8,
   "id": "compatible-detective",
   "metadata": {},
   "outputs": [
    {
     "name": "stdout",
     "output_type": "stream",
     "text": [
      "subject   : /C=DE/O=GermanGrid/OU=LMU/CN=Nikolai Hartmann/CN=1020189479\n",
      "issuer    : /C=DE/O=GermanGrid/OU=LMU/CN=Nikolai Hartmann\n",
      "identity  : /C=DE/O=GermanGrid/OU=LMU/CN=Nikolai Hartmann\n",
      "type      : RFC3820 compliant impersonation proxy\n",
      "strength  : 2048\n",
      "path      : /home/jovyan/x509up\n",
      "timeleft  : 70:56:34\n",
      "key usage : Digital Signature, Key Encipherment, Data Encipherment\n",
      "=== VO atlas extension information ===\n",
      "VO        : atlas\n",
      "subject   : /C=DE/O=GermanGrid/OU=LMU/CN=Nikolai Hartmann\n",
      "issuer    : /DC=ch/DC=cern/OU=computers/CN=lcg-voms2.cern.ch\n",
      "attribute : /atlas/Role=NULL/Capability=NULL\n",
      "attribute : /atlas/de/Role=NULL/Capability=NULL\n",
      "attribute : /atlas/lcg1/Role=NULL/Capability=NULL\n",
      "attribute : nickname = nihartma (atlas)\n",
      "timeleft  : 70:56:34\n",
      "uri       : lcg-voms2.cern.ch:15001\n",
      "\n"
     ]
    }
   ],
   "source": [
    "!voms-proxy-info --all"
   ]
  },
  {
   "cell_type": "code",
   "execution_count": 9,
   "id": "separated-conflict",
   "metadata": {},
   "outputs": [],
   "source": [
    "pfilename = '/tmp/x509up_u1000'\n",
    "proxydata = open(x509_proxy_path).read()\n",
    "\n",
    "import uproot\n",
    "import json\n",
    "import awkward as ak\n",
    "from physlite_experiments.physlite_events import (\n",
    "    physlite_events, get_lazy_form, get_branch_forms, Factory, LazyGet\n",
    ")\n",
    "from physlite_experiments.analysis_example import get_obj_sel \n",
    "from physlite_experiments.utils import subdivide \n",
    "\n",
    "\n",
    "def run(filename,a, max_chunksize = 10000):\n",
    "    import os\n",
    "    import random\n",
    "    import time\n",
    "    import uproot\n",
    "    time.sleep(random.randint(2,5))\n",
    "    with open(pfilename,'w') as pfile:\n",
    "        pfile.write(proxydata)\n",
    "    os.environ['X509_USER_PROXY'] = pfilename\n",
    "    output = {\n",
    "        collection: {\n",
    "            flag : 0\n",
    "            for flag in [\"baseline\", \"passOR\", \"signal\"]\n",
    "        } for collection in [\"Electrons\", \"Muons\", \"Jets\"]\n",
    "    }\n",
    "    nevents = 0\n",
    "    with uproot.open(\n",
    "        f\"{filename}:CollectionTree\",\n",
    "        array_cache=None,\n",
    "        #xrootd_handler=uproot.MultithreadedXRootDSource\n",
    "        xrootd_handler=uproot.XRootDSource\n",
    "    ) as tree:\n",
    "        if tree.num_entries > max_chunksize:\n",
    "            n_chunks = tree.num_entries // max_chunksize\n",
    "        else:\n",
    "            n_chunks = 1\n",
    "        # now global\n",
    "        form = json.dumps(get_lazy_form(get_branch_forms(tree)))\n",
    "        entry_start = 0\n",
    "        for num_entries in subdivide(tree.num_entries, n_chunks):\n",
    "            entry_stop = entry_start + num_entries\n",
    "            container = LazyGet(\n",
    "                tree, entry_start=entry_start, entry_stop=entry_stop\n",
    "            )\n",
    "            factory = Factory(form, entry_stop - entry_start, container)\n",
    "            events = factory.events\n",
    "            events_decorated = get_obj_sel(events)\n",
    "            entry_start = entry_stop\n",
    "            for collection in output:\n",
    "                for flag in output[collection]:\n",
    "                    output[collection][flag] += ak.count_nonzero(\n",
    "                        events_decorated[collection][flag]\n",
    "                    )\n",
    "            nevents += len(events)\n",
    "    return output, nevents "
   ]
  },
  {
   "cell_type": "code",
   "execution_count": 10,
   "id": "prostate-adolescent",
   "metadata": {},
   "outputs": [
    {
     "data": {
      "text/plain": [
       "[({'Electrons': {'baseline': 4871, 'passOR': 4826, 'signal': 3626},\n",
       "   'Muons': {'baseline': 8941, 'passOR': 6761, 'signal': 4976},\n",
       "   'Jets': {'baseline': 258610, 'passOR': 251696, 'signal': 224474}},\n",
       "  44235),\n",
       " ({'Electrons': {'baseline': 4776, 'passOR': 4736, 'signal': 3618},\n",
       "   'Muons': {'baseline': 8716, 'passOR': 6495, 'signal': 4729},\n",
       "   'Jets': {'baseline': 249948, 'passOR': 243251, 'signal': 217148}},\n",
       "  43735),\n",
       " ({'Electrons': {'baseline': 4354, 'passOR': 4328, 'signal': 3309},\n",
       "   'Muons': {'baseline': 8030, 'passOR': 6018, 'signal': 4440},\n",
       "   'Jets': {'baseline': 217640, 'passOR': 211553, 'signal': 188923}},\n",
       "  38078),\n",
       " ({'Electrons': {'baseline': 4106, 'passOR': 4071, 'signal': 3080},\n",
       "   'Muons': {'baseline': 7805, 'passOR': 5854, 'signal': 4233},\n",
       "   'Jets': {'baseline': 213795, 'passOR': 207957, 'signal': 185955}},\n",
       "  37110),\n",
       " ({'Electrons': {'baseline': 4499, 'passOR': 4461, 'signal': 3340},\n",
       "   'Muons': {'baseline': 8629, 'passOR': 6462, 'signal': 4695},\n",
       "   'Jets': {'baseline': 244885, 'passOR': 238499, 'signal': 213006}},\n",
       "  42298),\n",
       " ({'Electrons': {'baseline': 4200, 'passOR': 4157, 'signal': 3161},\n",
       "   'Muons': {'baseline': 7891, 'passOR': 5881, 'signal': 4207},\n",
       "   'Jets': {'baseline': 236025, 'passOR': 230001, 'signal': 205056}},\n",
       "  39521),\n",
       " ({'Electrons': {'baseline': 3982, 'passOR': 3950, 'signal': 3032},\n",
       "   'Muons': {'baseline': 7714, 'passOR': 5710, 'signal': 4157},\n",
       "   'Jets': {'baseline': 232955, 'passOR': 227262, 'signal': 201894}},\n",
       "  38293),\n",
       " ({'Electrons': {'baseline': 4556, 'passOR': 4513, 'signal': 3412},\n",
       "   'Muons': {'baseline': 8723, 'passOR': 6525, 'signal': 4725},\n",
       "   'Jets': {'baseline': 263044, 'passOR': 256469, 'signal': 228585}},\n",
       "  43914),\n",
       " ({'Electrons': {'baseline': 4735, 'passOR': 4697, 'signal': 3501},\n",
       "   'Muons': {'baseline': 8982, 'passOR': 6660, 'signal': 4841},\n",
       "   'Jets': {'baseline': 264546, 'passOR': 257786, 'signal': 229461}},\n",
       "  44513),\n",
       " ({'Electrons': {'baseline': 3595, 'passOR': 3563, 'signal': 2723},\n",
       "   'Muons': {'baseline': 6958, 'passOR': 5124, 'signal': 3684},\n",
       "   'Jets': {'baseline': 210185, 'passOR': 205005, 'signal': 182347}},\n",
       "  34822),\n",
       " ({'Electrons': {'baseline': 5612, 'passOR': 5551, 'signal': 4061},\n",
       "   'Muons': {'baseline': 10402, 'passOR': 7472, 'signal': 5417},\n",
       "   'Jets': {'baseline': 354421, 'passOR': 346517, 'signal': 308708}},\n",
       "  56625),\n",
       " ({'Electrons': {'baseline': 6716, 'passOR': 6659, 'signal': 5076},\n",
       "   'Muons': {'baseline': 11996, 'passOR': 9125, 'signal': 6707},\n",
       "   'Jets': {'baseline': 348808, 'passOR': 339425, 'signal': 302455}},\n",
       "  60770)]"
      ]
     },
     "execution_count": 10,
     "metadata": {},
     "output_type": "execute_result"
    }
   ],
   "source": [
    "import numpy as np\n",
    "futures = client.map(run,fnames,np.random.random(len(fnames)))\n",
    "client.gather(futures)"
   ]
  }
 ],
 "metadata": {
  "kernelspec": {
   "display_name": "Python 3",
   "language": "python",
   "name": "python3"
  },
  "language_info": {
   "codemirror_mode": {
    "name": "ipython",
    "version": 3
   },
   "file_extension": ".py",
   "mimetype": "text/x-python",
   "name": "python",
   "nbconvert_exporter": "python",
   "pygments_lexer": "ipython3",
   "version": "3.6.8"
  }
 },
 "nbformat": 4,
 "nbformat_minor": 5
}
