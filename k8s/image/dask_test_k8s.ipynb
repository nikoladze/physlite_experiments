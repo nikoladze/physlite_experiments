{
 "cells": [
  {
   "cell_type": "code",
   "execution_count": 1,
   "id": "weird-export",
   "metadata": {},
   "outputs": [
    {
     "name": "stderr",
     "output_type": "stream",
     "text": [
      "/usr/local/lib/python3.6/site-packages/distributed/client.py:1134: VersionMismatchWarning: Mismatched versions found\n",
      "\n",
      "+---------+--------+-----------+---------+\n",
      "| Package | client | scheduler | workers |\n",
      "+---------+--------+-----------+---------+\n",
      "| blosc   | None   | 1.9.2     | None    |\n",
      "| lz4     | None   | 3.1.1     | None    |\n",
      "| msgpack | 1.0.2  | 1.0.0     | 1.0.2   |\n",
      "+---------+--------+-----------+---------+\n",
      "Notes: \n",
      "-  msgpack: Variation is ok, as long as everything is above 0.6\n",
      "  warnings.warn(version_module.VersionMismatchWarning(msg[0][\"warning\"]))\n"
     ]
    },
    {
     "data": {
      "text/html": [
       "<table style=\"border: 2px solid white;\">\n",
       "<tr>\n",
       "<td style=\"vertical-align: top; border: 0px solid white\">\n",
       "<h3 style=\"text-align: left;\">Client</h3>\n",
       "<ul style=\"text-align: left; list-style: none; margin: 0; padding: 0;\">\n",
       "  <li><b>Scheduler: </b>tcp://my-dask-scheduler:8786</li>\n",
       "  <li><b>Dashboard: </b><a href='http://my-dask-scheduler:8787/status' target='_blank'>http://my-dask-scheduler:8787/status</a></li>\n",
       "</ul>\n",
       "</td>\n",
       "<td style=\"vertical-align: top; border: 0px solid white\">\n",
       "<h3 style=\"text-align: left;\">Cluster</h3>\n",
       "<ul style=\"text-align: left; list-style:none; margin: 0; padding: 0;\">\n",
       "  <li><b>Workers: </b>3</li>\n",
       "  <li><b>Cores: </b>3</li>\n",
       "  <li><b>Memory: </b>10.50 GB</li>\n",
       "</ul>\n",
       "</td>\n",
       "</tr>\n",
       "</table>"
      ],
      "text/plain": [
       "<Client: 'tcp://10.100.139.5:8786' processes=3 threads=3, memory=10.50 GB>"
      ]
     },
     "execution_count": 1,
     "metadata": {},
     "output_type": "execute_result"
    }
   ],
   "source": [
    "from dask.distributed import Client, config\n",
    "client = Client()\n",
    "client"
   ]
  },
  {
   "cell_type": "markdown",
   "id": "spectacular-bargain",
   "metadata": {},
   "source": [
    "Execute this in a terminal tab\n",
    "\n",
    "```\n",
    "scp -r lheinric@lxplus.cern.ch:~/.globus ~/;\n",
    "openssl rsa -in .globus/userkey.pem -out userkey.pem;\n",
    "mv userkey.pem .globus/;\n",
    "chmod 400 ~/.globus/userkey.pem;\n",
    "```"
   ]
  },
  {
   "cell_type": "code",
   "execution_count": 2,
   "id": "thermal-corrections",
   "metadata": {
    "tags": []
   },
   "outputs": [],
   "source": [
    "import os\n",
    "import rucio.client\n",
    "os.environ['X509_USER_CERT'] = '~/.globus/usercert.pem'\n",
    "os.environ['X509_USER_KEY']  = '~/.globus/userkey.pem'\n",
    "os.environ['RUCIO_ACCOUNT']  = 'lheinric'\n",
    "rucio_client = rucio.client.Client()"
   ]
  },
  {
   "cell_type": "code",
   "execution_count": 3,
   "id": "controversial-bacon",
   "metadata": {},
   "outputs": [
    {
     "data": {
      "text/plain": [
       "['root://eosatlas.cern.ch:1094//eos/atlas/atlaslocalgroupdisk/dq2/rucio/data17_13TeV/26/59/DAOD_PHYSLITE.22958105._000001.pool.root.1',\n",
       " 'root://eosatlas.cern.ch:1094//eos/atlas/atlaslocalgroupdisk/dq2/rucio/data17_13TeV/48/73/DAOD_PHYSLITE.22958105._000002.pool.root.1',\n",
       " 'root://eosatlas.cern.ch:1094//eos/atlas/atlaslocalgroupdisk/dq2/rucio/data17_13TeV/63/bb/DAOD_PHYSLITE.22958105._000003.pool.root.1']"
      ]
     },
     "execution_count": 3,
     "metadata": {},
     "output_type": "execute_result"
    }
   ],
   "source": [
    "def get_cern_names():\n",
    "    g = rucio_client.list_replicas([{'scope': 'data17_13TeV', 'name': 'data17_13TeV.periodK.physics_Main.PhysCont.DAOD_PHYSLITE.grp17_v01_p4309'}])\n",
    "    cern_fnames = []\n",
    "    for n,a in enumerate(g):\n",
    "        cern_fname = [k for k,v in a['pfns'].items() if v['rse'] == 'CERN-PROD_LOCALGROUPDISK']\n",
    "        cern_fnames.append(cern_fname[0])\n",
    "        if n > 10:\n",
    "            break\n",
    "    return cern_fnames\n",
    "fnames = get_cern_names()\n",
    "fnames[:3]"
   ]
  },
  {
   "cell_type": "code",
   "execution_count": 4,
   "id": "multiple-allergy",
   "metadata": {},
   "outputs": [
    {
     "name": "stdout",
     "output_type": "stream",
     "text": [
      "Contacting lcg-voms2.cern.ch:15001 [/DC=ch/DC=cern/OU=computers/CN=lcg-voms2.cern.ch] \"atlas\"...\n",
      "Remote VOMS server contacted succesfully.\n",
      "\n",
      "\n",
      "Created proxy in /tmp/x509up_u1000.\n",
      "\n",
      "Your proxy is valid until Wed Mar 24 23:38:38 UTC 2021\n"
     ]
    }
   ],
   "source": [
    "!voms-proxy-init --voms atlas"
   ]
  },
  {
   "cell_type": "code",
   "execution_count": 9,
   "id": "processed-survival",
   "metadata": {},
   "outputs": [],
   "source": [
    "pfilename = '/tmp/x509up_u1000'\n",
    "proxydata = open(pfilename).read()\n",
    "\n",
    "def run(fname,a):\n",
    "    import os\n",
    "    import random\n",
    "    import time\n",
    "    import uproot\n",
    "    time.sleep(random.randint(2,5))\n",
    "    with open(pfilename,'w') as pfile:\n",
    "        pfile.write(proxydata)\n",
    "    os.environ['X509_USER_PROXY'] = pfilename\n",
    "    d = uproot.open(f'{fname}:CollectionTree')\n",
    "    branches = list([b.name for b in d.branches])[:2]\n",
    "    return {'module': branches}"
   ]
  },
  {
   "cell_type": "code",
   "execution_count": 10,
   "id": "alternate-saudi",
   "metadata": {},
   "outputs": [
    {
     "data": {
      "text/plain": [
       "[{'module': ['ByteStreamEventInfo', 'TrigConfKeys']},\n",
       " {'module': ['ByteStreamEventInfo', 'TrigConfKeys']},\n",
       " {'module': ['ByteStreamEventInfo', 'TrigConfKeys']},\n",
       " {'module': ['ByteStreamEventInfo', 'TrigConfKeys']},\n",
       " {'module': ['ByteStreamEventInfo', 'TrigConfKeys']},\n",
       " {'module': ['ByteStreamEventInfo', 'TrigConfKeys']},\n",
       " {'module': ['ByteStreamEventInfo', 'TrigConfKeys']},\n",
       " {'module': ['ByteStreamEventInfo', 'TrigConfKeys']},\n",
       " {'module': ['ByteStreamEventInfo', 'TrigConfKeys']},\n",
       " {'module': ['ByteStreamEventInfo', 'TrigConfKeys']},\n",
       " {'module': ['ByteStreamEventInfo', 'TrigConfKeys']},\n",
       " {'module': ['ByteStreamEventInfo', 'TrigConfKeys']}]"
      ]
     },
     "execution_count": 10,
     "metadata": {},
     "output_type": "execute_result"
    }
   ],
   "source": [
    "import numpy as np\n",
    "futures = client.map(run,fnames,np.random.random(len(fnames)))\n",
    "client.gather(futures)"
   ]
  },
  {
   "cell_type": "code",
   "execution_count": null,
   "id": "broke-gibson",
   "metadata": {},
   "outputs": [],
   "source": []
  }
 ],
 "metadata": {
  "kernelspec": {
   "display_name": "Python 3",
   "language": "python",
   "name": "python3"
  },
  "language_info": {
   "codemirror_mode": {
    "name": "ipython",
    "version": 3
   },
   "file_extension": ".py",
   "mimetype": "text/x-python",
   "name": "python",
   "nbconvert_exporter": "python",
   "pygments_lexer": "ipython3",
   "version": "3.6.8"
  }
 },
 "nbformat": 4,
 "nbformat_minor": 5
}
