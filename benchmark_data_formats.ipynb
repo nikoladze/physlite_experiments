{
 "cells": [
  {
   "cell_type": "code",
   "execution_count": 70,
   "id": "specialized-proposal",
   "metadata": {},
   "outputs": [],
   "source": [
    "import uproot\n",
    "from deserialization_hacks import tree_arrays\n",
    "import awkward as ak\n",
    "import numpy as np\n",
    "import time\n",
    "import os\n",
    "import h5py\n",
    "from functools import partial\n",
    "import timeit"
   ]
  },
  {
   "cell_type": "code",
   "execution_count": 2,
   "id": "economic-preliminary",
   "metadata": {},
   "outputs": [],
   "source": [
    "def filter_branch(branch):\n",
    "        k = branch.name\n",
    "\n",
    "        if not \"Aux\" in k:\n",
    "            return False\n",
    "\n",
    "        # the following don't contain data (in split files)\n",
    "        if k.endswith(\".\"):\n",
    "            return False\n",
    "        if \"SG::\" in k:\n",
    "            return False\n",
    "        if k.endswith(\"Base\"):\n",
    "            return False\n",
    "\n",
    "        # are often empty\n",
    "        # see https://github.com/scikit-hep/uproot4/issues/126\n",
    "        # -> now fixed, but my custom deserialization does not work yet with them\n",
    "        if \"DescrTags\" in k:\n",
    "            return False\n",
    "        \n",
    "        return True"
   ]
  },
  {
   "cell_type": "code",
   "execution_count": 40,
   "id": "hazardous-consolidation",
   "metadata": {},
   "outputs": [],
   "source": [
    "def regroup(array_dict):\n",
    "    regrouped = {}\n",
    "    for k_top in set(k.split(\".\")[0] for k in array_dict):\n",
    "        if k_top == \"EventInfoAux\":\n",
    "            # skip that for now - let's use EventInfoAuxDyn\n",
    "            continue\n",
    "        if k_top == \"EventInfoAuxDyn\":\n",
    "            k_top = \"EventInfoAux\"\n",
    "        # zip will put together jagged arrays with common offsets\n",
    "        def ak_zip(depth_limit=2):\n",
    "            return ak.zip(\n",
    "                {k.replace(k_top, \"\")[1:] : array_dict[k] for k in array_dict if k_top in k},\n",
    "                depth_limit=depth_limit\n",
    "            )\n",
    "        # for some containers this will work 2 levels, for some only up to 1\n",
    "        try:\n",
    "            v = ak_zip(depth_limit=2)\n",
    "        except ValueError:\n",
    "            v = ak_zip(depth_limit=1)\n",
    "        regrouped[k_top.replace(\"AuxDyn\", \"\").replace(\"Aux\", \"\")] = v\n",
    "    # lets restructure such that we get TrigMatchedObjets.<trigger-name>\n",
    "    # instead of AnalysisHLT_<trigger_name>.TrigMatchedObjects\n",
    "    trig_matched_objects = ak.zip(\n",
    "        {\n",
    "            k.replace(\"AnalysisHLT_\", \"\") : regrouped[k].TrigMatchedObjects\n",
    "            for k in regrouped if \"AnalysisHLT\" in k\n",
    "        },\n",
    "        depth_limit=1\n",
    "    )\n",
    "    for k in list(regrouped.keys()):\n",
    "        if \"AnalysisHLT\" in k:\n",
    "            regrouped.pop(k)\n",
    "    regrouped[\"TrigMatchedObjects\"] = trig_matched_objects\n",
    "    return ak.zip(regrouped, depth_limit=1)"
   ]
  },
  {
   "cell_type": "code",
   "execution_count": 19,
   "id": "essential-valuable",
   "metadata": {},
   "outputs": [],
   "source": [
    "rootfile = \"user.nihartma.22884623.EXT0._000001.DAOD_PHYSLITE.test.pool.root\"\n",
    "rootfile_large_baskets = \"/home/nikolai/code/AODCompressedFileCreation/run/DAOD_PHYSLITE.zlib_lvl5_basket1073741824_flush10000_split99__AOD.14795494._005958/DAOD_PHYSLITE.DAOD_PHYSLITE.zlib_lvl5_basket1073741824_flush10000_split99__AOD.14795494._005958.pool.root\""
   ]
  },
  {
   "cell_type": "code",
   "execution_count": 20,
   "id": "alive-insurance",
   "metadata": {},
   "outputs": [
    {
     "name": "stdout",
     "output_type": "stream",
     "text": [
      "CPU times: user 6.85 s, sys: 25.9 ms, total: 6.87 s\n",
      "Wall time: 6.88 s\n"
     ]
    }
   ],
   "source": [
    "%%time\n",
    "# file from user.nihartma.physlite_test_ttbar_split99.001_EXT0\n",
    "f = uproot.open(rootfile)\n",
    "tree = f[\"CollectionTree\"]\n",
    "array_dict = tree_arrays(tree, filter_branch=filter_branch)"
   ]
  },
  {
   "cell_type": "code",
   "execution_count": 21,
   "id": "anticipated-syracuse",
   "metadata": {},
   "outputs": [],
   "source": [
    "events = ak.zip(array_dict, depth_limit=1)"
   ]
  },
  {
   "cell_type": "code",
   "execution_count": 42,
   "id": "brief-robert",
   "metadata": {},
   "outputs": [],
   "source": [
    "events_regrouped = regroup(array_dict)"
   ]
  },
  {
   "cell_type": "code",
   "execution_count": 57,
   "id": "respiratory-border",
   "metadata": {},
   "outputs": [],
   "source": [
    "ak.to_parquet(events, \"events_benchmark.parquet\")"
   ]
  },
  {
   "cell_type": "code",
   "execution_count": 58,
   "id": "beginning-directory",
   "metadata": {},
   "outputs": [],
   "source": [
    "ak.to_parquet(events_regrouped, \"events_benchmark_regrouped.parquet\")"
   ]
  },
  {
   "cell_type": "code",
   "execution_count": 59,
   "id": "sunset-faculty",
   "metadata": {},
   "outputs": [],
   "source": [
    "def write_hdf(filename, events, compression=\"lzf\"):\n",
    "    form, length, container = ak.to_buffers(events)\n",
    "    with h5py.File(filename, \"w\") as file:\n",
    "        group = file.create_group(\"awkward\")\n",
    "        for k in container:\n",
    "            v = container[k]\n",
    "            group.create_dataset(k, shape=v.shape, dtype=v.dtype, data=v, compression=compression)\n",
    "        group.attrs[\"form\"] = form.tojson()\n",
    "        group.attrs[\"length\"] = length"
   ]
  },
  {
   "cell_type": "code",
   "execution_count": 60,
   "id": "northern-terrorist",
   "metadata": {},
   "outputs": [],
   "source": [
    "write_hdf(\"events_benchmark_lzf.h5\", events, compression=\"lzf\")"
   ]
  },
  {
   "cell_type": "code",
   "execution_count": 61,
   "id": "jewish-taste",
   "metadata": {},
   "outputs": [],
   "source": [
    "write_hdf(\"events_benchmark_lzf_regrouped.h5\", events_regrouped, compression=\"lzf\")"
   ]
  },
  {
   "cell_type": "code",
   "execution_count": 62,
   "id": "impaired-pharmacy",
   "metadata": {},
   "outputs": [],
   "source": [
    "write_hdf(\"events_benchmark_gzip.h5\", events, compression=\"gzip\")"
   ]
  },
  {
   "cell_type": "code",
   "execution_count": 63,
   "id": "critical-russell",
   "metadata": {},
   "outputs": [],
   "source": [
    "write_hdf(\"events_benchmark_gzip_regrouped.h5\", events_regrouped, compression=\"gzip\")"
   ]
  },
  {
   "cell_type": "code",
   "execution_count": 97,
   "id": "divided-pride",
   "metadata": {},
   "outputs": [],
   "source": [
    "def write_npz(filename, events):\n",
    "    form, length, container = ak.to_buffers(events)\n",
    "    npz_container = dict(container, form=np.array(form.tojson()), length=np.array(length))\n",
    "    np.savez_compressed(filename, **npz_container)"
   ]
  },
  {
   "cell_type": "code",
   "execution_count": 98,
   "id": "pleased-charge",
   "metadata": {},
   "outputs": [],
   "source": [
    "write_npz(\"events_benchmark.npz\", events)"
   ]
  },
  {
   "cell_type": "code",
   "execution_count": 100,
   "id": "removable-hobby",
   "metadata": {},
   "outputs": [],
   "source": [
    "write_npz(\"events_benchmark_regrouped.npz\", events_regrouped)"
   ]
  },
  {
   "cell_type": "code",
   "execution_count": 64,
   "id": "modern-tampa",
   "metadata": {},
   "outputs": [],
   "source": [
    "def benchmark_root(rootfile):\n",
    "    f = uproot.open(rootfile)\n",
    "    tree = f[\"CollectionTree\"]\n",
    "    array_dict = tree_arrays(tree, filter_branch=filter_branch)"
   ]
  },
  {
   "cell_type": "code",
   "execution_count": 65,
   "id": "beginning-trigger",
   "metadata": {},
   "outputs": [],
   "source": [
    "def benchmark_parquet(filename):\n",
    "    return ak.from_parquet(filename)"
   ]
  },
  {
   "cell_type": "code",
   "execution_count": 66,
   "id": "whole-passion",
   "metadata": {},
   "outputs": [],
   "source": [
    "def benchmark_hdf(filename):\n",
    "    with h5py.File(filename, \"r\") as file:\n",
    "        group = file[\"awkward\"]\n",
    "        reconstituted = ak.from_buffers(\n",
    "            ak.forms.Form.fromjson(group.attrs[\"form\"]),\n",
    "            group.attrs[\"length\"],\n",
    "            {k: np.asarray(v) for k, v in group.items()},\n",
    "        )"
   ]
  },
  {
   "cell_type": "code",
   "execution_count": 123,
   "id": "closing-arbitration",
   "metadata": {},
   "outputs": [],
   "source": [
    "def benchmark_npz(filename):\n",
    "    with np.load(filename) as npf:\n",
    "        container = dict(npf.items())\n",
    "        form = ak.forms.Form.fromjson(str(container.pop(\"form\")))\n",
    "        length = int(container.pop(\"length\"))\n",
    "        return ak.from_buffers(\n",
    "            form,\n",
    "            length,\n",
    "            container\n",
    "        )"
   ]
  },
  {
   "cell_type": "code",
   "execution_count": 77,
   "id": "living-huntington",
   "metadata": {},
   "outputs": [
    {
     "data": {
      "text/plain": [
       "1121"
      ]
     },
     "execution_count": 77,
     "metadata": {},
     "output_type": "execute_result"
    }
   ],
   "source": [
    "len(events.fields)"
   ]
  },
  {
   "cell_type": "code",
   "execution_count": 71,
   "id": "analyzed-finding",
   "metadata": {},
   "outputs": [
    {
     "data": {
      "text/plain": [
       "0.569578504000674"
      ]
     },
     "execution_count": 71,
     "metadata": {},
     "output_type": "execute_result"
    }
   ],
   "source": [
    "min(timeit.Timer(partial(benchmark_parquet, \"events_benchmark.parquet\")).repeat(number=1, repeat=5))"
   ]
  },
  {
   "cell_type": "code",
   "execution_count": 72,
   "id": "considered-dryer",
   "metadata": {},
   "outputs": [
    {
     "data": {
      "text/plain": [
       "0.5887951499971678"
      ]
     },
     "execution_count": 72,
     "metadata": {},
     "output_type": "execute_result"
    }
   ],
   "source": [
    "min(timeit.Timer(partial(benchmark_parquet, \"events_benchmark_regrouped.parquet\")).repeat(number=1, repeat=5))"
   ]
  },
  {
   "cell_type": "code",
   "execution_count": 73,
   "id": "running-university",
   "metadata": {},
   "outputs": [
    {
     "data": {
      "text/plain": [
       "1.9937425289972452"
      ]
     },
     "execution_count": 73,
     "metadata": {},
     "output_type": "execute_result"
    }
   ],
   "source": [
    "min(timeit.Timer(partial(benchmark_hdf, \"events_benchmark_gzip.h5\")).repeat(number=1, repeat=5))"
   ]
  },
  {
   "cell_type": "code",
   "execution_count": 74,
   "id": "stunning-shield",
   "metadata": {},
   "outputs": [
    {
     "data": {
      "text/plain": [
       "1.5731718110037036"
      ]
     },
     "execution_count": 74,
     "metadata": {},
     "output_type": "execute_result"
    }
   ],
   "source": [
    "min(timeit.Timer(partial(benchmark_hdf, \"events_benchmark_gzip_regrouped.h5\")).repeat(number=1, repeat=5))"
   ]
  },
  {
   "cell_type": "code",
   "execution_count": 75,
   "id": "residential-latest",
   "metadata": {},
   "outputs": [
    {
     "data": {
      "text/plain": [
       "1.4563617479943787"
      ]
     },
     "execution_count": 75,
     "metadata": {},
     "output_type": "execute_result"
    }
   ],
   "source": [
    "min(timeit.Timer(partial(benchmark_hdf, \"events_benchmark_lzf.h5\")).repeat(number=1, repeat=5))"
   ]
  },
  {
   "cell_type": "code",
   "execution_count": 76,
   "id": "pediatric-entry",
   "metadata": {},
   "outputs": [
    {
     "data": {
      "text/plain": [
       "1.091762331998325"
      ]
     },
     "execution_count": 76,
     "metadata": {},
     "output_type": "execute_result"
    }
   ],
   "source": [
    "min(timeit.Timer(partial(benchmark_hdf, \"events_benchmark_lzf_regrouped.h5\")).repeat(number=1, repeat=5))"
   ]
  },
  {
   "cell_type": "code",
   "execution_count": 126,
   "id": "serial-concentration",
   "metadata": {},
   "outputs": [
    {
     "data": {
      "text/plain": [
       "1.9842722680041334"
      ]
     },
     "execution_count": 126,
     "metadata": {},
     "output_type": "execute_result"
    }
   ],
   "source": [
    "min(timeit.Timer(partial(benchmark_npz, \"events_benchmark.npz\")).repeat(number=1, repeat=5))"
   ]
  },
  {
   "cell_type": "code",
   "execution_count": 127,
   "id": "assumed-jewelry",
   "metadata": {},
   "outputs": [
    {
     "data": {
      "text/plain": [
       "1.5383685880005942"
      ]
     },
     "execution_count": 127,
     "metadata": {},
     "output_type": "execute_result"
    }
   ],
   "source": [
    "min(timeit.Timer(partial(benchmark_npz, \"events_benchmark_regrouped.npz\")).repeat(number=1, repeat=5))"
   ]
  },
  {
   "cell_type": "code",
   "execution_count": 78,
   "id": "smooth-prediction",
   "metadata": {},
   "outputs": [
    {
     "data": {
      "text/plain": [
       "6.026773760997457"
      ]
     },
     "execution_count": 78,
     "metadata": {},
     "output_type": "execute_result"
    }
   ],
   "source": [
    "min(timeit.Timer(partial(benchmark_root, rootfile)).repeat(number=1, repeat=5))"
   ]
  },
  {
   "cell_type": "code",
   "execution_count": 79,
   "id": "ecological-modern",
   "metadata": {},
   "outputs": [
    {
     "data": {
      "text/plain": [
       "4.355107371004124"
      ]
     },
     "execution_count": 79,
     "metadata": {},
     "output_type": "execute_result"
    }
   ],
   "source": [
    "min(timeit.Timer(partial(benchmark_root, rootfile_large_baskets)).repeat(number=1, repeat=5))"
   ]
  },
  {
   "cell_type": "code",
   "execution_count": 128,
   "id": "manufactured-values",
   "metadata": {},
   "outputs": [
    {
     "name": "stdout",
     "output_type": "stream",
     "text": [
      "-rw-r--r-- 1 nikolai nikolai 101M Jan 26 17:31 events_benchmark_gzip.h5\r\n",
      "-rw-r--r-- 1 nikolai nikolai  89M Jan 26 17:31 events_benchmark_gzip_regrouped.h5\r\n",
      "-rw-r--r-- 1 nikolai nikolai 137M Jan 26 17:31 events_benchmark_lzf.h5\r\n",
      "-rw-r--r-- 1 nikolai nikolai 113M Jan 26 17:31 events_benchmark_lzf_regrouped.h5\r\n",
      "-rw-r--r-- 1 nikolai nikolai  92M Jan 26 17:51 events_benchmark.npz\r\n",
      "-rw-r--r-- 1 nikolai nikolai 121M Jan 26 17:31 events_benchmark.parquet\r\n",
      "-rw-r--r-- 1 nikolai nikolai  82M Jan 26 17:52 events_benchmark_regrouped.npz\r\n",
      "-rw-r--r-- 1 nikolai nikolai 118M Jan 26 17:31 events_benchmark_regrouped.parquet\r\n"
     ]
    }
   ],
   "source": [
    "!ls -lah events_benchmark*"
   ]
  }
 ],
 "metadata": {
  "kernelspec": {
   "display_name": "Python 3",
   "language": "python",
   "name": "python3"
  },
  "language_info": {
   "codemirror_mode": {
    "name": "ipython",
    "version": 3
   },
   "file_extension": ".py",
   "mimetype": "text/x-python",
   "name": "python",
   "nbconvert_exporter": "python",
   "pygments_lexer": "ipython3",
   "version": "3.7.9"
  },
  "toc": {
   "base_numbering": 1,
   "nav_menu": {},
   "number_sections": true,
   "sideBar": true,
   "skip_h1_title": false,
   "title_cell": "Table of Contents",
   "title_sidebar": "Contents",
   "toc_cell": false,
   "toc_position": {},
   "toc_section_display": true,
   "toc_window_display": false
  }
 },
 "nbformat": 4,
 "nbformat_minor": 5
}
