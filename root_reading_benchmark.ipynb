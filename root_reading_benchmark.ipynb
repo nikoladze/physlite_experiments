{
 "cells": [
  {
   "cell_type": "code",
   "execution_count": 1,
   "id": "posted-coffee",
   "metadata": {},
   "outputs": [
    {
     "name": "stdout",
     "output_type": "stream",
     "text": [
      "Welcome to JupyROOT 6.22/06\n"
     ]
    }
   ],
   "source": [
    "import ROOT"
   ]
  },
  {
   "cell_type": "code",
   "execution_count": 14,
   "id": "cardiovascular-soccer",
   "metadata": {},
   "outputs": [],
   "source": [
    "filename = \"user.nihartma.22884623.EXT0._000001.DAOD_PHYSLITE.test.pool.root\""
   ]
  },
  {
   "cell_type": "code",
   "execution_count": 15,
   "id": "caroline-document",
   "metadata": {},
   "outputs": [],
   "source": [
    "f = ROOT.TFile.Open(filename)"
   ]
  },
  {
   "cell_type": "code",
   "execution_count": 16,
   "id": "broken-invite",
   "metadata": {},
   "outputs": [],
   "source": [
    "tree = f.Get(\"CollectionTree\")"
   ]
  },
  {
   "cell_type": "code",
   "execution_count": 17,
   "id": "polar-place",
   "metadata": {},
   "outputs": [
    {
     "name": "stdout",
     "output_type": "stream",
     "text": [
      "CPU times: user 406 ms, sys: 6.36 ms, total: 413 ms\n",
      "Wall time: 411 ms\n"
     ]
    },
    {
     "data": {
      "text/plain": [
       "2407226"
      ]
     },
     "execution_count": 17,
     "metadata": {},
     "output_type": "execute_result"
    }
   ],
   "source": [
    "%%time\n",
    "tree.Draw(\"AnalysisJetsAuxDyn.NumTrkPt500\", \"1\", \"goff\")"
   ]
  },
  {
   "cell_type": "code",
   "execution_count": 18,
   "id": "deadly-vertical",
   "metadata": {},
   "outputs": [],
   "source": [
    "import time"
   ]
  },
  {
   "cell_type": "code",
   "execution_count": 19,
   "id": "concerned-jacket",
   "metadata": {},
   "outputs": [],
   "source": [
    "def run_root(filename, branchname, is_element_link=False):\n",
    "    f = ROOT.TFile.Open(filename)\n",
    "    tree = f.Get(\"CollectionTree\")\n",
    "    start = time.time()\n",
    "    if not is_element_link:\n",
    "        tree.Draw(branchname, \"1\", \"goff\")\n",
    "    else:\n",
    "        tree.Draw(f\"{branchname}.m_persKey\", \"1\", \"goff\")\n",
    "        tree.Draw(f\"{branchname}.m_persIndex\", \"1\", \"goff\")\n",
    "    duration = time.time() - start\n",
    "    f.Close()\n",
    "    return duration"
   ]
  },
  {
   "cell_type": "code",
   "execution_count": 27,
   "id": "fixed-immunology",
   "metadata": {},
   "outputs": [
    {
     "data": {
      "text/plain": [
       "0.3998422622680664"
      ]
     },
     "execution_count": 27,
     "metadata": {},
     "output_type": "execute_result"
    }
   ],
   "source": [
    "run_root(filename, \"AnalysisJetsAuxDyn.NumTrkPt500\")"
   ]
  },
  {
   "cell_type": "code",
   "execution_count": 34,
   "id": "ranging-christmas",
   "metadata": {},
   "outputs": [
    {
     "data": {
      "text/plain": [
       "0.06280255317687988"
      ]
     },
     "execution_count": 34,
     "metadata": {},
     "output_type": "execute_result"
    }
   ],
   "source": [
    "run_root(filename, \"AnalysisElectronsAuxDyn.trackParticleLinks\", is_element_link=True)"
   ]
  },
  {
   "cell_type": "code",
   "execution_count": 53,
   "id": "encouraging-degree",
   "metadata": {},
   "outputs": [
    {
     "data": {
      "text/plain": [
       "0.14270758628845215"
      ]
     },
     "execution_count": 53,
     "metadata": {},
     "output_type": "execute_result"
    },
    {
     "name": "stderr",
     "output_type": "stream",
     "text": [
      "Warning in <TSelectorDraw::ProcessFillObject>: Not implemented for vector<vector<unsigned long> >\n",
      "Warning in <TTreePlayer::DrawSelect>: The selected TTree subset is empty.\n"
     ]
    }
   ],
   "source": [
    "run_root(filename, \"METAssoc_AnalysisMETAux.overlapIndices\")"
   ]
  },
  {
   "cell_type": "code",
   "execution_count": 54,
   "id": "native-brave",
   "metadata": {},
   "outputs": [
    {
     "name": "stderr",
     "output_type": "stream",
     "text": [
      "Warning in <TSelectorDraw::ProcessFillObject>: Not implemented for vector<vector<unsigned long> >\n",
      "Warning in <TTreePlayer::DrawSelect>: The selected TTree subset is empty.\n",
      "Warning in <TSelectorDraw::ProcessFillObject>: Not implemented for vector<vector<unsigned long> >\n",
      "Warning in <TTreePlayer::DrawSelect>: The selected TTree subset is empty.\n"
     ]
    }
   ],
   "source": [
    "times = {}\n",
    "for branchname in [\n",
    "    \"AnalysisJetsAuxDyn.NumTrkPt500\",\n",
    "    \"AnalysisElectronsAuxDyn.trackParticleLinks\",\n",
    "    \"METAssoc_AnalysisMETAux.overlapIndices\"\n",
    "]:\n",
    "    is_element_link = \"Links\" in branchname\n",
    "    # run first time to put into page cache\n",
    "    run_root(filename, branchname, is_element_link=is_element_link)\n",
    "    # run second time\n",
    "    times[branchname] = run_root(filename, branchname, is_element_link=is_element_link)"
   ]
  },
  {
   "cell_type": "code",
   "execution_count": 55,
   "id": "professional-laundry",
   "metadata": {},
   "outputs": [
    {
     "data": {
      "text/plain": [
       "{'AnalysisJetsAuxDyn.NumTrkPt500': 0.3917219638824463,\n",
       " 'AnalysisElectronsAuxDyn.trackParticleLinks': 0.055877685546875,\n",
       " 'METAssoc_AnalysisMETAux.overlapIndices': 0.13502907752990723}"
      ]
     },
     "execution_count": 55,
     "metadata": {},
     "output_type": "execute_result"
    }
   ],
   "source": [
    "times"
   ]
  },
  {
   "cell_type": "code",
   "execution_count": 56,
   "id": "dominican-vatican",
   "metadata": {},
   "outputs": [],
   "source": [
    "import json"
   ]
  },
  {
   "cell_type": "code",
   "execution_count": 62,
   "id": "equal-letters",
   "metadata": {},
   "outputs": [],
   "source": [
    "with open(\"root_reading_benchmark.json\", \"w\") as of:\n",
    "    json.dump(times, of)"
   ]
  }
 ],
 "metadata": {
  "kernelspec": {
   "display_name": "Python 3",
   "language": "python",
   "name": "python3"
  },
  "language_info": {
   "codemirror_mode": {
    "name": "ipython",
    "version": 3
   },
   "file_extension": ".py",
   "mimetype": "text/x-python",
   "name": "python",
   "nbconvert_exporter": "python",
   "pygments_lexer": "ipython3",
   "version": "3.7.9"
  },
  "toc": {
   "base_numbering": 1,
   "nav_menu": {},
   "number_sections": true,
   "sideBar": true,
   "skip_h1_title": false,
   "title_cell": "Table of Contents",
   "title_sidebar": "Contents",
   "toc_cell": false,
   "toc_position": {},
   "toc_section_display": true,
   "toc_window_display": false
  }
 },
 "nbformat": 4,
 "nbformat_minor": 5
}
