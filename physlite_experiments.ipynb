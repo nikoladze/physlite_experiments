{
 "cells": [
  {
   "cell_type": "code",
   "execution_count": 1,
   "metadata": {},
   "outputs": [],
   "source": [
    "import uproot\n",
    "from deserialization_hacks import tree_arrays\n",
    "import awkward as ak\n",
    "import numpy as np\n",
    "import time\n",
    "import os"
   ]
  },
  {
   "cell_type": "markdown",
   "metadata": {},
   "source": [
    "# Read branches"
   ]
  },
  {
   "cell_type": "code",
   "execution_count": 2,
   "metadata": {},
   "outputs": [],
   "source": [
    "def filter_branch(branch):\n",
    "        k = branch.name\n",
    "\n",
    "        if not \"Aux\" in k:\n",
    "            return False\n",
    "\n",
    "        # the following don't contain data (in split files)\n",
    "        if k.endswith(\".\"):\n",
    "            return False\n",
    "        if \"SG::\" in k:\n",
    "            return False\n",
    "        if k.endswith(\"Base\"):\n",
    "            return False\n",
    "\n",
    "        # are often empty\n",
    "        # see https://github.com/scikit-hep/uproot4/issues/126\n",
    "        # -> now fixed, but my custom deserialization does not work yet with them\n",
    "        if \"DescrTags\" in k:\n",
    "            return False\n",
    "        \n",
    "        return True"
   ]
  },
  {
   "cell_type": "code",
   "execution_count": 3,
   "metadata": {},
   "outputs": [
    {
     "name": "stdout",
     "output_type": "stream",
     "text": [
      "CPU times: user 6.74 s, sys: 1.11 s, total: 7.85 s\n",
      "Wall time: 6.84 s\n"
     ]
    }
   ],
   "source": [
    "%%time\n",
    "# file from user.nihartma.physlite_test_ttbar_split99.001_EXT0\n",
    "f = uproot.open(\"user.nihartma.22884623.EXT0._000001.DAOD_PHYSLITE.test.pool.root\")\n",
    "tree = f[\"CollectionTree\"]\n",
    "array_dict = tree_arrays(tree, filter_branch=filter_branch)"
   ]
  },
  {
   "cell_type": "code",
   "execution_count": 4,
   "metadata": {},
   "outputs": [
    {
     "data": {
      "text/plain": [
       "1121"
      ]
     },
     "execution_count": 4,
     "metadata": {},
     "output_type": "execute_result"
    }
   ],
   "source": [
    "len(array_dict)"
   ]
  },
  {
   "cell_type": "markdown",
   "metadata": {},
   "source": [
    "What did we miss (assuming fully split Aux branches)?"
   ]
  },
  {
   "cell_type": "code",
   "execution_count": 5,
   "metadata": {},
   "outputs": [
    {
     "data": {
      "text/plain": [
       "{'EventInfoAux.detDescrTags.first', 'EventInfoAux.detDescrTags.second'}"
      ]
     },
     "execution_count": 5,
     "metadata": {},
     "output_type": "execute_result"
    }
   ],
   "source": [
    "all_aux = [\n",
    "    k.split(\"/\")[-1] for k in tree.keys(\"/(.*Aux\\..+|.*AuxDyn\\..+)/i\")\n",
    "    if not \"xAOD::\" in k\n",
    "    and len(tree[k].branches) == 0\n",
    "]\n",
    "set(all_aux).difference(array_dict.keys())"
   ]
  },
  {
   "cell_type": "markdown",
   "metadata": {},
   "source": [
    "# Build an nicer structure\n",
    "\n",
    "We can also structure this much nicer and remove duplicated indices (e.g. all electron properties share the same offsets) - the naming conventions help us:"
   ]
  },
  {
   "cell_type": "code",
   "execution_count": 6,
   "metadata": {},
   "outputs": [],
   "source": [
    "def regroup(array_dict):\n",
    "    regrouped = {}\n",
    "    for k_top in set(k.split(\".\")[0] for k in array_dict):\n",
    "        if k_top == \"EventInfoAux\":\n",
    "            # skip that for now - let's use EventInfoAuxDyn\n",
    "            continue\n",
    "        if k_top == \"EventInfoAuxDyn\":\n",
    "            k_top = \"EventInfoAux\"\n",
    "        # zip will put together jagged arrays with common offsets\n",
    "        def ak_zip(depth_limit=2):\n",
    "            return ak.zip(\n",
    "                {k.replace(k_top, \"\")[1:] : array_dict[k] for k in array_dict if k_top in k},\n",
    "                depth_limit=depth_limit\n",
    "            )\n",
    "        # for some containers this will work 2 levels, for some only up to 1\n",
    "        try:\n",
    "            v = ak_zip(depth_limit=2)\n",
    "        except ValueError:\n",
    "            v = ak_zip(depth_limit=1)\n",
    "        regrouped[k_top.replace(\"AuxDyn\", \"\").replace(\"Aux\", \"\")] = v\n",
    "    # lets restructure such that we get TrigMatchedObjets.<trigger-name>\n",
    "    # instead of AnalysisHLT_<trigger_name>.TrigMatchedObjects\n",
    "    trig_matched_objects = ak.zip(\n",
    "        {\n",
    "            k.replace(\"AnalysisHLT_\", \"\") : regrouped[k].TrigMatchedObjects\n",
    "            for k in regrouped if \"AnalysisHLT\" in k\n",
    "        },\n",
    "        depth_limit=1\n",
    "    )\n",
    "    for k in list(regrouped.keys()):\n",
    "        if \"AnalysisHLT\" in k:\n",
    "            regrouped.pop(k)\n",
    "    regrouped[\"TrigMatchedObjects\"] = trig_matched_objects\n",
    "    return ak.zip(regrouped, depth_limit=1)"
   ]
  },
  {
   "cell_type": "code",
   "execution_count": 7,
   "metadata": {},
   "outputs": [],
   "source": [
    "Events = regroup(array_dict)"
   ]
  },
  {
   "cell_type": "code",
   "execution_count": 8,
   "metadata": {},
   "outputs": [
    {
     "data": {
      "text/plain": [
       "<Array [[], [3.37e+03], ... [6.27e+03]] type='10000 * var * float32'>"
      ]
     },
     "execution_count": 8,
     "metadata": {},
     "output_type": "execute_result"
    }
   ],
   "source": [
    "Events.AnalysisElectrons.pt"
   ]
  },
  {
   "cell_type": "code",
   "execution_count": 9,
   "metadata": {},
   "outputs": [
    {
     "data": {
      "text/plain": [
       "<Array [[], [-0.861], ... [-1.21], [-0.238]] type='10000 * var * float32'>"
      ]
     },
     "execution_count": 9,
     "metadata": {},
     "output_type": "execute_result"
    }
   ],
   "source": [
    "Events.AnalysisElectrons.eta"
   ]
  },
  {
   "cell_type": "markdown",
   "metadata": {},
   "source": [
    "The total in-memory size got a bit smaller due to the removed duplicated indices"
   ]
  },
  {
   "cell_type": "code",
   "execution_count": 10,
   "metadata": {},
   "outputs": [
    {
     "data": {
      "text/plain": [
       "322.89591217041016"
      ]
     },
     "execution_count": 10,
     "metadata": {},
     "output_type": "execute_result"
    }
   ],
   "source": [
    "Events.nbytes / (1024 ** 2)"
   ]
  },
  {
   "cell_type": "code",
   "execution_count": 11,
   "metadata": {},
   "outputs": [
    {
     "data": {
      "text/plain": [
       "404.93270111083984"
      ]
     },
     "execution_count": 11,
     "metadata": {},
     "output_type": "execute_result"
    }
   ],
   "source": [
    "ak.Array(array_dict).nbytes / (1024 ** 2)"
   ]
  },
  {
   "cell_type": "markdown",
   "metadata": {},
   "source": [
    "# Write to parquet\n",
    "Since `pyarrow>=2` we can write such a structure directly to parquet."
   ]
  },
  {
   "cell_type": "code",
   "execution_count": 12,
   "metadata": {},
   "outputs": [],
   "source": [
    "ak.to_parquet(Events, \"physlite.parquet\")"
   ]
  },
  {
   "cell_type": "markdown",
   "metadata": {},
   "source": [
    "this gives us already in the default settings a fast readable format with about the same size that these branches originally took on disk. The reason why it is larger could be that the default compression in parquet is a bit less disk size efficient and more optimized for fast reading."
   ]
  },
  {
   "cell_type": "code",
   "execution_count": 13,
   "metadata": {},
   "outputs": [
    {
     "data": {
      "text/plain": [
       "112.91625881195068"
      ]
     },
     "execution_count": 13,
     "metadata": {},
     "output_type": "execute_result"
    }
   ],
   "source": [
    "os.stat(\"physlite.parquet\").st_size / (1024 ** 2)"
   ]
  },
  {
   "cell_type": "code",
   "execution_count": 14,
   "metadata": {},
   "outputs": [
    {
     "data": {
      "text/plain": [
       "117.29965114593506"
      ]
     },
     "execution_count": 14,
     "metadata": {},
     "output_type": "execute_result"
    }
   ],
   "source": [
    "sum([tree[k].compressed_bytes for k in array_dict]) / (1024 ** 2)"
   ]
  },
  {
   "cell_type": "code",
   "execution_count": 15,
   "metadata": {},
   "outputs": [
    {
     "name": "stdout",
     "output_type": "stream",
     "text": [
      "643 ms ± 53.6 ms per loop (mean ± std. dev. of 7 runs, 1 loop each)\n"
     ]
    }
   ],
   "source": [
    "%%timeit\n",
    "ak.from_parquet(\"physlite.parquet\")"
   ]
  },
  {
   "cell_type": "markdown",
   "metadata": {},
   "source": [
    "We can also be read this as a lazy array, such that branches are only read on demand."
   ]
  },
  {
   "cell_type": "code",
   "execution_count": 16,
   "metadata": {},
   "outputs": [
    {
     "name": "stdout",
     "output_type": "stream",
     "text": [
      "CPU times: user 40.1 ms, sys: 3.38 ms, total: 43.5 ms\n",
      "Wall time: 40.6 ms\n"
     ]
    }
   ],
   "source": [
    "%%time\n",
    "lazy_parquet = ak.from_parquet(\"physlite.parquet\", lazy=True)"
   ]
  },
  {
   "cell_type": "code",
   "execution_count": 17,
   "metadata": {},
   "outputs": [
    {
     "data": {
      "text/plain": [
       "<Array [[1.07e+05], [], ... [], [1.26e+05]] type='10000 * option[var * ??float32]'>"
      ]
     },
     "execution_count": 17,
     "metadata": {},
     "output_type": "execute_result"
    }
   ],
   "source": [
    "lazy_parquet.AnalysisMuons.pt"
   ]
  },
  {
   "cell_type": "markdown",
   "metadata": {},
   "source": [
    "However, it seems it has read the full Muon container."
   ]
  },
  {
   "cell_type": "code",
   "execution_count": 18,
   "metadata": {},
   "outputs": [
    {
     "data": {
      "text/plain": [
       "({'ak.from_parquet:0.AnalysisMuons[0]': <UnmaskedArray>\n",
       "     <content><ListOffsetArray32>\n",
       "         <offsets><Index32 i=\"[0 1 1 1 1 ... 5302 5302 5302 5302 5303]\" offset=\"0\" length=\"10001\" at=\"0x7f030daf2e40\"/></offsets>\n",
       "         <content><UnmaskedArray>\n",
       "             <content><RecordArray>\n",
       "                 <field index=\"0\" key=\"pt\">\n",
       "                     <BitMaskedArray valid_when=\"true\" length=\"5303\" lsb_order=\"true\">\n",
       "                         <mask><IndexU8 i=\"[255 255 255 255 255 ... 255 255 255 255 127]\" offset=\"0\" length=\"663\" at=\"0x7f0367c5b300\"/></mask>\n",
       "                         <content><NumpyArray format=\"f\" shape=\"5303\" data=\"106870 25507.7 47097 74740.1 9129.62 ... 119823 60685.7 64930.9 37034.6 125925\" at=\"0x7f0322310c40\"/></content>\n",
       "                     </BitMaskedArray>\n",
       "                 </field>\n",
       "                 <field index=\"1\" key=\"eta\">\n",
       "                     <BitMaskedArray valid_when=\"true\" length=\"5303\" lsb_order=\"true\">\n",
       "                         <mask><IndexU8 i=\"[255 255 255 255 255 ... 255 255 255 255 127]\" offset=\"0\" length=\"663\" at=\"0x7f0367c5b600\"/></mask>\n",
       "                         <content><NumpyArray format=\"f\" shape=\"5303\" data=\"0.652286 0.897655 0.569624 2.36832 -1.13145 ... -1.31889 1.46943 2.02104 -0.572567 0.488913\" at=\"0x7f0322328140\"/></content>\n",
       "                     </BitMaskedArray>\n",
       "                 </field>\n",
       "                 <field index=\"2\" key=\"phi\">\n",
       "                     <BitMaskedArray valid_when=\"true\" length=\"5303\" lsb_order=\"true\">\n",
       "                         <mask><IndexU8 i=\"[255 255 255 255 255 ... 255 255 255 255 127]\" offset=\"0\" length=\"663\" at=\"0x7f0367c5b900\"/></mask>\n",
       "                         <content><NumpyArray format=\"f\" shape=\"5303\" data=\"2.36186 -0.50342 0.264118 -3.13028 0.760216 ... 3.00436 -1.16617 1.26321 1.72975 3.04575\" at=\"0x7f03223ba1c0\"/></content>\n",
       "                     </BitMaskedArray>\n",
       "                 </field>\n",
       "                 <field index=\"3\" key=\"charge\">\n",
       "                     <BitMaskedArray valid_when=\"true\" length=\"5303\" lsb_order=\"true\">\n",
       "                         <mask><IndexU8 i=\"[255 255 255 255 255 ... 255 255 255 255 127]\" offset=\"0\" length=\"663\" at=\"0x7f0367c5bf00\"/></mask>\n",
       "                         <content><NumpyArray format=\"f\" shape=\"5303\" data=\"1 1 1 1 -1 ... 1 -1 -1 1 -1\" at=\"0x7f03223d2080\"/></content>\n",
       "                     </BitMaskedArray>\n",
       "                 </field>\n",
       "                 <field index=\"4\" key=\"ptvarcone30_TightTTVA_pt1000\">\n",
       "                     <BitMaskedArray valid_when=\"true\" length=\"5303\" lsb_order=\"true\">\n",
       "                         <mask><IndexU8 i=\"[255 255 255 255 255 ... 255 255 255 255 127]\" offset=\"0\" length=\"663\" at=\"0x7f0367c5c200\"/></mask>\n",
       "                         <content><NumpyArray format=\"f\" shape=\"5303\" data=\"0 2834.31 0 0 16357.5 ... 0 0 0 9909.04 0\" at=\"0x7f03201fec40\"/></content>\n",
       "                     </BitMaskedArray>\n",
       "                 </field>\n",
       "                 <field index=\"5\" key=\"ptcone20_TightTTVA_pt1000\">\n",
       "                     <BitMaskedArray valid_when=\"true\" length=\"5303\" lsb_order=\"true\">\n",
       "                         <mask><IndexU8 i=\"[255 255 255 255 255 ... 255 255 255 255 127]\" offset=\"0\" length=\"663\" at=\"0x7f0367c5c500\"/></mask>\n",
       "                         <content><NumpyArray format=\"f\" shape=\"5303\" data=\"0 0 0 0 16357.5 ... 0 0 0 8566.47 0\" at=\"0x7f032027ee40\"/></content>\n",
       "                     </BitMaskedArray>\n",
       "                 </field>\n",
       "                 <field index=\"6\" key=\"ptvarcone30_TightTTVA_pt500\">\n",
       "                     <BitMaskedArray valid_when=\"true\" length=\"5303\" lsb_order=\"true\">\n",
       "                         <mask><IndexU8 i=\"[255 255 255 255 255 ... 255 255 255 255 127]\" offset=\"0\" length=\"663\" at=\"0x7f0367c5c800\"/></mask>\n",
       "                         <content><NumpyArray format=\"f\" shape=\"5303\" data=\"0 2834.31 511.744 0 17741.4 ... 0 0 0 10764.7 0\" at=\"0x7f0320296280\"/></content>\n",
       "                     </BitMaskedArray>\n",
       "                 </field>\n",
       "                 <field index=\"7\" key=\"ptcone20_TightTTVA_pt500\">\n",
       "                     <BitMaskedArray valid_when=\"true\" length=\"5303\" lsb_order=\"true\">\n",
       "                         <mask><IndexU8 i=\"[255 255 255 255 255 ... 255 255 255 255 127]\" offset=\"0\" length=\"663\" at=\"0x7f0367c5cb00\"/></mask>\n",
       "                         <content><NumpyArray format=\"f\" shape=\"5303\" data=\"0 0 511.744 0 17741.4 ... 0 0 0 9422.16 0\" at=\"0x7f03202bfcc0\"/></content>\n",
       "                     </BitMaskedArray>\n",
       "                 </field>\n",
       "                 <field index=\"8\" key=\"topoetcone20\">\n",
       "                     <BitMaskedArray valid_when=\"true\" length=\"5303\" lsb_order=\"true\">\n",
       "                         <mask><IndexU8 i=\"[255 255 255 255 255 ... 255 255 255 255 127]\" offset=\"0\" length=\"663\" at=\"0x7f0367c5ce00\"/></mask>\n",
       "                         <content><NumpyArray format=\"f\" shape=\"5303\" data=\"-361.544 -1249.34 3954.55 -86.4053 10201.6 ... 1550.81 -1385.25 2033.95 7747.79 4739.3\" at=\"0x7f031aab4f00\"/></content>\n",
       "                     </BitMaskedArray>\n",
       "                 </field>\n",
       "                 <field index=\"9\" key=\"ptvarcone20\">\n",
       "                     <BitMaskedArray valid_when=\"true\" length=\"5303\" lsb_order=\"true\">\n",
       "                         <mask><IndexU8 i=\"[255 255 255 255 255 ... 255 255 255 255 127]\" offset=\"0\" length=\"663\" at=\"0x7f0367c5d100\"/></mask>\n",
       "                         <content><NumpyArray format=\"f\" shape=\"5303\" data=\"0 0 0 0 16357.5 ... 0 1541.63 0 8566.47 0\" at=\"0x7f031aacc080\"/></content>\n",
       "                     </BitMaskedArray>\n",
       "                 </field>\n",
       "                 <field index=\"10\" key=\"ptvarcone30\">\n",
       "                     <BitMaskedArray valid_when=\"true\" length=\"5303\" lsb_order=\"true\">\n",
       "                         <mask><IndexU8 i=\"[255 255 255 255 255 ... 255 255 255 255 127]\" offset=\"0\" length=\"663\" at=\"0x7f0367c5d400\"/></mask>\n",
       "                         <content><NumpyArray format=\"f\" shape=\"5303\" data=\"0 2834.31 0 0 16357.5 ... 0 1541.63 0 9909.04 0\" at=\"0x7f031aaf5a40\"/></content>\n",
       "                     </BitMaskedArray>\n",
       "                 </field>\n",
       "                 <field index=\"11\" key=\"topoetcone40\">\n",
       "                     <BitMaskedArray valid_when=\"true\" length=\"5303\" lsb_order=\"true\">\n",
       "                         <mask><IndexU8 i=\"[255 255 255 255 255 ... 255 255 255 255 127]\" offset=\"0\" length=\"663\" at=\"0x7f0367c5d700\"/></mask>\n",
       "                         <content><NumpyArray format=\"f\" shape=\"5303\" data=\"3819 -3674.78 1129.81 -78.6227 11859.7 ... -72.9202 -4480.29 5076.47 6287.12 3806.9\" at=\"0x7f031acd4940\"/></content>\n",
       "                     </BitMaskedArray>\n",
       "                 </field>\n",
       "                 <field index=\"12\" key=\"EnergyLoss\">\n",
       "                     <BitMaskedArray valid_when=\"true\" length=\"5303\" lsb_order=\"true\">\n",
       "                         <mask><IndexU8 i=\"[255 255 255 255 255 ... 255 255 255 255 127]\" offset=\"0\" length=\"663\" at=\"0x7f0367c5da00\"/></mask>\n",
       "                         <content><NumpyArray format=\"f\" shape=\"5303\" data=\"3591.68 3066.02 3514.21 27421.9 4091.53 ... 5501.14 3533.82 4807.51 3441.77 3714.02\" at=\"0x7f031acec2c0\"/></content>\n",
       "                     </BitMaskedArray>\n",
       "                 </field>\n",
       "                 <field index=\"13\" key=\"numberOfPrecisionLayers\">\n",
       "                     <UnmaskedArray>\n",
       "                         <content><NumpyArray format=\"B\" shape=\"5303\" data=\"3 3 3 3 3 ... 3 4 3 3 3\" at=\"0x7f030ebd9800\"/></content>\n",
       "                     </UnmaskedArray>\n",
       "                 </field>\n",
       "                 <field index=\"14\" key=\"numberOfPrecisionHoleLayers\">\n",
       "                     <UnmaskedArray>\n",
       "                         <content><NumpyArray format=\"B\" shape=\"5303\" data=\"0 0 0 0 0 ... 0 0 0 0 0\" at=\"0x7f030ebd8000\"/></content>\n",
       "                     </UnmaskedArray>\n",
       "                 </field>\n",
       "                 <field index=\"15\" key=\"truthOrigin\">\n",
       "                     <BitMaskedArray valid_when=\"true\" length=\"5303\" lsb_order=\"true\">\n",
       "                         <mask><IndexU8 i=\"[255 255 255 255 255 ... 255 255 255 255 127]\" offset=\"0\" length=\"663\" at=\"0x7f0367c5dd00\"/></mask>\n",
       "                         <content><NumpyArray format=\"i\" shape=\"5303\" data=\"10 10 10 10 25 ... 10 10 10 26 10\" at=\"0x7f0315792280\"/></content>\n",
       "                     </BitMaskedArray>\n",
       "                 </field>\n",
       "                 <field index=\"16\" key=\"truthParticleLink.m_persKey\">\n",
       "                     <BitMaskedArray valid_when=\"true\" length=\"5303\" lsb_order=\"true\">\n",
       "                         <mask><IndexU8 i=\"[255 255 255 255 255 ... 255 255 255 255 127]\" offset=\"0\" length=\"663\" at=\"0x7f0367b9d000\"/></mask>\n",
       "                         <content><NumpyArray format=\"l\" shape=\"5303\" data=\"980790191 980790191 980790191 980790191 980790191 ... 980790191 980790191 980790191 980790191 980790191\" at=\"0x7f03157bb600\"/></content>\n",
       "                     </BitMaskedArray>\n",
       "                 </field>\n",
       "                 <field index=\"17\" key=\"truthParticleLink.m_persIndex\">\n",
       "                     <BitMaskedArray valid_when=\"true\" length=\"5303\" lsb_order=\"true\">\n",
       "                         <mask><IndexU8 i=\"[255 255 255 255 255 ... 255 255 255 255 127]\" offset=\"0\" length=\"663\" at=\"0x7f0367b9d300\"/></mask>\n",
       "                         <content><NumpyArray format=\"l\" shape=\"5303\" data=\"0 0 0 0 2 ... 0 0 0 0 0\" at=\"0x7f03157eaa00\"/></content>\n",
       "                     </BitMaskedArray>\n",
       "                 </field>\n",
       "                 <field index=\"18\" key=\"truthType\">\n",
       "                     <BitMaskedArray valid_when=\"true\" length=\"5303\" lsb_order=\"true\">\n",
       "                         <mask><IndexU8 i=\"[255 255 255 255 255 ... 255 255 255 255 127]\" offset=\"0\" length=\"663\" at=\"0x7f0367b9d600\"/></mask>\n",
       "                         <content><NumpyArray format=\"i\" shape=\"5303\" data=\"6 6 6 6 7 ... 6 6 6 7 6\" at=\"0x7f0315819440\"/></content>\n",
       "                     </BitMaskedArray>\n",
       "                 </field>\n",
       "                 <field index=\"19\" key=\"allAuthors\">\n",
       "                     <UnmaskedArray>\n",
       "                         <content><NumpyArray format=\"H\" shape=\"5303\" data=\"342 342 342 342 86 ... 342 342 342 342 342\" at=\"0x7f035ad5b000\"/></content>\n",
       "                     </UnmaskedArray>\n",
       "                 </field>\n",
       "                 <field index=\"20\" key=\"author\">\n",
       "                     <UnmaskedArray>\n",
       "                         <content><NumpyArray format=\"H\" shape=\"5303\" data=\"1 1 1 1 1 ... 1 1 1 1 1\" at=\"0x7f03230be000\"/></content>\n",
       "                     </UnmaskedArray>\n",
       "                 </field>\n",
       "                 <field index=\"21\" key=\"muonType\">\n",
       "                     <UnmaskedArray>\n",
       "                         <content><NumpyArray format=\"H\" shape=\"5303\" data=\"0 0 0 0 0 ... 0 0 0 0 0\" at=\"0x7f036a7e6000\"/></content>\n",
       "                     </UnmaskedArray>\n",
       "                 </field>\n",
       "                 <field index=\"22\" key=\"quality\">\n",
       "                     <UnmaskedArray>\n",
       "                         <content><NumpyArray format=\"B\" shape=\"5303\" data=\"8 8 8 8 8 ... 8 8 8 8 8\" at=\"0x7f0367d62800\"/></content>\n",
       "                     </UnmaskedArray>\n",
       "                 </field>\n",
       "                 <field index=\"23\" key=\"energyLossType\">\n",
       "                     <UnmaskedArray>\n",
       "                         <content><NumpyArray format=\"B\" shape=\"5303\" data=\"1 1 0 3 1 ... 1 0 0 1 0\" at=\"0x7f030eac3800\"/></content>\n",
       "                     </UnmaskedArray>\n",
       "                 </field>\n",
       "                 <field index=\"24\" key=\"innerSmallHits\">\n",
       "                     <UnmaskedArray>\n",
       "                         <content><NumpyArray format=\"B\" shape=\"5303\" data=\"0 9 8 0 0 ... 0 9 4 0 0\" at=\"0x7f0358082800\"/></content>\n",
       "                     </UnmaskedArray>\n",
       "                 </field>\n",
       "                 <field index=\"25\" key=\"innerLargeHits\">\n",
       "                     <UnmaskedArray>\n",
       "                         <content><NumpyArray format=\"B\" shape=\"5303\" data=\"5 0 8 4 9 ... 8 0 0 8 8\" at=\"0x7f0323dc7000\"/></content>\n",
       "                     </UnmaskedArray>\n",
       "                 </field>\n",
       "                 <field index=\"26\" key=\"middleSmallHits\">\n",
       "                     <UnmaskedArray>\n",
       "                         <content><NumpyArray format=\"B\" shape=\"5303\" data=\"0 10 6 0 0 ... 0 7 4 0 0\" at=\"0x7f0323dc8800\"/></content>\n",
       "                     </UnmaskedArray>\n",
       "                 </field>\n",
       "                 <field index=\"27\" key=\"middleLargeHits\">\n",
       "                     <UnmaskedArray>\n",
       "                         <content><NumpyArray format=\"B\" shape=\"5303\" data=\"5 0 0 6 6 ... 6 0 0 9 7\" at=\"0x7f0323de9000\"/></content>\n",
       "                     </UnmaskedArray>\n",
       "                 </field>\n",
       "                 <field index=\"28\" key=\"outerSmallHits\">\n",
       "                     <UnmaskedArray>\n",
       "                         <content><NumpyArray format=\"B\" shape=\"5303\" data=\"0 8 10 0 0 ... 0 6 6 0 0\" at=\"0x7f0367d29000\"/></content>\n",
       "                     </UnmaskedArray>\n",
       "                 </field>\n",
       "                 <field index=\"29\" key=\"outerLargeHits\">\n",
       "                     <UnmaskedArray>\n",
       "                         <content><NumpyArray format=\"B\" shape=\"5303\" data=\"6 0 3 6 0 ... 0 0 0 8 5\" at=\"0x7f0323dea800\"/></content>\n",
       "                     </UnmaskedArray>\n",
       "                 </field>\n",
       "                 <field index=\"30\" key=\"extendedSmallHits\">\n",
       "                     <UnmaskedArray>\n",
       "                         <content><NumpyArray format=\"B\" shape=\"5303\" data=\"0 0 0 0 0 ... 0 9 0 0 0\" at=\"0x7f03221ba800\"/></content>\n",
       "                     </UnmaskedArray>\n",
       "                 </field>\n",
       "                 <field index=\"31\" key=\"extendedLargeHits\">\n",
       "                     <UnmaskedArray>\n",
       "                         <content><NumpyArray format=\"B\" shape=\"5303\" data=\"0 0 0 0 4 ... 3 0 0 0 0\" at=\"0x7f0367b98000\"/></content>\n",
       "                     </UnmaskedArray>\n",
       "                 </field>\n",
       "                 <field index=\"32\" key=\"extendedSmallHoles\">\n",
       "                     <UnmaskedArray>\n",
       "                         <content><NumpyArray format=\"B\" shape=\"5303\" data=\"0 0 0 0 0 ... 0 0 0 0 0\" at=\"0x7f0367d61000\"/></content>\n",
       "                     </UnmaskedArray>\n",
       "                 </field>\n",
       "                 <field index=\"33\" key=\"cscUnspoiledEtaHits\">\n",
       "                     <UnmaskedArray>\n",
       "                         <content><NumpyArray format=\"B\" shape=\"5303\" data=\"0 0 0 3 0 ... 0 0 4 0 0\" at=\"0x7f0367b99800\"/></content>\n",
       "                     </UnmaskedArray>\n",
       "                 </field>\n",
       "                 <field index=\"34\" key=\"ptcone20\">\n",
       "                     <BitMaskedArray valid_when=\"true\" length=\"5303\" lsb_order=\"true\">\n",
       "                         <mask><IndexU8 i=\"[255 255 255 255 255 ... 255 255 255 255 127]\" offset=\"0\" length=\"663\" at=\"0x7f0367b9d900\"/></mask>\n",
       "                         <content><NumpyArray format=\"f\" shape=\"5303\" data=\"0 0 0 0 16357.5 ... 2569.73 1541.63 0 8566.47 0\" at=\"0x7f030ff1d2c0\"/></content>\n",
       "                     </BitMaskedArray>\n",
       "                 </field>\n",
       "                 <field index=\"35\" key=\"ptcone30\">\n",
       "                     <BitMaskedArray valid_when=\"true\" length=\"5303\" lsb_order=\"true\">\n",
       "                         <mask><IndexU8 i=\"[255 255 255 255 255 ... 255 255 255 255 127]\" offset=\"0\" length=\"663\" at=\"0x7f0367b9dc00\"/></mask>\n",
       "                         <content><NumpyArray format=\"f\" shape=\"5303\" data=\"0 2834.31 3018.47 0 16357.5 ... 4420.58 1541.63 0 9909.04 0\" at=\"0x7f030ff46740\"/></content>\n",
       "                     </BitMaskedArray>\n",
       "                 </field>\n",
       "                 <field index=\"36\" key=\"ptcone40\">\n",
       "                     <BitMaskedArray valid_when=\"true\" length=\"5303\" lsb_order=\"true\">\n",
       "                         <mask><IndexU8 i=\"[255 255 255 255 255 ... 255 255 255 255 127]\" offset=\"0\" length=\"663\" at=\"0x7f0367b9df00\"/></mask>\n",
       "                         <content><NumpyArray format=\"f\" shape=\"5303\" data=\"0 2834.31 3018.47 0 16357.5 ... 4420.58 2778.53 0 9909.04 0\" at=\"0x7f030ffe86c0\"/></content>\n",
       "                     </BitMaskedArray>\n",
       "                 </field>\n",
       "                 <field index=\"37\" key=\"ptvarcone40\">\n",
       "                     <BitMaskedArray valid_when=\"true\" length=\"5303\" lsb_order=\"true\">\n",
       "                         <mask><IndexU8 i=\"[255 255 255 255 255 ... 255 255 255 255 127]\" offset=\"0\" length=\"663\" at=\"0x7f0367b9e200\"/></mask>\n",
       "                         <content><NumpyArray format=\"f\" shape=\"5303\" data=\"0 2834.31 0 0 16357.5 ... 0 1541.63 0 9909.04 0\" at=\"0x7f0310011a80\"/></content>\n",
       "                     </BitMaskedArray>\n",
       "                 </field>\n",
       "                 <field index=\"38\" key=\"inDetTrackParticleLink.m_persKey\">\n",
       "                     <BitMaskedArray valid_when=\"true\" length=\"5303\" lsb_order=\"true\">\n",
       "                         <mask><IndexU8 i=\"[255 255 255 255 255 ... 255 255 255 255 127]\" offset=\"0\" length=\"663\" at=\"0x7f0367b9e500\"/></mask>\n",
       "                         <content><NumpyArray format=\"l\" shape=\"5303\" data=\"490246363 490246363 490246363 490246363 490246363 ... 490246363 490246363 490246363 490246363 490246363\" at=\"0x7f030d383d80\"/></content>\n",
       "                     </BitMaskedArray>\n",
       "                 </field>\n",
       "                 <field index=\"39\" key=\"inDetTrackParticleLink.m_persIndex\">\n",
       "                     <BitMaskedArray valid_when=\"true\" length=\"5303\" lsb_order=\"true\">\n",
       "                         <mask><IndexU8 i=\"[255 255 255 255 255 ... 255 255 255 255 127]\" offset=\"0\" length=\"663\" at=\"0x7f0367b9e800\"/></mask>\n",
       "                         <content><NumpyArray format=\"l\" shape=\"5303\" data=\"0 2 5 0 4 ... 2 2 0 0 0\" at=\"0x7f030d390980\"/></content>\n",
       "                     </BitMaskedArray>\n",
       "                 </field>\n",
       "                 <field index=\"40\" key=\"muonSpectrometerTrackParticleLink.m_persKey\">\n",
       "                     <BitMaskedArray valid_when=\"true\" length=\"5303\" lsb_order=\"true\">\n",
       "                         <mask><IndexU8 i=\"[255 255 255 255 255 ... 255 255 255 255 127]\" offset=\"0\" length=\"663\" at=\"0x7f0367b9eb00\"/></mask>\n",
       "                         <content><NumpyArray format=\"l\" shape=\"5303\" data=\"965986547 965986547 965986547 965986547 965986547 ... 965986547 965986547 965986547 965986547 965986547\" at=\"0x7f030d3aeac0\"/></content>\n",
       "                     </BitMaskedArray>\n",
       "                 </field>\n",
       "                 <field index=\"41\" key=\"muonSpectrometerTrackParticleLink.m_persIndex\">\n",
       "                     <BitMaskedArray valid_when=\"true\" length=\"5303\" lsb_order=\"true\">\n",
       "                         <mask><IndexU8 i=\"[255 255 255 255 255 ... 255 255 255 255 127]\" offset=\"0\" length=\"663\" at=\"0x7f0367b9ee00\"/></mask>\n",
       "                         <content><NumpyArray format=\"l\" shape=\"5303\" data=\"0 0 0 2 0 ... 0 0 0 0 0\" at=\"0x7f030d3dd840\"/></content>\n",
       "                     </BitMaskedArray>\n",
       "                 </field>\n",
       "                 <field index=\"42\" key=\"extrapolatedMuonSpectrometerTrackParticleLink.m_persKey\">\n",
       "                     <BitMaskedArray valid_when=\"true\" length=\"5303\" lsb_order=\"true\">\n",
       "                         <mask><IndexU8 i=\"[255 255 255 255 255 ... 255 255 255 255 127]\" offset=\"0\" length=\"663\" at=\"0x7f0367b9f100\"/></mask>\n",
       "                         <content><NumpyArray format=\"l\" shape=\"5303\" data=\"350445215 350445215 350445215 350445215 350445215 ... 350445215 350445215 350445215 350445215 350445215\" at=\"0x7f030d484f80\"/></content>\n",
       "                     </BitMaskedArray>\n",
       "                 </field>\n",
       "                 <field index=\"43\" key=\"extrapolatedMuonSpectrometerTrackParticleLink.m_persIndex\">\n",
       "                     <BitMaskedArray valid_when=\"true\" length=\"5303\" lsb_order=\"true\">\n",
       "                         <mask><IndexU8 i=\"[255 255 255 255 255 ... 255 255 255 255 127]\" offset=\"0\" length=\"663\" at=\"0x7f0367b9f400\"/></mask>\n",
       "                         <content><NumpyArray format=\"l\" shape=\"5303\" data=\"1 0 1 0 1 ... 0 0 0 0 0\" at=\"0x7f030d4a2680\"/></content>\n",
       "                     </BitMaskedArray>\n",
       "                 </field>\n",
       "                 <field index=\"44\" key=\"combinedTrackParticleLink.m_persKey\">\n",
       "                     <BitMaskedArray valid_when=\"true\" length=\"5303\" lsb_order=\"true\">\n",
       "                         <mask><IndexU8 i=\"[255 255 255 255 255 ... 255 255 255 255 127]\" offset=\"0\" length=\"663\" at=\"0x7f0367b9f700\"/></mask>\n",
       "                         <content><NumpyArray format=\"l\" shape=\"5303\" data=\"873304470 873304470 873304470 873304470 873304470 ... 873304470 873304470 873304470 873304470 873304470\" at=\"0x7f030d4d1040\"/></content>\n",
       "                     </BitMaskedArray>\n",
       "                 </field>\n",
       "                 <field index=\"45\" key=\"combinedTrackParticleLink.m_persIndex\">\n",
       "                     <BitMaskedArray valid_when=\"true\" length=\"5303\" lsb_order=\"true\">\n",
       "                         <mask><IndexU8 i=\"[255 255 255 255 255 ... 255 255 255 255 127]\" offset=\"0\" length=\"663\" at=\"0x7f0367b9fa00\"/></mask>\n",
       "                         <content><NumpyArray format=\"l\" shape=\"5303\" data=\"1 0 1 0 1 ... 0 0 0 0 0\" at=\"0x7f030d500140\"/></content>\n",
       "                     </BitMaskedArray>\n",
       "                 </field>\n",
       "                 <field index=\"46\" key=\"scatteringCurvatureSignificance\">\n",
       "                     <BitMaskedArray valid_when=\"true\" length=\"5303\" lsb_order=\"true\">\n",
       "                         <mask><IndexU8 i=\"[255 255 255 255 255 ... 255 255 255 255 127]\" offset=\"0\" length=\"663\" at=\"0x7f0367b9fd00\"/></mask>\n",
       "                         <content><NumpyArray format=\"f\" shape=\"5303\" data=\"0.523897 1.61655 -0.325369 0.875038 -0.281722 ... 0.424814 0.442405 -0.571905 -1.30239 1.01689\" at=\"0x7f030d52f400\"/></content>\n",
       "                     </BitMaskedArray>\n",
       "                 </field>\n",
       "                 <field index=\"47\" key=\"scatteringNeighbourSignificance\">\n",
       "                     <BitMaskedArray valid_when=\"true\" length=\"5303\" lsb_order=\"true\">\n",
       "                         <mask><IndexU8 i=\"[255 255 255 255 255 ... 255 255 255 255 127]\" offset=\"0\" length=\"663\" at=\"0x7f0367c5b000\"/></mask>\n",
       "                         <content><NumpyArray format=\"f\" shape=\"5303\" data=\"0.461375 1.45058 -0.310907 0.575854 -1.12487 ... 0.283038 -0.687584 0.934025 0.931735 1.08649\" at=\"0x7f030d97fb80\"/></content>\n",
       "                     </BitMaskedArray>\n",
       "                 </field>\n",
       "                 <field index=\"48\" key=\"momentumBalanceSignificance\">\n",
       "                     <BitMaskedArray valid_when=\"true\" length=\"5303\" lsb_order=\"true\">\n",
       "                         <mask><IndexU8 i=\"[255 255 255 255 255 ... 255 255 255 255 127]\" offset=\"0\" length=\"663\" at=\"0x7f0367c5bc00\"/></mask>\n",
       "                         <content><NumpyArray format=\"f\" shape=\"5303\" data=\"0.256952 1.65761 0.0928878 0.153033 -0.0255409 ... -0.0085527 -0.0278634 -0.0438241 0.263823 0.479828\" at=\"0x7f030d986a80\"/></content>\n",
       "                     </BitMaskedArray>\n",
       "                 </field>\n",
       "                 <field index=\"49\" key=\"InnerDetectorPt\">\n",
       "                     <BitMaskedArray valid_when=\"true\" length=\"5303\" lsb_order=\"true\">\n",
       "                         <mask><IndexU8 i=\"[255 255 255 255 255 ... 255 255 255 255 127]\" offset=\"0\" length=\"663\" at=\"0x7f0367c35000\"/></mask>\n",
       "                         <content><NumpyArray format=\"f\" shape=\"5303\" data=\"113427 26935.4 47211.3 91964.8 9040.22 ... 119086 60436.7 62842.6 37151.1 144792\" at=\"0x7f030d98dcc0\"/></content>\n",
       "                     </BitMaskedArray>\n",
       "                 </field>\n",
       "                 <field index=\"50\" key=\"MuonSpectrometerPt\">\n",
       "                     <BitMaskedArray valid_when=\"true\" length=\"5303\" lsb_order=\"true\">\n",
       "                         <mask><IndexU8 i=\"[255 255 255 255 255 ... 255 255 255 255 127]\" offset=\"0\" length=\"663\" at=\"0x7f0367c35300\"/></mask>\n",
       "                         <content><NumpyArray format=\"f\" shape=\"5303\" data=\"102198 23916.9 46883.9 72548.1 9400.88 ... 120042 62999.7 66351.2 36765.3 117797\" at=\"0x7f030d9b6700\"/></content>\n",
       "                     </BitMaskedArray>\n",
       "                 </field>\n",
       "                 <field index=\"51\" key=\"combinedTrackOutBoundsPrecisionHits\">\n",
       "                     <UnmaskedArray>\n",
       "                         <content><NumpyArray format=\"B\" shape=\"5303\" data=\"0 0 0 0 0 ... 0 0 0 0 0\" at=\"0x7f03221b9000\"/></content>\n",
       "                     </UnmaskedArray>\n",
       "                 </field>\n",
       "                 <field index=\"52\" key=\"isSmallGoodSectors\">\n",
       "                     <UnmaskedArray>\n",
       "                         <content><NumpyArray format=\"B\" shape=\"5303\" data=\"0 1 1 0 0 ... 0 1 1 0 0\" at=\"0x7f0367d68800\"/></content>\n",
       "                     </UnmaskedArray>\n",
       "                 </field>\n",
       "                 <field index=\"53\" key=\"numberOfGoodPrecisionLayers\">\n",
       "                     <UnmaskedArray>\n",
       "                         <content><NumpyArray format=\"B\" shape=\"5303\" data=\"3 3 3 3 3 ... 3 4 3 3 3\" at=\"0x7f0367ba5000\"/></content>\n",
       "                     </UnmaskedArray>\n",
       "                 </field>\n",
       "                 <field index=\"54\" key=\"topoetcone30\">\n",
       "                     <BitMaskedArray valid_when=\"true\" length=\"5303\" lsb_order=\"true\">\n",
       "                         <mask><IndexU8 i=\"[255 255 255 255 255 ... 255 255 255 255 127]\" offset=\"0\" length=\"663\" at=\"0x7f0367c35600\"/></mask>\n",
       "                         <content><NumpyArray format=\"f\" shape=\"5303\" data=\"6324.88 -3553.88 4109.69 -201.612 10953.4 ... 1054.72 -2257.96 2413.01 7905.14 5694.35\" at=\"0x7f030daa8b00\"/></content>\n",
       "                     </BitMaskedArray>\n",
       "                 </field>\n",
       "                 <field index=\"55\" key=\"DFCommonGoodMuon\">\n",
       "                     <UnmaskedArray>\n",
       "                         <content><NumpyArray format=\"b\" shape=\"5303\" data=\"1 1 1 1 1 ... 1 1 1 1 1\" at=\"0x7f0367d67000\"/></content>\n",
       "                     </UnmaskedArray>\n",
       "                 </field>\n",
       "             </RecordArray></content>\n",
       "         </UnmaskedArray></content>\n",
       "     </ListOffsetArray32></content>\n",
       " </UnmaskedArray>},)"
      ]
     },
     "execution_count": 18,
     "metadata": {},
     "output_type": "execute_result"
    }
   ],
   "source": [
    "lazy_parquet._caches"
   ]
  },
  {
   "cell_type": "markdown",
   "metadata": {},
   "source": [
    "# Write to HDF5 or other formats\n",
    "\n",
    "One can store awkward arrays in basically any data format using `ak.to_buffers` which will separate the underlying 1-d arrays (content and indices for jagged arrays) and a json spec for the structure. See https://awkward-array.org/how-to-convert-buffers.html"
   ]
  },
  {
   "cell_type": "code",
   "execution_count": 19,
   "metadata": {},
   "outputs": [],
   "source": [
    "form, length, container = ak.to_buffers(Events)"
   ]
  },
  {
   "cell_type": "markdown",
   "metadata": {},
   "source": [
    "HDF5 is rather well suited for this since we can put the json form directly into the metadata."
   ]
  },
  {
   "cell_type": "code",
   "execution_count": 20,
   "metadata": {},
   "outputs": [],
   "source": [
    "import h5py"
   ]
  },
  {
   "cell_type": "code",
   "execution_count": 21,
   "metadata": {},
   "outputs": [],
   "source": [
    "with h5py.File(\"physlite.h5\", \"w\") as file:\n",
    "    group = file.create_group(\"awkward\")\n",
    "    for k in container:\n",
    "        v = container[k]\n",
    "        group.create_dataset(k, shape=v.shape, dtype=v.dtype, data=v, compression=\"lzf\")\n",
    "    group.attrs[\"form\"] = form.tojson()\n",
    "    group.attrs[\"length\"] = length"
   ]
  },
  {
   "cell_type": "markdown",
   "metadata": {},
   "source": [
    "This file is quite a bit smaller. That makes sense since the compression can't compress away duplicated indices of different split branches (which we had before in the ROOT file)."
   ]
  },
  {
   "cell_type": "code",
   "execution_count": 22,
   "metadata": {},
   "outputs": [
    {
     "data": {
      "text/plain": [
       "105.9586591720581"
      ]
     },
     "execution_count": 22,
     "metadata": {},
     "output_type": "execute_result"
    }
   ],
   "source": [
    "os.stat(\"physlite.h5\").st_size / (1024 ** 2)"
   ]
  },
  {
   "cell_type": "markdown",
   "metadata": {},
   "source": [
    "Reading is also quite fast, although not as fast as with the parquet file (can be improved by using a faster compression, e.g. \"lzf\" at the cost of larger file size)"
   ]
  },
  {
   "cell_type": "code",
   "execution_count": 23,
   "metadata": {},
   "outputs": [
    {
     "name": "stdout",
     "output_type": "stream",
     "text": [
      "CPU times: user 1.02 s, sys: 82.7 ms, total: 1.1 s\n",
      "Wall time: 1.1 s\n"
     ]
    }
   ],
   "source": [
    "%%time\n",
    "with h5py.File(\"physlite.h5\", \"r\") as file:\n",
    "    group = file[\"awkward\"]\n",
    "    reconstituted = ak.from_buffers(\n",
    "        ak.forms.Form.fromjson(group.attrs[\"form\"]),\n",
    "        group.attrs[\"length\"],\n",
    "        {k: np.asarray(v) for k, v in group.items()},\n",
    "    )"
   ]
  },
  {
   "cell_type": "markdown",
   "metadata": {},
   "source": [
    "Reading only requested columns also works e.g. via \"LazyArrays\"."
   ]
  },
  {
   "cell_type": "code",
   "execution_count": 24,
   "metadata": {},
   "outputs": [],
   "source": [
    "class LazyGet:\n",
    "    def __init__(self, group):\n",
    "        self.group = group\n",
    "    \n",
    "    def __getitem__(self, key):\n",
    "        print(f\"Reading array {key}\")\n",
    "        return np.asarray(self.group[key])"
   ]
  },
  {
   "cell_type": "code",
   "execution_count": 25,
   "metadata": {},
   "outputs": [],
   "source": [
    "file = h5py.File(\"physlite.h5\", \"r\")\n",
    "group = file[\"awkward\"]\n",
    "\n",
    "lazy = ak.from_buffers(\n",
    "    ak.forms.Form.fromjson(group.attrs[\"form\"]),\n",
    "    group.attrs[\"length\"],\n",
    "    LazyGet(group),\n",
    "    lazy=True,\n",
    ")"
   ]
  },
  {
   "cell_type": "code",
   "execution_count": 26,
   "metadata": {},
   "outputs": [
    {
     "name": "stdout",
     "output_type": "stream",
     "text": [
      "Reading array part0-node887-offsets\n",
      "Reading array part0-node893-data\n"
     ]
    },
    {
     "data": {
      "text/plain": [
       "<Array [[], [3.37e+03], ... [6.27e+03]] type='10000 * var * float32'>"
      ]
     },
     "execution_count": 26,
     "metadata": {},
     "output_type": "execute_result"
    }
   ],
   "source": [
    "lazy.AnalysisElectrons.pt"
   ]
  },
  {
   "cell_type": "code",
   "execution_count": 27,
   "metadata": {},
   "outputs": [
    {
     "name": "stdout",
     "output_type": "stream",
     "text": [
      "Reading array part0-node930-data\n",
      "Reading array part0-node909-data\n"
     ]
    },
    {
     "data": {
      "text/plain": [
       "<Array [[{DFCommonElectronsECIDS: 0, ... ] type='4103 * var * {\"DFCommonElectron...'>"
      ]
     },
     "execution_count": 27,
     "metadata": {},
     "output_type": "execute_result"
    }
   ],
   "source": [
    "lazy.AnalysisElectrons[ak.num(lazy.AnalysisElectrons.pt) > 0]"
   ]
  },
  {
   "cell_type": "markdown",
   "metadata": {},
   "source": [
    "One could also use very simple formats like `npz` (would need to store the metadata separately, e.g. in a json file)"
   ]
  },
  {
   "cell_type": "code",
   "execution_count": 28,
   "metadata": {},
   "outputs": [],
   "source": [
    "np.savez_compressed(\"physlite.npz\", **container)"
   ]
  },
  {
   "cell_type": "code",
   "execution_count": 29,
   "metadata": {},
   "outputs": [
    {
     "data": {
      "text/plain": [
       "77.33356857299805"
      ]
     },
     "execution_count": 29,
     "metadata": {},
     "output_type": "execute_result"
    }
   ],
   "source": [
    "os.stat(\"physlite.npz\").st_size / (1024 ** 2)"
   ]
  },
  {
   "cell_type": "code",
   "execution_count": 30,
   "metadata": {},
   "outputs": [
    {
     "name": "stdout",
     "output_type": "stream",
     "text": [
      "CPU times: user 1.44 s, sys: 110 ms, total: 1.55 s\n",
      "Wall time: 1.55 s\n"
     ]
    }
   ],
   "source": [
    "%%time\n",
    "with np.load(\"physlite.npz\") as npf:\n",
    "    reconstituted_np = ak.from_buffers(\n",
    "        form,\n",
    "        length,\n",
    "        {k: v for k, v in npf.items()},\n",
    "    )"
   ]
  },
  {
   "cell_type": "code",
   "execution_count": 31,
   "metadata": {},
   "outputs": [],
   "source": [
    "#file.close() # execute this to close the h5 file"
   ]
  },
  {
   "cell_type": "markdown",
   "metadata": {},
   "source": [
    "# Behaviour and dynamic quantities\n",
    "Working in a bit more object-oriented way can be done with \"behaviours\" (see https://awkward-array.readthedocs.io/en/latest/ak.behavior.html).\n",
    "\n",
    "For example, coffea has LorentzVectors for awkward array (i copied the module here)"
   ]
  },
  {
   "cell_type": "code",
   "execution_count": 32,
   "metadata": {},
   "outputs": [],
   "source": [
    "import coffea_vector as vector\n",
    "ak.behavior.update(vector.behavior)"
   ]
  },
  {
   "cell_type": "markdown",
   "metadata": {},
   "source": [
    "The coffea `PtEtaPhiELorentzVector` calls the mass `mass`, but we call it `m`, so let's override that:"
   ]
  },
  {
   "cell_type": "code",
   "execution_count": 33,
   "metadata": {},
   "outputs": [],
   "source": [
    "@ak.mixin_class(ak.behavior)\n",
    "class xAODParticle(vector.PtEtaPhiELorentzVector):\n",
    "    @property\n",
    "    def mass(self):\n",
    "        return self.m"
   ]
  },
  {
   "cell_type": "markdown",
   "metadata": {},
   "source": [
    "Now, if name our Particles \"xAODParticle\" we can do all the LorentzVector stuff with them:"
   ]
  },
  {
   "cell_type": "code",
   "execution_count": 34,
   "metadata": {},
   "outputs": [],
   "source": [
    "for collection in [\"Electrons\", \"Jets\", \"Photons\", \"Muons\"]:\n",
    "    Events[f\"Analysis{collection}\"].layout.content.setparameter(\"__record__\", \"xAODParticle\")"
   ]
  },
  {
   "cell_type": "code",
   "execution_count": 35,
   "metadata": {},
   "outputs": [
    {
     "data": {
      "text/plain": [
       "<xAODParticleArray [[], ... firstEgMotherPdgId: -11}]] type='10000 * var * xAODP...'>"
      ]
     },
     "execution_count": 35,
     "metadata": {},
     "output_type": "execute_result"
    }
   ],
   "source": [
    "Events.AnalysisElectrons"
   ]
  },
  {
   "cell_type": "code",
   "execution_count": 36,
   "metadata": {},
   "outputs": [
    {
     "data": {
      "text/plain": [
       "<Array [[], [0.104], ... [0.0422], [0.943]] type='10000 * var * ?float32'>"
      ]
     },
     "execution_count": 36,
     "metadata": {},
     "output_type": "execute_result"
    }
   ],
   "source": [
    "Events.AnalysisElectrons.delta_r(Events.AnalysisElectrons.nearest(Events.AnalysisJets))"
   ]
  },
  {
   "cell_type": "markdown",
   "metadata": {},
   "source": [
    "Or something for track Particles:"
   ]
  },
  {
   "cell_type": "code",
   "execution_count": 37,
   "metadata": {},
   "outputs": [],
   "source": [
    "@ak.mixin_class(ak.behavior)\n",
    "class xAODTrackParticle(vector.LorentzVector):\n",
    "    \"see https://gitlab.cern.ch/atlas/athena/-/blob/21.2/Event/xAOD/xAODTracking/Root/TrackParticle_v1.cxx#L82\"\n",
    "    @property\n",
    "    def theta(self):\n",
    "        return self[\"theta\"]\n",
    "    \n",
    "    @property\n",
    "    def phi(self):\n",
    "        return self[\"phi\"]\n",
    "\n",
    "    @property\n",
    "    def p(self):\n",
    "        return 1. / np.abs(self.qOverP)\n",
    "    \n",
    "    @property\n",
    "    def x(self):\n",
    "        return self.p * np.sin(self.theta) * np.cos(self.phi)\n",
    "    \n",
    "    @property\n",
    "    def y(self):\n",
    "        return self.p * np.sin(self.theta) * np.sin(self.phi)\n",
    "\n",
    "    @property\n",
    "    def z(self):\n",
    "        return self.p * np.cos(self.theta)\n",
    "    \n",
    "    @property\n",
    "    def t(self):\n",
    "        return np.sqrt(139.570 ** 2 + sef.x ** 2 + self.y ** 2 + self.z ** 2)    "
   ]
  },
  {
   "cell_type": "code",
   "execution_count": 38,
   "metadata": {},
   "outputs": [],
   "source": [
    "for k in Events.fields:\n",
    "    if not \"TrackParticles\" in k:\n",
    "        continue\n",
    "    Events[k].layout.content.setparameter(\"__record__\", \"xAODTrackParticle\")"
   ]
  },
  {
   "cell_type": "code",
   "execution_count": 39,
   "metadata": {},
   "outputs": [
    {
     "data": {
      "text/plain": [
       "<xAODTrackParticleArray [[{phi: 2.36, ... ] type='10000 * var * xAODTrackParticl...'>"
      ]
     },
     "execution_count": 39,
     "metadata": {},
     "output_type": "execute_result"
    }
   ],
   "source": [
    "Events.InDetTrackParticles"
   ]
  },
  {
   "cell_type": "code",
   "execution_count": 40,
   "metadata": {},
   "outputs": [
    {
     "data": {
      "text/plain": [
       "<Array [[1.11e+05, 1.7e+04, ... 5.57e+03, 739]] type='10000 * var * float32'>"
      ]
     },
     "execution_count": 40,
     "metadata": {},
     "output_type": "execute_result"
    }
   ],
   "source": [
    "Events.InDetTrackParticles.pt"
   ]
  },
  {
   "cell_type": "markdown",
   "metadata": {},
   "source": [
    "# ElementLinks\n",
    "\n",
    "Non-cyclic references can be implemented by just adding new indices and reusing the same contents. E.g let's link Electrons to their track particles:"
   ]
  },
  {
   "cell_type": "code",
   "execution_count": 41,
   "metadata": {},
   "outputs": [],
   "source": [
    "def element_links(collection1, links, collection2):\n",
    "    # Note: For proper handling one should read the\n",
    "    # EventFormat.m_branchNames, EventFormat.m_branchHashes mapping to link to the correct collection\n",
    "    # (possibly use UnionArray)\n",
    "    # Also one could see if there is a better way to replicate the exact structure\n",
    "    # instead of hardcoding\n",
    "    return ak.Array(\n",
    "        ak.layout.ListOffsetArray64(\n",
    "            collection1.layout.offsets,\n",
    "            ak.layout.ListArray64(\n",
    "                links.layout.content.starts,\n",
    "                links.layout.content.stops,\n",
    "                ak.layout.IndexedArray64(\n",
    "                    ak.layout.Index64(\n",
    "                        ak.flatten(\n",
    "                            links.m_persIndex\n",
    "                            + ak.Array(np.array(collection2.layout.offsets[:-1])),\n",
    "                            axis=None\n",
    "                        )\n",
    "                    ),\n",
    "                    collection2.layout.content\n",
    "                )\n",
    "            )\n",
    "        )\n",
    "    )"
   ]
  },
  {
   "cell_type": "code",
   "execution_count": 42,
   "metadata": {},
   "outputs": [],
   "source": [
    "Events[\"AnalysisElectrons\", \"trackParticles\"] = element_links(\n",
    "    Events.AnalysisElectrons,\n",
    "    Events.AnalysisElectrons.trackParticleLinks,\n",
    "    Events.GSFTrackParticles\n",
    ")"
   ]
  },
  {
   "cell_type": "code",
   "execution_count": 43,
   "metadata": {},
   "outputs": [
    {
     "data": {
      "text/plain": [
       "<xAODTrackParticleArray [[], ... chiSquared: 68}]]] type='10000 * var * var * xA...'>"
      ]
     },
     "execution_count": 43,
     "metadata": {},
     "output_type": "execute_result"
    }
   ],
   "source": [
    "Events.AnalysisElectrons.trackParticles"
   ]
  },
  {
   "cell_type": "code",
   "execution_count": 44,
   "metadata": {},
   "outputs": [
    {
     "data": {
      "text/plain": [
       "<Array [[], [4.13e+03], ... [5.68e+03]] type='10000 * var * float32'>"
      ]
     },
     "execution_count": 44,
     "metadata": {},
     "output_type": "execute_result"
    }
   ],
   "source": [
    "# first track particle pt for each electron\n",
    "Events.AnalysisElectrons.trackParticles[:,:,0].pt"
   ]
  }
 ],
 "metadata": {
  "kernelspec": {
   "display_name": "Python 3",
   "language": "python",
   "name": "python3"
  },
  "language_info": {
   "codemirror_mode": {
    "name": "ipython",
    "version": 3
   },
   "file_extension": ".py",
   "mimetype": "text/x-python",
   "name": "python",
   "nbconvert_exporter": "python",
   "pygments_lexer": "ipython3",
   "version": "3.7.0"
  },
  "toc": {
   "base_numbering": 1,
   "nav_menu": {},
   "number_sections": true,
   "sideBar": true,
   "skip_h1_title": false,
   "title_cell": "Table of Contents",
   "title_sidebar": "Contents",
   "toc_cell": false,
   "toc_position": {},
   "toc_section_display": true,
   "toc_window_display": false
  }
 },
 "nbformat": 4,
 "nbformat_minor": 4
}
