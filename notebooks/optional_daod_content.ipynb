{
 "cells": [
  {
   "cell_type": "markdown",
   "id": "harmful-kingston",
   "metadata": {},
   "source": [
    "# Convert a \"friend-tree-like\" augmentation to an optional field"
   ]
  },
  {
   "cell_type": "code",
   "execution_count": 1,
   "id": "gorgeous-paper",
   "metadata": {},
   "outputs": [],
   "source": [
    "import uproot\n",
    "import awkward as ak\n",
    "import numpy as np\n",
    "import io\n",
    "import os\n",
    "import numba as nb\n",
    "from physlite_experiments.utils import zip_physlite, filter_name\n",
    "from physlite_experiments.deserialization_hacks import tree_arrays"
   ]
  },
  {
   "cell_type": "code",
   "execution_count": 2,
   "id": "applicable-exhibit",
   "metadata": {},
   "outputs": [],
   "source": [
    "filename = \"user.nihartma.22884623.EXT0._000001.DAOD_PHYSLITE.test.pool.root\""
   ]
  },
  {
   "cell_type": "code",
   "execution_count": 3,
   "id": "identified-grenada",
   "metadata": {},
   "outputs": [],
   "source": [
    "if os.path.exists(filename):\n",
    "    tree = uproot.open(f\"{filename}:CollectionTree\")\n",
    "else:\n",
    "    data = requests.get(\n",
    "        \"https://lcg-lrz-http.grid.lrz.de:443/pnfs/lrz-muenchen.de/data/atlas/dq2/atlaslocalgroupdisk/rucio/user/nihartma/ce/c4/user.nihartma.22884623.EXT0._000001.DAOD_PHYSLITE.test.pool.root\",\n",
    "        verify=os.environ[\"X509_CERT_DIR\"],\n",
    "        cert=os.environ[\"X509_USER_PROXY\"]\n",
    "    ).content\n",
    "    rootfile = uproot.open(io.BytesIO(data))\n",
    "    tree = rootfile[\"CollectionTree\"]"
   ]
  },
  {
   "cell_type": "code",
   "execution_count": 4,
   "id": "rough-rubber",
   "metadata": {},
   "outputs": [],
   "source": [
    "array_dict = tree_arrays(tree, filter_name=filter_name)"
   ]
  },
  {
   "cell_type": "code",
   "execution_count": 5,
   "id": "substantial-region",
   "metadata": {},
   "outputs": [],
   "source": [
    "events = zip_physlite(array_dict)"
   ]
  },
  {
   "cell_type": "markdown",
   "id": "brown-traffic",
   "metadata": {},
   "source": [
    "Let's assume we would like to store the `egammaClusters` only for events with at least 2 Electrons. To later join this \"friend\", we also have to store the `eventNumber` (potentially this might need to be extended with dsid or runNumber ...). In reality, this might be created from a different file, e.g. from a PHYS file to extend PHYSLITE."
   ]
  },
  {
   "cell_type": "code",
   "execution_count": 6,
   "id": "recreational-peninsula",
   "metadata": {},
   "outputs": [],
   "source": [
    "friend = ak.zip(\n",
    "    {\n",
    "        \"eventNumber\": events[\"EventInfo\", \"eventNumber\"],\n",
    "        \"egammaClusters\": events.egammaClusters\n",
    "    },\n",
    "    depth_limit=1\n",
    ")"
   ]
  },
  {
   "cell_type": "code",
   "execution_count": 7,
   "id": "convertible-water",
   "metadata": {},
   "outputs": [],
   "source": [
    "friend = ak.packed(friend[ak.num(events.Electrons) > 2])"
   ]
  },
  {
   "cell_type": "markdown",
   "id": "documentary-broad",
   "metadata": {},
   "source": [
    "doing so, we can potentially save storage:"
   ]
  },
  {
   "cell_type": "code",
   "execution_count": 8,
   "id": "failing-brunei",
   "metadata": {},
   "outputs": [
    {
     "data": {
      "text/plain": [
       "32924"
      ]
     },
     "execution_count": 8,
     "metadata": {},
     "output_type": "execute_result"
    }
   ],
   "source": [
    "friend.nbytes"
   ]
  },
  {
   "cell_type": "code",
   "execution_count": 9,
   "id": "isolated-candle",
   "metadata": {},
   "outputs": [
    {
     "data": {
      "text/plain": [
       "1239052"
      ]
     },
     "execution_count": 9,
     "metadata": {},
     "output_type": "execute_result"
    }
   ],
   "source": [
    "events.egammaClusters.nbytes"
   ]
  },
  {
   "cell_type": "markdown",
   "id": "legitimate-court",
   "metadata": {},
   "source": [
    "Currently (July 2021), awkward array does not support join operations, but if we assume our friend is still sorted the same way as the original array, we can rather trivially create an index (to be used in an `IndexedOptionArray`) that will join the two arrays. The index will have `-1` for the entries that have been filtered out and a continuously increasing index into the friend otherwise:"
   ]
  },
  {
   "cell_type": "code",
   "execution_count": 10,
   "id": "apparent-soldier",
   "metadata": {},
   "outputs": [],
   "source": [
    "@nb.njit\n",
    "def get_option_index(event_numbers, event_numbers_friend):\n",
    "    out = np.empty(len(event_numbers), dtype=np.int64)\n",
    "    j = 0\n",
    "    for i in range(len(event_numbers)):\n",
    "        if event_numbers_friend[j] == event_numbers[i]: \n",
    "            out[i] = j\n",
    "            j += 1\n",
    "        else:\n",
    "            out[i] = -1\n",
    "    return out"
   ]
  },
  {
   "cell_type": "markdown",
   "id": "possible-burden",
   "metadata": {},
   "source": [
    "TODO: figure out how to do it if we can't assume the event numbers are sorted in the same way."
   ]
  },
  {
   "cell_type": "code",
   "execution_count": 11,
   "id": "atlantic-function",
   "metadata": {},
   "outputs": [],
   "source": [
    "joined_egammaClusters = ak.Array(\n",
    "    ak.layout.IndexedOptionArray64(\n",
    "        ak.layout.Index64(\n",
    "            get_option_index(ak.to_numpy(events.EventInfo.eventNumber), ak.to_numpy(friend.eventNumber))\n",
    "        ),\n",
    "        friend.egammaClusters.layout\n",
    "    )\n",
    ")"
   ]
  },
  {
   "cell_type": "markdown",
   "id": "legendary-testament",
   "metadata": {},
   "source": [
    "This array could then be used as an optional field in the top level array:"
   ]
  },
  {
   "cell_type": "code",
   "execution_count": 12,
   "id": "powered-drunk",
   "metadata": {},
   "outputs": [],
   "source": [
    "augmented_events = ak.with_field(events, joined_egammaClusters, \"egammaClusters\")"
   ]
  },
  {
   "cell_type": "code",
   "execution_count": 13,
   "id": "featured-object",
   "metadata": {},
   "outputs": [
    {
     "data": {
      "text/plain": [
       "<Array [None, None, None, ... None, None, None] type='10000 * option[var * {\"cal...'>"
      ]
     },
     "execution_count": 13,
     "metadata": {},
     "output_type": "execute_result"
    }
   ],
   "source": [
    "augmented_events.egammaClusters"
   ]
  },
  {
   "cell_type": "code",
   "execution_count": 14,
   "id": "caroline-dietary",
   "metadata": {},
   "outputs": [
    {
     "data": {
      "text/plain": [
       "10000 * option[var * {\"calE\": float32, \"calEta\": float32, \"calPhi\": float32, \"e_sampl\": var * float32, \"ETA2CALOFRAME\": float32, \"ETACALOFRAME\": float32, \"PHI2CALOFRAME\": float32, \"PHICALOFRAME\": float32, \"constituentClusterLinks\": var * {\"m_persKey\": int32, \"m_persIndex\": int32}, \"eta_sampl\": var * float32}]"
      ]
     },
     "execution_count": 14,
     "metadata": {},
     "output_type": "execute_result"
    }
   ],
   "source": [
    "augmented_events.egammaClusters.type"
   ]
  },
  {
   "cell_type": "code",
   "execution_count": 15,
   "id": "honey-labor",
   "metadata": {},
   "outputs": [
    {
     "data": {
      "text/plain": [
       "<Array [None, None, None, ... None, None, None] type='10000 * option[var * float32]'>"
      ]
     },
     "execution_count": 15,
     "metadata": {},
     "output_type": "execute_result"
    }
   ],
   "source": [
    "augmented_events.egammaClusters.calE"
   ]
  },
  {
   "cell_type": "code",
   "execution_count": 16,
   "id": "sublime-asbestos",
   "metadata": {},
   "outputs": [
    {
     "data": {
      "text/plain": [
       "<Array [[2.94e+04, 9.96e+03, ... 1.73e+04]] type='44 * option[var * float32]'>"
      ]
     },
     "execution_count": 16,
     "metadata": {},
     "output_type": "execute_result"
    }
   ],
   "source": [
    "augmented_events[ak.num(augmented_events.Electrons) > 2].egammaClusters.calE"
   ]
  },
  {
   "cell_type": "markdown",
   "id": "miniature-briefs",
   "metadata": {},
   "source": [
    "Check if `egammaClusters` are actually filled for all events passing the selection:"
   ]
  },
  {
   "cell_type": "code",
   "execution_count": 17,
   "id": "classified-friendly",
   "metadata": {},
   "outputs": [],
   "source": [
    "assert not ak.any(ak.is_none(augmented_events[ak.num(augmented_events.Electrons) > 2].egammaClusters))"
   ]
  },
  {
   "cell_type": "markdown",
   "id": "packed-assistant",
   "metadata": {},
   "source": [
    "Check if the content for an example field is the same as for the original array:"
   ]
  },
  {
   "cell_type": "code",
   "execution_count": 18,
   "id": "transparent-contamination",
   "metadata": {},
   "outputs": [],
   "source": [
    "assert ak.all(\n",
    "    events[ak.num(events.Electrons) > 2].egammaClusters.calE\n",
    "    == augmented_events[ak.num(augmented_events.Electrons) > 2].egammaClusters.calE\n",
    ")"
   ]
  },
  {
   "cell_type": "markdown",
   "id": "dried-registration",
   "metadata": {},
   "source": [
    "Storing the resulting augmented array will reduce storage most significantly if there are multiple fields. Otherwise one has to check if the extra index needed can be compressed sufficiently well (which it might for tight selections due to many repeated `-1`s).\n",
    "\n",
    "However it seems, we can't store this natively in arrow/parquet (yet?) ..."
   ]
  },
  {
   "cell_type": "code",
   "execution_count": 19,
   "id": "exotic-arlington",
   "metadata": {},
   "outputs": [
    {
     "ename": "ArrowNotImplementedError",
     "evalue": "Lists with non-zero length null components are not supported",
     "output_type": "error",
     "traceback": [
      "\u001b[0;31m---------------------------------------------------------------------------\u001b[0m",
      "\u001b[0;31mArrowNotImplementedError\u001b[0m                  Traceback (most recent call last)",
      "\u001b[0;32m<ipython-input-19-f00ad3d21e7d>\u001b[0m in \u001b[0;36m<module>\u001b[0;34m\u001b[0m\n\u001b[0;32m----> 1\u001b[0;31m \u001b[0mak\u001b[0m\u001b[0;34m.\u001b[0m\u001b[0mto_parquet\u001b[0m\u001b[0;34m(\u001b[0m\u001b[0maugmented_events\u001b[0m\u001b[0;34m,\u001b[0m \u001b[0;34m\"augmented.parquet\"\u001b[0m\u001b[0;34m)\u001b[0m\u001b[0;34m\u001b[0m\u001b[0;34m\u001b[0m\u001b[0m\n\u001b[0m",
      "\u001b[0;32m~/.local/lib/python3.9/site-packages/awkward/operations/convert.py\u001b[0m in \u001b[0;36mto_parquet\u001b[0;34m(array, where, explode_records, list_to32, string_to32, bytestring_to32, **options)\u001b[0m\n\u001b[1;32m   3041\u001b[0m \u001b[0;34m\u001b[0m\u001b[0m\n\u001b[1;32m   3042\u001b[0m     \u001b[0mwriter\u001b[0m \u001b[0;34m=\u001b[0m \u001b[0mpyarrow\u001b[0m\u001b[0;34m.\u001b[0m\u001b[0mparquet\u001b[0m\u001b[0;34m.\u001b[0m\u001b[0mParquetWriter\u001b[0m\u001b[0;34m(\u001b[0m\u001b[0;34m**\u001b[0m\u001b[0moptions\u001b[0m\u001b[0;34m)\u001b[0m\u001b[0;34m\u001b[0m\u001b[0;34m\u001b[0m\u001b[0m\n\u001b[0;32m-> 3043\u001b[0;31m     \u001b[0mwriter\u001b[0m\u001b[0;34m.\u001b[0m\u001b[0mwrite_table\u001b[0m\u001b[0;34m(\u001b[0m\u001b[0mpyarrow\u001b[0m\u001b[0;34m.\u001b[0m\u001b[0mTable\u001b[0m\u001b[0;34m.\u001b[0m\u001b[0mfrom_batches\u001b[0m\u001b[0;34m(\u001b[0m\u001b[0;34m[\u001b[0m\u001b[0mfirst\u001b[0m\u001b[0;34m]\u001b[0m\u001b[0;34m)\u001b[0m\u001b[0;34m)\u001b[0m\u001b[0;34m\u001b[0m\u001b[0;34m\u001b[0m\u001b[0m\n\u001b[0m\u001b[1;32m   3044\u001b[0m \u001b[0;34m\u001b[0m\u001b[0m\n\u001b[1;32m   3045\u001b[0m     \u001b[0;32mtry\u001b[0m\u001b[0;34m:\u001b[0m\u001b[0;34m\u001b[0m\u001b[0;34m\u001b[0m\u001b[0m\n",
      "\u001b[0;32m~/.local/lib/python3.9/site-packages/pyarrow/parquet.py\u001b[0m in \u001b[0;36mwrite_table\u001b[0;34m(self, table, row_group_size)\u001b[0m\n\u001b[1;32m    649\u001b[0m             \u001b[0;32mraise\u001b[0m \u001b[0mValueError\u001b[0m\u001b[0;34m(\u001b[0m\u001b[0mmsg\u001b[0m\u001b[0;34m)\u001b[0m\u001b[0;34m\u001b[0m\u001b[0;34m\u001b[0m\u001b[0m\n\u001b[1;32m    650\u001b[0m \u001b[0;34m\u001b[0m\u001b[0m\n\u001b[0;32m--> 651\u001b[0;31m         \u001b[0mself\u001b[0m\u001b[0;34m.\u001b[0m\u001b[0mwriter\u001b[0m\u001b[0;34m.\u001b[0m\u001b[0mwrite_table\u001b[0m\u001b[0;34m(\u001b[0m\u001b[0mtable\u001b[0m\u001b[0;34m,\u001b[0m \u001b[0mrow_group_size\u001b[0m\u001b[0;34m=\u001b[0m\u001b[0mrow_group_size\u001b[0m\u001b[0;34m)\u001b[0m\u001b[0;34m\u001b[0m\u001b[0;34m\u001b[0m\u001b[0m\n\u001b[0m\u001b[1;32m    652\u001b[0m \u001b[0;34m\u001b[0m\u001b[0m\n\u001b[1;32m    653\u001b[0m     \u001b[0;32mdef\u001b[0m \u001b[0mclose\u001b[0m\u001b[0;34m(\u001b[0m\u001b[0mself\u001b[0m\u001b[0;34m)\u001b[0m\u001b[0;34m:\u001b[0m\u001b[0;34m\u001b[0m\u001b[0;34m\u001b[0m\u001b[0m\n",
      "\u001b[0;32m~/.local/lib/python3.9/site-packages/pyarrow/_parquet.pyx\u001b[0m in \u001b[0;36mpyarrow._parquet.ParquetWriter.write_table\u001b[0;34m()\u001b[0m\n",
      "\u001b[0;32m~/.local/lib/python3.9/site-packages/pyarrow/error.pxi\u001b[0m in \u001b[0;36mpyarrow.lib.check_status\u001b[0;34m()\u001b[0m\n",
      "\u001b[0;31mArrowNotImplementedError\u001b[0m: Lists with non-zero length null components are not supported"
     ]
    }
   ],
   "source": [
    "ak.to_parquet(augmented_events, \"augmented.parquet\")"
   ]
  }
 ],
 "metadata": {
  "kernelspec": {
   "display_name": "Python 3",
   "language": "python",
   "name": "python3"
  },
  "language_info": {
   "codemirror_mode": {
    "name": "ipython",
    "version": 3
   },
   "file_extension": ".py",
   "mimetype": "text/x-python",
   "name": "python",
   "nbconvert_exporter": "python",
   "pygments_lexer": "ipython3",
   "version": "3.9.6"
  },
  "toc": {
   "base_numbering": 1,
   "nav_menu": {},
   "number_sections": true,
   "sideBar": true,
   "skip_h1_title": false,
   "title_cell": "Table of Contents",
   "title_sidebar": "Contents",
   "toc_cell": false,
   "toc_position": {},
   "toc_section_display": true,
   "toc_window_display": false
  }
 },
 "nbformat": 4,
 "nbformat_minor": 5
}
