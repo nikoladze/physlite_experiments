{
 "cells": [
  {
   "cell_type": "markdown",
   "id": "raised-birthday",
   "metadata": {},
   "source": [
    "# Convert a \"friend-tree-like\" augmentation to an optional field"
   ]
  },
  {
   "cell_type": "code",
   "execution_count": 1,
   "id": "rental-double",
   "metadata": {},
   "outputs": [],
   "source": [
    "import uproot\n",
    "import awkward as ak\n",
    "import numpy as np\n",
    "import io\n",
    "import os\n",
    "import numba as nb\n",
    "from physlite_experiments.utils import zip_physlite, filter_name\n",
    "from physlite_experiments.deserialization_hacks import tree_arrays"
   ]
  },
  {
   "cell_type": "code",
   "execution_count": 2,
   "id": "external-sapphire",
   "metadata": {},
   "outputs": [],
   "source": [
    "filename = \"user.nihartma.22884623.EXT0._000001.DAOD_PHYSLITE.test.pool.root\""
   ]
  },
  {
   "cell_type": "code",
   "execution_count": 3,
   "id": "naughty-custody",
   "metadata": {},
   "outputs": [],
   "source": [
    "if os.path.exists(filename):\n",
    "    tree = uproot.open(f\"{filename}:CollectionTree\")\n",
    "else:\n",
    "    data = requests.get(\n",
    "        \"https://lcg-lrz-http.grid.lrz.de:443/pnfs/lrz-muenchen.de/data/atlas/dq2/atlaslocalgroupdisk/rucio/user/nihartma/ce/c4/user.nihartma.22884623.EXT0._000001.DAOD_PHYSLITE.test.pool.root\",\n",
    "        verify=os.environ[\"X509_CERT_DIR\"],\n",
    "        cert=os.environ[\"X509_USER_PROXY\"]\n",
    "    ).content\n",
    "    rootfile = uproot.open(io.BytesIO(data))\n",
    "    tree = rootfile[\"CollectionTree\"]"
   ]
  },
  {
   "cell_type": "code",
   "execution_count": 4,
   "id": "rising-diving",
   "metadata": {},
   "outputs": [],
   "source": [
    "array_dict = tree_arrays(tree, filter_name=filter_name)"
   ]
  },
  {
   "cell_type": "code",
   "execution_count": 5,
   "id": "genetic-precipitation",
   "metadata": {},
   "outputs": [],
   "source": [
    "events = zip_physlite(array_dict)"
   ]
  },
  {
   "cell_type": "markdown",
   "id": "generous-interest",
   "metadata": {},
   "source": [
    "Let's assume we would like to store the `egammaClusters` only for events with at least 2 Electrons. To later join this \"friend\", we also have to store the `eventNumber` (potentially this might need to be extended with dsid or runNumber ...). In reality, this might be created from a different file, e.g. from a PHYS file to extend PHYSLITE."
   ]
  },
  {
   "cell_type": "code",
   "execution_count": 6,
   "id": "clean-toilet",
   "metadata": {},
   "outputs": [],
   "source": [
    "friend = ak.zip(\n",
    "    {\n",
    "        \"eventNumber\": events[\"EventInfo\", \"eventNumber\"],\n",
    "        \"egammaClusters\": events.egammaClusters\n",
    "    },\n",
    "    depth_limit=1\n",
    ")"
   ]
  },
  {
   "cell_type": "code",
   "execution_count": 7,
   "id": "prescription-agent",
   "metadata": {},
   "outputs": [],
   "source": [
    "friend = ak.packed(friend[ak.num(events.Electrons) > 2])"
   ]
  },
  {
   "cell_type": "markdown",
   "id": "russian-macedonia",
   "metadata": {},
   "source": [
    "For fun, let's also shuffle this to see if the join operation later on does the right thing:"
   ]
  },
  {
   "cell_type": "code",
   "execution_count": 8,
   "id": "alike-ontario",
   "metadata": {},
   "outputs": [],
   "source": [
    "friend = ak.packed(friend[np.random.permutation(len(friend))])"
   ]
  },
  {
   "cell_type": "markdown",
   "id": "latin-broadcast",
   "metadata": {},
   "source": [
    "doing so, we can potentially save storage:"
   ]
  },
  {
   "cell_type": "code",
   "execution_count": 9,
   "id": "military-jason",
   "metadata": {},
   "outputs": [
    {
     "data": {
      "text/plain": [
       "32924"
      ]
     },
     "execution_count": 9,
     "metadata": {},
     "output_type": "execute_result"
    }
   ],
   "source": [
    "friend.nbytes"
   ]
  },
  {
   "cell_type": "code",
   "execution_count": 10,
   "id": "married-harvard",
   "metadata": {},
   "outputs": [
    {
     "data": {
      "text/plain": [
       "1239052"
      ]
     },
     "execution_count": 10,
     "metadata": {},
     "output_type": "execute_result"
    }
   ],
   "source": [
    "events.egammaClusters.nbytes"
   ]
  },
  {
   "cell_type": "markdown",
   "id": "informed-cable",
   "metadata": {},
   "source": [
    "Currently (July 2021), awkward array does not support join operations, but we can create an index (to be used in an `IndexedOptionArray`) that will join the two arrays using numba. The index will have `-1` for the entries that have been filtered out and otherwise an index that will join the friend (more or less like SQL \"LEFT OUTER JOIN\")."
   ]
  },
  {
   "cell_type": "code",
   "execution_count": 11,
   "id": "talented-bahrain",
   "metadata": {},
   "outputs": [],
   "source": [
    "@nb.njit\n",
    "def nb_get_option_index(\n",
    "    event_numbers,\n",
    "    argsort_event_numbers,\n",
    "    event_numbers_friend,\n",
    "    argsort_event_numbers_friend,\n",
    "):\n",
    "    out = np.empty(len(event_numbers), dtype=np.int64)\n",
    "    j = 0\n",
    "    for i in range(len(event_numbers)):\n",
    "        if (j < len(event_numbers_friend)) and (\n",
    "            event_numbers_friend[argsort_event_numbers_friend[j]]\n",
    "            == event_numbers[argsort_event_numbers[i]]\n",
    "        ):\n",
    "            out[argsort_event_numbers[i]] = argsort_event_numbers_friend[j]\n",
    "            j += 1\n",
    "        else:\n",
    "            out[argsort_event_numbers[i]] = -1\n",
    "    return out"
   ]
  },
  {
   "cell_type": "code",
   "execution_count": 12,
   "id": "inner-flush",
   "metadata": {},
   "outputs": [],
   "source": [
    "def get_option_index(event_numbers, event_numbers_friend):\n",
    "    return nb_get_option_index(\n",
    "        event_numbers,\n",
    "        np.argsort(event_numbers),\n",
    "        event_numbers_friend,\n",
    "        np.argsort(event_numbers_friend)\n",
    "    )"
   ]
  },
  {
   "cell_type": "code",
   "execution_count": 13,
   "id": "received-journalism",
   "metadata": {},
   "outputs": [],
   "source": [
    "joined_egammaClusters = ak.Array(\n",
    "    ak.layout.IndexedOptionArray64(\n",
    "        ak.layout.Index64(\n",
    "            get_option_index(ak.to_numpy(events.EventInfo.eventNumber), ak.to_numpy(friend.eventNumber))\n",
    "        ),\n",
    "        friend.egammaClusters.layout\n",
    "    )\n",
    ")"
   ]
  },
  {
   "cell_type": "markdown",
   "id": "dense-partner",
   "metadata": {},
   "source": [
    "This array could then be used as an optional field in the top level array:"
   ]
  },
  {
   "cell_type": "code",
   "execution_count": 14,
   "id": "peaceful-husband",
   "metadata": {},
   "outputs": [],
   "source": [
    "augmented_events = ak.with_field(events, joined_egammaClusters, \"egammaClusters\")"
   ]
  },
  {
   "cell_type": "code",
   "execution_count": 15,
   "id": "marked-mount",
   "metadata": {},
   "outputs": [
    {
     "data": {
      "text/plain": [
       "<Array [None, None, None, ... None, None, None] type='10000 * option[var * {\"cal...'>"
      ]
     },
     "execution_count": 15,
     "metadata": {},
     "output_type": "execute_result"
    }
   ],
   "source": [
    "augmented_events.egammaClusters"
   ]
  },
  {
   "cell_type": "code",
   "execution_count": 16,
   "id": "floating-trader",
   "metadata": {},
   "outputs": [
    {
     "data": {
      "text/plain": [
       "10000 * option[var * {\"calE\": float32, \"calEta\": float32, \"calPhi\": float32, \"e_sampl\": var * float32, \"ETA2CALOFRAME\": float32, \"ETACALOFRAME\": float32, \"PHI2CALOFRAME\": float32, \"PHICALOFRAME\": float32, \"constituentClusterLinks\": var * {\"m_persKey\": int32, \"m_persIndex\": int32}, \"eta_sampl\": var * float32}]"
      ]
     },
     "execution_count": 16,
     "metadata": {},
     "output_type": "execute_result"
    }
   ],
   "source": [
    "augmented_events.egammaClusters.type"
   ]
  },
  {
   "cell_type": "code",
   "execution_count": 17,
   "id": "tracked-stamp",
   "metadata": {},
   "outputs": [
    {
     "data": {
      "text/plain": [
       "<Array [None, None, None, ... None, None, None] type='10000 * option[var * float32]'>"
      ]
     },
     "execution_count": 17,
     "metadata": {},
     "output_type": "execute_result"
    }
   ],
   "source": [
    "augmented_events.egammaClusters.calE"
   ]
  },
  {
   "cell_type": "code",
   "execution_count": 18,
   "id": "former-investing",
   "metadata": {},
   "outputs": [
    {
     "data": {
      "text/plain": [
       "<Array [[2.94e+04, 9.96e+03, ... 1.73e+04]] type='44 * option[var * float32]'>"
      ]
     },
     "execution_count": 18,
     "metadata": {},
     "output_type": "execute_result"
    }
   ],
   "source": [
    "augmented_events[ak.num(augmented_events.Electrons) > 2].egammaClusters.calE"
   ]
  },
  {
   "cell_type": "markdown",
   "id": "meaningful-milton",
   "metadata": {},
   "source": [
    "Check if `egammaClusters` are actually filled for all events passing the selection:"
   ]
  },
  {
   "cell_type": "code",
   "execution_count": 19,
   "id": "empty-pierre",
   "metadata": {},
   "outputs": [],
   "source": [
    "assert not ak.any(ak.is_none(augmented_events[ak.num(augmented_events.Electrons) > 2].egammaClusters))"
   ]
  },
  {
   "cell_type": "markdown",
   "id": "logical-seller",
   "metadata": {},
   "source": [
    "Check if the content for an example field is the same as for the original array:"
   ]
  },
  {
   "cell_type": "code",
   "execution_count": 20,
   "id": "collect-proceeding",
   "metadata": {},
   "outputs": [],
   "source": [
    "assert ak.all(\n",
    "    events[ak.num(events.Electrons) > 2].egammaClusters.calE\n",
    "    == augmented_events[ak.num(augmented_events.Electrons) > 2].egammaClusters.calE\n",
    ")"
   ]
  },
  {
   "cell_type": "markdown",
   "id": "adjacent-desire",
   "metadata": {},
   "source": [
    "Storing the resulting augmented array will reduce storage most significantly if there are multiple fields. Otherwise one has to check if the extra index needed can be compressed sufficiently well (which it might for tight selections due to many repeated `-1`s).\n",
    "\n",
    "However it seems, we can't store this natively in arrow/parquet (yet?) ..."
   ]
  },
  {
   "cell_type": "code",
   "execution_count": 21,
   "id": "touched-gross",
   "metadata": {},
   "outputs": [
    {
     "ename": "ArrowNotImplementedError",
     "evalue": "Lists with non-zero length null components are not supported",
     "output_type": "error",
     "traceback": [
      "\u001b[0;31m---------------------------------------------------------------------------\u001b[0m",
      "\u001b[0;31mArrowNotImplementedError\u001b[0m                  Traceback (most recent call last)",
      "\u001b[0;32m<ipython-input-21-f00ad3d21e7d>\u001b[0m in \u001b[0;36m<module>\u001b[0;34m\u001b[0m\n\u001b[0;32m----> 1\u001b[0;31m \u001b[0mak\u001b[0m\u001b[0;34m.\u001b[0m\u001b[0mto_parquet\u001b[0m\u001b[0;34m(\u001b[0m\u001b[0maugmented_events\u001b[0m\u001b[0;34m,\u001b[0m \u001b[0;34m\"augmented.parquet\"\u001b[0m\u001b[0;34m)\u001b[0m\u001b[0;34m\u001b[0m\u001b[0;34m\u001b[0m\u001b[0m\n\u001b[0m",
      "\u001b[0;32m~/.local/lib/python3.9/site-packages/awkward/operations/convert.py\u001b[0m in \u001b[0;36mto_parquet\u001b[0;34m(array, where, explode_records, list_to32, string_to32, bytestring_to32, **options)\u001b[0m\n\u001b[1;32m   3041\u001b[0m \u001b[0;34m\u001b[0m\u001b[0m\n\u001b[1;32m   3042\u001b[0m     \u001b[0mwriter\u001b[0m \u001b[0;34m=\u001b[0m \u001b[0mpyarrow\u001b[0m\u001b[0;34m.\u001b[0m\u001b[0mparquet\u001b[0m\u001b[0;34m.\u001b[0m\u001b[0mParquetWriter\u001b[0m\u001b[0;34m(\u001b[0m\u001b[0;34m**\u001b[0m\u001b[0moptions\u001b[0m\u001b[0;34m)\u001b[0m\u001b[0;34m\u001b[0m\u001b[0;34m\u001b[0m\u001b[0m\n\u001b[0;32m-> 3043\u001b[0;31m     \u001b[0mwriter\u001b[0m\u001b[0;34m.\u001b[0m\u001b[0mwrite_table\u001b[0m\u001b[0;34m(\u001b[0m\u001b[0mpyarrow\u001b[0m\u001b[0;34m.\u001b[0m\u001b[0mTable\u001b[0m\u001b[0;34m.\u001b[0m\u001b[0mfrom_batches\u001b[0m\u001b[0;34m(\u001b[0m\u001b[0;34m[\u001b[0m\u001b[0mfirst\u001b[0m\u001b[0;34m]\u001b[0m\u001b[0;34m)\u001b[0m\u001b[0;34m)\u001b[0m\u001b[0;34m\u001b[0m\u001b[0;34m\u001b[0m\u001b[0m\n\u001b[0m\u001b[1;32m   3044\u001b[0m \u001b[0;34m\u001b[0m\u001b[0m\n\u001b[1;32m   3045\u001b[0m     \u001b[0;32mtry\u001b[0m\u001b[0;34m:\u001b[0m\u001b[0;34m\u001b[0m\u001b[0;34m\u001b[0m\u001b[0m\n",
      "\u001b[0;32m~/.local/lib/python3.9/site-packages/pyarrow/parquet.py\u001b[0m in \u001b[0;36mwrite_table\u001b[0;34m(self, table, row_group_size)\u001b[0m\n\u001b[1;32m    649\u001b[0m             \u001b[0;32mraise\u001b[0m \u001b[0mValueError\u001b[0m\u001b[0;34m(\u001b[0m\u001b[0mmsg\u001b[0m\u001b[0;34m)\u001b[0m\u001b[0;34m\u001b[0m\u001b[0;34m\u001b[0m\u001b[0m\n\u001b[1;32m    650\u001b[0m \u001b[0;34m\u001b[0m\u001b[0m\n\u001b[0;32m--> 651\u001b[0;31m         \u001b[0mself\u001b[0m\u001b[0;34m.\u001b[0m\u001b[0mwriter\u001b[0m\u001b[0;34m.\u001b[0m\u001b[0mwrite_table\u001b[0m\u001b[0;34m(\u001b[0m\u001b[0mtable\u001b[0m\u001b[0;34m,\u001b[0m \u001b[0mrow_group_size\u001b[0m\u001b[0;34m=\u001b[0m\u001b[0mrow_group_size\u001b[0m\u001b[0;34m)\u001b[0m\u001b[0;34m\u001b[0m\u001b[0;34m\u001b[0m\u001b[0m\n\u001b[0m\u001b[1;32m    652\u001b[0m \u001b[0;34m\u001b[0m\u001b[0m\n\u001b[1;32m    653\u001b[0m     \u001b[0;32mdef\u001b[0m \u001b[0mclose\u001b[0m\u001b[0;34m(\u001b[0m\u001b[0mself\u001b[0m\u001b[0;34m)\u001b[0m\u001b[0;34m:\u001b[0m\u001b[0;34m\u001b[0m\u001b[0;34m\u001b[0m\u001b[0m\n",
      "\u001b[0;32m~/.local/lib/python3.9/site-packages/pyarrow/_parquet.pyx\u001b[0m in \u001b[0;36mpyarrow._parquet.ParquetWriter.write_table\u001b[0;34m()\u001b[0m\n",
      "\u001b[0;32m~/.local/lib/python3.9/site-packages/pyarrow/error.pxi\u001b[0m in \u001b[0;36mpyarrow.lib.check_status\u001b[0;34m()\u001b[0m\n",
      "\u001b[0;31mArrowNotImplementedError\u001b[0m: Lists with non-zero length null components are not supported"
     ]
    }
   ],
   "source": [
    "ak.to_parquet(augmented_events, \"augmented.parquet\")"
   ]
  }
 ],
 "metadata": {
  "kernelspec": {
   "display_name": "Python 3",
   "language": "python",
   "name": "python3"
  },
  "language_info": {
   "codemirror_mode": {
    "name": "ipython",
    "version": 3
   },
   "file_extension": ".py",
   "mimetype": "text/x-python",
   "name": "python",
   "nbconvert_exporter": "python",
   "pygments_lexer": "ipython3",
   "version": "3.9.6"
  },
  "toc": {
   "base_numbering": 1,
   "nav_menu": {},
   "number_sections": true,
   "sideBar": true,
   "skip_h1_title": false,
   "title_cell": "Table of Contents",
   "title_sidebar": "Contents",
   "toc_cell": false,
   "toc_position": {},
   "toc_section_display": true,
   "toc_window_display": false
  }
 },
 "nbformat": 4,
 "nbformat_minor": 5
}
