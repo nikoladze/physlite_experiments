{
 "cells": [
  {
   "cell_type": "markdown",
   "id": "civilian-japan",
   "metadata": {},
   "source": [
    "# `coffea.NanoEvents` for PHYSLITE\n",
    "\n",
    "This notebook is a quick demonstration of the `PHYSLITE` schema for [`coffea.NanoEvents`](https://github.com/CoffeaTeam/coffea/tree/master/coffea/nanoevents). `DAOD_PHYSLITE` is a small analysis format for ATLAS.\n",
    "\n",
    "The PHYSLITE schema and the corresponding behavior classes are still under development - [CoffeaTeam/coffea#540](https://github.com/CoffeaTeam/coffea/issues/540) tracks the progress of some TODO items.\n",
    "\n",
    "For more information on `NanoEvents` see the [NanoEvents tutorial](https://github.com/CoffeaTeam/coffea/blob/master/binder/nanoevents.ipynb) or [Nick Smith's presentation](https://youtu.be/udzkE6t4Mck) at the [pyHEP 2020](https://indico.cern.ch/event/882824)."
   ]
  },
  {
   "cell_type": "markdown",
   "id": "exotic-watson",
   "metadata": {},
   "source": [
    "First, download a `DAOD_PHYSLITE` example file"
   ]
  },
  {
   "cell_type": "code",
   "execution_count": 1,
   "id": "focused-dialogue",
   "metadata": {},
   "outputs": [],
   "source": [
    "import urllib\n",
    "import shutil\n",
    "import os\n",
    "import warnings\n",
    "\n",
    "url = \"https://github.com/CoffeaTeam/coffea/blob/6d548538653e7003281a572f8eec5d68ca57b19f/tests/samples/DAOD_PHYSLITE_21.2.108.0.art.pool.root?raw=true\"\n",
    "filename = \"DAOD_PHYSLITE_21.2.108.0.art.pool.root\"\n",
    "\n",
    "if not os.path.exists(filename):\n",
    "    with urllib.request.urlopen(url) as response, open(filename, 'wb') as f:\n",
    "        shutil.copyfileobj(response, f)"
   ]
  },
  {
   "cell_type": "code",
   "execution_count": 2,
   "id": "provincial-server",
   "metadata": {},
   "outputs": [],
   "source": [
    "from coffea.nanoevents import NanoEventsFactory, PHYSLITESchema\n",
    "import awkward as ak"
   ]
  },
  {
   "cell_type": "markdown",
   "id": "ruled-berlin",
   "metadata": {},
   "source": [
    "Until uproot uses `AwkwardForth` to deserialize vector branches, we need to use our custom routines for efficient reading. The following patches the function that extracts a column from a rootfile:"
   ]
  },
  {
   "cell_type": "code",
   "execution_count": 3,
   "id": "quality-surfing",
   "metadata": {},
   "outputs": [],
   "source": [
    "from physlite_experiments.deserialization_hacks import patch_nanoevents\n",
    "patch_nanoevents()"
   ]
  },
  {
   "cell_type": "markdown",
   "id": "paperback-bearing",
   "metadata": {},
   "source": [
    "Let's set the `UprootSourceMapping` into debug mode, such that we can see when new branches are loaded:"
   ]
  },
  {
   "cell_type": "code",
   "execution_count": 4,
   "id": "empty-sheep",
   "metadata": {},
   "outputs": [],
   "source": [
    "from coffea.nanoevents.mapping import UprootSourceMapping\n",
    "UprootSourceMapping._debug = True"
   ]
  },
  {
   "cell_type": "markdown",
   "id": "adopted-jones",
   "metadata": {},
   "source": [
    "Now, create the `NanoEventsFactory` object and get `events`, an awkward array representation of the event structure."
   ]
  },
  {
   "cell_type": "code",
   "execution_count": 5,
   "id": "romantic-lesbian",
   "metadata": {},
   "outputs": [],
   "source": [
    "with warnings.catch_warnings():\n",
    "    # lot's of warnings for unreadable branches, ignore for now\n",
    "    warnings.simplefilter(\"ignore\")\n",
    "    factory = NanoEventsFactory.from_root(filename, \"CollectionTree\", schemaclass=PHYSLITESchema)\n",
    "    events = factory.events()"
   ]
  },
  {
   "cell_type": "code",
   "execution_count": 6,
   "id": "genetic-bikini",
   "metadata": {},
   "outputs": [
    {
     "name": "stdout",
     "output_type": "stream",
     "text": [
      "Gettting: 5a5bf972-b48c-11eb-ae42-0101007fbeef /CollectionTree;1 0 40 ['AntiKt10TruthSoftDropBeta100Zcut10JetsAuxDyn.Tau1_wta', '!load', '!offsets']\n",
      "Gettting: 5a5bf972-b48c-11eb-ae42-0101007fbeef /CollectionTree;1 0 40 ['egammaClustersAuxDyn.calE', '!load', '!offsets']\n"
     ]
    },
    {
     "data": {
      "text/plain": [
       "<NanoEventsArray [...] type='40 * event'>"
      ]
     },
     "execution_count": 6,
     "metadata": {},
     "output_type": "execute_result"
    }
   ],
   "source": [
    "events"
   ]
  },
  {
   "cell_type": "markdown",
   "id": "through-chambers",
   "metadata": {},
   "source": [
    "All collections are accessible as fields of this object:"
   ]
  },
  {
   "cell_type": "code",
   "execution_count": 7,
   "id": "motivated-creator",
   "metadata": {},
   "outputs": [
    {
     "data": {
      "text/plain": [
       "['METAssoc_METAux',\n",
       " 'AntiKt10TruthSoftDropBeta100Zcut10JetsAux',\n",
       " 'AntiKt10UFOCSSKJetsAux',\n",
       " 'AntiKt4TruthDressedWZJetsAux',\n",
       " 'Jets',\n",
       " 'LargeRJets',\n",
       " 'Photons',\n",
       " 'AntiKt10TruthSoftDropBeta100Zcut10Jets',\n",
       " 'AntiKt10UFOCSSKJets',\n",
       " 'AntiKt4TruthDressedWZJets',\n",
       " 'BTagging_AntiKt4EMPFlow_201903',\n",
       " 'BornLeptons',\n",
       " 'CaloCalTopoClusters',\n",
       " 'CombinedMuonTrackParticles',\n",
       " 'ExtrapolatedMuonTrackParticles',\n",
       " 'GSFTrackParticles',\n",
       " 'HardScatterParticles',\n",
       " 'HardScatterVertices',\n",
       " 'InDetTrackParticles',\n",
       " 'MET_Core_MET',\n",
       " 'MET_Truth',\n",
       " 'MuonSpectrometerTrackParticles',\n",
       " 'PrimaryVertices',\n",
       " 'TruthBoson',\n",
       " 'TruthBosonsWithDecayParticles',\n",
       " 'TruthBosonsWithDecayVertices',\n",
       " 'TruthBottom',\n",
       " 'TruthElectrons',\n",
       " 'TruthEvents',\n",
       " 'TruthNeutrinos',\n",
       " 'TruthPhotons',\n",
       " 'TruthPrimaryVertices',\n",
       " 'TruthTaus',\n",
       " 'TruthTop',\n",
       " 'egammaClusters',\n",
       " 'HLT_mu24_iloose',\n",
       " 'HLT_mu24_imedium',\n",
       " 'HLT_mu24_ivarloose',\n",
       " 'HLT_mu24_ivarmedium',\n",
       " 'HLT_mu26_ivarmedium',\n",
       " 'HLT_mu40',\n",
       " 'Muons',\n",
       " 'TruthMuons',\n",
       " 'Electrons',\n",
       " 'HLT_e24_lhtight_nod0_ivarloose',\n",
       " 'HLT_e26_lhloose_nod0',\n",
       " 'HLT_e26_lhloose_nod0_ringer',\n",
       " 'HLT_e26_lhtight_cutd0dphideta_ivarloose',\n",
       " 'HLT_e26_lhtight_nod0',\n",
       " 'HLT_e26_lhtight_nod0_ivarloose',\n",
       " 'HLT_e26_lhtight_nod0_ringer_ivarloose',\n",
       " 'HLT_e28_lhtight_nod0_L1EM22VHI',\n",
       " 'HLT_e28_lhtight_nod0_ivarloose',\n",
       " 'HLT_e28_lhtight_nod0_noringer_ivarloose',\n",
       " 'HLT_e60_lhmedium_nod0',\n",
       " 'HLT_e60_lhmedium_nod0_L1EM24VHI',\n",
       " 'HLT_e60_lhmedium_nod0_ringer',\n",
       " 'HLT_e60_medium',\n",
       " 'HLT_mu50',\n",
       " 'HLT_mu60',\n",
       " 'HLT_mu60_0eta105_msonly',\n",
       " 'TauJets',\n",
       " 'HLT_mu22_mu8noL1_TagandProbe',\n",
       " 'HLT_e17_lhloose_nod0_mu14',\n",
       " 'HLT_e7_lhmedium_nod0_mu24']"
      ]
     },
     "execution_count": 7,
     "metadata": {},
     "output_type": "execute_result"
    }
   ],
   "source": [
    "events.fields"
   ]
  },
  {
   "cell_type": "code",
   "execution_count": 8,
   "id": "consolidated-referral",
   "metadata": {},
   "outputs": [
    {
     "name": "stdout",
     "output_type": "stream",
     "text": [
      "Gettting: 5a5bf972-b48c-11eb-ae42-0101007fbeef /CollectionTree;1 0 40 ['AnalysisElectronsAuxDyn.trackParticleLinks', '!load', '!offsets']\n"
     ]
    },
    {
     "data": {
      "text/plain": [
       "<ElectronArray [[], [], ... Electron], [Electron]] type='40 * var * electron'>"
      ]
     },
     "execution_count": 8,
     "metadata": {},
     "output_type": "execute_result"
    }
   ],
   "source": [
    "events.Electrons"
   ]
  },
  {
   "cell_type": "markdown",
   "id": "western-dividend",
   "metadata": {},
   "source": [
    "All columns from the `Aux` and `AuxDyn` branches are available and grouped under the collections:"
   ]
  },
  {
   "cell_type": "code",
   "execution_count": 9,
   "id": "signal-being",
   "metadata": {},
   "outputs": [
    {
     "data": {
      "text/plain": [
       "['DFCommonElectronsECIDS',\n",
       " 'DFCommonElectronsECIDSResult',\n",
       " 'DFCommonElectronsLHLoose',\n",
       " 'DFCommonElectronsLHLooseBL',\n",
       " 'DFCommonElectronsLHLooseBLIsEMValue',\n",
       " 'DFCommonElectronsLHLooseIsEMValue',\n",
       " 'DFCommonElectronsLHMedium',\n",
       " 'DFCommonElectronsLHMediumIsEMValue',\n",
       " 'DFCommonElectronsLHTight',\n",
       " 'DFCommonElectronsLHTightIsEMValue',\n",
       " 'DFCommonElectronsLHVeryLoose',\n",
       " 'DFCommonElectronsLHVeryLooseIsEMValue',\n",
       " 'OQ',\n",
       " '_eventindex',\n",
       " 'ambiguityLink.m_persIndex',\n",
       " 'ambiguityLink.m_persKey',\n",
       " 'ambiguityType',\n",
       " 'author',\n",
       " 'caloClusterLinks',\n",
       " 'charge',\n",
       " 'eta',\n",
       " 'firstEgMotherPdgId',\n",
       " 'firstEgMotherTruthOrigin',\n",
       " 'firstEgMotherTruthParticleLink.m_persIndex',\n",
       " 'firstEgMotherTruthParticleLink.m_persKey',\n",
       " 'firstEgMotherTruthType',\n",
       " 'm',\n",
       " 'phi',\n",
       " 'pt',\n",
       " 'ptcone20_TightTTVA_pt1000',\n",
       " 'ptcone20_TightTTVA_pt500',\n",
       " 'ptvarcone20',\n",
       " 'ptvarcone20_TightTTVA_pt1000',\n",
       " 'ptvarcone30_TightTTVA_pt1000',\n",
       " 'ptvarcone30_TightTTVA_pt500',\n",
       " 'ptvarcone40',\n",
       " 'topoetcone20',\n",
       " 'topoetcone20ptCorrection',\n",
       " 'trackParticleLinks',\n",
       " 'truthOrigin',\n",
       " 'truthParticleLink.m_persIndex',\n",
       " 'truthParticleLink.m_persKey',\n",
       " 'truthPdgId',\n",
       " 'truthType']"
      ]
     },
     "execution_count": 9,
     "metadata": {},
     "output_type": "execute_result"
    }
   ],
   "source": [
    "events.Electrons.fields"
   ]
  },
  {
   "cell_type": "code",
   "execution_count": 10,
   "id": "spanish-inclusion",
   "metadata": {},
   "outputs": [
    {
     "name": "stdout",
     "output_type": "stream",
     "text": [
      "Gettting: 5a5bf972-b48c-11eb-ae42-0101007fbeef /CollectionTree;1 0 40 ['AnalysisElectronsAuxDyn.pt', '!load', '!content', '!data']\n"
     ]
    },
    {
     "data": {
      "text/plain": [
       "<Array [[], [], ... 3.81e+04], [6.7e+04]] type='40 * var * float32[parameters={\"...'>"
      ]
     },
     "execution_count": 10,
     "metadata": {},
     "output_type": "execute_result"
    }
   ],
   "source": [
    "events.Electrons.pt"
   ]
  },
  {
   "cell_type": "markdown",
   "id": "christian-momentum",
   "metadata": {},
   "source": [
    "Cross references work transparently:"
   ]
  },
  {
   "cell_type": "code",
   "execution_count": 11,
   "id": "confirmed-tumor",
   "metadata": {},
   "outputs": [
    {
     "name": "stdout",
     "output_type": "stream",
     "text": [
      "Gettting: 5a5bf972-b48c-11eb-ae42-0101007fbeef /CollectionTree;1 0 40 ['GSFTrackParticlesAuxDyn.phi', '!load', '!offsets']\n",
      "Gettting: 5a5bf972-b48c-11eb-ae42-0101007fbeef /CollectionTree;1 0 40 ['GSFTrackParticlesAuxDyn.phi', '!load', '!content', '!data']\n",
      "Gettting: 5a5bf972-b48c-11eb-ae42-0101007fbeef /CollectionTree;1 0 40 ['AnalysisElectronsAuxDyn.pt', '!load', '!eventindex', '!content', '!data']\n",
      "Gettting: 5a5bf972-b48c-11eb-ae42-0101007fbeef /CollectionTree;1 0 40 ['AnalysisElectronsAuxDyn.trackParticleLinks', '!load', '!content', '!offsets']\n",
      "Gettting: 5a5bf972-b48c-11eb-ae42-0101007fbeef /CollectionTree;1 0 40 ['AnalysisElectronsAuxDyn.trackParticleLinks', '!load', '!content', '!content', 'm_persIndex', '!item', '!data']\n",
      "Gettting: 5a5bf972-b48c-11eb-ae42-0101007fbeef /CollectionTree;1 0 40 ['AnalysisElectronsAuxDyn.trackParticleLinks', '!load', '!content', '!content', 'm_persKey', '!item', '!data']\n"
     ]
    },
    {
     "data": {
      "text/plain": [
       "<TrackParticleArray [[], [], ... TrackParticle]]] type='40 * var * var * ?trackP...'>"
      ]
     },
     "execution_count": 11,
     "metadata": {},
     "output_type": "execute_result"
    }
   ],
   "source": [
    "events.Electrons.trackParticles"
   ]
  },
  {
   "cell_type": "code",
   "execution_count": 12,
   "id": "described-polls",
   "metadata": {},
   "outputs": [
    {
     "name": "stdout",
     "output_type": "stream",
     "text": [
      "Gettting: 5a5bf972-b48c-11eb-ae42-0101007fbeef /CollectionTree;1 0 40 ['GSFTrackParticlesAuxDyn.phi', '!load', '!eventindex', '!content', '!data']\n"
     ]
    },
    {
     "data": {
      "text/plain": [
       "['_eventindex',\n",
       " 'chiSquared',\n",
       " 'd0',\n",
       " 'definingParametersCovMatrix',\n",
       " 'phi',\n",
       " 'qOverP',\n",
       " 'theta',\n",
       " 'vertexLink.m_persIndex',\n",
       " 'vertexLink.m_persKey',\n",
       " 'vz',\n",
       " 'z0']"
      ]
     },
     "execution_count": 12,
     "metadata": {},
     "output_type": "execute_result"
    }
   ],
   "source": [
    "events.Electrons.trackParticles.fields"
   ]
  },
  {
   "cell_type": "markdown",
   "id": "electoral-quantity",
   "metadata": {},
   "source": [
    "Some fields are accessible via the defined behavior, e.g. the `pt` for track particles will be calculated from the track parameters:"
   ]
  },
  {
   "cell_type": "code",
   "execution_count": 13,
   "id": "labeled-findings",
   "metadata": {},
   "outputs": [
    {
     "name": "stdout",
     "output_type": "stream",
     "text": [
      "Gettting: 5a5bf972-b48c-11eb-ae42-0101007fbeef /CollectionTree;1 0 40 ['GSFTrackParticlesAuxDyn.qOverP', '!load', '!content', '!data']\n",
      "Gettting: 5a5bf972-b48c-11eb-ae42-0101007fbeef /CollectionTree;1 0 40 ['GSFTrackParticlesAuxDyn.theta', '!load', '!content', '!data']\n"
     ]
    },
    {
     "data": {
      "text/plain": [
       "<Array [[], [], ... [[2.78e+04, 1.87e+04]]] type='40 * var * var * ?float32'>"
      ]
     },
     "execution_count": 13,
     "metadata": {},
     "output_type": "execute_result"
    }
   ],
   "source": [
    "events.Electrons.trackParticles.pt"
   ]
  },
  {
   "cell_type": "markdown",
   "id": "efficient-sending",
   "metadata": {},
   "source": [
    "Cross referencing will even work when the array is sliced, selected or reshuffled:"
   ]
  },
  {
   "cell_type": "code",
   "execution_count": 14,
   "id": "minute-hampton",
   "metadata": {},
   "outputs": [
    {
     "data": {
      "text/plain": [
       "<TrackParticleArray [[], [], ... TrackParticle]]] type='40 * var * var * ?trackP...'>"
      ]
     },
     "execution_count": 14,
     "metadata": {},
     "output_type": "execute_result"
    }
   ],
   "source": [
    "events.Electrons[events.Electrons.pt > 10000].trackParticles"
   ]
  },
  {
   "cell_type": "code",
   "execution_count": 15,
   "id": "tropical-indian",
   "metadata": {},
   "outputs": [
    {
     "data": {
      "text/plain": [
       "[[[70525.125]],\n",
       " [[13800.5927734375,\n",
       "   3641.297119140625,\n",
       "   3632.580810546875,\n",
       "   15255.3095703125,\n",
       "   2126.81982421875]]]"
      ]
     },
     "execution_count": 15,
     "metadata": {},
     "output_type": "execute_result"
    }
   ],
   "source": [
    "events[[2, 3]].Electrons.trackParticles.pt.tolist()"
   ]
  },
  {
   "cell_type": "code",
   "execution_count": 16,
   "id": "initial-observation",
   "metadata": {},
   "outputs": [
    {
     "data": {
      "text/plain": [
       "[[[13800.5927734375,\n",
       "   3641.297119140625,\n",
       "   3632.580810546875,\n",
       "   15255.3095703125,\n",
       "   2126.81982421875]],\n",
       " [[70525.125]]]"
      ]
     },
     "execution_count": 16,
     "metadata": {},
     "output_type": "execute_result"
    }
   ],
   "source": [
    "events[[3, 2]].Electrons.trackParticles.pt.tolist()"
   ]
  },
  {
   "cell_type": "markdown",
   "id": "hawaiian-shield",
   "metadata": {},
   "source": [
    "... and also when referencing into multiple collections"
   ]
  },
  {
   "cell_type": "code",
   "execution_count": 17,
   "id": "prospective-locator",
   "metadata": {},
   "outputs": [
    {
     "name": "stdout",
     "output_type": "stream",
     "text": [
      "Gettting: 5a5bf972-b48c-11eb-ae42-0101007fbeef /CollectionTree;1 0 40 ['TruthElectronsAuxDyn.prodVtxLink/TruthElectronsAuxDyn.prodVtxLink.m_persKey', '!load', '!offsets']\n",
      "Gettting: 5a5bf972-b48c-11eb-ae42-0101007fbeef /CollectionTree;1 0 40 ['TruthElectronsAuxDyn.parentLinks', '!load', '!content', '!offsets']\n",
      "Gettting: 5a5bf972-b48c-11eb-ae42-0101007fbeef /CollectionTree;1 0 40 ['TruthElectronsAuxDyn.parentLinks', '!load', '!content', '!content', 'm_persKey', '!item', '!data']\n",
      "Gettting: 5a5bf972-b48c-11eb-ae42-0101007fbeef /CollectionTree;1 0 40 ['TruthTausAuxDyn.prodVtxLink/TruthTausAuxDyn.prodVtxLink.m_persKey', '!load', '!offsets']\n",
      "Gettting: 5a5bf972-b48c-11eb-ae42-0101007fbeef /CollectionTree;1 0 40 ['TruthTausAuxDyn.prodVtxLink/TruthTausAuxDyn.prodVtxLink.m_persKey', '!load', '!content', '!data']\n",
      "Gettting: 5a5bf972-b48c-11eb-ae42-0101007fbeef /CollectionTree;1 0 40 ['TruthElectronsAuxDyn.prodVtxLink/TruthElectronsAuxDyn.prodVtxLink.m_persKey', '!load', '!eventindex', '!content', '!data']\n",
      "Gettting: 5a5bf972-b48c-11eb-ae42-0101007fbeef /CollectionTree;1 0 40 ['TruthElectronsAuxDyn.parentLinks', '!load', '!content', '!content', 'm_persIndex', '!item', '!data']\n",
      "Gettting: 5a5bf972-b48c-11eb-ae42-0101007fbeef /CollectionTree;1 0 40 ['TruthBosonAuxDyn.prodVtxLink/TruthBosonAuxDyn.prodVtxLink.m_persKey', '!load', '!offsets']\n",
      "Gettting: 5a5bf972-b48c-11eb-ae42-0101007fbeef /CollectionTree;1 0 40 ['TruthBosonAuxDyn.prodVtxLink/TruthBosonAuxDyn.prodVtxLink.m_persKey', '!load', '!content', '!data']\n",
      "Gettting: 5a5bf972-b48c-11eb-ae42-0101007fbeef /CollectionTree;1 0 40 ['TruthTopAuxDyn.prodVtxLink/TruthTopAuxDyn.prodVtxLink.m_persKey', '!load', '!offsets']\n",
      "Gettting: 5a5bf972-b48c-11eb-ae42-0101007fbeef /CollectionTree;1 0 40 ['TruthTopAuxDyn.prodVtxLink/TruthTopAuxDyn.prodVtxLink.m_persKey', '!load', '!content', '!data']\n",
      "Gettting: 5a5bf972-b48c-11eb-ae42-0101007fbeef /CollectionTree;1 0 40 ['TruthBottomAuxDyn.prodVtxLink/TruthBottomAuxDyn.prodVtxLink.m_persKey', '!load', '!offsets']\n",
      "Gettting: 5a5bf972-b48c-11eb-ae42-0101007fbeef /CollectionTree;1 0 40 ['TruthBottomAuxDyn.prodVtxLink/TruthBottomAuxDyn.prodVtxLink.m_persKey', '!load', '!content', '!data']\n",
      "Gettting: 5a5bf972-b48c-11eb-ae42-0101007fbeef /CollectionTree;1 0 40 ['TruthTopAuxDyn.prodVtxLink/TruthTopAuxDyn.prodVtxLink.m_persKey', '!load', '!eventindex', '!content', '!data']\n",
      "Gettting: 5a5bf972-b48c-11eb-ae42-0101007fbeef /CollectionTree;1 0 40 ['TruthBottomAuxDyn.prodVtxLink/TruthBottomAuxDyn.prodVtxLink.m_persKey', '!load', '!eventindex', '!content', '!data']\n",
      "Gettting: 5a5bf972-b48c-11eb-ae42-0101007fbeef /CollectionTree;1 0 40 ['TruthTopAuxDyn.barcode', '!load', '!content', '!data']\n",
      "Gettting: 5a5bf972-b48c-11eb-ae42-0101007fbeef /CollectionTree;1 0 40 ['TruthBottomAuxDyn.barcode', '!load', '!content', '!data']\n",
      "Gettting: 5a5bf972-b48c-11eb-ae42-0101007fbeef /CollectionTree;1 0 40 ['TruthTopAuxDyn.childLinks', '!load', '!content', '!offsets']\n",
      "Gettting: 5a5bf972-b48c-11eb-ae42-0101007fbeef /CollectionTree;1 0 40 ['TruthBottomAuxDyn.childLinks', '!load', '!content', '!offsets']\n",
      "Gettting: 5a5bf972-b48c-11eb-ae42-0101007fbeef /CollectionTree;1 0 40 ['TruthTopAuxDyn.childLinks', '!load', '!content', '!content', 'm_persIndex', '!item', '!data']\n",
      "Gettting: 5a5bf972-b48c-11eb-ae42-0101007fbeef /CollectionTree;1 0 40 ['TruthBottomAuxDyn.childLinks', '!load', '!content', '!content', 'm_persIndex', '!item', '!data']\n",
      "Gettting: 5a5bf972-b48c-11eb-ae42-0101007fbeef /CollectionTree;1 0 40 ['TruthTopAuxDyn.childLinks', '!load', '!content', '!content', 'm_persKey', '!item', '!data']\n",
      "Gettting: 5a5bf972-b48c-11eb-ae42-0101007fbeef /CollectionTree;1 0 40 ['TruthBottomAuxDyn.childLinks', '!load', '!content', '!content', 'm_persKey', '!item', '!data']\n",
      "Gettting: 5a5bf972-b48c-11eb-ae42-0101007fbeef /CollectionTree;1 0 40 ['TruthTopAuxDyn.classifierParticleOrigin', '!load', '!content', '!data']\n",
      "Gettting: 5a5bf972-b48c-11eb-ae42-0101007fbeef /CollectionTree;1 0 40 ['TruthBottomAuxDyn.classifierParticleOrigin', '!load', '!content', '!data']\n",
      "Gettting: 5a5bf972-b48c-11eb-ae42-0101007fbeef /CollectionTree;1 0 40 ['TruthTopAuxDyn.classifierParticleOutCome', '!load', '!content', '!data']\n",
      "Gettting: 5a5bf972-b48c-11eb-ae42-0101007fbeef /CollectionTree;1 0 40 ['TruthBottomAuxDyn.classifierParticleOutCome', '!load', '!content', '!data']\n",
      "Gettting: 5a5bf972-b48c-11eb-ae42-0101007fbeef /CollectionTree;1 0 40 ['TruthTopAuxDyn.classifierParticleType', '!load', '!content', '!data']\n",
      "Gettting: 5a5bf972-b48c-11eb-ae42-0101007fbeef /CollectionTree;1 0 40 ['TruthBottomAuxDyn.classifierParticleType', '!load', '!content', '!data']\n",
      "Gettting: 5a5bf972-b48c-11eb-ae42-0101007fbeef /CollectionTree;1 0 40 ['TruthTopAuxDyn.decayVtxLink/TruthTopAuxDyn.decayVtxLink.m_persIndex', '!load', '!content', '!data']\n",
      "Gettting: 5a5bf972-b48c-11eb-ae42-0101007fbeef /CollectionTree;1 0 40 ['TruthBottomAuxDyn.decayVtxLink/TruthBottomAuxDyn.decayVtxLink.m_persIndex', '!load', '!content', '!data']\n",
      "Gettting: 5a5bf972-b48c-11eb-ae42-0101007fbeef /CollectionTree;1 0 40 ['TruthTopAuxDyn.decayVtxLink/TruthTopAuxDyn.decayVtxLink.m_persKey', '!load', '!content', '!data']\n",
      "Gettting: 5a5bf972-b48c-11eb-ae42-0101007fbeef /CollectionTree;1 0 40 ['TruthBottomAuxDyn.decayVtxLink/TruthBottomAuxDyn.decayVtxLink.m_persKey', '!load', '!content', '!data']\n",
      "Gettting: 5a5bf972-b48c-11eb-ae42-0101007fbeef /CollectionTree;1 0 40 ['TruthTopAuxDyn.e', '!load', '!content', '!data']\n",
      "Gettting: 5a5bf972-b48c-11eb-ae42-0101007fbeef /CollectionTree;1 0 40 ['TruthBottomAuxDyn.e', '!load', '!content', '!data']\n",
      "Gettting: 5a5bf972-b48c-11eb-ae42-0101007fbeef /CollectionTree;1 0 40 ['TruthTopAuxDyn.m', '!load', '!content', '!data']\n",
      "Gettting: 5a5bf972-b48c-11eb-ae42-0101007fbeef /CollectionTree;1 0 40 ['TruthBottomAuxDyn.m', '!load', '!content', '!data']\n",
      "Gettting: 5a5bf972-b48c-11eb-ae42-0101007fbeef /CollectionTree;1 0 40 ['TruthTopAuxDyn.parentLinks', '!load', '!content', '!offsets']\n",
      "Gettting: 5a5bf972-b48c-11eb-ae42-0101007fbeef /CollectionTree;1 0 40 ['TruthBottomAuxDyn.parentLinks', '!load', '!content', '!offsets']\n",
      "Gettting: 5a5bf972-b48c-11eb-ae42-0101007fbeef /CollectionTree;1 0 40 ['TruthTopAuxDyn.parentLinks', '!load', '!content', '!content', 'm_persIndex', '!item', '!data']\n",
      "Gettting: 5a5bf972-b48c-11eb-ae42-0101007fbeef /CollectionTree;1 0 40 ['TruthBottomAuxDyn.parentLinks', '!load', '!content', '!content', 'm_persIndex', '!item', '!data']\n",
      "Gettting: 5a5bf972-b48c-11eb-ae42-0101007fbeef /CollectionTree;1 0 40 ['TruthTopAuxDyn.parentLinks', '!load', '!content', '!content', 'm_persKey', '!item', '!data']\n",
      "Gettting: 5a5bf972-b48c-11eb-ae42-0101007fbeef /CollectionTree;1 0 40 ['TruthBottomAuxDyn.parentLinks', '!load', '!content', '!content', 'm_persKey', '!item', '!data']\n",
      "Gettting: 5a5bf972-b48c-11eb-ae42-0101007fbeef /CollectionTree;1 0 40 ['TruthTopAuxDyn.pdgId', '!load', '!content', '!data']\n",
      "Gettting: 5a5bf972-b48c-11eb-ae42-0101007fbeef /CollectionTree;1 0 40 ['TruthBottomAuxDyn.pdgId', '!load', '!content', '!data']\n",
      "Gettting: 5a5bf972-b48c-11eb-ae42-0101007fbeef /CollectionTree;1 0 40 ['TruthTopAuxDyn.prodVtxLink/TruthTopAuxDyn.prodVtxLink.m_persIndex', '!load', '!content', '!data']\n",
      "Gettting: 5a5bf972-b48c-11eb-ae42-0101007fbeef /CollectionTree;1 0 40 ['TruthBottomAuxDyn.prodVtxLink/TruthBottomAuxDyn.prodVtxLink.m_persIndex', '!load', '!content', '!data']\n",
      "Gettting: 5a5bf972-b48c-11eb-ae42-0101007fbeef /CollectionTree;1 0 40 ['TruthTopAuxDyn.px', '!load', '!content', '!data']\n",
      "Gettting: 5a5bf972-b48c-11eb-ae42-0101007fbeef /CollectionTree;1 0 40 ['TruthBottomAuxDyn.px', '!load', '!content', '!data']\n",
      "Gettting: 5a5bf972-b48c-11eb-ae42-0101007fbeef /CollectionTree;1 0 40 ['TruthTopAuxDyn.py', '!load', '!content', '!data']\n",
      "Gettting: 5a5bf972-b48c-11eb-ae42-0101007fbeef /CollectionTree;1 0 40 ['TruthBottomAuxDyn.py', '!load', '!content', '!data']\n",
      "Gettting: 5a5bf972-b48c-11eb-ae42-0101007fbeef /CollectionTree;1 0 40 ['TruthTopAuxDyn.pz', '!load', '!content', '!data']\n",
      "Gettting: 5a5bf972-b48c-11eb-ae42-0101007fbeef /CollectionTree;1 0 40 ['TruthBottomAuxDyn.pz', '!load', '!content', '!data']\n",
      "Gettting: 5a5bf972-b48c-11eb-ae42-0101007fbeef /CollectionTree;1 0 40 ['TruthTopAuxDyn.status', '!load', '!content', '!data']\n",
      "Gettting: 5a5bf972-b48c-11eb-ae42-0101007fbeef /CollectionTree;1 0 40 ['TruthBottomAuxDyn.status', '!load', '!content', '!data']\n",
      "Gettting: 5a5bf972-b48c-11eb-ae42-0101007fbeef /CollectionTree;1 0 40 ['TruthBosonAuxDyn.prodVtxLink/TruthBosonAuxDyn.prodVtxLink.m_persKey', '!load', '!eventindex', '!content', '!data']\n",
      "Gettting: 5a5bf972-b48c-11eb-ae42-0101007fbeef /CollectionTree;1 0 40 ['TruthBosonAuxDyn.barcode', '!load', '!content', '!data']\n",
      "Gettting: 5a5bf972-b48c-11eb-ae42-0101007fbeef /CollectionTree;1 0 40 ['TruthBosonAuxDyn.childLinks', '!load', '!content', '!offsets']\n",
      "Gettting: 5a5bf972-b48c-11eb-ae42-0101007fbeef /CollectionTree;1 0 40 ['TruthBosonAuxDyn.childLinks', '!load', '!content', '!content', 'm_persIndex', '!item', '!data']\n",
      "Gettting: 5a5bf972-b48c-11eb-ae42-0101007fbeef /CollectionTree;1 0 40 ['TruthBosonAuxDyn.childLinks', '!load', '!content', '!content', 'm_persKey', '!item', '!data']\n",
      "Gettting: 5a5bf972-b48c-11eb-ae42-0101007fbeef /CollectionTree;1 0 40 ['TruthBosonAuxDyn.classifierParticleOrigin', '!load', '!content', '!data']\n",
      "Gettting: 5a5bf972-b48c-11eb-ae42-0101007fbeef /CollectionTree;1 0 40 ['TruthBosonAuxDyn.classifierParticleOutCome', '!load', '!content', '!data']\n",
      "Gettting: 5a5bf972-b48c-11eb-ae42-0101007fbeef /CollectionTree;1 0 40 ['TruthBosonAuxDyn.classifierParticleType', '!load', '!content', '!data']\n",
      "Gettting: 5a5bf972-b48c-11eb-ae42-0101007fbeef /CollectionTree;1 0 40 ['TruthBosonAuxDyn.decayVtxLink/TruthBosonAuxDyn.decayVtxLink.m_persIndex', '!load', '!content', '!data']\n"
     ]
    },
    {
     "name": "stdout",
     "output_type": "stream",
     "text": [
      "Gettting: 5a5bf972-b48c-11eb-ae42-0101007fbeef /CollectionTree;1 0 40 ['TruthBosonAuxDyn.decayVtxLink/TruthBosonAuxDyn.decayVtxLink.m_persKey', '!load', '!content', '!data']\n",
      "Gettting: 5a5bf972-b48c-11eb-ae42-0101007fbeef /CollectionTree;1 0 40 ['TruthBosonAuxDyn.e', '!load', '!content', '!data']\n",
      "Gettting: 5a5bf972-b48c-11eb-ae42-0101007fbeef /CollectionTree;1 0 40 ['TruthBosonAuxDyn.m', '!load', '!content', '!data']\n",
      "Gettting: 5a5bf972-b48c-11eb-ae42-0101007fbeef /CollectionTree;1 0 40 ['TruthBosonAuxDyn.parentLinks', '!load', '!content', '!offsets']\n",
      "Gettting: 5a5bf972-b48c-11eb-ae42-0101007fbeef /CollectionTree;1 0 40 ['TruthBosonAuxDyn.parentLinks', '!load', '!content', '!content', 'm_persIndex', '!item', '!data']\n",
      "Gettting: 5a5bf972-b48c-11eb-ae42-0101007fbeef /CollectionTree;1 0 40 ['TruthBosonAuxDyn.parentLinks', '!load', '!content', '!content', 'm_persKey', '!item', '!data']\n",
      "Gettting: 5a5bf972-b48c-11eb-ae42-0101007fbeef /CollectionTree;1 0 40 ['TruthBosonAuxDyn.pdgId', '!load', '!content', '!data']\n",
      "Gettting: 5a5bf972-b48c-11eb-ae42-0101007fbeef /CollectionTree;1 0 40 ['TruthBosonAuxDyn.prodVtxLink/TruthBosonAuxDyn.prodVtxLink.m_persIndex', '!load', '!content', '!data']\n",
      "Gettting: 5a5bf972-b48c-11eb-ae42-0101007fbeef /CollectionTree;1 0 40 ['TruthBosonAuxDyn.px', '!load', '!content', '!data']\n",
      "Gettting: 5a5bf972-b48c-11eb-ae42-0101007fbeef /CollectionTree;1 0 40 ['TruthBosonAuxDyn.py', '!load', '!content', '!data']\n",
      "Gettting: 5a5bf972-b48c-11eb-ae42-0101007fbeef /CollectionTree;1 0 40 ['TruthBosonAuxDyn.pz', '!load', '!content', '!data']\n",
      "Gettting: 5a5bf972-b48c-11eb-ae42-0101007fbeef /CollectionTree;1 0 40 ['TruthBosonAuxDyn.status', '!load', '!content', '!data']\n",
      "Gettting: 5a5bf972-b48c-11eb-ae42-0101007fbeef /CollectionTree;1 0 40 ['TruthTausAuxDyn.pdgId', '!load', '!content', '!data']\n"
     ]
    },
    {
     "data": {
      "text/plain": [
       "<Array [[[15]], [[]], ... -5, -5], [-5, -5]]] type='40 * var * var * ?int32'>"
      ]
     },
     "execution_count": 17,
     "metadata": {},
     "output_type": "execute_result"
    }
   ],
   "source": [
    "events.TruthElectrons.parents.pdgId"
   ]
  },
  {
   "cell_type": "markdown",
   "id": "institutional-subscriber",
   "metadata": {},
   "source": [
    "behavior will be attached to the resulting arrays, so one can also do \"cyclic\" references:"
   ]
  },
  {
   "cell_type": "code",
   "execution_count": 18,
   "id": "distant-police",
   "metadata": {},
   "outputs": [
    {
     "name": "stdout",
     "output_type": "stream",
     "text": [
      "Gettting: 5a5bf972-b48c-11eb-ae42-0101007fbeef /CollectionTree;1 0 40 ['TruthTausAuxDyn.Classification', '!load', '!content', '!data']\n",
      "Gettting: 5a5bf972-b48c-11eb-ae42-0101007fbeef /CollectionTree;1 0 40 ['TruthTausAuxDyn.childLinks', '!load', '!content', '!offsets']\n",
      "Gettting: 5a5bf972-b48c-11eb-ae42-0101007fbeef /CollectionTree;1 0 40 ['TruthTausAuxDyn.childLinks', '!load', '!content', '!content', 'm_persIndex', '!item', '!data']\n",
      "Gettting: 5a5bf972-b48c-11eb-ae42-0101007fbeef /CollectionTree;1 0 40 ['TruthTausAuxDyn.childLinks', '!load', '!content', '!content', 'm_persKey', '!item', '!data']\n",
      "Gettting: 5a5bf972-b48c-11eb-ae42-0101007fbeef /CollectionTree;1 0 40 ['TruthTausAuxDyn.prodVtxLink/TruthTausAuxDyn.prodVtxLink.m_persKey', '!load', '!eventindex', '!content', '!data']\n",
      "Gettting: 5a5bf972-b48c-11eb-ae42-0101007fbeef /CollectionTree;1 0 40 ['TruthPhotonsAuxDyn.prodVtxLink/TruthPhotonsAuxDyn.prodVtxLink.m_persKey', '!load', '!offsets']\n",
      "Gettting: 5a5bf972-b48c-11eb-ae42-0101007fbeef /CollectionTree;1 0 40 ['TruthPhotonsAuxDyn.prodVtxLink/TruthPhotonsAuxDyn.prodVtxLink.m_persKey', '!load', '!content', '!data']\n",
      "Gettting: 5a5bf972-b48c-11eb-ae42-0101007fbeef /CollectionTree;1 0 40 ['TruthMuonsAuxDyn.prodVtxLink/TruthMuonsAuxDyn.prodVtxLink.m_persKey', '!load', '!offsets']\n",
      "Gettting: 5a5bf972-b48c-11eb-ae42-0101007fbeef /CollectionTree;1 0 40 ['TruthMuonsAuxDyn.prodVtxLink/TruthMuonsAuxDyn.prodVtxLink.m_persKey', '!load', '!content', '!data']\n",
      "Gettting: 5a5bf972-b48c-11eb-ae42-0101007fbeef /CollectionTree;1 0 40 ['TruthNeutrinosAuxDyn.prodVtxLink/TruthNeutrinosAuxDyn.prodVtxLink.m_persKey', '!load', '!offsets']\n",
      "Gettting: 5a5bf972-b48c-11eb-ae42-0101007fbeef /CollectionTree;1 0 40 ['TruthNeutrinosAuxDyn.prodVtxLink/TruthNeutrinosAuxDyn.prodVtxLink.m_persKey', '!load', '!content', '!data']\n",
      "Gettting: 5a5bf972-b48c-11eb-ae42-0101007fbeef /CollectionTree;1 0 40 ['TruthNeutrinosAuxDyn.prodVtxLink/TruthNeutrinosAuxDyn.prodVtxLink.m_persKey', '!load', '!eventindex', '!content', '!data']\n",
      "Gettting: 5a5bf972-b48c-11eb-ae42-0101007fbeef /CollectionTree;1 0 40 ['TruthNeutrinosAuxDyn.barcode', '!load', '!content', '!data']\n",
      "Gettting: 5a5bf972-b48c-11eb-ae42-0101007fbeef /CollectionTree;1 0 40 ['TruthNeutrinosAuxDyn.childLinks', '!load', '!content', '!offsets']\n",
      "Gettting: 5a5bf972-b48c-11eb-ae42-0101007fbeef /CollectionTree;1 0 40 ['TruthNeutrinosAuxDyn.childLinks', '!load', '!content', '!content', 'm_persIndex', '!item', '!data']\n",
      "Gettting: 5a5bf972-b48c-11eb-ae42-0101007fbeef /CollectionTree;1 0 40 ['TruthNeutrinosAuxDyn.childLinks', '!load', '!content', '!content', 'm_persKey', '!item', '!data']\n",
      "Gettting: 5a5bf972-b48c-11eb-ae42-0101007fbeef /CollectionTree;1 0 40 ['TruthNeutrinosAuxDyn.classifierParticleOrigin', '!load', '!content', '!data']\n",
      "Gettting: 5a5bf972-b48c-11eb-ae42-0101007fbeef /CollectionTree;1 0 40 ['TruthNeutrinosAuxDyn.classifierParticleOutCome', '!load', '!content', '!data']\n",
      "Gettting: 5a5bf972-b48c-11eb-ae42-0101007fbeef /CollectionTree;1 0 40 ['TruthNeutrinosAuxDyn.classifierParticleType', '!load', '!content', '!data']\n",
      "Gettting: 5a5bf972-b48c-11eb-ae42-0101007fbeef /CollectionTree;1 0 40 ['TruthNeutrinosAuxDyn.decayVtxLink/TruthNeutrinosAuxDyn.decayVtxLink.m_persIndex', '!load', '!content', '!data']\n",
      "Gettting: 5a5bf972-b48c-11eb-ae42-0101007fbeef /CollectionTree;1 0 40 ['TruthNeutrinosAuxDyn.decayVtxLink/TruthNeutrinosAuxDyn.decayVtxLink.m_persKey', '!load', '!content', '!data']\n",
      "Gettting: 5a5bf972-b48c-11eb-ae42-0101007fbeef /CollectionTree;1 0 40 ['TruthNeutrinosAuxDyn.e', '!load', '!content', '!data']\n",
      "Gettting: 5a5bf972-b48c-11eb-ae42-0101007fbeef /CollectionTree;1 0 40 ['TruthNeutrinosAuxDyn.m', '!load', '!content', '!data']\n",
      "Gettting: 5a5bf972-b48c-11eb-ae42-0101007fbeef /CollectionTree;1 0 40 ['TruthNeutrinosAuxDyn.parentLinks', '!load', '!content', '!offsets']\n",
      "Gettting: 5a5bf972-b48c-11eb-ae42-0101007fbeef /CollectionTree;1 0 40 ['TruthNeutrinosAuxDyn.parentLinks', '!load', '!content', '!content', 'm_persIndex', '!item', '!data']\n",
      "Gettting: 5a5bf972-b48c-11eb-ae42-0101007fbeef /CollectionTree;1 0 40 ['TruthNeutrinosAuxDyn.parentLinks', '!load', '!content', '!content', 'm_persKey', '!item', '!data']\n",
      "Gettting: 5a5bf972-b48c-11eb-ae42-0101007fbeef /CollectionTree;1 0 40 ['TruthNeutrinosAuxDyn.pdgId', '!load', '!content', '!data']\n",
      "Gettting: 5a5bf972-b48c-11eb-ae42-0101007fbeef /CollectionTree;1 0 40 ['TruthNeutrinosAuxDyn.prodVtxLink/TruthNeutrinosAuxDyn.prodVtxLink.m_persIndex', '!load', '!content', '!data']\n",
      "Gettting: 5a5bf972-b48c-11eb-ae42-0101007fbeef /CollectionTree;1 0 40 ['TruthNeutrinosAuxDyn.px', '!load', '!content', '!data']\n",
      "Gettting: 5a5bf972-b48c-11eb-ae42-0101007fbeef /CollectionTree;1 0 40 ['TruthNeutrinosAuxDyn.py', '!load', '!content', '!data']\n",
      "Gettting: 5a5bf972-b48c-11eb-ae42-0101007fbeef /CollectionTree;1 0 40 ['TruthNeutrinosAuxDyn.pz', '!load', '!content', '!data']\n",
      "Gettting: 5a5bf972-b48c-11eb-ae42-0101007fbeef /CollectionTree;1 0 40 ['TruthNeutrinosAuxDyn.status', '!load', '!content', '!data']\n",
      "Gettting: 5a5bf972-b48c-11eb-ae42-0101007fbeef /CollectionTree;1 0 40 ['TruthMuonsAuxDyn.prodVtxLink/TruthMuonsAuxDyn.prodVtxLink.m_persKey', '!load', '!eventindex', '!content', '!data']\n",
      "Gettting: 5a5bf972-b48c-11eb-ae42-0101007fbeef /CollectionTree;1 0 40 ['TruthMuonsAuxDyn.barcode', '!load', '!content', '!data']\n",
      "Gettting: 5a5bf972-b48c-11eb-ae42-0101007fbeef /CollectionTree;1 0 40 ['TruthElectronsAuxDyn.barcode', '!load', '!content', '!data']\n",
      "Gettting: 5a5bf972-b48c-11eb-ae42-0101007fbeef /CollectionTree;1 0 40 ['TruthMuonsAuxDyn.childLinks', '!load', '!content', '!offsets']\n",
      "Gettting: 5a5bf972-b48c-11eb-ae42-0101007fbeef /CollectionTree;1 0 40 ['TruthElectronsAuxDyn.childLinks', '!load', '!content', '!offsets']\n",
      "Gettting: 5a5bf972-b48c-11eb-ae42-0101007fbeef /CollectionTree;1 0 40 ['TruthMuonsAuxDyn.childLinks', '!load', '!content', '!content', 'm_persIndex', '!item', '!data']\n",
      "Gettting: 5a5bf972-b48c-11eb-ae42-0101007fbeef /CollectionTree;1 0 40 ['TruthElectronsAuxDyn.childLinks', '!load', '!content', '!content', 'm_persIndex', '!item', '!data']\n",
      "Gettting: 5a5bf972-b48c-11eb-ae42-0101007fbeef /CollectionTree;1 0 40 ['TruthMuonsAuxDyn.childLinks', '!load', '!content', '!content', 'm_persKey', '!item', '!data']\n",
      "Gettting: 5a5bf972-b48c-11eb-ae42-0101007fbeef /CollectionTree;1 0 40 ['TruthElectronsAuxDyn.childLinks', '!load', '!content', '!content', 'm_persKey', '!item', '!data']\n",
      "Gettting: 5a5bf972-b48c-11eb-ae42-0101007fbeef /CollectionTree;1 0 40 ['TruthMuonsAuxDyn.classifierParticleOrigin', '!load', '!content', '!data']\n",
      "Gettting: 5a5bf972-b48c-11eb-ae42-0101007fbeef /CollectionTree;1 0 40 ['TruthElectronsAuxDyn.classifierParticleOrigin', '!load', '!content', '!data']\n",
      "Gettting: 5a5bf972-b48c-11eb-ae42-0101007fbeef /CollectionTree;1 0 40 ['TruthMuonsAuxDyn.classifierParticleOutCome', '!load', '!content', '!data']\n",
      "Gettting: 5a5bf972-b48c-11eb-ae42-0101007fbeef /CollectionTree;1 0 40 ['TruthElectronsAuxDyn.classifierParticleOutCome', '!load', '!content', '!data']\n",
      "Gettting: 5a5bf972-b48c-11eb-ae42-0101007fbeef /CollectionTree;1 0 40 ['TruthMuonsAuxDyn.classifierParticleType', '!load', '!content', '!data']\n",
      "Gettting: 5a5bf972-b48c-11eb-ae42-0101007fbeef /CollectionTree;1 0 40 ['TruthElectronsAuxDyn.classifierParticleType', '!load', '!content', '!data']\n",
      "Gettting: 5a5bf972-b48c-11eb-ae42-0101007fbeef /CollectionTree;1 0 40 ['TruthMuonsAuxDyn.decayVtxLink/TruthMuonsAuxDyn.decayVtxLink.m_persIndex', '!load', '!content', '!data']\n",
      "Gettting: 5a5bf972-b48c-11eb-ae42-0101007fbeef /CollectionTree;1 0 40 ['TruthElectronsAuxDyn.decayVtxLink/TruthElectronsAuxDyn.decayVtxLink.m_persIndex', '!load', '!content', '!data']\n",
      "Gettting: 5a5bf972-b48c-11eb-ae42-0101007fbeef /CollectionTree;1 0 40 ['TruthMuonsAuxDyn.decayVtxLink/TruthMuonsAuxDyn.decayVtxLink.m_persKey', '!load', '!content', '!data']\n",
      "Gettting: 5a5bf972-b48c-11eb-ae42-0101007fbeef /CollectionTree;1 0 40 ['TruthElectronsAuxDyn.decayVtxLink/TruthElectronsAuxDyn.decayVtxLink.m_persKey', '!load', '!content', '!data']\n",
      "Gettting: 5a5bf972-b48c-11eb-ae42-0101007fbeef /CollectionTree;1 0 40 ['TruthMuonsAuxDyn.e', '!load', '!content', '!data']\n",
      "Gettting: 5a5bf972-b48c-11eb-ae42-0101007fbeef /CollectionTree;1 0 40 ['TruthElectronsAuxDyn.e', '!load', '!content', '!data']\n",
      "Gettting: 5a5bf972-b48c-11eb-ae42-0101007fbeef /CollectionTree;1 0 40 ['TruthMuonsAuxDyn.e_dressed', '!load', '!content', '!data']\n",
      "Gettting: 5a5bf972-b48c-11eb-ae42-0101007fbeef /CollectionTree;1 0 40 ['TruthElectronsAuxDyn.e_dressed', '!load', '!content', '!data']\n",
      "Gettting: 5a5bf972-b48c-11eb-ae42-0101007fbeef /CollectionTree;1 0 40 ['TruthMuonsAuxDyn.eta_dressed', '!load', '!content', '!data']\n",
      "Gettting: 5a5bf972-b48c-11eb-ae42-0101007fbeef /CollectionTree;1 0 40 ['TruthElectronsAuxDyn.eta_dressed', '!load', '!content', '!data']\n"
     ]
    },
    {
     "name": "stdout",
     "output_type": "stream",
     "text": [
      "Gettting: 5a5bf972-b48c-11eb-ae42-0101007fbeef /CollectionTree;1 0 40 ['TruthMuonsAuxDyn.etcone20', '!load', '!content', '!data']\n",
      "Gettting: 5a5bf972-b48c-11eb-ae42-0101007fbeef /CollectionTree;1 0 40 ['TruthElectronsAuxDyn.etcone20', '!load', '!content', '!data']\n",
      "Gettting: 5a5bf972-b48c-11eb-ae42-0101007fbeef /CollectionTree;1 0 40 ['TruthMuonsAuxDyn.m', '!load', '!content', '!data']\n",
      "Gettting: 5a5bf972-b48c-11eb-ae42-0101007fbeef /CollectionTree;1 0 40 ['TruthElectronsAuxDyn.m', '!load', '!content', '!data']\n",
      "Gettting: 5a5bf972-b48c-11eb-ae42-0101007fbeef /CollectionTree;1 0 40 ['TruthMuonsAuxDyn.nPhotons_dressed', '!load', '!content', '!data']\n",
      "Gettting: 5a5bf972-b48c-11eb-ae42-0101007fbeef /CollectionTree;1 0 40 ['TruthElectronsAuxDyn.nPhotons_dressed', '!load', '!content', '!data']\n",
      "Gettting: 5a5bf972-b48c-11eb-ae42-0101007fbeef /CollectionTree;1 0 40 ['TruthMuonsAuxDyn.parentLinks', '!load', '!content', '!offsets']\n",
      "Gettting: 5a5bf972-b48c-11eb-ae42-0101007fbeef /CollectionTree;1 0 40 ['TruthMuonsAuxDyn.parentLinks', '!load', '!content', '!content', 'm_persIndex', '!item', '!data']\n",
      "Gettting: 5a5bf972-b48c-11eb-ae42-0101007fbeef /CollectionTree;1 0 40 ['TruthMuonsAuxDyn.parentLinks', '!load', '!content', '!content', 'm_persKey', '!item', '!data']\n",
      "Gettting: 5a5bf972-b48c-11eb-ae42-0101007fbeef /CollectionTree;1 0 40 ['TruthMuonsAuxDyn.pdgId', '!load', '!content', '!data']\n",
      "Gettting: 5a5bf972-b48c-11eb-ae42-0101007fbeef /CollectionTree;1 0 40 ['TruthElectronsAuxDyn.pdgId', '!load', '!content', '!data']\n",
      "Gettting: 5a5bf972-b48c-11eb-ae42-0101007fbeef /CollectionTree;1 0 40 ['TruthMuonsAuxDyn.phi_dressed', '!load', '!content', '!data']\n",
      "Gettting: 5a5bf972-b48c-11eb-ae42-0101007fbeef /CollectionTree;1 0 40 ['TruthElectronsAuxDyn.phi_dressed', '!load', '!content', '!data']\n",
      "Gettting: 5a5bf972-b48c-11eb-ae42-0101007fbeef /CollectionTree;1 0 40 ['TruthMuonsAuxDyn.prodVtxLink/TruthMuonsAuxDyn.prodVtxLink.m_persIndex', '!load', '!content', '!data']\n",
      "Gettting: 5a5bf972-b48c-11eb-ae42-0101007fbeef /CollectionTree;1 0 40 ['TruthElectronsAuxDyn.prodVtxLink/TruthElectronsAuxDyn.prodVtxLink.m_persIndex', '!load', '!content', '!data']\n",
      "Gettting: 5a5bf972-b48c-11eb-ae42-0101007fbeef /CollectionTree;1 0 40 ['TruthElectronsAuxDyn.prodVtxLink/TruthElectronsAuxDyn.prodVtxLink.m_persKey', '!load', '!content', '!data']\n",
      "Gettting: 5a5bf972-b48c-11eb-ae42-0101007fbeef /CollectionTree;1 0 40 ['TruthMuonsAuxDyn.pt_dressed', '!load', '!content', '!data']\n",
      "Gettting: 5a5bf972-b48c-11eb-ae42-0101007fbeef /CollectionTree;1 0 40 ['TruthElectronsAuxDyn.pt_dressed', '!load', '!content', '!data']\n",
      "Gettting: 5a5bf972-b48c-11eb-ae42-0101007fbeef /CollectionTree;1 0 40 ['TruthMuonsAuxDyn.ptcone30', '!load', '!content', '!data']\n",
      "Gettting: 5a5bf972-b48c-11eb-ae42-0101007fbeef /CollectionTree;1 0 40 ['TruthElectronsAuxDyn.ptcone30', '!load', '!content', '!data']\n",
      "Gettting: 5a5bf972-b48c-11eb-ae42-0101007fbeef /CollectionTree;1 0 40 ['TruthMuonsAuxDyn.px', '!load', '!content', '!data']\n",
      "Gettting: 5a5bf972-b48c-11eb-ae42-0101007fbeef /CollectionTree;1 0 40 ['TruthElectronsAuxDyn.px', '!load', '!content', '!data']\n",
      "Gettting: 5a5bf972-b48c-11eb-ae42-0101007fbeef /CollectionTree;1 0 40 ['TruthMuonsAuxDyn.py', '!load', '!content', '!data']\n",
      "Gettting: 5a5bf972-b48c-11eb-ae42-0101007fbeef /CollectionTree;1 0 40 ['TruthElectronsAuxDyn.py', '!load', '!content', '!data']\n",
      "Gettting: 5a5bf972-b48c-11eb-ae42-0101007fbeef /CollectionTree;1 0 40 ['TruthMuonsAuxDyn.pz', '!load', '!content', '!data']\n",
      "Gettting: 5a5bf972-b48c-11eb-ae42-0101007fbeef /CollectionTree;1 0 40 ['TruthElectronsAuxDyn.pz', '!load', '!content', '!data']\n",
      "Gettting: 5a5bf972-b48c-11eb-ae42-0101007fbeef /CollectionTree;1 0 40 ['TruthMuonsAuxDyn.status', '!load', '!content', '!data']\n",
      "Gettting: 5a5bf972-b48c-11eb-ae42-0101007fbeef /CollectionTree;1 0 40 ['TruthElectronsAuxDyn.status', '!load', '!content', '!data']\n",
      "Gettting: 5a5bf972-b48c-11eb-ae42-0101007fbeef /CollectionTree;1 0 40 ['TruthPhotonsAuxDyn.parentLinks', '!load', '!content', '!offsets']\n",
      "Gettting: 5a5bf972-b48c-11eb-ae42-0101007fbeef /CollectionTree;1 0 40 ['TruthPhotonsAuxDyn.parentLinks', '!load', '!content', '!content', 'm_persIndex', '!item', '!data']\n",
      "Gettting: 5a5bf972-b48c-11eb-ae42-0101007fbeef /CollectionTree;1 0 40 ['TruthPhotonsAuxDyn.parentLinks', '!load', '!content', '!content', 'm_persKey', '!item', '!data']\n",
      "Gettting: 5a5bf972-b48c-11eb-ae42-0101007fbeef /CollectionTree;1 0 40 ['TruthTausAuxDyn.parentLinks', '!load', '!content', '!offsets']\n",
      "Gettting: 5a5bf972-b48c-11eb-ae42-0101007fbeef /CollectionTree;1 0 40 ['TruthTausAuxDyn.parentLinks', '!load', '!content', '!content', 'm_persIndex', '!item', '!data']\n",
      "Gettting: 5a5bf972-b48c-11eb-ae42-0101007fbeef /CollectionTree;1 0 40 ['TruthTausAuxDyn.parentLinks', '!load', '!content', '!content', 'm_persKey', '!item', '!data']\n",
      "Gettting: 5a5bf972-b48c-11eb-ae42-0101007fbeef /CollectionTree;1 0 40 ['TruthPhotonsAuxDyn.prodVtxLink/TruthPhotonsAuxDyn.prodVtxLink.m_persKey', '!load', '!eventindex', '!content', '!data']\n",
      "Gettting: 5a5bf972-b48c-11eb-ae42-0101007fbeef /CollectionTree;1 0 40 ['TruthPhotonsAuxDyn.pdgId', '!load', '!content', '!data']\n"
     ]
    },
    {
     "data": {
      "text/plain": [
       "<Array [[[[[[16, 11, -12, ... -12, 22, 22]]]]]] type='40 * var * var * option[va...'>"
      ]
     },
     "execution_count": 18,
     "metadata": {},
     "output_type": "execute_result"
    }
   ],
   "source": [
    "events.TruthElectrons.parents.children.parents.children.pdgId"
   ]
  },
  {
   "cell_type": "code",
   "execution_count": 19,
   "id": "covered-balance",
   "metadata": {},
   "outputs": [
    {
     "data": {
      "text/plain": [
       "6"
      ]
     },
     "execution_count": 19,
     "metadata": {},
     "output_type": "execute_result"
    }
   ],
   "source": [
    "events.TruthElectrons.parents.children.parents.children.ndim"
   ]
  },
  {
   "cell_type": "markdown",
   "id": "instant-crest",
   "metadata": {},
   "source": [
    "LorentzVector arithmetic also works:"
   ]
  },
  {
   "cell_type": "code",
   "execution_count": 20,
   "id": "french-plenty",
   "metadata": {},
   "outputs": [
    {
     "name": "stdout",
     "output_type": "stream",
     "text": [
      "Gettting: 5a5bf972-b48c-11eb-ae42-0101007fbeef /CollectionTree;1 0 40 ['AnalysisJetsAuxDyn.pt', '!load', '!offsets']\n",
      "Gettting: 5a5bf972-b48c-11eb-ae42-0101007fbeef /CollectionTree;1 0 40 ['AnalysisJetsAuxDyn.phi', '!load', '!content', '!data']\n",
      "Gettting: 5a5bf972-b48c-11eb-ae42-0101007fbeef /CollectionTree;1 0 40 ['AnalysisJetsAuxDyn.pt', '!load', '!content', '!data']\n",
      "Gettting: 5a5bf972-b48c-11eb-ae42-0101007fbeef /CollectionTree;1 0 40 ['AnalysisJetsAuxDyn.eta', '!load', '!content', '!data']\n",
      "Gettting: 5a5bf972-b48c-11eb-ae42-0101007fbeef /CollectionTree;1 0 40 ['AnalysisJetsAuxDyn.m', '!load', '!content', '!data']\n"
     ]
    },
    {
     "data": {
      "text/plain": [
       "<Array [1.29e+05, 8.83e+04, ... 7.75e+04] type='40 * float32'>"
      ]
     },
     "execution_count": 20,
     "metadata": {},
     "output_type": "execute_result"
    }
   ],
   "source": [
    "(events.Jets[:, 0] + events.Jets[:, 1]).mass"
   ]
  },
  {
   "cell_type": "code",
   "execution_count": 21,
   "id": "hundred-relation",
   "metadata": {},
   "outputs": [
    {
     "name": "stdout",
     "output_type": "stream",
     "text": [
      "Gettting: 5a5bf972-b48c-11eb-ae42-0101007fbeef /CollectionTree;1 0 40 ['AnalysisElectronsAuxDyn.eta', '!load', '!content', '!data']\n",
      "Gettting: 5a5bf972-b48c-11eb-ae42-0101007fbeef /CollectionTree;1 0 40 ['AnalysisElectronsAuxDyn.phi', '!load', '!content', '!data']\n"
     ]
    },
    {
     "data": {
      "text/plain": [
       "<Array [[], [], ... 0.0157], [0.0221]] type='40 * var * ?float32'>"
      ]
     },
     "execution_count": 21,
     "metadata": {},
     "output_type": "execute_result"
    }
   ],
   "source": [
    "events.Electrons.delta_r(events.Electrons.nearest(events.Jets))"
   ]
  }
 ],
 "metadata": {
  "kernelspec": {
   "display_name": "Python 3",
   "language": "python",
   "name": "python3"
  },
  "language_info": {
   "codemirror_mode": {
    "name": "ipython",
    "version": 3
   },
   "file_extension": ".py",
   "mimetype": "text/x-python",
   "name": "python",
   "nbconvert_exporter": "python",
   "pygments_lexer": "ipython3",
   "version": "3.9.5"
  },
  "toc": {
   "base_numbering": 1,
   "nav_menu": {},
   "number_sections": true,
   "sideBar": true,
   "skip_h1_title": false,
   "title_cell": "Table of Contents",
   "title_sidebar": "Contents",
   "toc_cell": false,
   "toc_position": {},
   "toc_section_display": true,
   "toc_window_display": false
  }
 },
 "nbformat": 4,
 "nbformat_minor": 5
}
