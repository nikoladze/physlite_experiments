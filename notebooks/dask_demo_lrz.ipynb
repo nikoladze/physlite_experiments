{
 "cells": [
  {
   "cell_type": "code",
   "execution_count": 87,
   "id": "prescription-catalyst",
   "metadata": {},
   "outputs": [],
   "source": [
    "import os\n",
    "import json\n",
    "from time import time\n",
    "\n",
    "import pandas as pd\n",
    "import rucio.client\n",
    "import joblib\n",
    "import uproot\n",
    "import awkward as ak\n",
    "import matplotlib.pyplot as plt\n",
    "import numpy as np\n",
    "\n",
    "from physlite_experiments.physlite_events import (\n",
    "    physlite_events, get_lazy_form, get_branch_forms, Factory, LazyGet\n",
    ")\n",
    "from physlite_experiments.analysis_example import get_obj_sel"
   ]
  },
  {
   "cell_type": "code",
   "execution_count": 2,
   "id": "pretty-spine",
   "metadata": {},
   "outputs": [],
   "source": [
    "memory = joblib.Memory(\"./rucio_cache\")"
   ]
  },
  {
   "cell_type": "code",
   "execution_count": 3,
   "id": "blank-production",
   "metadata": {},
   "outputs": [],
   "source": [
    "@memory.cache\n",
    "def get_file_infos(did, rse):\n",
    "    from tqdm.notebook import tqdm\n",
    "    \n",
    "    scope = did.split(\".\")[0]\n",
    "    rucio_client = rucio.client.Client()\n",
    "    file_infos = {}\n",
    "    for info in rucio_client.list_files(scope, did):\n",
    "        file_infos[info[\"name\"]] = info\n",
    "    files = []\n",
    "    for replica in tqdm(\n",
    "        rucio_client.list_replicas(\n",
    "            [{\"scope\": scope, \"name\" : did}],\n",
    "            rse_expression=rse\n",
    "        ),\n",
    "        total=len(file_infos)\n",
    "    ):\n",
    "        if not replica[\"states\"][rse] == \"AVAILABLE\":\n",
    "            raise Exception(f\"Not available: {replica}\")\n",
    "        files.append((replica[\"rses\"][rse][0], replica[\"bytes\"], file_infos[replica[\"name\"]][\"events\"]))\n",
    "    return files"
   ]
  },
  {
   "cell_type": "code",
   "execution_count": 4,
   "id": "yellow-substitute",
   "metadata": {},
   "outputs": [],
   "source": [
    "files = get_file_infos(\n",
    "    \"data17_13TeV.periodK.physics_Main.PhysCont.DAOD_PHYSLITE.grp17_v01_p4309\",\n",
    "    \"LRZ-LMU_LOCALGROUPDISK\"\n",
    ")\n",
    "files = pd.DataFrame(files, columns=[\"url\", \"bytes\", \"events\"])"
   ]
  },
  {
   "cell_type": "code",
   "execution_count": 5,
   "id": "behavioral-chase",
   "metadata": {},
   "outputs": [
    {
     "data": {
      "text/plain": [
       "<AxesSubplot:>"
      ]
     },
     "execution_count": 5,
     "metadata": {},
     "output_type": "execute_result"
    },
    {
     "data": {
      "image/png": "[encoded data removed]",
      "text/plain": [
       "<Figure size 432x288 with 1 Axes>"
      ]
     },
     "metadata": {
      "needs_background": "light"
     },
     "output_type": "display_data"
    }
   ],
   "source": [
    "(files.bytes / 1e6).hist(bins=100)"
   ]
  },
  {
   "cell_type": "code",
   "execution_count": 6,
   "id": "composed-lawrence",
   "metadata": {},
   "outputs": [
    {
     "data": {
      "text/plain": [
       "<AxesSubplot:>"
      ]
     },
     "execution_count": 6,
     "metadata": {},
     "output_type": "execute_result"
    },
    {
     "data": {
      "image/png": "[encoded data removed]",
      "text/plain": [
       "<Figure size 432x288 with 1 Axes>"
      ]
     },
     "metadata": {
      "needs_background": "light"
     },
     "output_type": "display_data"
    }
   ],
   "source": [
    "files.events.hist(bins=100)"
   ]
  },
  {
   "cell_type": "code",
   "execution_count": 7,
   "id": "seventh-arrest",
   "metadata": {},
   "outputs": [
    {
     "data": {
      "text/plain": [
       "1.59628525"
      ]
     },
     "execution_count": 7,
     "metadata": {},
     "output_type": "execute_result"
    }
   ],
   "source": [
    "files.events.sum() / 1e9"
   ]
  },
  {
   "cell_type": "code",
   "execution_count": 8,
   "id": "signed-pharmaceutical",
   "metadata": {},
   "outputs": [
    {
     "data": {
      "text/plain": [
       "0        root://lcg-lrz-rootd.grid.lrz.de:1094/pnfs/lrz...\n",
       "1        root://lcg-lrz-rootd.grid.lrz.de:1094/pnfs/lrz...\n",
       "2        root://lcg-lrz-rootd.grid.lrz.de:1094/pnfs/lrz...\n",
       "3        root://lcg-lrz-rootd.grid.lrz.de:1094/pnfs/lrz...\n",
       "4        root://lcg-lrz-rootd.grid.lrz.de:1094/pnfs/lrz...\n",
       "                               ...                        \n",
       "25394    root://lcg-lrz-rootd.grid.lrz.de:1094/pnfs/lrz...\n",
       "25395    root://lcg-lrz-rootd.grid.lrz.de:1094/pnfs/lrz...\n",
       "25396    root://lcg-lrz-rootd.grid.lrz.de:1094/pnfs/lrz...\n",
       "25397    root://lcg-lrz-rootd.grid.lrz.de:1094/pnfs/lrz...\n",
       "25398    root://lcg-lrz-rootd.grid.lrz.de:1094/pnfs/lrz...\n",
       "Name: url, Length: 25399, dtype: object"
      ]
     },
     "execution_count": 8,
     "metadata": {},
     "output_type": "execute_result"
    }
   ],
   "source": [
    "files.url"
   ]
  },
  {
   "cell_type": "code",
   "execution_count": 11,
   "id": "pregnant-address",
   "metadata": {},
   "outputs": [
    {
     "data": {
      "text/plain": [
       "'root://lcg-lrz-rootd.grid.lrz.de:1094/pnfs/lrz-muenchen.de/data/atlas/dq2/atlaslocalgroupdisk/rucio/data17_13TeV/26/59/DAOD_PHYSLITE.22958105._000001.pool.root.1'"
      ]
     },
     "execution_count": 11,
     "metadata": {},
     "output_type": "execute_result"
    }
   ],
   "source": [
    "files.iloc[0].url"
   ]
  },
  {
   "cell_type": "code",
   "execution_count": 13,
   "id": "current-vocabulary",
   "metadata": {},
   "outputs": [
    {
     "name": "stdout",
     "output_type": "stream",
     "text": [
      "Skipping EventInfoAuxDyn.streamTagRobs\n",
      "Skipping EventInfoAuxDyn.streamTagDets\n",
      "Can't interpret PrimaryVerticesAuxDyn.neutralParticleLinks\n",
      "Skipping AnalysisHLT_tau35_medium1_tracktwo_tau25_medium1_tracktwo_03dR30_L1DR-TAU20ITAU12I-J25AuxDyn.TrigMatchedObjects\n",
      "Skipping AnalysisHLT_tau35_medium1_tracktwo_tau25_medium1_tracktwo_L1DR-TAU20ITAU12I-J25AuxDyn.TrigMatchedObjects\n",
      "Skipping AnalysisHLT_tau35_medium1_tracktwo_tau25_medium1_tracktwo_tautsf_L1DR-TAU20ITAU12I-J25AuxDyn.TrigMatchedObjects\n",
      "Skipping AnalysisHLT_mu14_ivarloose_tau25_medium1_tracktwo_L1DR-MU10TAU12I_TAU12I-J25AuxDyn.TrigMatchedObjects\n",
      "Skipping AnalysisHLT_tau80_medium1_tracktwo_L1TAU60_tau35_medium1_tracktwo_L1TAU12IM_L1TAU60_DR-TAU20ITAU12IAuxDyn.TrigMatchedObjects\n",
      "Skipping AnalysisHLT_e17_lhmedium_nod0_ivarloose_tau25_medium1_tracktwo_L1DR-EM15TAU12I-J25AuxDyn.TrigMatchedObjects\n",
      "CPU times: user 283 ms, sys: 5.19 ms, total: 288 ms\n",
      "Wall time: 313 ms\n"
     ]
    }
   ],
   "source": [
    "%%time\n",
    "events = physlite_events(tree)"
   ]
  },
  {
   "cell_type": "code",
   "execution_count": 19,
   "id": "oriented-litigation",
   "metadata": {},
   "outputs": [
    {
     "data": {
      "text/plain": [
       "<Array [[], [], [], [], ... 3.93e+03]], [], []] type='44235 * var * var * float32'>"
      ]
     },
     "execution_count": 19,
     "metadata": {},
     "output_type": "execute_result"
    }
   ],
   "source": [
    "events.Electrons.trackParticles.pt"
   ]
  },
  {
   "cell_type": "code",
   "execution_count": 14,
   "id": "brown-caution",
   "metadata": {},
   "outputs": [
    {
     "name": "stderr",
     "output_type": "stream",
     "text": [
      "/dss/dsshome1/lxc01/ri23yub/miniconda3/envs/physlite-experiments/lib/python3.8/site-packages/awkward/_connect/_numpy.py:154: RuntimeWarning: divide by zero encountered in true_divide\n",
      "  result = getattr(ufunc, method)(\n"
     ]
    },
    {
     "name": "stdout",
     "output_type": "stream",
     "text": [
      "CPU times: user 6.87 s, sys: 1.09 s, total: 7.96 s\n",
      "Wall time: 11.7 s\n"
     ]
    }
   ],
   "source": [
    "%%time\n",
    "events_decorated = get_obj_sel(events)"
   ]
  },
  {
   "cell_type": "code",
   "execution_count": 15,
   "id": "unusual-producer",
   "metadata": {},
   "outputs": [
    {
     "data": {
      "text/plain": [
       "44235"
      ]
     },
     "execution_count": 15,
     "metadata": {},
     "output_type": "execute_result"
    }
   ],
   "source": [
    "len(events)"
   ]
  },
  {
   "cell_type": "code",
   "execution_count": 20,
   "id": "dramatic-agent",
   "metadata": {},
   "outputs": [
    {
     "name": "stdout",
     "output_type": "stream",
     "text": [
      "Skipping EventInfoAuxDyn.streamTagRobs\n",
      "Skipping EventInfoAuxDyn.streamTagDets\n",
      "Can't interpret PrimaryVerticesAuxDyn.neutralParticleLinks\n",
      "Skipping AnalysisHLT_tau35_medium1_tracktwo_tau25_medium1_tracktwo_03dR30_L1DR-TAU20ITAU12I-J25AuxDyn.TrigMatchedObjects\n",
      "Skipping AnalysisHLT_tau35_medium1_tracktwo_tau25_medium1_tracktwo_L1DR-TAU20ITAU12I-J25AuxDyn.TrigMatchedObjects\n",
      "Skipping AnalysisHLT_tau35_medium1_tracktwo_tau25_medium1_tracktwo_tautsf_L1DR-TAU20ITAU12I-J25AuxDyn.TrigMatchedObjects\n",
      "Skipping AnalysisHLT_mu14_ivarloose_tau25_medium1_tracktwo_L1DR-MU10TAU12I_TAU12I-J25AuxDyn.TrigMatchedObjects\n",
      "Skipping AnalysisHLT_tau80_medium1_tracktwo_L1TAU60_tau35_medium1_tracktwo_L1TAU12IM_L1TAU60_DR-TAU20ITAU12IAuxDyn.TrigMatchedObjects\n",
      "Skipping AnalysisHLT_e17_lhmedium_nod0_ivarloose_tau25_medium1_tracktwo_L1DR-EM15TAU12I-J25AuxDyn.TrigMatchedObjects\n"
     ]
    }
   ],
   "source": [
    "form = json.dumps(get_lazy_form(get_branch_forms(tree)))"
   ]
  },
  {
   "cell_type": "code",
   "execution_count": 22,
   "id": "electronic-viewer",
   "metadata": {},
   "outputs": [],
   "source": [
    "def subdivide(l, n):\n",
    "    return [l // n + 1] * (l % n) + [l // n] * (n - l % n)"
   ]
  },
  {
   "cell_type": "code",
   "execution_count": 119,
   "id": "backed-princeton",
   "metadata": {},
   "outputs": [],
   "source": [
    "def run(filename, max_chunksize=10000):\n",
    "    output = {\n",
    "        collection: {\n",
    "            flag : 0\n",
    "            for flag in [\"baseline\", \"passOR\", \"signal\"]\n",
    "        } for collection in [\"Electrons\", \"Muons\", \"Jets\"]\n",
    "    }\n",
    "    nevents = 0\n",
    "    with uproot.open(\n",
    "        f\"{filename}:CollectionTree\",\n",
    "        array_cache=None,\n",
    "        #xrootd_handler=uproot.MultithreadedXRootDSource\n",
    "        xrootd_handler=uproot.XRootDSource\n",
    "    ) as tree:\n",
    "        if tree.num_entries > max_chunksize:\n",
    "            n_chunks = tree.num_entries // max_chunksize\n",
    "        else:\n",
    "            n_chunks = 1\n",
    "        # now global\n",
    "        #form = json.dumps(get_lazy_form(get_branch_forms(tree)))\n",
    "        entry_start = 0\n",
    "        for num_entries in subdivide(tree.num_entries, n_chunks):\n",
    "            entry_stop = entry_start + num_entries\n",
    "            container = LazyGet(\n",
    "                tree, entry_start=entry_start, entry_stop=entry_stop\n",
    "            )\n",
    "            factory = Factory(form, entry_stop - entry_start, container)\n",
    "            events = factory.events\n",
    "            events_decorated = get_obj_sel(events)\n",
    "            entry_start = entry_stop\n",
    "            for collection in output:\n",
    "                for flag in output[collection]:\n",
    "                    output[collection][flag] += ak.count_nonzero(\n",
    "                        events_decorated[collection][flag]\n",
    "                    )\n",
    "            nevents += len(events)\n",
    "    return output, nevents"
   ]
  },
  {
   "cell_type": "code",
   "execution_count": 74,
   "id": "piano-edwards",
   "metadata": {},
   "outputs": [
    {
     "name": "stderr",
     "output_type": "stream",
     "text": [
      "/dss/dsshome1/lxc01/ri23yub/miniconda3/envs/physlite-experiments/lib/python3.8/site-packages/awkward/_connect/_numpy.py:154: RuntimeWarning: divide by zero encountered in true_divide\n",
      "  result = getattr(ufunc, method)(\n"
     ]
    },
    {
     "name": "stdout",
     "output_type": "stream",
     "text": [
      "CPU times: user 9.78 s, sys: 312 ms, total: 10.1 s\n",
      "Wall time: 10.1 s\n"
     ]
    },
    {
     "data": {
      "text/plain": [
       "({'Electrons': {'baseline': 4776, 'passOR': 4736, 'signal': 3618},\n",
       "  'Muons': {'baseline': 8716, 'passOR': 6495, 'signal': 4729},\n",
       "  'Jets': {'baseline': 249948, 'passOR': 243251, 'signal': 217148}},\n",
       " 43735)"
      ]
     },
     "execution_count": 74,
     "metadata": {},
     "output_type": "execute_result"
    }
   ],
   "source": [
    "%%time\n",
    "run(files.iloc[1].url)"
   ]
  },
  {
   "cell_type": "code",
   "execution_count": 26,
   "id": "brutal-pilot",
   "metadata": {},
   "outputs": [],
   "source": [
    "from dask.distributed import Client\n",
    "from dask_jobqueue import SLURMCluster"
   ]
  },
  {
   "cell_type": "code",
   "execution_count": 27,
   "id": "straight-lithuania",
   "metadata": {},
   "outputs": [],
   "source": [
    "cluster = SLURMCluster(walltime=\"02:00:00\", memory=\"2GB\")\n",
    "#cluster = SLURMCluster()"
   ]
  },
  {
   "cell_type": "code",
   "execution_count": 28,
   "id": "residential-positive",
   "metadata": {},
   "outputs": [
    {
     "name": "stdout",
     "output_type": "stream",
     "text": [
      "#!/usr/bin/env bash\n",
      "\n",
      "#SBATCH -J dask-worker\n",
      "#SBATCH -n 1\n",
      "#SBATCH --cpus-per-task=1\n",
      "#SBATCH --mem=2G\n",
      "#SBATCH -t 02:00:00\n",
      "#SBATCH --clusters=lcg\n",
      "#SBATCH --partition=lcg_serial\n",
      "#SBATCH --qos=lcg_add\n",
      "\n",
      "/dss/dsshome1/lxc01/ri23yub/miniconda3/envs/physlite-experiments/bin/python3.8 -m distributed.cli.dask_worker tcp://10.156.79.101:40205 --nthreads 1 --memory-limit 2.00GB --name dummy-name --nanny --death-timeout 60 --local-directory $TMPDIR --protocol tcp://\n",
      "\n"
     ]
    }
   ],
   "source": [
    "print(cluster.job_script())"
   ]
  },
  {
   "cell_type": "code",
   "execution_count": 29,
   "id": "primary-recall",
   "metadata": {},
   "outputs": [],
   "source": [
    "client = Client(cluster)"
   ]
  },
  {
   "cell_type": "code",
   "execution_count": 144,
   "id": "engaged-airplane",
   "metadata": {},
   "outputs": [
    {
     "name": "stderr",
     "output_type": "stream",
     "text": [
      "distributed.scheduler - ERROR - Nannies didn't report back restarted within timeout.  Continuuing with restart process\n"
     ]
    },
    {
     "data": {
      "text/html": [
       "<table style=\"border: 2px solid white;\">\n",
       "<tr>\n",
       "<td style=\"vertical-align: top; border: 0px solid white\">\n",
       "<h3 style=\"text-align: left;\">Client</h3>\n",
       "<ul style=\"text-align: left; list-style: none; margin: 0; padding: 0;\">\n",
       "  <li><b>Scheduler: </b>tcp://10.156.79.101:40205</li>\n",
       "  <li><b>Dashboard: </b><a href='/proxy/8787/status' target='_blank'>/proxy/8787/status</a></li>\n",
       "</ul>\n",
       "</td>\n",
       "<td style=\"vertical-align: top; border: 0px solid white\">\n",
       "<h3 style=\"text-align: left;\">Cluster</h3>\n",
       "<ul style=\"text-align: left; list-style:none; margin: 0; padding: 0;\">\n",
       "  <li><b>Workers: </b>146</li>\n",
       "  <li><b>Cores: </b>146</li>\n",
       "  <li><b>Memory: </b>292.00 GB</li>\n",
       "</ul>\n",
       "</td>\n",
       "</tr>\n",
       "</table>"
      ],
      "text/plain": [
       "<Client: 'tcp://10.156.79.101:40205' processes=144 threads=144, memory=288.00 GB>"
      ]
     },
     "execution_count": 144,
     "metadata": {},
     "output_type": "execute_result"
    }
   ],
   "source": [
    "client.restart()"
   ]
  },
  {
   "cell_type": "code",
   "execution_count": 107,
   "id": "elect-measure",
   "metadata": {},
   "outputs": [],
   "source": [
    "cluster.scale(200)"
   ]
  },
  {
   "cell_type": "code",
   "execution_count": 32,
   "id": "incredible-appointment",
   "metadata": {},
   "outputs": [
    {
     "data": {
      "application/vnd.jupyter.widget-view+json": {
       "model_id": "4ba3ab5aab234662a0037f7a4fe00cbd",
       "version_major": 2,
       "version_minor": 0
      },
      "text/plain": [
       "VBox(children=(HTML(value='<h2>SLURMCluster</h2>'), HBox(children=(HTML(value='\\n<div>\\n  <style scoped>\\n    …"
      ]
     },
     "metadata": {},
     "output_type": "display_data"
    }
   ],
   "source": [
    "cluster"
   ]
  },
  {
   "cell_type": "code",
   "execution_count": 145,
   "id": "veterinary-tuesday",
   "metadata": {},
   "outputs": [],
   "source": [
    "perm = np.random.permutation(len(files))"
   ]
  },
  {
   "cell_type": "code",
   "execution_count": 146,
   "id": "black-chart",
   "metadata": {},
   "outputs": [],
   "source": [
    "from dask.distributed import performance_report\n",
    "\n",
    "with performance_report(filename=\"dask-report-2.html\"):\n",
    "    start_time = time()\n",
    "    futures = client.map(run, files.url.iloc[perm[:1000]])\n",
    "    res = client.gather(futures)\n",
    "    duration = time() - start_time"
   ]
  },
  {
   "cell_type": "code",
   "execution_count": 147,
   "id": "consolidated-schedule",
   "metadata": {},
   "outputs": [
    {
     "data": {
      "text/plain": [
       "160.4557957649231"
      ]
     },
     "execution_count": 147,
     "metadata": {},
     "output_type": "execute_result"
    }
   ],
   "source": [
    "duration"
   ]
  },
  {
   "cell_type": "code",
   "execution_count": 148,
   "id": "interracial-battlefield",
   "metadata": {},
   "outputs": [
    {
     "data": {
      "text/plain": [
       "({'Electrons': {'baseline': 4239, 'passOR': 4207, 'signal': 3165},\n",
       "  'Muons': {'baseline': 6690, 'passOR': 5041, 'signal': 3848},\n",
       "  'Jets': {'baseline': 102910, 'passOR': 97594, 'signal': 97657}},\n",
       " 34122)"
      ]
     },
     "execution_count": 148,
     "metadata": {},
     "output_type": "execute_result"
    }
   ],
   "source": [
    "res[0]"
   ]
  },
  {
   "cell_type": "code",
   "execution_count": 149,
   "id": "cooperative-finance",
   "metadata": {},
   "outputs": [],
   "source": [
    "sum_res = {k : {flag : sum([r[0][k][flag] for r in res]) for flag in v} for k, v in res[0][0].items()}"
   ]
  },
  {
   "cell_type": "code",
   "execution_count": 150,
   "id": "equipped-chaos",
   "metadata": {},
   "outputs": [
    {
     "data": {
      "text/plain": [
       "{'Electrons': {'baseline': 7219593, 'passOR': 7151990, 'signal': 5346621},\n",
       " 'Muons': {'baseline': 12513568, 'passOR': 9322692, 'signal': 6907595},\n",
       " 'Jets': {'baseline': 310369074, 'passOR': 300607074, 'signal': 274724281}}"
      ]
     },
     "execution_count": 150,
     "metadata": {},
     "output_type": "execute_result"
    }
   ],
   "source": [
    "sum_res"
   ]
  },
  {
   "cell_type": "code",
   "execution_count": 151,
   "id": "imposed-monthly",
   "metadata": {},
   "outputs": [
    {
     "data": {
      "text/plain": [
       "62890146"
      ]
     },
     "execution_count": 151,
     "metadata": {},
     "output_type": "execute_result"
    }
   ],
   "source": [
    "sum_events = sum([r[1] for r in res])\n",
    "sum_events"
   ]
  },
  {
   "cell_type": "code",
   "execution_count": 153,
   "id": "entire-jimmy",
   "metadata": {},
   "outputs": [
    {
     "data": {
      "text/plain": [
       "1999.728899209255"
      ]
     },
     "execution_count": 153,
     "metadata": {},
     "output_type": "execute_result"
    }
   ],
   "source": [
    "sum_events / duration / len(client.nthreads())"
   ]
  }
 ],
 "metadata": {
  "kernelspec": {
   "display_name": "Python 3",
   "language": "python",
   "name": "python3"
  },
  "language_info": {
   "codemirror_mode": {
    "name": "ipython",
    "version": 3
   },
   "file_extension": ".py",
   "mimetype": "text/x-python",
   "name": "python",
   "nbconvert_exporter": "python",
   "pygments_lexer": "ipython3",
   "version": "3.8.0"
  }
 },
 "nbformat": 4,
 "nbformat_minor": 5
}
