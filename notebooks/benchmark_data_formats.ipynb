{
 "cells": [
  {
   "cell_type": "code",
   "execution_count": 1,
   "id": "specialized-proposal",
   "metadata": {},
   "outputs": [],
   "source": [
    "import uproot\n",
    "from physlite_experiments.deserialization_hacks import tree_arrays\n",
    "import awkward as ak\n",
    "import numpy as np\n",
    "import time\n",
    "import os\n",
    "import h5py\n",
    "from functools import partial\n",
    "import timeit"
   ]
  },
  {
   "cell_type": "code",
   "execution_count": 2,
   "id": "economic-preliminary",
   "metadata": {},
   "outputs": [],
   "source": [
    "def filter_branch(branch):\n",
    "        k = branch.name\n",
    "\n",
    "        if not \"Aux\" in k:\n",
    "            return False\n",
    "\n",
    "        # the following don't contain data (in split files)\n",
    "        if k.endswith(\".\"):\n",
    "            return False\n",
    "        if \"SG::\" in k:\n",
    "            return False\n",
    "        if k.endswith(\"Base\"):\n",
    "            return False\n",
    "\n",
    "        # are often empty\n",
    "        # see https://github.com/scikit-hep/uproot4/issues/126\n",
    "        # -> now fixed, but my custom deserialization does not work yet with them\n",
    "        if \"DescrTags\" in k:\n",
    "            return False\n",
    "        \n",
    "        return True"
   ]
  },
  {
   "cell_type": "code",
   "execution_count": 3,
   "id": "hazardous-consolidation",
   "metadata": {},
   "outputs": [],
   "source": [
    "def regroup(array_dict):\n",
    "    regrouped = {}\n",
    "    for k_top in set(k.split(\".\")[0] for k in array_dict):\n",
    "        if k_top == \"EventInfoAux\":\n",
    "            # skip that for now - let's use EventInfoAuxDyn\n",
    "            continue\n",
    "        if k_top == \"EventInfoAuxDyn\":\n",
    "            k_top = \"EventInfoAux\"\n",
    "        # zip will put together jagged arrays with common offsets\n",
    "        def ak_zip(depth_limit=2):\n",
    "            return ak.zip(\n",
    "                {k.replace(k_top, \"\")[1:] : array_dict[k] for k in array_dict if k_top in k},\n",
    "                depth_limit=depth_limit\n",
    "            )\n",
    "        # for some containers this will work 2 levels, for some only up to 1\n",
    "        try:\n",
    "            v = ak_zip(depth_limit=2)\n",
    "        except ValueError:\n",
    "            v = ak_zip(depth_limit=1)\n",
    "        regrouped[k_top.replace(\"AuxDyn\", \"\").replace(\"Aux\", \"\")] = v\n",
    "    # lets restructure such that we get TrigMatchedObjets.<trigger-name>\n",
    "    # instead of AnalysisHLT_<trigger_name>.TrigMatchedObjects\n",
    "    trig_matched_objects = ak.zip(\n",
    "        {\n",
    "            k.replace(\"AnalysisHLT_\", \"\") : regrouped[k].TrigMatchedObjects\n",
    "            for k in regrouped if \"AnalysisHLT\" in k\n",
    "        },\n",
    "        depth_limit=1\n",
    "    )\n",
    "    for k in list(regrouped.keys()):\n",
    "        if \"AnalysisHLT\" in k:\n",
    "            regrouped.pop(k)\n",
    "    regrouped[\"TrigMatchedObjects\"] = trig_matched_objects\n",
    "    return ak.zip(regrouped, depth_limit=1)"
   ]
  },
  {
   "cell_type": "code",
   "execution_count": 4,
   "id": "essential-valuable",
   "metadata": {},
   "outputs": [],
   "source": [
    "rootfile = \"user.nihartma.22884623.EXT0._000001.DAOD_PHYSLITE.test.pool.root\"\n",
    "rootfile_large_baskets = \"/home/nikolai/code/AODCompressedFileCreation/run/DAOD_PHYSLITE.zlib_lvl5_basket1073741824_flush10000_split99__AOD.14795494._005958/DAOD_PHYSLITE.DAOD_PHYSLITE.zlib_lvl5_basket1073741824_flush10000_split99__AOD.14795494._005958.pool.root\""
   ]
  },
  {
   "cell_type": "code",
   "execution_count": 5,
   "id": "alive-insurance",
   "metadata": {},
   "outputs": [
    {
     "name": "stdout",
     "output_type": "stream",
     "text": [
      "CPU times: user 6.35 s, sys: 193 ms, total: 6.54 s\n",
      "Wall time: 6.57 s\n"
     ]
    }
   ],
   "source": [
    "%%time\n",
    "# file from user.nihartma.physlite_test_ttbar_split99.001_EXT0\n",
    "f = uproot.open(rootfile)\n",
    "tree = f[\"CollectionTree\"]\n",
    "array_dict = tree_arrays(tree, filter_branch=filter_branch)"
   ]
  },
  {
   "cell_type": "code",
   "execution_count": 6,
   "id": "anticipated-syracuse",
   "metadata": {},
   "outputs": [],
   "source": [
    "events = ak.zip(array_dict, depth_limit=1)"
   ]
  },
  {
   "cell_type": "code",
   "execution_count": 7,
   "id": "brief-robert",
   "metadata": {},
   "outputs": [],
   "source": [
    "events_regrouped = regroup(array_dict)"
   ]
  },
  {
   "cell_type": "code",
   "execution_count": 8,
   "id": "respiratory-border",
   "metadata": {},
   "outputs": [],
   "source": [
    "ak.to_parquet(events, \"events_benchmark.parquet\")"
   ]
  },
  {
   "cell_type": "code",
   "execution_count": 9,
   "id": "beginning-directory",
   "metadata": {},
   "outputs": [],
   "source": [
    "ak.to_parquet(events_regrouped, \"events_benchmark_regrouped.parquet\")"
   ]
  },
  {
   "cell_type": "code",
   "execution_count": 10,
   "id": "sunset-faculty",
   "metadata": {},
   "outputs": [],
   "source": [
    "def write_hdf(filename, events, compression=\"lzf\"):\n",
    "    form, length, container = ak.to_buffers(events)\n",
    "    with h5py.File(filename, \"w\") as file:\n",
    "        group = file.create_group(\"awkward\")\n",
    "        for k in container:\n",
    "            v = container[k]\n",
    "            group.create_dataset(k, shape=v.shape, dtype=v.dtype, data=v, compression=compression)\n",
    "        group.attrs[\"form\"] = form.tojson()\n",
    "        group.attrs[\"length\"] = length"
   ]
  },
  {
   "cell_type": "code",
   "execution_count": 11,
   "id": "northern-terrorist",
   "metadata": {},
   "outputs": [],
   "source": [
    "write_hdf(\"events_benchmark_lzf.h5\", events, compression=\"lzf\")"
   ]
  },
  {
   "cell_type": "code",
   "execution_count": 12,
   "id": "jewish-taste",
   "metadata": {},
   "outputs": [],
   "source": [
    "write_hdf(\"events_benchmark_lzf_regrouped.h5\", events_regrouped, compression=\"lzf\")"
   ]
  },
  {
   "cell_type": "code",
   "execution_count": 13,
   "id": "impaired-pharmacy",
   "metadata": {},
   "outputs": [],
   "source": [
    "write_hdf(\"events_benchmark_gzip.h5\", events, compression=\"gzip\")"
   ]
  },
  {
   "cell_type": "code",
   "execution_count": 14,
   "id": "critical-russell",
   "metadata": {},
   "outputs": [],
   "source": [
    "write_hdf(\"events_benchmark_gzip_regrouped.h5\", events_regrouped, compression=\"gzip\")"
   ]
  },
  {
   "cell_type": "code",
   "execution_count": 15,
   "id": "divided-pride",
   "metadata": {},
   "outputs": [],
   "source": [
    "def write_npz(filename, events):\n",
    "    form, length, container = ak.to_buffers(events)\n",
    "    npz_container = dict(container, form=np.array(form.tojson()), length=np.array(length))\n",
    "    np.savez_compressed(filename, **npz_container)"
   ]
  },
  {
   "cell_type": "code",
   "execution_count": 16,
   "id": "pleased-charge",
   "metadata": {},
   "outputs": [],
   "source": [
    "write_npz(\"events_benchmark.npz\", events)"
   ]
  },
  {
   "cell_type": "code",
   "execution_count": 17,
   "id": "removable-hobby",
   "metadata": {},
   "outputs": [],
   "source": [
    "write_npz(\"events_benchmark_regrouped.npz\", events_regrouped)"
   ]
  },
  {
   "cell_type": "code",
   "execution_count": 18,
   "id": "modern-tampa",
   "metadata": {},
   "outputs": [],
   "source": [
    "def benchmark_root(rootfile):\n",
    "    f = uproot.open(rootfile)\n",
    "    tree = f[\"CollectionTree\"]\n",
    "    array_dict = tree_arrays(tree, filter_branch=filter_branch)"
   ]
  },
  {
   "cell_type": "code",
   "execution_count": 19,
   "id": "beginning-trigger",
   "metadata": {},
   "outputs": [],
   "source": [
    "def benchmark_parquet(filename):\n",
    "    return ak.from_parquet(filename)"
   ]
  },
  {
   "cell_type": "code",
   "execution_count": 20,
   "id": "whole-passion",
   "metadata": {},
   "outputs": [],
   "source": [
    "def benchmark_hdf(filename):\n",
    "    with h5py.File(filename, \"r\") as file:\n",
    "        group = file[\"awkward\"]\n",
    "        reconstituted = ak.from_buffers(\n",
    "            ak.forms.Form.fromjson(group.attrs[\"form\"]),\n",
    "            group.attrs[\"length\"],\n",
    "            {k: np.asarray(v) for k, v in group.items()},\n",
    "        )"
   ]
  },
  {
   "cell_type": "code",
   "execution_count": 21,
   "id": "closing-arbitration",
   "metadata": {},
   "outputs": [],
   "source": [
    "def benchmark_npz(filename):\n",
    "    with np.load(filename) as npf:\n",
    "        container = dict(npf.items())\n",
    "        form = ak.forms.Form.fromjson(str(container.pop(\"form\")))\n",
    "        length = int(container.pop(\"length\"))\n",
    "        return ak.from_buffers(\n",
    "            form,\n",
    "            length,\n",
    "            container\n",
    "        )"
   ]
  },
  {
   "cell_type": "code",
   "execution_count": 37,
   "id": "perceived-conversation",
   "metadata": {},
   "outputs": [
    {
     "name": "stdout",
     "output_type": "stream",
     "text": [
      "Running benchmark for root\n",
      "Running benchmark for root_largebasket\n",
      "Running benchmark for npz\n",
      "Running benchmark for npz_dedup\n",
      "Running benchmark for hdf_lzf\n",
      "Running benchmark for hdf_lzf_dedup\n",
      "Running benchmark for hdf_gzip\n",
      "Running benchmark for hdf_gzip_dedup\n",
      "Running benchmark for parquet\n",
      "Running benchmark for parquet_dedup\n"
     ]
    }
   ],
   "source": [
    "timings = {}\n",
    "for label, f_benchmark, filename in [\n",
    "    (\"root\", benchmark_root, rootfile),\n",
    "    (\"root_largebasket\", benchmark_root, rootfile_large_baskets),\n",
    "    (\"npz\", benchmark_npz, \"events_benchmark.npz\"),\n",
    "    (\"npz_dedup\", benchmark_npz, \"events_benchmark_regrouped.npz\"),\n",
    "    (\"hdf_lzf\", benchmark_hdf, \"events_benchmark_lzf.h5\"),\n",
    "    (\"hdf_lzf_dedup\", benchmark_hdf, \"events_benchmark_lzf_regrouped.h5\"),\n",
    "    (\"hdf_gzip\", benchmark_hdf, \"events_benchmark_gzip.h5\"),\n",
    "    (\"hdf_gzip_dedup\", benchmark_hdf, \"events_benchmark_gzip_regrouped.h5\"),\n",
    "    (\"parquet\", benchmark_parquet, \"events_benchmark.parquet\"),\n",
    "    (\"parquet_dedup\", benchmark_parquet, \"events_benchmark_regrouped.parquet\"),\n",
    "]:\n",
    "    print(\"Running benchmark for\", label)\n",
    "    timings[label] = timeit.Timer(partial(f_benchmark, filename)).repeat(number=1, repeat=5)"
   ]
  },
  {
   "cell_type": "code",
   "execution_count": 116,
   "id": "general-ceramic",
   "metadata": {},
   "outputs": [
    {
     "data": {
      "image/png": "[encoded data removed]",
      "text/plain": [
       "<Figure size 432x288 with 1 Axes>"
      ]
     },
     "metadata": {
      "needs_background": "light"
     },
     "output_type": "display_data"
    }
   ],
   "source": [
    "colors = {\n",
    "    \"root\" : \"C0\",\n",
    "    \"npz\" : \"C1\",\n",
    "    \"hdf\" : \"C2\",\n",
    "    \"parquet\" : \"C3\"\n",
    "}\n",
    "for k, vs in timings.items():\n",
    "    if \"dedup\" in k:\n",
    "        alpha=0.5\n",
    "    else:\n",
    "        alpha = 1\n",
    "    desc = k\n",
    "    plt.bar([desc], [min(vs)], color=colors[k.split(\"_\")[0]], alpha=alpha)\n",
    "    plt.scatter([desc] * len(vs), vs, marker=\".\", color=\"black\")\n",
    "plt.xticks(rotation=90);\n",
    "for x in np.arange(0.5, len(timings) - 1, 1):\n",
    "    plt.axvline(x, color=\"black\", linewidth=1)\n",
    "plt.grid(axis=\"y\")"
   ]
  },
  {
   "cell_type": "code",
   "execution_count": null,
   "id": "narrative-insight",
   "metadata": {},
   "outputs": [],
   "source": []
  }
 ],
 "metadata": {
  "kernelspec": {
   "display_name": "Python 3",
   "language": "python",
   "name": "python3"
  },
  "language_info": {
   "codemirror_mode": {
    "name": "ipython",
    "version": 3
   },
   "file_extension": ".py",
   "mimetype": "text/x-python",
   "name": "python",
   "nbconvert_exporter": "python",
   "pygments_lexer": "ipython3",
   "version": "3.9.5"
  },
  "toc": {
   "base_numbering": 1,
   "nav_menu": {},
   "number_sections": true,
   "sideBar": true,
   "skip_h1_title": false,
   "title_cell": "Table of Contents",
   "title_sidebar": "Contents",
   "toc_cell": false,
   "toc_position": {},
   "toc_section_display": true,
   "toc_window_display": false
  }
 },
 "nbformat": 4,
 "nbformat_minor": 5
}
