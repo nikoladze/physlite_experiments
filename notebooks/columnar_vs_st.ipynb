{
 "cells": [
  {
   "cell_type": "code",
   "execution_count": 1,
   "id": "atlantic-prompt",
   "metadata": {},
   "outputs": [],
   "source": [
    "import uproot\n",
    "import awkward as ak\n",
    "import numpy as np\n",
    "import matplotlib.pyplot as plt\n",
    "import pandas as pd\n",
    "from physlite_experiments.physlite_events import physlite_events, get_branch_forms, get_lazy_form\n",
    "from physlite_experiments.analysis_example import *"
   ]
  },
  {
   "cell_type": "code",
   "execution_count": 2,
   "id": "sapphire-singapore",
   "metadata": {},
   "outputs": [
    {
     "name": "stdout",
     "output_type": "stream",
     "text": [
      "CPU times: user 1.08 s, sys: 13.3 ms, total: 1.09 s\n",
      "Wall time: 1.09 s\n"
     ]
    }
   ],
   "source": [
    "%%time\n",
    "filename = \"/home/nikolai/data/user.elmsheus.21230205.EXT0._000002.DAOD_PHYSLITE.mc.pool.root\"\n",
    "#filename = \"root://lcg-lrz-rootd.grid.lrz.de:1094/pnfs/lrz-muenchen.de/data/atlas/dq2/atlaslocalgroupdisk/rucio/data17_13TeV/16/cb/DAOD_PHYSLITE.22958312._001037.pool.root.1\"\n",
    "tree = uproot.open(f\"{filename}:CollectionTree\")"
   ]
  },
  {
   "cell_type": "code",
   "execution_count": 3,
   "id": "reduced-sherman",
   "metadata": {},
   "outputs": [
    {
     "name": "stdout",
     "output_type": "stream",
     "text": [
      "Skipping EventInfoAuxDyn.streamTagRobs\n",
      "Skipping EventInfoAuxDyn.streamTagDets\n",
      "Skipping EventInfoAuxDyn.subEventTime\n",
      "Skipping EventInfoAuxDyn.subEventIndex\n",
      "Skipping EventInfoAuxDyn.subEventLink\n",
      "Skipping EventInfoAuxDyn.subEventLink/EventInfoAuxDyn.subEventLink.m_persKey\n",
      "Skipping EventInfoAuxDyn.subEventLink/EventInfoAuxDyn.subEventLink.m_persIndex\n",
      "Skipping EventInfoAuxDyn.subEventType\n",
      "Can't interpret PrimaryVerticesAuxDyn.neutralParticleLinks\n",
      "Skipping AnalysisHLT_mu14_ivarloose_tau25_medium1_tracktwo_L1DR-MU10TAU12I_TAU12I-J25AuxDyn.TrigMatchedObjects\n",
      "Skipping AnalysisHLT_e17_lhmedium_nod0_ivarloose_tau25_medium1_tracktwo_L1DR-EM15TAU12I-J25AuxDyn.TrigMatchedObjects\n",
      "Skipping AnalysisHLT_tau35_medium1_tracktwo_tau25_medium1_tracktwo_03dR30_L1DR-TAU20ITAU12I-J25AuxDyn.TrigMatchedObjects\n",
      "Skipping AnalysisHLT_tau35_medium1_tracktwo_tau25_medium1_tracktwo_L1DR-TAU20ITAU12I-J25AuxDyn.TrigMatchedObjects\n",
      "Skipping AnalysisHLT_tau35_medium1_tracktwo_tau25_medium1_tracktwo_tautsf_L1DR-TAU20ITAU12I-J25AuxDyn.TrigMatchedObjects\n",
      "Skipping AnalysisHLT_tau80_medium1_tracktwo_L1TAU60_tau35_medium1_tracktwo_L1TAU12IM_L1TAU60_DR-TAU20ITAU12IAuxDyn.TrigMatchedObjects\n",
      "CPU times: user 377 ms, sys: 4.11 ms, total: 381 ms\n",
      "Wall time: 378 ms\n"
     ]
    }
   ],
   "source": [
    "%%time\n",
    "events = physlite_events(tree, verbose=True)"
   ]
  },
  {
   "cell_type": "code",
   "execution_count": 4,
   "id": "informal-exercise",
   "metadata": {},
   "outputs": [
    {
     "name": "stdout",
     "output_type": "stream",
     "text": [
      "Loading part0-PrimaryVerticesAuxDyn.trackParticleLinks%offsets-offsets\n",
      "Cache miss for  PrimaryVerticesAuxDyn.trackParticleLinks\n",
      "Loading part0-AnalysisElectronsAuxDyn.trackParticleLinks%offsets-offsets\n",
      "Cache miss for  AnalysisElectronsAuxDyn.trackParticleLinks\n",
      "Loading part0-AnalysisElectronsAuxDyn.DFCommonElectronsLHLooseBL%content-data\n",
      "Cache miss for  AnalysisElectronsAuxDyn.DFCommonElectronsLHLooseBL\n",
      "Loading part0-AnalysisElectronsAuxDyn.pt%content-data\n",
      "Cache miss for  AnalysisElectronsAuxDyn.pt\n",
      "Loading part0-AnalysisElectronsAuxDyn.eta%content-data\n",
      "Cache miss for  AnalysisElectronsAuxDyn.eta\n",
      "Loading part0-AnalysisElectronsAuxDyn.DFCommonElectronsLHTight%content-data\n",
      "Cache miss for  AnalysisElectronsAuxDyn.DFCommonElectronsLHTight\n",
      "Loading part0-AnalysisElectronsAuxDyn.topoetcone20%content-data\n",
      "Cache miss for  AnalysisElectronsAuxDyn.topoetcone20\n",
      "Loading part0-AnalysisElectronsAuxDyn.ptvarcone20_TightTTVA_pt1000%content-data\n",
      "Cache miss for  AnalysisElectronsAuxDyn.ptvarcone20_TightTTVA_pt1000\n",
      "Loading part0-AnalysisMuonsAuxDyn.pt%offsets-offsets\n",
      "Cache miss for  AnalysisMuonsAuxDyn.pt\n",
      "Loading part0-AnalysisMuonsAuxDyn.combinedTrackParticleLink.m_persKey%content-data\n",
      "Cache miss for  AnalysisMuonsAuxDyn.combinedTrackParticleLink.m_persKey\n",
      "Loading part0-AnalysisMuonsAuxDyn.combinedTrackParticleLink.m_persIndex%content-data\n",
      "Cache miss for  AnalysisMuonsAuxDyn.combinedTrackParticleLink.m_persIndex\n",
      "Loading part0-CombinedMuonTrackParticlesAuxDyn.truthOrigin%offsets-offsets\n",
      "Cache miss for  CombinedMuonTrackParticlesAuxDyn.truthOrigin\n",
      "Loading part0-AnalysisMuonsAuxDyn.DFCommonGoodMuon%content-data\n",
      "Cache miss for  AnalysisMuonsAuxDyn.DFCommonGoodMuon\n",
      "Loading part0-AnalysisMuonsAuxDyn.pt%content-data\n",
      "Loading part0-AnalysisMuonsAuxDyn.eta%content-data\n",
      "Cache miss for  AnalysisMuonsAuxDyn.eta\n",
      "Loading part0-AnalysisMuonsAuxDyn.topoetcone20%content-data\n",
      "Cache miss for  AnalysisMuonsAuxDyn.topoetcone20\n",
      "Loading part0-AnalysisMuonsAuxDyn.ptvarcone30%content-data\n",
      "Cache miss for  AnalysisMuonsAuxDyn.ptvarcone30\n",
      "Loading part0-AnalysisJetsAuxDyn.pt%offsets-offsets\n",
      "Cache miss for  AnalysisJetsAuxDyn.pt\n",
      "Loading part0-AnalysisJetsAuxDyn.pt%content-data\n",
      "Loading part0-AnalysisJetsAuxDyn.Jvt%content-data\n",
      "Cache miss for  AnalysisJetsAuxDyn.Jvt\n",
      "Loading part0-AnalysisJetsAuxDyn.eta%content-data\n",
      "Cache miss for  AnalysisJetsAuxDyn.eta\n",
      "Loading part0-CombinedMuonTrackParticlesAuxDyn.qOverP%content-data\n",
      "Cache miss for  CombinedMuonTrackParticlesAuxDyn.qOverP\n",
      "Loading part0-CombinedMuonTrackParticlesAuxDyn.theta%content-data\n",
      "Cache miss for  CombinedMuonTrackParticlesAuxDyn.theta\n",
      "Loading part0-CombinedMuonTrackParticlesAuxDyn.phi%content-data\n",
      "Cache miss for  CombinedMuonTrackParticlesAuxDyn.phi\n",
      "Loading part0-AnalysisJetsAuxDyn.NumTrkPt500%content%offsets-offsets\n",
      "Cache miss for  AnalysisJetsAuxDyn.NumTrkPt500\n",
      "Loading part0-AnalysisJetsAuxDyn.NumTrkPt500%content%content-data\n",
      "Loading part0-AnalysisJetsAuxDyn.SumPtTrkPt500%content%offsets-offsets\n",
      "Cache miss for  AnalysisJetsAuxDyn.SumPtTrkPt500\n",
      "Loading part0-AnalysisJetsAuxDyn.SumPtTrkPt500%content%content-data\n",
      "Loading part0-AnalysisMuonsAuxDyn.topoetcone40%content-data\n",
      "Cache miss for  AnalysisMuonsAuxDyn.topoetcone40\n"
     ]
    },
    {
     "name": "stderr",
     "output_type": "stream",
     "text": [
      "/home/nikolai/.conda/envs/physlite-experiments/lib/python3.8/site-packages/awkward/_connect/_numpy.py:154: RuntimeWarning: divide by zero encountered in true_divide\n",
      "  result = getattr(ufunc, method)(\n"
     ]
    },
    {
     "name": "stdout",
     "output_type": "stream",
     "text": [
      "Loading part0-AnalysisJetsAuxDyn.phi%content-data\n",
      "Cache miss for  AnalysisJetsAuxDyn.phi\n",
      "Loading part0-AnalysisMuonsAuxDyn.phi%content-data\n",
      "Cache miss for  AnalysisMuonsAuxDyn.phi\n",
      "Loading part0-AnalysisElectronsAuxDyn.phi%content-data\n",
      "Cache miss for  AnalysisElectronsAuxDyn.phi\n",
      "Loading part0-AnalysisJetsAuxDyn.GhostTrack%content%offsets-offsets\n",
      "Cache miss for  AnalysisJetsAuxDyn.GhostTrack\n",
      "Loading part0-AnalysisJetsAuxDyn.GhostTrack%content%m_persKey%content-data\n",
      "Loading part0-AnalysisMuonsAuxDyn.inDetTrackParticleLink.m_persKey%content-data\n",
      "Cache miss for  AnalysisMuonsAuxDyn.inDetTrackParticleLink.m_persKey\n",
      "Loading part0-AnalysisMuonsAuxDyn.inDetTrackParticleLink.m_persIndex%content-data\n",
      "Cache miss for  AnalysisMuonsAuxDyn.inDetTrackParticleLink.m_persIndex\n",
      "Loading part0-AnalysisJetsAuxDyn.GhostTrack%content%m_persIndex%content-data\n",
      "CPU times: user 3.75 s, sys: 1.02 s, total: 4.77 s\n",
      "Wall time: 3.78 s\n"
     ]
    }
   ],
   "source": [
    "%%time\n",
    "evt_ak = get_obj_sel(events)"
   ]
  },
  {
   "cell_type": "code",
   "execution_count": 5,
   "id": "unnecessary-minute",
   "metadata": {},
   "outputs": [],
   "source": [
    "from physlite_experiments.physlite_events import Factory, get_lazy_form, LazyGet"
   ]
  },
  {
   "cell_type": "code",
   "execution_count": 6,
   "id": "fatty-pledge",
   "metadata": {},
   "outputs": [],
   "source": [
    "import json"
   ]
  },
  {
   "cell_type": "code",
   "execution_count": 7,
   "id": "pointed-riding",
   "metadata": {},
   "outputs": [
    {
     "name": "stdout",
     "output_type": "stream",
     "text": [
      "Skipping EventInfoAuxDyn.streamTagRobs\n",
      "Skipping EventInfoAuxDyn.streamTagDets\n",
      "Skipping EventInfoAuxDyn.subEventTime\n",
      "Skipping EventInfoAuxDyn.subEventIndex\n",
      "Skipping EventInfoAuxDyn.subEventLink\n",
      "Skipping EventInfoAuxDyn.subEventLink/EventInfoAuxDyn.subEventLink.m_persKey\n",
      "Skipping EventInfoAuxDyn.subEventLink/EventInfoAuxDyn.subEventLink.m_persIndex\n",
      "Skipping EventInfoAuxDyn.subEventType\n",
      "Can't interpret PrimaryVerticesAuxDyn.neutralParticleLinks\n",
      "Skipping AnalysisHLT_mu14_ivarloose_tau25_medium1_tracktwo_L1DR-MU10TAU12I_TAU12I-J25AuxDyn.TrigMatchedObjects\n",
      "Skipping AnalysisHLT_e17_lhmedium_nod0_ivarloose_tau25_medium1_tracktwo_L1DR-EM15TAU12I-J25AuxDyn.TrigMatchedObjects\n",
      "Skipping AnalysisHLT_tau35_medium1_tracktwo_tau25_medium1_tracktwo_03dR30_L1DR-TAU20ITAU12I-J25AuxDyn.TrigMatchedObjects\n",
      "Skipping AnalysisHLT_tau35_medium1_tracktwo_tau25_medium1_tracktwo_L1DR-TAU20ITAU12I-J25AuxDyn.TrigMatchedObjects\n",
      "Skipping AnalysisHLT_tau35_medium1_tracktwo_tau25_medium1_tracktwo_tautsf_L1DR-TAU20ITAU12I-J25AuxDyn.TrigMatchedObjects\n",
      "Skipping AnalysisHLT_tau80_medium1_tracktwo_L1TAU60_tau35_medium1_tracktwo_L1TAU12IM_L1TAU60_DR-TAU20ITAU12IAuxDyn.TrigMatchedObjects\n"
     ]
    }
   ],
   "source": [
    "form = json.dumps(get_lazy_form(get_branch_forms(tree)))"
   ]
  },
  {
   "cell_type": "code",
   "execution_count": 8,
   "id": "superior-norway",
   "metadata": {},
   "outputs": [],
   "source": [
    "container = LazyGet(tree, verbose=True)"
   ]
  },
  {
   "cell_type": "code",
   "execution_count": 9,
   "id": "numerical-female",
   "metadata": {},
   "outputs": [],
   "source": [
    "factory = Factory(form, tree.num_entries, container)"
   ]
  },
  {
   "cell_type": "code",
   "execution_count": 10,
   "id": "loose-prophet",
   "metadata": {},
   "outputs": [],
   "source": [
    "import timeit"
   ]
  },
  {
   "cell_type": "code",
   "execution_count": 11,
   "id": "athletic-candy",
   "metadata": {},
   "outputs": [],
   "source": [
    "def benchmark():\n",
    "    tree = uproot.open(f\"{filename}:CollectionTree\")\n",
    "    events = physlite_events(tree)\n",
    "    get_obj_sel(events)"
   ]
  },
  {
   "cell_type": "code",
   "execution_count": 12,
   "id": "exotic-breach",
   "metadata": {},
   "outputs": [
    {
     "name": "stdout",
     "output_type": "stream",
     "text": [
      "Skipping EventInfoAuxDyn.streamTagRobs\n",
      "Skipping EventInfoAuxDyn.streamTagDets\n",
      "Skipping EventInfoAuxDyn.subEventTime\n",
      "Skipping EventInfoAuxDyn.subEventIndex\n",
      "Skipping EventInfoAuxDyn.subEventLink\n",
      "Skipping EventInfoAuxDyn.subEventLink/EventInfoAuxDyn.subEventLink.m_persKey\n",
      "Skipping EventInfoAuxDyn.subEventLink/EventInfoAuxDyn.subEventLink.m_persIndex\n",
      "Skipping EventInfoAuxDyn.subEventType\n",
      "Can't interpret PrimaryVerticesAuxDyn.neutralParticleLinks\n",
      "Skipping AnalysisHLT_mu14_ivarloose_tau25_medium1_tracktwo_L1DR-MU10TAU12I_TAU12I-J25AuxDyn.TrigMatchedObjects\n",
      "Skipping AnalysisHLT_e17_lhmedium_nod0_ivarloose_tau25_medium1_tracktwo_L1DR-EM15TAU12I-J25AuxDyn.TrigMatchedObjects\n",
      "Skipping AnalysisHLT_tau35_medium1_tracktwo_tau25_medium1_tracktwo_03dR30_L1DR-TAU20ITAU12I-J25AuxDyn.TrigMatchedObjects\n",
      "Skipping AnalysisHLT_tau35_medium1_tracktwo_tau25_medium1_tracktwo_L1DR-TAU20ITAU12I-J25AuxDyn.TrigMatchedObjects\n",
      "Skipping AnalysisHLT_tau35_medium1_tracktwo_tau25_medium1_tracktwo_tautsf_L1DR-TAU20ITAU12I-J25AuxDyn.TrigMatchedObjects\n",
      "Skipping AnalysisHLT_tau80_medium1_tracktwo_L1TAU60_tau35_medium1_tracktwo_L1TAU12IM_L1TAU60_DR-TAU20ITAU12IAuxDyn.TrigMatchedObjects\n",
      "Skipping EventInfoAuxDyn.streamTagRobs\n",
      "Skipping EventInfoAuxDyn.streamTagDets\n",
      "Skipping EventInfoAuxDyn.subEventTime\n",
      "Skipping EventInfoAuxDyn.subEventIndex\n",
      "Skipping EventInfoAuxDyn.subEventLink\n",
      "Skipping EventInfoAuxDyn.subEventLink/EventInfoAuxDyn.subEventLink.m_persKey\n",
      "Skipping EventInfoAuxDyn.subEventLink/EventInfoAuxDyn.subEventLink.m_persIndex\n",
      "Skipping EventInfoAuxDyn.subEventType\n",
      "Can't interpret PrimaryVerticesAuxDyn.neutralParticleLinks\n",
      "Skipping AnalysisHLT_mu14_ivarloose_tau25_medium1_tracktwo_L1DR-MU10TAU12I_TAU12I-J25AuxDyn.TrigMatchedObjects\n",
      "Skipping AnalysisHLT_e17_lhmedium_nod0_ivarloose_tau25_medium1_tracktwo_L1DR-EM15TAU12I-J25AuxDyn.TrigMatchedObjects\n",
      "Skipping AnalysisHLT_tau35_medium1_tracktwo_tau25_medium1_tracktwo_03dR30_L1DR-TAU20ITAU12I-J25AuxDyn.TrigMatchedObjects\n",
      "Skipping AnalysisHLT_tau35_medium1_tracktwo_tau25_medium1_tracktwo_L1DR-TAU20ITAU12I-J25AuxDyn.TrigMatchedObjects\n",
      "Skipping AnalysisHLT_tau35_medium1_tracktwo_tau25_medium1_tracktwo_tautsf_L1DR-TAU20ITAU12I-J25AuxDyn.TrigMatchedObjects\n",
      "Skipping AnalysisHLT_tau80_medium1_tracktwo_L1TAU60_tau35_medium1_tracktwo_L1TAU12IM_L1TAU60_DR-TAU20ITAU12IAuxDyn.TrigMatchedObjects\n",
      "Skipping EventInfoAuxDyn.streamTagRobs\n",
      "Skipping EventInfoAuxDyn.streamTagDets\n",
      "Skipping EventInfoAuxDyn.subEventTime\n",
      "Skipping EventInfoAuxDyn.subEventIndex\n",
      "Skipping EventInfoAuxDyn.subEventLink\n",
      "Skipping EventInfoAuxDyn.subEventLink/EventInfoAuxDyn.subEventLink.m_persKey\n",
      "Skipping EventInfoAuxDyn.subEventLink/EventInfoAuxDyn.subEventLink.m_persIndex\n",
      "Skipping EventInfoAuxDyn.subEventType\n",
      "Can't interpret PrimaryVerticesAuxDyn.neutralParticleLinks\n",
      "Skipping AnalysisHLT_mu14_ivarloose_tau25_medium1_tracktwo_L1DR-MU10TAU12I_TAU12I-J25AuxDyn.TrigMatchedObjects\n",
      "Skipping AnalysisHLT_e17_lhmedium_nod0_ivarloose_tau25_medium1_tracktwo_L1DR-EM15TAU12I-J25AuxDyn.TrigMatchedObjects\n",
      "Skipping AnalysisHLT_tau35_medium1_tracktwo_tau25_medium1_tracktwo_03dR30_L1DR-TAU20ITAU12I-J25AuxDyn.TrigMatchedObjects\n",
      "Skipping AnalysisHLT_tau35_medium1_tracktwo_tau25_medium1_tracktwo_L1DR-TAU20ITAU12I-J25AuxDyn.TrigMatchedObjects\n",
      "Skipping AnalysisHLT_tau35_medium1_tracktwo_tau25_medium1_tracktwo_tautsf_L1DR-TAU20ITAU12I-J25AuxDyn.TrigMatchedObjects\n",
      "Skipping AnalysisHLT_tau80_medium1_tracktwo_L1TAU60_tau35_medium1_tracktwo_L1TAU12IM_L1TAU60_DR-TAU20ITAU12IAuxDyn.TrigMatchedObjects\n",
      "Skipping EventInfoAuxDyn.streamTagRobs\n",
      "Skipping EventInfoAuxDyn.streamTagDets\n",
      "Skipping EventInfoAuxDyn.subEventTime\n",
      "Skipping EventInfoAuxDyn.subEventIndex\n",
      "Skipping EventInfoAuxDyn.subEventLink\n",
      "Skipping EventInfoAuxDyn.subEventLink/EventInfoAuxDyn.subEventLink.m_persKey\n",
      "Skipping EventInfoAuxDyn.subEventLink/EventInfoAuxDyn.subEventLink.m_persIndex\n",
      "Skipping EventInfoAuxDyn.subEventType\n",
      "Can't interpret PrimaryVerticesAuxDyn.neutralParticleLinks\n",
      "Skipping AnalysisHLT_mu14_ivarloose_tau25_medium1_tracktwo_L1DR-MU10TAU12I_TAU12I-J25AuxDyn.TrigMatchedObjects\n",
      "Skipping AnalysisHLT_e17_lhmedium_nod0_ivarloose_tau25_medium1_tracktwo_L1DR-EM15TAU12I-J25AuxDyn.TrigMatchedObjects\n",
      "Skipping AnalysisHLT_tau35_medium1_tracktwo_tau25_medium1_tracktwo_03dR30_L1DR-TAU20ITAU12I-J25AuxDyn.TrigMatchedObjects\n",
      "Skipping AnalysisHLT_tau35_medium1_tracktwo_tau25_medium1_tracktwo_L1DR-TAU20ITAU12I-J25AuxDyn.TrigMatchedObjects\n",
      "Skipping AnalysisHLT_tau35_medium1_tracktwo_tau25_medium1_tracktwo_tautsf_L1DR-TAU20ITAU12I-J25AuxDyn.TrigMatchedObjects\n",
      "Skipping AnalysisHLT_tau80_medium1_tracktwo_L1TAU60_tau35_medium1_tracktwo_L1TAU12IM_L1TAU60_DR-TAU20ITAU12IAuxDyn.TrigMatchedObjects\n",
      "Skipping EventInfoAuxDyn.streamTagRobs\n",
      "Skipping EventInfoAuxDyn.streamTagDets\n",
      "Skipping EventInfoAuxDyn.subEventTime\n",
      "Skipping EventInfoAuxDyn.subEventIndex\n",
      "Skipping EventInfoAuxDyn.subEventLink\n",
      "Skipping EventInfoAuxDyn.subEventLink/EventInfoAuxDyn.subEventLink.m_persKey\n",
      "Skipping EventInfoAuxDyn.subEventLink/EventInfoAuxDyn.subEventLink.m_persIndex\n",
      "Skipping EventInfoAuxDyn.subEventType\n",
      "Can't interpret PrimaryVerticesAuxDyn.neutralParticleLinks\n",
      "Skipping AnalysisHLT_mu14_ivarloose_tau25_medium1_tracktwo_L1DR-MU10TAU12I_TAU12I-J25AuxDyn.TrigMatchedObjects\n",
      "Skipping AnalysisHLT_e17_lhmedium_nod0_ivarloose_tau25_medium1_tracktwo_L1DR-EM15TAU12I-J25AuxDyn.TrigMatchedObjects\n",
      "Skipping AnalysisHLT_tau35_medium1_tracktwo_tau25_medium1_tracktwo_03dR30_L1DR-TAU20ITAU12I-J25AuxDyn.TrigMatchedObjects\n",
      "Skipping AnalysisHLT_tau35_medium1_tracktwo_tau25_medium1_tracktwo_L1DR-TAU20ITAU12I-J25AuxDyn.TrigMatchedObjects\n",
      "Skipping AnalysisHLT_tau35_medium1_tracktwo_tau25_medium1_tracktwo_tautsf_L1DR-TAU20ITAU12I-J25AuxDyn.TrigMatchedObjects\n",
      "Skipping AnalysisHLT_tau80_medium1_tracktwo_L1TAU60_tau35_medium1_tracktwo_L1TAU12IM_L1TAU60_DR-TAU20ITAU12IAuxDyn.TrigMatchedObjects\n"
     ]
    }
   ],
   "source": [
    "times = timeit.Timer(benchmark).repeat(number=1, repeat=5)"
   ]
  },
  {
   "cell_type": "code",
   "execution_count": 13,
   "id": "caroline-advantage",
   "metadata": {},
   "outputs": [
    {
     "data": {
      "text/plain": [
       "([4.918366590000005,\n",
       "  4.519695941999089,\n",
       "  4.490460188000725,\n",
       "  4.525938627999494,\n",
       "  4.471803271999306],\n",
       " 4.471803271999306)"
      ]
     },
     "execution_count": 13,
     "metadata": {},
     "output_type": "execute_result"
    }
   ],
   "source": [
    "times, min(times)"
   ]
  },
  {
   "cell_type": "code",
   "execution_count": 14,
   "id": "martial-divorce",
   "metadata": {},
   "outputs": [],
   "source": [
    "import time"
   ]
  },
  {
   "cell_type": "code",
   "execution_count": 15,
   "id": "promotional-decade",
   "metadata": {},
   "outputs": [],
   "source": [
    "def run_benchmark_no_overhead():\n",
    "    times = []\n",
    "    for i in range(5):\n",
    "        tree = uproot.open(f\"{filename}:CollectionTree\")\n",
    "        events = physlite_events(tree)\n",
    "        start = time.time()\n",
    "        get_obj_sel(events)\n",
    "        duration = time.time() - start\n",
    "        times.append(duration)\n",
    "    return times, min(times)"
   ]
  },
  {
   "cell_type": "code",
   "execution_count": 16,
   "id": "indie-extension",
   "metadata": {},
   "outputs": [
    {
     "name": "stdout",
     "output_type": "stream",
     "text": [
      "Skipping EventInfoAuxDyn.streamTagRobs\n",
      "Skipping EventInfoAuxDyn.streamTagDets\n",
      "Skipping EventInfoAuxDyn.subEventTime\n",
      "Skipping EventInfoAuxDyn.subEventIndex\n",
      "Skipping EventInfoAuxDyn.subEventLink\n",
      "Skipping EventInfoAuxDyn.subEventLink/EventInfoAuxDyn.subEventLink.m_persKey\n",
      "Skipping EventInfoAuxDyn.subEventLink/EventInfoAuxDyn.subEventLink.m_persIndex\n",
      "Skipping EventInfoAuxDyn.subEventType\n",
      "Can't interpret PrimaryVerticesAuxDyn.neutralParticleLinks\n",
      "Skipping AnalysisHLT_mu14_ivarloose_tau25_medium1_tracktwo_L1DR-MU10TAU12I_TAU12I-J25AuxDyn.TrigMatchedObjects\n",
      "Skipping AnalysisHLT_e17_lhmedium_nod0_ivarloose_tau25_medium1_tracktwo_L1DR-EM15TAU12I-J25AuxDyn.TrigMatchedObjects\n",
      "Skipping AnalysisHLT_tau35_medium1_tracktwo_tau25_medium1_tracktwo_03dR30_L1DR-TAU20ITAU12I-J25AuxDyn.TrigMatchedObjects\n",
      "Skipping AnalysisHLT_tau35_medium1_tracktwo_tau25_medium1_tracktwo_L1DR-TAU20ITAU12I-J25AuxDyn.TrigMatchedObjects\n",
      "Skipping AnalysisHLT_tau35_medium1_tracktwo_tau25_medium1_tracktwo_tautsf_L1DR-TAU20ITAU12I-J25AuxDyn.TrigMatchedObjects\n",
      "Skipping AnalysisHLT_tau80_medium1_tracktwo_L1TAU60_tau35_medium1_tracktwo_L1TAU12IM_L1TAU60_DR-TAU20ITAU12IAuxDyn.TrigMatchedObjects\n",
      "Skipping EventInfoAuxDyn.streamTagRobs\n",
      "Skipping EventInfoAuxDyn.streamTagDets\n",
      "Skipping EventInfoAuxDyn.subEventTime\n",
      "Skipping EventInfoAuxDyn.subEventIndex\n",
      "Skipping EventInfoAuxDyn.subEventLink\n",
      "Skipping EventInfoAuxDyn.subEventLink/EventInfoAuxDyn.subEventLink.m_persKey\n",
      "Skipping EventInfoAuxDyn.subEventLink/EventInfoAuxDyn.subEventLink.m_persIndex\n",
      "Skipping EventInfoAuxDyn.subEventType\n",
      "Can't interpret PrimaryVerticesAuxDyn.neutralParticleLinks\n",
      "Skipping AnalysisHLT_mu14_ivarloose_tau25_medium1_tracktwo_L1DR-MU10TAU12I_TAU12I-J25AuxDyn.TrigMatchedObjects\n",
      "Skipping AnalysisHLT_e17_lhmedium_nod0_ivarloose_tau25_medium1_tracktwo_L1DR-EM15TAU12I-J25AuxDyn.TrigMatchedObjects\n",
      "Skipping AnalysisHLT_tau35_medium1_tracktwo_tau25_medium1_tracktwo_03dR30_L1DR-TAU20ITAU12I-J25AuxDyn.TrigMatchedObjects\n",
      "Skipping AnalysisHLT_tau35_medium1_tracktwo_tau25_medium1_tracktwo_L1DR-TAU20ITAU12I-J25AuxDyn.TrigMatchedObjects\n",
      "Skipping AnalysisHLT_tau35_medium1_tracktwo_tau25_medium1_tracktwo_tautsf_L1DR-TAU20ITAU12I-J25AuxDyn.TrigMatchedObjects\n",
      "Skipping AnalysisHLT_tau80_medium1_tracktwo_L1TAU60_tau35_medium1_tracktwo_L1TAU12IM_L1TAU60_DR-TAU20ITAU12IAuxDyn.TrigMatchedObjects\n",
      "Skipping EventInfoAuxDyn.streamTagRobs\n",
      "Skipping EventInfoAuxDyn.streamTagDets\n",
      "Skipping EventInfoAuxDyn.subEventTime\n",
      "Skipping EventInfoAuxDyn.subEventIndex\n",
      "Skipping EventInfoAuxDyn.subEventLink\n",
      "Skipping EventInfoAuxDyn.subEventLink/EventInfoAuxDyn.subEventLink.m_persKey\n",
      "Skipping EventInfoAuxDyn.subEventLink/EventInfoAuxDyn.subEventLink.m_persIndex\n",
      "Skipping EventInfoAuxDyn.subEventType\n",
      "Can't interpret PrimaryVerticesAuxDyn.neutralParticleLinks\n",
      "Skipping AnalysisHLT_mu14_ivarloose_tau25_medium1_tracktwo_L1DR-MU10TAU12I_TAU12I-J25AuxDyn.TrigMatchedObjects\n",
      "Skipping AnalysisHLT_e17_lhmedium_nod0_ivarloose_tau25_medium1_tracktwo_L1DR-EM15TAU12I-J25AuxDyn.TrigMatchedObjects\n",
      "Skipping AnalysisHLT_tau35_medium1_tracktwo_tau25_medium1_tracktwo_03dR30_L1DR-TAU20ITAU12I-J25AuxDyn.TrigMatchedObjects\n",
      "Skipping AnalysisHLT_tau35_medium1_tracktwo_tau25_medium1_tracktwo_L1DR-TAU20ITAU12I-J25AuxDyn.TrigMatchedObjects\n",
      "Skipping AnalysisHLT_tau35_medium1_tracktwo_tau25_medium1_tracktwo_tautsf_L1DR-TAU20ITAU12I-J25AuxDyn.TrigMatchedObjects\n",
      "Skipping AnalysisHLT_tau80_medium1_tracktwo_L1TAU60_tau35_medium1_tracktwo_L1TAU12IM_L1TAU60_DR-TAU20ITAU12IAuxDyn.TrigMatchedObjects\n",
      "Skipping EventInfoAuxDyn.streamTagRobs\n",
      "Skipping EventInfoAuxDyn.streamTagDets\n",
      "Skipping EventInfoAuxDyn.subEventTime\n",
      "Skipping EventInfoAuxDyn.subEventIndex\n",
      "Skipping EventInfoAuxDyn.subEventLink\n",
      "Skipping EventInfoAuxDyn.subEventLink/EventInfoAuxDyn.subEventLink.m_persKey\n",
      "Skipping EventInfoAuxDyn.subEventLink/EventInfoAuxDyn.subEventLink.m_persIndex\n",
      "Skipping EventInfoAuxDyn.subEventType\n",
      "Can't interpret PrimaryVerticesAuxDyn.neutralParticleLinks\n",
      "Skipping AnalysisHLT_mu14_ivarloose_tau25_medium1_tracktwo_L1DR-MU10TAU12I_TAU12I-J25AuxDyn.TrigMatchedObjects\n",
      "Skipping AnalysisHLT_e17_lhmedium_nod0_ivarloose_tau25_medium1_tracktwo_L1DR-EM15TAU12I-J25AuxDyn.TrigMatchedObjects\n",
      "Skipping AnalysisHLT_tau35_medium1_tracktwo_tau25_medium1_tracktwo_03dR30_L1DR-TAU20ITAU12I-J25AuxDyn.TrigMatchedObjects\n",
      "Skipping AnalysisHLT_tau35_medium1_tracktwo_tau25_medium1_tracktwo_L1DR-TAU20ITAU12I-J25AuxDyn.TrigMatchedObjects\n",
      "Skipping AnalysisHLT_tau35_medium1_tracktwo_tau25_medium1_tracktwo_tautsf_L1DR-TAU20ITAU12I-J25AuxDyn.TrigMatchedObjects\n",
      "Skipping AnalysisHLT_tau80_medium1_tracktwo_L1TAU60_tau35_medium1_tracktwo_L1TAU12IM_L1TAU60_DR-TAU20ITAU12IAuxDyn.TrigMatchedObjects\n",
      "Skipping EventInfoAuxDyn.streamTagRobs\n",
      "Skipping EventInfoAuxDyn.streamTagDets\n",
      "Skipping EventInfoAuxDyn.subEventTime\n",
      "Skipping EventInfoAuxDyn.subEventIndex\n",
      "Skipping EventInfoAuxDyn.subEventLink\n",
      "Skipping EventInfoAuxDyn.subEventLink/EventInfoAuxDyn.subEventLink.m_persKey\n",
      "Skipping EventInfoAuxDyn.subEventLink/EventInfoAuxDyn.subEventLink.m_persIndex\n",
      "Skipping EventInfoAuxDyn.subEventType\n",
      "Can't interpret PrimaryVerticesAuxDyn.neutralParticleLinks\n",
      "Skipping AnalysisHLT_mu14_ivarloose_tau25_medium1_tracktwo_L1DR-MU10TAU12I_TAU12I-J25AuxDyn.TrigMatchedObjects\n",
      "Skipping AnalysisHLT_e17_lhmedium_nod0_ivarloose_tau25_medium1_tracktwo_L1DR-EM15TAU12I-J25AuxDyn.TrigMatchedObjects\n",
      "Skipping AnalysisHLT_tau35_medium1_tracktwo_tau25_medium1_tracktwo_03dR30_L1DR-TAU20ITAU12I-J25AuxDyn.TrigMatchedObjects\n",
      "Skipping AnalysisHLT_tau35_medium1_tracktwo_tau25_medium1_tracktwo_L1DR-TAU20ITAU12I-J25AuxDyn.TrigMatchedObjects\n",
      "Skipping AnalysisHLT_tau35_medium1_tracktwo_tau25_medium1_tracktwo_tautsf_L1DR-TAU20ITAU12I-J25AuxDyn.TrigMatchedObjects\n",
      "Skipping AnalysisHLT_tau80_medium1_tracktwo_L1TAU60_tau35_medium1_tracktwo_L1TAU12IM_L1TAU60_DR-TAU20ITAU12IAuxDyn.TrigMatchedObjects\n"
     ]
    },
    {
     "data": {
      "text/plain": [
       "([3.2592570781707764,\n",
       "  3.2801873683929443,\n",
       "  3.264542579650879,\n",
       "  3.281668186187744,\n",
       "  3.302091121673584],\n",
       " 3.2592570781707764)"
      ]
     },
     "execution_count": 16,
     "metadata": {},
     "output_type": "execute_result"
    }
   ],
   "source": [
    "run_benchmark_no_overhead()"
   ]
  },
  {
   "cell_type": "code",
   "execution_count": 17,
   "id": "monetary-spelling",
   "metadata": {},
   "outputs": [],
   "source": [
    "def run_benchmark_obj_sel():\n",
    "    tree = uproot.open(f\"{filename}:CollectionTree\")\n",
    "    events = physlite_events(tree)\n",
    "    get_obj_sel(events)\n",
    "    times = timeit.Timer(lambda: get_obj_sel(events)).repeat(number=1, repeat=5)\n",
    "    return times, min(times)"
   ]
  },
  {
   "cell_type": "code",
   "execution_count": 18,
   "id": "expired-launch",
   "metadata": {},
   "outputs": [
    {
     "name": "stdout",
     "output_type": "stream",
     "text": [
      "Skipping EventInfoAuxDyn.streamTagRobs\n",
      "Skipping EventInfoAuxDyn.streamTagDets\n",
      "Skipping EventInfoAuxDyn.subEventTime\n",
      "Skipping EventInfoAuxDyn.subEventIndex\n",
      "Skipping EventInfoAuxDyn.subEventLink\n",
      "Skipping EventInfoAuxDyn.subEventLink/EventInfoAuxDyn.subEventLink.m_persKey\n",
      "Skipping EventInfoAuxDyn.subEventLink/EventInfoAuxDyn.subEventLink.m_persIndex\n",
      "Skipping EventInfoAuxDyn.subEventType\n",
      "Can't interpret PrimaryVerticesAuxDyn.neutralParticleLinks\n",
      "Skipping AnalysisHLT_mu14_ivarloose_tau25_medium1_tracktwo_L1DR-MU10TAU12I_TAU12I-J25AuxDyn.TrigMatchedObjects\n",
      "Skipping AnalysisHLT_e17_lhmedium_nod0_ivarloose_tau25_medium1_tracktwo_L1DR-EM15TAU12I-J25AuxDyn.TrigMatchedObjects\n",
      "Skipping AnalysisHLT_tau35_medium1_tracktwo_tau25_medium1_tracktwo_03dR30_L1DR-TAU20ITAU12I-J25AuxDyn.TrigMatchedObjects\n",
      "Skipping AnalysisHLT_tau35_medium1_tracktwo_tau25_medium1_tracktwo_L1DR-TAU20ITAU12I-J25AuxDyn.TrigMatchedObjects\n",
      "Skipping AnalysisHLT_tau35_medium1_tracktwo_tau25_medium1_tracktwo_tautsf_L1DR-TAU20ITAU12I-J25AuxDyn.TrigMatchedObjects\n",
      "Skipping AnalysisHLT_tau80_medium1_tracktwo_L1TAU60_tau35_medium1_tracktwo_L1TAU12IM_L1TAU60_DR-TAU20ITAU12IAuxDyn.TrigMatchedObjects\n"
     ]
    },
    {
     "data": {
      "text/plain": [
       "([1.756319471000097,\n",
       "  1.8188769209991733,\n",
       "  1.7857169270009763,\n",
       "  1.740459976999773,\n",
       "  1.6319377969994093],\n",
       " 1.6319377969994093)"
      ]
     },
     "execution_count": 18,
     "metadata": {},
     "output_type": "execute_result"
    }
   ],
   "source": [
    "run_benchmark_obj_sel()"
   ]
  },
  {
   "cell_type": "code",
   "execution_count": 19,
   "id": "bearing-squad",
   "metadata": {},
   "outputs": [],
   "source": [
    "loaded_keys = list(factory.container.cache.keys())"
   ]
  },
  {
   "cell_type": "code",
   "execution_count": 20,
   "id": "successful-chuck",
   "metadata": {},
   "outputs": [],
   "source": [
    "from physlite_experiments.deserialization_hacks import tree_arrays"
   ]
  },
  {
   "cell_type": "code",
   "execution_count": 21,
   "id": "objective-migration",
   "metadata": {},
   "outputs": [],
   "source": [
    "def run_benchmark_preload():\n",
    "    tree = uproot.open(f\"{filename}:CollectionTree\")\n",
    "    cache = tree_arrays(tree, lambda branch: branch.name in loaded_keys)\n",
    "    container = LazyGet(tree, verbose=False, cache=cache)\n",
    "    form = json.dumps(get_lazy_form(get_branch_forms(tree)))\n",
    "    return timeit.Timer(\n",
    "        lambda: get_obj_sel(Factory(form, tree.num_entries, container).events)\n",
    "    ).repeat(number=1, repeat=5)"
   ]
  },
  {
   "cell_type": "code",
   "execution_count": 22,
   "id": "rational-benjamin",
   "metadata": {},
   "outputs": [
    {
     "name": "stdout",
     "output_type": "stream",
     "text": [
      "Skipping EventInfoAuxDyn.streamTagRobs\n",
      "Skipping EventInfoAuxDyn.streamTagDets\n",
      "Skipping EventInfoAuxDyn.subEventTime\n",
      "Skipping EventInfoAuxDyn.subEventIndex\n",
      "Skipping EventInfoAuxDyn.subEventLink\n",
      "Skipping EventInfoAuxDyn.subEventLink/EventInfoAuxDyn.subEventLink.m_persKey\n",
      "Skipping EventInfoAuxDyn.subEventLink/EventInfoAuxDyn.subEventLink.m_persIndex\n",
      "Skipping EventInfoAuxDyn.subEventType\n",
      "Can't interpret PrimaryVerticesAuxDyn.neutralParticleLinks\n",
      "Skipping AnalysisHLT_mu14_ivarloose_tau25_medium1_tracktwo_L1DR-MU10TAU12I_TAU12I-J25AuxDyn.TrigMatchedObjects\n",
      "Skipping AnalysisHLT_e17_lhmedium_nod0_ivarloose_tau25_medium1_tracktwo_L1DR-EM15TAU12I-J25AuxDyn.TrigMatchedObjects\n",
      "Skipping AnalysisHLT_tau35_medium1_tracktwo_tau25_medium1_tracktwo_03dR30_L1DR-TAU20ITAU12I-J25AuxDyn.TrigMatchedObjects\n",
      "Skipping AnalysisHLT_tau35_medium1_tracktwo_tau25_medium1_tracktwo_L1DR-TAU20ITAU12I-J25AuxDyn.TrigMatchedObjects\n",
      "Skipping AnalysisHLT_tau35_medium1_tracktwo_tau25_medium1_tracktwo_tautsf_L1DR-TAU20ITAU12I-J25AuxDyn.TrigMatchedObjects\n",
      "Skipping AnalysisHLT_tau80_medium1_tracktwo_L1TAU60_tau35_medium1_tracktwo_L1TAU12IM_L1TAU60_DR-TAU20ITAU12IAuxDyn.TrigMatchedObjects\n"
     ]
    },
    {
     "data": {
      "text/plain": [
       "[3.332097241000156,\n",
       " 1.9827551460002724,\n",
       " 1.7995813389989053,\n",
       " 1.7420750800010865,\n",
       " 1.7447720580003079]"
      ]
     },
     "execution_count": 22,
     "metadata": {},
     "output_type": "execute_result"
    }
   ],
   "source": [
    "run_benchmark_preload()"
   ]
  },
  {
   "cell_type": "code",
   "execution_count": 23,
   "id": "circular-hurricane",
   "metadata": {},
   "outputs": [],
   "source": [
    "# produced with athena + ST\n",
    "# using https://gitlab.cern.ch/nihartma/enaf\n",
    "def get_st_ntuple():\n",
    "    f = uproot.open(\"/home/nikolai/code/enaf/run/ST_ntuple.root\")\n",
    "    tree = f[\"analysis\"]\n",
    "    keys = [k for k in tree.keys()]\n",
    "    evt = ak.zip(\n",
    "        {\n",
    "            part[0].upper() + part[1:] + \"s\" : ak.zip(\n",
    "                {k.split(\"_\")[1] : tree[k].array() for k in keys if part in k}\n",
    "            )\n",
    "            for part in [\"jet\", \"electron\", \"muon\"]\n",
    "        },\n",
    "        depth_limit=1\n",
    "    )\n",
    "    # convert to bools\n",
    "    bools = [\"passOR\", \"passJvt\", \"baseline\", \"signal\", \"bad\"]\n",
    "    for part in evt.fields:\n",
    "        for var in evt[part].fields:\n",
    "            if var in bools:\n",
    "                evt[part, var] = evt[part, var] == 1\n",
    "    return evt"
   ]
  },
  {
   "cell_type": "code",
   "execution_count": 24,
   "id": "spanish-tournament",
   "metadata": {},
   "outputs": [],
   "source": [
    "evt_st = get_st_ntuple()"
   ]
  },
  {
   "cell_type": "code",
   "execution_count": 25,
   "id": "capable-kidney",
   "metadata": {},
   "outputs": [],
   "source": [
    "df = []\n",
    "for obj in [\"Electrons\", \"Muons\", \"Jets\"]:\n",
    "    flags = [\"all\", \"baseline\", \"passOR\", \"signal\"]\n",
    "    #if obj == \"Jets\":\n",
    "    #    flags += [\"passJvt\"]\n",
    "    for flag in flags:\n",
    "        counts = []\n",
    "        for e in [evt_ak, evt_st]:\n",
    "            if flag != \"all\":\n",
    "                counts.append(ak.count_nonzero(e[obj, flag]))\n",
    "            else:\n",
    "                counts.append(ak.sum(ak.num(e[obj])))\n",
    "        entry = {\n",
    "            \"object\" : obj,\n",
    "            \"flag\" : flag,\n",
    "            \"athena/SUSYTools\" : counts[1],\n",
    "            \"columnar analysis\" : counts[0]\n",
    "        }\n",
    "        df.append(entry)\n",
    "df = pd.DataFrame(df)"
   ]
  },
  {
   "cell_type": "code",
   "execution_count": 26,
   "id": "assigned-prevention",
   "metadata": {},
   "outputs": [
    {
     "data": {
      "text/html": [
       "<div>\n",
       "<style scoped>\n",
       "    .dataframe tbody tr th:only-of-type {\n",
       "        vertical-align: middle;\n",
       "    }\n",
       "\n",
       "    .dataframe tbody tr th {\n",
       "        vertical-align: top;\n",
       "    }\n",
       "\n",
       "    .dataframe thead th {\n",
       "        text-align: right;\n",
       "    }\n",
       "</style>\n",
       "<table border=\"1\" class=\"dataframe\">\n",
       "  <thead>\n",
       "    <tr style=\"text-align: right;\">\n",
       "      <th></th>\n",
       "      <th></th>\n",
       "      <th>athena/SUSYTools</th>\n",
       "      <th>columnar analysis</th>\n",
       "    </tr>\n",
       "    <tr>\n",
       "      <th>object</th>\n",
       "      <th>flag</th>\n",
       "      <th></th>\n",
       "      <th></th>\n",
       "    </tr>\n",
       "  </thead>\n",
       "  <tbody>\n",
       "    <tr>\n",
       "      <th rowspan=\"4\" valign=\"top\">Electrons</th>\n",
       "      <th>all</th>\n",
       "      <td>23081</td>\n",
       "      <td>23081</td>\n",
       "    </tr>\n",
       "    <tr>\n",
       "      <th>baseline</th>\n",
       "      <td>19219</td>\n",
       "      <td>19211</td>\n",
       "    </tr>\n",
       "    <tr>\n",
       "      <th>passOR</th>\n",
       "      <td>18907</td>\n",
       "      <td>18898</td>\n",
       "    </tr>\n",
       "    <tr>\n",
       "      <th>signal</th>\n",
       "      <td>14457</td>\n",
       "      <td>14623</td>\n",
       "    </tr>\n",
       "    <tr>\n",
       "      <th rowspan=\"4\" valign=\"top\">Muons</th>\n",
       "      <th>all</th>\n",
       "      <td>26475</td>\n",
       "      <td>26475</td>\n",
       "    </tr>\n",
       "    <tr>\n",
       "      <th>baseline</th>\n",
       "      <td>22826</td>\n",
       "      <td>22914</td>\n",
       "    </tr>\n",
       "    <tr>\n",
       "      <th>passOR</th>\n",
       "      <td>19455</td>\n",
       "      <td>19203</td>\n",
       "    </tr>\n",
       "    <tr>\n",
       "      <th>signal</th>\n",
       "      <td>17453</td>\n",
       "      <td>17938</td>\n",
       "    </tr>\n",
       "    <tr>\n",
       "      <th rowspan=\"4\" valign=\"top\">Jets</th>\n",
       "      <th>all</th>\n",
       "      <td>524205</td>\n",
       "      <td>524205</td>\n",
       "    </tr>\n",
       "    <tr>\n",
       "      <th>baseline</th>\n",
       "      <td>318948</td>\n",
       "      <td>318948</td>\n",
       "    </tr>\n",
       "    <tr>\n",
       "      <th>passOR</th>\n",
       "      <td>296403</td>\n",
       "      <td>296414</td>\n",
       "    </tr>\n",
       "    <tr>\n",
       "      <th>signal</th>\n",
       "      <td>298842</td>\n",
       "      <td>299005</td>\n",
       "    </tr>\n",
       "  </tbody>\n",
       "</table>\n",
       "</div>"
      ],
      "text/plain": [
       "                    athena/SUSYTools  columnar analysis\n",
       "object    flag                                         \n",
       "Electrons all                  23081              23081\n",
       "          baseline             19219              19211\n",
       "          passOR               18907              18898\n",
       "          signal               14457              14623\n",
       "Muons     all                  26475              26475\n",
       "          baseline             22826              22914\n",
       "          passOR               19455              19203\n",
       "          signal               17453              17938\n",
       "Jets      all                 524205             524205\n",
       "          baseline            318948             318948\n",
       "          passOR              296403             296414\n",
       "          signal              298842             299005"
      ]
     },
     "execution_count": 26,
     "metadata": {},
     "output_type": "execute_result"
    }
   ],
   "source": [
    "df.set_index([\"object\", \"flag\"])"
   ]
  },
  {
   "cell_type": "code",
   "execution_count": 27,
   "id": "endangered-latter",
   "metadata": {},
   "outputs": [
    {
     "data": {
      "text/plain": [
       "athena/SUSYTools     19455\n",
       "columnar analysis    19203\n",
       "Name: (Muons, passOR), dtype: int64"
      ]
     },
     "execution_count": 27,
     "metadata": {},
     "output_type": "execute_result"
    }
   ],
   "source": [
    "df.set_index([\"object\", \"flag\"]).loc[\"Muons\", \"passOR\"]"
   ]
  },
  {
   "cell_type": "code",
   "execution_count": 28,
   "id": "postal-gothic",
   "metadata": {},
   "outputs": [
    {
     "data": {
      "text/plain": [
       "athena/SUSYTools     296403\n",
       "columnar analysis    296414\n",
       "Name: (Jets, passOR), dtype: int64"
      ]
     },
     "execution_count": 28,
     "metadata": {},
     "output_type": "execute_result"
    }
   ],
   "source": [
    "df.set_index([\"object\", \"flag\"]).loc[\"Jets\", \"passOR\"]"
   ]
  },
  {
   "cell_type": "code",
   "execution_count": 29,
   "id": "apart-helen",
   "metadata": {},
   "outputs": [
    {
     "data": {
      "image/png": "[encoded data removed]",
      "text/plain": [
       "<Figure size 720x216 with 3 Axes>"
      ]
     },
     "metadata": {
      "needs_background": "light"
     },
     "output_type": "display_data"
    }
   ],
   "source": [
    "gb = df.groupby(\"object\")\n",
    "fig, axs = plt.subplots(figsize=(10, 3), ncols=len(gb), nrows=1)\n",
    "for ax, group in zip(axs.ravel(), gb):\n",
    "    group[1].pop(\"object\")\n",
    "    group[1].set_index(\"flag\").plot(kind=\"bar\", ax=ax, legend=False)\n",
    "    ax.set_xlabel(group[0])\n",
    "    if ax is axs[0]:\n",
    "        ax.set_ylabel(\"Object count\")\n",
    "legend = fig.legend(\n",
    "    *ax.get_legend_handles_labels(),\n",
    "    framealpha=1,\n",
    "    ncol=2,\n",
    "    bbox_to_anchor=(0.3, 1.02, 0.5, .102),\n",
    "    mode=\"expand\",\n",
    ")\n",
    "fig.tight_layout()\n",
    "fig.savefig(\"object_count_columnar_vs_st.pdf\", bbox_extra_artists=(legend,), bbox_inches='tight')"
   ]
  },
  {
   "cell_type": "code",
   "execution_count": 30,
   "id": "normal-alberta",
   "metadata": {},
   "outputs": [
    {
     "name": "stdout",
     "output_type": "stream",
     "text": [
      "Loading part0-PrimaryVerticesAuxDyn.z%content-data\n",
      "Cache miss for  PrimaryVerticesAuxDyn.z\n",
      "Loading part0-CombinedMuonTrackParticlesAuxDyn.z0%content-data\n",
      "Cache miss for  CombinedMuonTrackParticlesAuxDyn.z0\n"
     ]
    },
    {
     "data": {
      "image/png": "[encoded data removed]",
      "text/plain": [
       "<Figure size 432x288 with 1 Axes>"
      ]
     },
     "metadata": {
      "needs_background": "light"
     },
     "output_type": "display_data"
    }
   ],
   "source": [
    "plt.hist(\n",
    "    ak.flatten(ak.singletons(\n",
    "        evt_ak.Muons[evt_ak.Muons.baseline].trackParticle.z0 - ak.firsts(evt_ak.PrimaryVertices.z)\n",
    "    ), axis=None),\n",
    "    bins=100, range=(-1, 1)\n",
    ");"
   ]
  },
  {
   "cell_type": "code",
   "execution_count": 31,
   "id": "stable-pierce",
   "metadata": {},
   "outputs": [],
   "source": [
    "def overlay(selection, ax=None, **kwargs):\n",
    "    ax = ax or plt.gca()\n",
    "    ax.hist(ak.to_numpy(ak.flatten(selection(evt_ak))), **kwargs)\n",
    "    ax.hist(ak.to_numpy(ak.flatten(selection(evt_st))), **kwargs)\n",
    "    return ax"
   ]
  },
  {
   "cell_type": "code",
   "execution_count": 32,
   "id": "separated-delight",
   "metadata": {},
   "outputs": [
    {
     "data": {
      "image/png": "[encoded data removed]",
      "text/plain": [
       "<Figure size 432x288 with 1 Axes>"
      ]
     },
     "metadata": {
      "needs_background": "light"
     },
     "output_type": "display_data"
    }
   ],
   "source": [
    "ax = overlay(lambda evt: evt.Electrons[evt.Electrons.signal].eta, bins=100, range=(-3, 3), alpha=0.5)\n",
    "ax.set_yscale(\"log\")"
   ]
  },
  {
   "cell_type": "code",
   "execution_count": 33,
   "id": "understanding-purpose",
   "metadata": {},
   "outputs": [
    {
     "data": {
      "image/png": "[encoded data removed]",
      "text/plain": [
       "<Figure size 432x288 with 1 Axes>"
      ]
     },
     "metadata": {
      "needs_background": "light"
     },
     "output_type": "display_data"
    }
   ],
   "source": [
    "ax = overlay(lambda evt: evt.Muons[evt.Muons.signal].eta, bins=100, range=(-3, 3), alpha=0.5)\n",
    "ax.set_yscale(\"log\")"
   ]
  },
  {
   "cell_type": "code",
   "execution_count": 34,
   "id": "functional-healthcare",
   "metadata": {},
   "outputs": [
    {
     "data": {
      "image/png": "[encoded data removed]",
      "text/plain": [
       "<Figure size 432x288 with 1 Axes>"
      ]
     },
     "metadata": {
      "needs_background": "light"
     },
     "output_type": "display_data"
    }
   ],
   "source": [
    "ax = overlay(lambda evt: evt.Muons[evt.Muons.passOR].eta, bins=100, range=(-3, 3), alpha=0.5)\n",
    "ax.set_yscale(\"log\")"
   ]
  },
  {
   "cell_type": "code",
   "execution_count": 35,
   "id": "secondary-birth",
   "metadata": {},
   "outputs": [
    {
     "data": {
      "image/png": "[encoded data removed]",
      "text/plain": [
       "<Figure size 432x288 with 1 Axes>"
      ]
     },
     "metadata": {
      "needs_background": "light"
     },
     "output_type": "display_data"
    }
   ],
   "source": [
    "ax = overlay(lambda evt: evt.Electrons[evt.Electrons.signal].eta, bins=100, range=(-3, 3), alpha=0.5)\n",
    "ax.set_yscale(\"log\")"
   ]
  }
 ],
 "metadata": {
  "kernelspec": {
   "display_name": "Python 3",
   "language": "python",
   "name": "python3"
  },
  "language_info": {
   "codemirror_mode": {
    "name": "ipython",
    "version": 3
   },
   "file_extension": ".py",
   "mimetype": "text/x-python",
   "name": "python",
   "nbconvert_exporter": "python",
   "pygments_lexer": "ipython3",
   "version": "3.8.0"
  },
  "toc": {
   "base_numbering": 1,
   "nav_menu": {},
   "number_sections": true,
   "sideBar": true,
   "skip_h1_title": false,
   "title_cell": "Table of Contents",
   "title_sidebar": "Contents",
   "toc_cell": false,
   "toc_position": {},
   "toc_section_display": true,
   "toc_window_display": false
  }
 },
 "nbformat": 4,
 "nbformat_minor": 5
}
