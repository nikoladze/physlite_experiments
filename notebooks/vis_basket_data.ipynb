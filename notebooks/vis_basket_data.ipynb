{
 "cells": [
  {
   "cell_type": "markdown",
   "id": "a1985ed2",
   "metadata": {},
   "source": [
    "The objective of this notebook is to visualize the overheads in the data std::vector branches in ROOT files"
   ]
  },
  {
   "cell_type": "code",
   "execution_count": 1,
   "id": "ac266917",
   "metadata": {},
   "outputs": [],
   "source": [
    "import io\n",
    "import uproot\n",
    "import math\n",
    "import numpy as np\n",
    "import requests\n",
    "import awkward as ak\n",
    "import matplotlib.pyplot as plt\n",
    "from matplotlib.patches import Rectangle"
   ]
  },
  {
   "cell_type": "code",
   "execution_count": 2,
   "id": "97a5b01c",
   "metadata": {},
   "outputs": [],
   "source": [
    "url = \"https://github.com/CoffeaTeam/coffea/blob/6d548538653e7003281a572f8eec5d68ca57b19f/tests/samples/DAOD_PHYSLITE_21.2.108.0.art.pool.root?raw=true\""
   ]
  },
  {
   "cell_type": "code",
   "execution_count": 3,
   "id": "b8a49dda",
   "metadata": {},
   "outputs": [],
   "source": [
    "bin_data = requests.get(url).content"
   ]
  },
  {
   "cell_type": "code",
   "execution_count": 4,
   "id": "d002c3b3",
   "metadata": {},
   "outputs": [],
   "source": [
    "f = uproot.open(io.BytesIO(bin_data))"
   ]
  },
  {
   "cell_type": "markdown",
   "id": "6dd10a1d",
   "metadata": {},
   "source": [
    "# `std::vector<float>`"
   ]
  },
  {
   "cell_type": "markdown",
   "id": "7903c296",
   "metadata": {},
   "source": [
    "Let's start with a single-jagged vector branch:"
   ]
  },
  {
   "cell_type": "code",
   "execution_count": 5,
   "id": "6dd74f73",
   "metadata": {},
   "outputs": [],
   "source": [
    "vbranch = f[\"CollectionTree\"][\"AnalysisElectronsAuxDyn.pt\"]"
   ]
  },
  {
   "cell_type": "code",
   "execution_count": 6,
   "id": "2419834a",
   "metadata": {},
   "outputs": [
    {
     "data": {
      "text/plain": [
       "'std::vector<float>'"
      ]
     },
     "execution_count": 6,
     "metadata": {},
     "output_type": "execute_result"
    }
   ],
   "source": [
    "vbranch.typename"
   ]
  },
  {
   "cell_type": "code",
   "execution_count": 7,
   "id": "81392b2f",
   "metadata": {},
   "outputs": [],
   "source": [
    "basket = vbranch.basket(0)"
   ]
  },
  {
   "cell_type": "markdown",
   "id": "23b413b5",
   "metadata": {},
   "source": [
    "Uproot can give us the uncompressed data (bytes) of baskets:\n"
   ]
  },
  {
   "cell_type": "code",
   "execution_count": 8,
   "id": "f3f344a7",
   "metadata": {},
   "outputs": [
    {
     "data": {
      "text/plain": [
       "(452, dtype('uint8'))"
      ]
     },
     "execution_count": 8,
     "metadata": {},
     "output_type": "execute_result"
    }
   ],
   "source": [
    "len(basket.data), basket.data.dtype"
   ]
  },
  {
   "cell_type": "markdown",
   "id": "00aa381c",
   "metadata": {},
   "source": [
    "This does not include the event offsets which are stored in the end of the basket data. The start of this is given by `basket.border` in uproot:"
   ]
  },
  {
   "cell_type": "code",
   "execution_count": 9,
   "id": "048b17bb",
   "metadata": {},
   "outputs": [
    {
     "data": {
      "text/plain": [
       "620"
      ]
     },
     "execution_count": 9,
     "metadata": {},
     "output_type": "execute_result"
    }
   ],
   "source": [
    "len(basket.raw_data)"
   ]
  },
  {
   "cell_type": "code",
   "execution_count": 10,
   "id": "3a7c6f58",
   "metadata": {},
   "outputs": [
    {
     "data": {
      "text/plain": [
       "True"
      ]
     },
     "execution_count": 10,
     "metadata": {},
     "output_type": "execute_result"
    }
   ],
   "source": [
    "(basket.raw_data[:basket.border] == basket.data).all()"
   ]
  },
  {
   "cell_type": "markdown",
   "id": "5f8f5550",
   "metadata": {},
   "source": [
    "You can quickly see the stuff after \"border\" encodes the offsets (note: big-endian storage in ROOT, therefore the `>`). There seems to be a shift between the raw values from ROOT and what uproot reports, maybe the ROOT ones start counting from the TBasket header, so we have to subtract `fKeylen`"
   ]
  },
  {
   "cell_type": "code",
   "execution_count": 11,
   "id": "f61e5d82",
   "metadata": {},
   "outputs": [
    {
     "data": {
      "text/plain": [
       "array([ 41, 103, 113, 123, 137, 151, 161, 171, 181, 191, 205, 219, 229,\n",
       "       239, 249, 259, 273, 283, 297, 311, 321, 331, 341, 351, 365, 375,\n",
       "       389, 399, 413, 423, 433, 443, 453, 463, 473, 483, 493, 507, 517,\n",
       "       527, 541,   0], dtype=int32)"
      ]
     },
     "execution_count": 11,
     "metadata": {},
     "output_type": "execute_result"
    }
   ],
   "source": [
    "basket.raw_data[basket.border:].view(\">i4\")"
   ]
  },
  {
   "cell_type": "code",
   "execution_count": 12,
   "id": "36fbcc38",
   "metadata": {},
   "outputs": [
    {
     "data": {
      "text/plain": [
       "array([  0,  10,  20,  34,  48,  58,  68,  78,  88, 102, 116, 126, 136,\n",
       "       146, 156, 170, 180, 194, 208, 218, 228, 238, 248, 262, 272, 286,\n",
       "       296, 310, 320, 330, 340, 350, 360, 370, 380, 390, 404, 414, 424,\n",
       "       438, 452], dtype=int32)"
      ]
     },
     "execution_count": 12,
     "metadata": {},
     "output_type": "execute_result"
    }
   ],
   "source": [
    "basket.byte_offsets"
   ]
  },
  {
   "cell_type": "code",
   "execution_count": 13,
   "id": "43694c82",
   "metadata": {},
   "outputs": [
    {
     "data": {
      "text/plain": [
       "array([   0,   10,   20,   34,   48,   58,   68,   78,   88,  102,  116,\n",
       "        126,  136,  146,  156,  170,  180,  194,  208,  218,  228,  238,\n",
       "        248,  262,  272,  286,  296,  310,  320,  330,  340,  350,  360,\n",
       "        370,  380,  390,  404,  414,  424,  438, -103], dtype=int32)"
      ]
     },
     "execution_count": 13,
     "metadata": {},
     "output_type": "execute_result"
    }
   ],
   "source": [
    "basket.raw_data[basket.border:].view(\">i4\")[1:] - basket.member(\"fKeylen\")"
   ]
  },
  {
   "cell_type": "markdown",
   "id": "1992e22a",
   "metadata": {},
   "source": [
    "the last offset is then equivalent to the border, also see\n",
    "\n",
    "https://github.com/scikit-hep/uproot4/blob/76ca347ed8a423424e13f6b84066ec9dd8829ae9/src/uproot/models/TBasket.py#L304-L313"
   ]
  },
  {
   "cell_type": "code",
   "execution_count": 14,
   "id": "0231e60a",
   "metadata": {},
   "outputs": [
    {
     "data": {
      "text/plain": [
       "452"
      ]
     },
     "execution_count": 14,
     "metadata": {},
     "output_type": "execute_result"
    }
   ],
   "source": [
    "basket.border"
   ]
  },
  {
   "cell_type": "markdown",
   "id": "0e47f98a",
   "metadata": {},
   "source": [
    "`std::vector` seems to have a 10 byte header in ROOT files, so we can get the flat array by just skipping over these. They should be at the offsets in single-jagged vector branches:"
   ]
  },
  {
   "cell_type": "code",
   "execution_count": 15,
   "id": "d66d850c",
   "metadata": {},
   "outputs": [
    {
     "data": {
      "text/plain": [
       "array([  0,   2,   5,   8,  12,  14,  17,  19,  22,  25,  29,  31,  34,\n",
       "        36,  39,  42,  45,  48,  52,  54,  57,  59,  62,  65,  68,  71,\n",
       "        74,  77,  80,  82,  85,  87,  90,  92,  95,  97, 101, 103, 106,\n",
       "       109, 113], dtype=int32)"
      ]
     },
     "execution_count": 15,
     "metadata": {},
     "output_type": "execute_result"
    }
   ],
   "source": [
    "basket.byte_offsets // 4"
   ]
  },
  {
   "cell_type": "code",
   "execution_count": 16,
   "id": "cc29f059",
   "metadata": {},
   "outputs": [
    {
     "data": {
      "text/plain": [
       "array([ 94581.61  ,  30130.377 ,  58636.33  ,  49505.742 ,   4684.2603,\n",
       "        25817.498 ,   5629.012 ,  46239.547 ,  44434.38  ,  68449.836 ,\n",
       "       101088.266 ,  38074.375 ,  67039.12  ], dtype=float32)"
      ]
     },
     "execution_count": 16,
     "metadata": {},
     "output_type": "execute_result"
    }
   ],
   "source": [
    "mask = np.ones_like(basket.data, dtype=bool)\n",
    "mask[\n",
    "    (basket.byte_offsets[:-1] + np.arange(10).reshape(-1, 1)).ravel()\n",
    "] = False\n",
    "flat_data = basket.data[mask].view(\">f4\")\n",
    "flat_data"
   ]
  },
  {
   "cell_type": "code",
   "execution_count": 17,
   "id": "f36ace83",
   "metadata": {},
   "outputs": [
    {
     "data": {
      "text/plain": [
       "array([ -3,   0,   2,   6,   9,  12,  14,  17,  19,  23,  26,  29,  31,\n",
       "        34,  36,  40,  42,  46,  49,  52,  54,  57,  59,  63,  65,  69,\n",
       "        71,  75,  77,  80,  82,  85,  87,  90,  92,  95,  98, 101, 103,\n",
       "       107, 110], dtype=int32)"
      ]
     },
     "execution_count": 17,
     "metadata": {},
     "output_type": "execute_result"
    }
   ],
   "source": [
    "(basket.byte_offsets - 10) // 4"
   ]
  },
  {
   "cell_type": "code",
   "execution_count": 18,
   "id": "978d70c5",
   "metadata": {},
   "outputs": [
    {
     "data": {
      "text/plain": [
       "array([ 94581.61  ,  30130.377 ,  58636.33  ,  49505.742 ,   4684.2603,\n",
       "        25817.498 ,   5629.012 ,  46239.547 ,  44434.38  ,  68449.836 ,\n",
       "       101088.266 ,  38074.375 ,  67039.12  ], dtype=float32)"
      ]
     },
     "execution_count": 18,
     "metadata": {},
     "output_type": "execute_result"
    }
   ],
   "source": [
    "flat_data"
   ]
  },
  {
   "cell_type": "code",
   "execution_count": 19,
   "id": "ac1c5d63",
   "metadata": {},
   "outputs": [
    {
     "data": {
      "text/plain": [
       "<Array [[1, 2], [3, 4]] type='2 * var * int64'>"
      ]
     },
     "execution_count": 19,
     "metadata": {},
     "output_type": "execute_result"
    }
   ],
   "source": [
    "ak.unflatten([1, 2, 3, 4], [2, 2])"
   ]
  },
  {
   "cell_type": "code",
   "execution_count": 20,
   "id": "273e74a0",
   "metadata": {},
   "outputs": [
    {
     "data": {
      "text/plain": [
       "dtype('float32')"
      ]
     },
     "execution_count": 20,
     "metadata": {},
     "output_type": "execute_result"
    }
   ],
   "source": [
    "flat_data.astype(np.float32).dtype"
   ]
  },
  {
   "cell_type": "code",
   "execution_count": 21,
   "id": "53037a97",
   "metadata": {},
   "outputs": [
    {
     "data": {
      "text/plain": [
       "<Array [[], [], ... 3.81e+04], [6.7e+04]] type='40 * var * float32'>"
      ]
     },
     "execution_count": 21,
     "metadata": {},
     "output_type": "execute_result"
    }
   ],
   "source": [
    "counts = (np.diff(basket.byte_offsets) - 10) // 4 # 4 because we have 32bit floats\n",
    "ak.unflatten(flat_data.astype(np.float32), counts)"
   ]
  },
  {
   "cell_type": "markdown",
   "id": "cf2e3e86",
   "metadata": {},
   "source": [
    "and that's also what uproot gives us"
   ]
  },
  {
   "cell_type": "code",
   "execution_count": 22,
   "id": "dbcd37b3",
   "metadata": {},
   "outputs": [
    {
     "data": {
      "text/plain": [
       "<Array [[], [], ... 3.81e+04], [6.7e+04]] type='40 * var * float32'>"
      ]
     },
     "execution_count": 22,
     "metadata": {},
     "output_type": "execute_result"
    }
   ],
   "source": [
    "vbranch.array()"
   ]
  },
  {
   "cell_type": "markdown",
   "id": "c74d721e",
   "metadata": {},
   "source": [
    "Now let's visualize for the current branch which bytes in a basket do what:"
   ]
  },
  {
   "cell_type": "code",
   "execution_count": 23,
   "id": "7770a454",
   "metadata": {},
   "outputs": [],
   "source": [
    "def marked_data_vector_4bytes(basket):\n",
    "    # mask for the vector headers\n",
    "    mask = np.ones_like(basket.data, dtype=bool)\n",
    "    mask[\n",
    "        (basket.byte_offsets[:-1] + np.arange(10).reshape(-1, 1)).ravel()\n",
    "    ] = False\n",
    "    \n",
    "    # first mark everything in red colors based on the binary value\n",
    "    data_1d = np.array(basket.raw_data)\n",
    "    data = plt.cm.ScalarMappable(cmap=plt.cm.Reds).to_rgba(data_1d)\n",
    "    # then mark everything that's not a vector header in green colors\n",
    "    data[:basket.border][mask] = plt.cm.ScalarMappable(cmap=plt.cm.Greens).to_rgba(\n",
    "        data_1d[:basket.border][mask]\n",
    "    )\n",
    "    # and finally everything after the border in blue\n",
    "    data[basket.border:] = plt.cm.ScalarMappable(cmap=plt.cm.Blues).to_rgba(\n",
    "        data_1d[basket.border:]\n",
    "    )\n",
    "    return data"
   ]
  },
  {
   "cell_type": "code",
   "execution_count": 24,
   "id": "de14c671",
   "metadata": {},
   "outputs": [],
   "source": [
    "data = marked_data_vector_4bytes(basket)"
   ]
  },
  {
   "cell_type": "code",
   "execution_count": 25,
   "id": "3f23ab05",
   "metadata": {},
   "outputs": [],
   "source": [
    "def plot_marked_data(data, nrows, ax=None):\n",
    "    ax = ax or plt.gca()\n",
    "\n",
    "    # reshape into 2D\n",
    "    ncols = math.ceil(len(data) / nrows)\n",
    "    n = nrows * ncols\n",
    "    data = np.concatenate([data, np.zeros((n - len(data), 4))]) # pad\n",
    "    data = data.reshape(nrows, ncols, 4)\n",
    "    ax.imshow(data)\n",
    "    ax.set_axis_off()\n",
    "    \n",
    "    # legend\n",
    "    args = ([0, 0], 0, 0)\n",
    "    handles = [\n",
    "        Rectangle([0, 0], 0, 0, color=\"red\", label=\"Vector header\"),\n",
    "        Rectangle(*args, color=\"green\", label=\"Data\"),\n",
    "        Rectangle([0, 0], 0, 0, color=\"blue\", label=\"Offsets\"),\n",
    "    ]\n",
    "    ax.legend(handles=handles)"
   ]
  },
  {
   "cell_type": "code",
   "execution_count": 26,
   "id": "f9dc10c6",
   "metadata": {},
   "outputs": [
    {
     "data": {
      "image/png": "[encoded data removed]",
      "text/plain": [
       "<Figure size 720x576 with 1 Axes>"
      ]
     },
     "metadata": {
      "needs_background": "light"
     },
     "output_type": "display_data"
    }
   ],
   "source": [
    "fig, ax = plt.subplots(figsize=(10, 8))\n",
    "plot_marked_data(data, nrows=20, ax=ax)"
   ]
  }
 ],
 "metadata": {
  "kernelspec": {
   "display_name": "Python 3 (ipykernel)",
   "language": "python",
   "name": "python3"
  },
  "language_info": {
   "codemirror_mode": {
    "name": "ipython",
    "version": 3
   },
   "file_extension": ".py",
   "mimetype": "text/x-python",
   "name": "python",
   "nbconvert_exporter": "python",
   "pygments_lexer": "ipython3",
   "version": "3.10.4"
  },
  "toc": {
   "base_numbering": 1,
   "nav_menu": {},
   "number_sections": true,
   "sideBar": true,
   "skip_h1_title": false,
   "title_cell": "Table of Contents",
   "title_sidebar": "Contents",
   "toc_cell": false,
   "toc_position": {},
   "toc_section_display": true,
   "toc_window_display": false
  }
 },
 "nbformat": 4,
 "nbformat_minor": 5
}
