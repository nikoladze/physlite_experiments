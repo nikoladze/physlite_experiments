{
 "cells": [
  {
   "cell_type": "code",
   "execution_count": 1,
   "id": "6fe22ecc-1931-44d9-9c13-e357fb15102c",
   "metadata": {
    "tags": []
   },
   "outputs": [],
   "source": [
    "import uproot\n",
    "import awkward as ak\n",
    "import numpy as np"
   ]
  },
  {
   "cell_type": "code",
   "execution_count": 2,
   "id": "7f63fcd6-b0da-45da-b615-22170bdf1ac5",
   "metadata": {
    "tags": []
   },
   "outputs": [
    {
     "data": {
      "text/plain": [
       "'5.0.5'"
      ]
     },
     "execution_count": 2,
     "metadata": {},
     "output_type": "execute_result"
    }
   ],
   "source": [
    "uproot.__version__"
   ]
  },
  {
   "cell_type": "code",
   "execution_count": 3,
   "id": "4a11d1a9-9a7e-45d9-85e0-f1ed69fa9739",
   "metadata": {
    "tags": []
   },
   "outputs": [
    {
     "data": {
      "text/plain": [
       "'2.1.1'"
      ]
     },
     "execution_count": 3,
     "metadata": {},
     "output_type": "execute_result"
    }
   ],
   "source": [
    "ak.__version__"
   ]
  },
  {
   "cell_type": "code",
   "execution_count": 56,
   "id": "2ebfaa85-41a8-4a0e-890e-e5fee9f65e09",
   "metadata": {
    "tags": []
   },
   "outputs": [],
   "source": [
    "# https://cernbox.cern.ch/s/zvXLut4qivWhxBL\n",
    "# produced after https://gitlab.cern.ch/atlas/athena/-/merge_requests/61982/diffs#c761c05ce753e3803eb4405015c53445f67e713e in rel 23.0\n",
    "# with commands from https://gitlab.cern.ch/atlas/athena/-/blob/23.0/PhysicsAnalysis/DerivationFramework/DerivationFrameworkART/DerivationFrameworkPHYS/test/test_mc21PHYSLITE.sh\n",
    "filename = \"DAOD_PHYSLITE.art.afterMR61982.pool.root\""
   ]
  },
  {
   "cell_type": "code",
   "execution_count": 5,
   "id": "346ffb8d-80c6-4354-a25d-0bb5088f1289",
   "metadata": {
    "tags": []
   },
   "outputs": [],
   "source": [
    "meta = uproot.open(f\"{filename}:MetaData\")"
   ]
  },
  {
   "cell_type": "code",
   "execution_count": 6,
   "id": "210b03c7-4ac6-46a7-be46-8b2aee702481",
   "metadata": {
    "tags": []
   },
   "outputs": [],
   "source": [
    "def read_vector_string(data, start=0):\n",
    "    start = start + 6\n",
    "    # the last 4 bytes of the 10-byte vector header tell us the size of the vector\n",
    "    vector_size = np.frombuffer(data[start : start + 4].tobytes(), dtype=\">i4\")[0]\n",
    "    pos = start + 4\n",
    "    strings = []\n",
    "    for _ in range(vector_size):\n",
    "        # the first byte of one vector element tells us the length of the string\n",
    "        string_len = data[pos]\n",
    "        pos += 1\n",
    "        # the rest is then just the string :)\n",
    "        strings.append(data[pos : pos + string_len].tobytes().decode())\n",
    "        pos += string_len\n",
    "    return strings, pos"
   ]
  },
  {
   "cell_type": "code",
   "execution_count": 7,
   "id": "02662684-a3ce-40a6-b0c2-604ee403def1",
   "metadata": {
    "tags": []
   },
   "outputs": [
    {
     "data": {
      "text/plain": [
       "1"
      ]
     },
     "execution_count": 7,
     "metadata": {},
     "output_type": "execute_result"
    }
   ],
   "source": [
    "meta[\"EventFormatStreamDAOD_PHYSLITE\"].num_baskets"
   ]
  },
  {
   "cell_type": "code",
   "execution_count": 8,
   "id": "e3d8230e-c45b-494b-ac54-0cb1de92c871",
   "metadata": {
    "tags": []
   },
   "outputs": [],
   "source": [
    "data = meta[\"EventFormatStreamDAOD_PHYSLITE\"].basket(0).data\n",
    "pos = 0\n",
    "branchNames, pos = read_vector_string(data, pos)  # m_branchNames: vector<string>\n",
    "classNames, pos = read_vector_string(data, pos)  # m_classNames: vector<string>\n",
    "parentNames, pos = read_vector_string(data, pos)  # m_parentNames: vector<string>\n",
    "branchHashes = np.frombuffer(data[pos + 10 :].tobytes(), dtype=\">u4\")  # m_branchHashes: vector<unsigned int>"
   ]
  },
  {
   "cell_type": "code",
   "execution_count": 9,
   "id": "58231d4c-0d3f-493c-afd6-38e9d95c8b4b",
   "metadata": {
    "tags": []
   },
   "outputs": [
    {
     "data": {
      "text/plain": [
       "{644236368: 'xTrigDecisionAux.',\n",
       " 227374555: 'METAssoc_AnalysisMETAux.',\n",
       " 1004693582: 'EventInfoAux.',\n",
       " 804885368: 'Kt4EMPFlowEventShapeAux.',\n",
       " 164670216: 'AnalysisElectronsAux.',\n",
       " 982622728: 'AnalysisJetsAux.',\n",
       " 382957617: 'AnalysisLargeRJetsAux.',\n",
       " 200696525: 'AnalysisMuonsAux.',\n",
       " 625597357: 'AnalysisPhotonsAux.',\n",
       " 788942073: 'AnalysisTauJetsAux.',\n",
       " 1061584385: 'BTagging_AntiKt4EMPFlowAux.',\n",
       " 226189860: 'BornLeptonsAux.',\n",
       " 348183643: 'CombinedMuonTrackParticlesAux.',\n",
       " 36553883: 'ExtrapolatedMuonTrackParticlesAux.',\n",
       " 323446075: 'GSFConversionVerticesAux.',\n",
       " 308113400: 'GSFTrackParticlesAux.',\n",
       " 355456802: 'HLTNav_RepackedFeatures_METAux.',\n",
       " 919843450: 'HLTNav_RepackedFeatures_ParticleAux.',\n",
       " 809018786: 'HLTNav_Summary_DAODSlimmedAux.',\n",
       " 303174265: 'HardScatterParticlesAux.',\n",
       " 979674879: 'HardScatterVerticesAux.',\n",
       " 360752931: 'InDetTrackParticlesAux.',\n",
       " 447627443: 'MET_Core_AnalysisMETAux.',\n",
       " 364553125: 'MET_TruthAux.',\n",
       " 59619305: 'MuonSpectrometerTrackParticlesAux.',\n",
       " 951301671: 'PrimaryVerticesAux.',\n",
       " 845911660: 'TauTracksAux.',\n",
       " 507125511: 'TruthBSMAux.',\n",
       " 233505224: 'TruthBSMWithDecayParticlesAux.',\n",
       " 992020377: 'TruthBSMWithDecayVerticesAux.',\n",
       " 583635687: 'TruthBosonAux.',\n",
       " 758387001: 'TruthBosonsWithDecayParticlesAux.',\n",
       " 425229245: 'TruthBosonsWithDecayVerticesAux.',\n",
       " 766228021: 'TruthBottomAux.',\n",
       " 214062875: 'TruthElectronsAux.',\n",
       " 140835001: 'TruthEventsAux.',\n",
       " 543318956: 'TruthForwardProtonsAux.',\n",
       " 636968018: 'TruthMuonsAux.',\n",
       " 342556294: 'TruthNeutrinosAux.',\n",
       " 642741195: 'TruthPhotonsAux.',\n",
       " 829661712: 'TruthPrimaryVerticesAux.',\n",
       " 117865227: 'TruthTausAux.',\n",
       " 963115938: 'TruthTopAux.',\n",
       " 263117317: 'egammaClustersAux.',\n",
       " 289647767: 'AntiKt10TruthSoftDropBeta100Zcut10JetsAux.',\n",
       " 159933734: 'AntiKt4TruthDressedWZJetsAux.',\n",
       " 665996993: 'HLTNav_RepackedFeatures_MET',\n",
       " 159035526: 'BunchConfKey',\n",
       " 470404882: 'TrigConfKeys',\n",
       " 687429283: 'TrigConfKeysOnline',\n",
       " 38292107: 'EventInfo',\n",
       " 148942056: 'xTrigDecision',\n",
       " 164497608: 'METAssoc_AnalysisMET',\n",
       " 594847528: 'Kt4EMPFlowEventShape',\n",
       " 956497600: 'AnalysisElectrons',\n",
       " 524191177: 'GSFConversionVertices',\n",
       " 936461719: 'PrimaryVertices',\n",
       " 726403259: 'MET_Core_AnalysisMET',\n",
       " 419726830: 'MET_Truth',\n",
       " 902907695: 'AnalysisPhotons',\n",
       " 66153553: 'HLTNav_RepackedFeatures_Particle',\n",
       " 518718875: 'AnalysisTauJets',\n",
       " 980095599: 'AnalysisMuons',\n",
       " 1044246878: 'TruthEvents',\n",
       " 360221983: 'egammaClusters',\n",
       " 787487105: 'BornLeptons',\n",
       " 220218330: 'HardScatterParticles',\n",
       " 1059003550: 'TruthBSM',\n",
       " 50252470: 'TruthBSMWithDecayParticles',\n",
       " 614719239: 'TruthBoson',\n",
       " 921521854: 'TruthBosonsWithDecayParticles',\n",
       " 779635413: 'TruthBottom',\n",
       " 394100163: 'TruthElectrons',\n",
       " 865895152: 'TruthForwardProtons',\n",
       " 342174277: 'TruthMuons',\n",
       " 368360608: 'TruthNeutrinos',\n",
       " 13267281: 'TruthPhotons',\n",
       " 375408000: 'TruthTaus',\n",
       " 660928181: 'TruthTop',\n",
       " 67810590: 'HardScatterVertices',\n",
       " 620141697: 'TruthBSMWithDecayVertices',\n",
       " 802197236: 'TruthBosonsWithDecayVertices',\n",
       " 1020295291: 'TruthPrimaryVertices',\n",
       " 452794649: 'AnalysisJets',\n",
       " 528450063: 'AnalysisLargeRJets',\n",
       " 318842244: 'AntiKt10TruthSoftDropBeta100Zcut10Jets',\n",
       " 106264553: 'AntiKt4TruthDressedWZJets',\n",
       " 582299515: 'BTagging_AntiKt4EMPFlow',\n",
       " 873304470: 'CombinedMuonTrackParticles',\n",
       " 350445215: 'ExtrapolatedMuonTrackParticles',\n",
       " 776133387: 'GSFTrackParticles',\n",
       " 490246363: 'InDetTrackParticles',\n",
       " 965986547: 'MuonSpectrometerTrackParticles',\n",
       " 215277022: 'TauTracks',\n",
       " 291186431: 'HLTNav_Summary_DAODSlimmed'}"
      ]
     },
     "execution_count": 9,
     "metadata": {},
     "output_type": "execute_result"
    }
   ],
   "source": [
    "hash_to_branchname = dict(zip(branchHashes, branchNames))\n",
    "hash_to_branchname"
   ]
  },
  {
   "cell_type": "code",
   "execution_count": 10,
   "id": "4833e055-3dde-4c65-9e6c-8700dedb0b3a",
   "metadata": {
    "tags": []
   },
   "outputs": [],
   "source": [
    "tree = uproot.open(f\"{filename}:CollectionTree\")"
   ]
  },
  {
   "cell_type": "code",
   "execution_count": 11,
   "id": "f65c6801-482a-422f-8859-0c5e23606f24",
   "metadata": {
    "tags": []
   },
   "outputs": [
    {
     "name": "stdout",
     "output_type": "stream",
     "text": [
      "name                                                                             | typename                                           | interpretation                \n",
      "---------------------------------------------------------------------------------+----------------------------------------------------+-------------------------------\n",
      "METAssoc_AnalysisMETAux.                                                         | xAOD::MissingETAuxAssociationMap_v2                | AsGroup(<TBranchElement 'ME...\n",
      "METAssoc_AnalysisMETAux./METAssoc_AnalysisMETAux.xAOD::AuxContainerBase          | unknown                                            | <UnknownInterpretation 'non...\n",
      "METAssoc_AnalysisMETAux./METAssoc_AnalysisMETAux.jetLink                         | std::vector<ElementLink<DataVector<xAOD::Jet_v1>>> | AsJagged(AsStridedObjects(M...\n",
      "METAssoc_AnalysisMETAux./METAssoc_AnalysisMETAux.objectLinks                     | std::vector<std::vector<ElementLink<DataVector<... | AsObjects(AsVector(True, As...\n",
      "METAssoc_AnalysisMETAux./METAssoc_AnalysisMETAux.calpx                           | std::vector<std::vector<float>>                    | AsObjects(AsVector(True, As...\n",
      "METAssoc_AnalysisMETAux./METAssoc_AnalysisMETAux.calpy                           | std::vector<std::vector<float>>                    | AsObjects(AsVector(True, As...\n",
      "METAssoc_AnalysisMETAux./METAssoc_AnalysisMETAux.calpz                           | std::vector<std::vector<float>>                    | AsObjects(AsVector(True, As...\n",
      "METAssoc_AnalysisMETAux./METAssoc_AnalysisMETAux.cale                            | std::vector<std::vector<float>>                    | AsObjects(AsVector(True, As...\n",
      "METAssoc_AnalysisMETAux./METAssoc_AnalysisMETAux.calsumpt                        | std::vector<std::vector<float>>                    | AsObjects(AsVector(True, As...\n",
      "METAssoc_AnalysisMETAux./METAssoc_AnalysisMETAux.calkey                          | std::vector<std::vector<uint64_t>>                 | AsObjects(AsVector(True, As...\n",
      "METAssoc_AnalysisMETAux./METAssoc_AnalysisMETAux.trkpx                           | std::vector<std::vector<float>>                    | AsObjects(AsVector(True, As...\n",
      "METAssoc_AnalysisMETAux./METAssoc_AnalysisMETAux.trkpy                           | std::vector<std::vector<float>>                    | AsObjects(AsVector(True, As...\n",
      "METAssoc_AnalysisMETAux./METAssoc_AnalysisMETAux.trkpz                           | std::vector<std::vector<float>>                    | AsObjects(AsVector(True, As...\n",
      "METAssoc_AnalysisMETAux./METAssoc_AnalysisMETAux.trke                            | std::vector<std::vector<float>>                    | AsObjects(AsVector(True, As...\n",
      "METAssoc_AnalysisMETAux./METAssoc_AnalysisMETAux.trksumpt                        | std::vector<std::vector<float>>                    | AsObjects(AsVector(True, As...\n",
      "METAssoc_AnalysisMETAux./METAssoc_AnalysisMETAux.trkkey                          | std::vector<std::vector<uint64_t>>                 | AsObjects(AsVector(True, As...\n",
      "METAssoc_AnalysisMETAux./METAssoc_AnalysisMETAux.jettrkpx                        | std::vector<float>                                 | AsJagged(AsDtype('>f4'), he...\n",
      "METAssoc_AnalysisMETAux./METAssoc_AnalysisMETAux.jettrkpy                        | std::vector<float>                                 | AsJagged(AsDtype('>f4'), he...\n",
      "METAssoc_AnalysisMETAux./METAssoc_AnalysisMETAux.jettrkpz                        | std::vector<float>                                 | AsJagged(AsDtype('>f4'), he...\n",
      "METAssoc_AnalysisMETAux./METAssoc_AnalysisMETAux.jettrke                         | std::vector<float>                                 | AsJagged(AsDtype('>f4'), he...\n",
      "METAssoc_AnalysisMETAux./METAssoc_AnalysisMETAux.jettrksumpt                     | std::vector<float>                                 | AsJagged(AsDtype('>f4'), he...\n",
      "METAssoc_AnalysisMETAux./METAssoc_AnalysisMETAux.overlapIndices                  | std::vector<std::vector<std::vector<uint64_t>>>    | AsObjects(AsVector(True, As...\n",
      "METAssoc_AnalysisMETAux./METAssoc_AnalysisMETAux.overlapTypes                    | std::vector<std::vector<std::vector<uint8_t>>>     | AsObjects(AsVector(True, As...\n",
      "METAssoc_AnalysisMETAux./METAssoc_AnalysisMETAux.isMisc                          | std::vector<int8_t>                                | AsJagged(AsDtype('int8'), h...\n",
      "MET_Core_AnalysisMETAux.                                                         | xAOD::AuxContainerBase                             | AsStridedObjects(Model_xAOD...\n",
      "MET_TruthAux.                                                                    | xAOD::AuxContainerBase                             | AsStridedObjects(Model_xAOD...\n",
      "METAssoc_AnalysisMET                                                             | xAOD::MissingETAssociationMap_v1                   | AsObjects(Model_xAOD_3a3a_M...\n",
      "MET_Core_AnalysisMET                                                             | xAOD::MissingETContainer_v1                        | AsObjects(Model_xAOD_3a3a_M...\n",
      "MET_Truth                                                                        | xAOD::MissingETContainer_v1                        | AsObjects(Model_xAOD_3a3a_M...\n",
      "MET_Core_AnalysisMETAuxDyn.mpx                                                   | std::vector<float>                                 | AsJagged(AsDtype('>f4'), he...\n",
      "MET_Core_AnalysisMETAuxDyn.mpy                                                   | std::vector<float>                                 | AsJagged(AsDtype('>f4'), he...\n",
      "MET_Core_AnalysisMETAuxDyn.sumet                                                 | std::vector<float>                                 | AsJagged(AsDtype('>f4'), he...\n",
      "MET_Core_AnalysisMETAuxDyn.name                                                  | std::vector<std::string>                           | AsObjects(AsVector(True, As...\n",
      "MET_Core_AnalysisMETAuxDyn.source                                                | std::vector<uint64_t>                              | AsJagged(AsDtype('>u8'), he...\n",
      "MET_TruthAuxDyn.mpx                                                              | std::vector<float>                                 | AsJagged(AsDtype('>f4'), he...\n",
      "MET_TruthAuxDyn.mpy                                                              | std::vector<float>                                 | AsJagged(AsDtype('>f4'), he...\n",
      "MET_TruthAuxDyn.sumet                                                            | std::vector<float>                                 | AsJagged(AsDtype('>f4'), he...\n",
      "MET_TruthAuxDyn.name                                                             | std::vector<std::string>                           | AsObjects(AsVector(True, As...\n",
      "MET_TruthAuxDyn.source                                                           | std::vector<uint64_t>                              | AsJagged(AsDtype('>u8'), he...\n"
     ]
    }
   ],
   "source": [
    "tree.show(filter_name=\"MET*\", name_width=80, typename_width=50)"
   ]
  },
  {
   "cell_type": "code",
   "execution_count": 12,
   "id": "01edf99a-00b1-4341-81a2-6bf7e0fd89af",
   "metadata": {
    "tags": []
   },
   "outputs": [
    {
     "name": "stdout",
     "output_type": "stream",
     "text": [
      "--+---+---+---+---+---+---+---+---+---+---+---+---+---+---+---+---+---+---+---+-\n",
      " 64   0   0  92  64   9   0   0 167   6 112  11   0   0   0  10  26 253  25  25\n",
      "  @ --- ---   \\   @ --- --- --- --- ---   p --- --- --- --- --- --- --- --- ---\n",
      "     1073741916      1074331648     -1492750325              10       452794649\n",
      "--+---+---+---+---+---+---+---+---+---+---+---+---+---+---+---+---+---+---+---+-\n",
      " 26 253  25  25  26 253  25  25  26 253  25  25  26 253  25  25  26 253  25  25\n",
      "--- --- --- --- --- --- --- --- --- --- --- --- --- --- --- --- --- --- --- ---\n",
      "      452794649       452794649       452794649       452794649       452794649\n",
      "--+---+---+---+---+---+---+---+---+---+---+---+---+---+---+---+---+---+---+---+-\n",
      " 26 253  25  25  26 253  25  25  26 253  25  25   0   0   0   0   0   0   0   0\n",
      "--- --- --- --- --- --- --- --- --- --- --- --- --- --- --- --- --- --- --- ---\n",
      "      452794649       452794649       452794649               0               0\n",
      "--+---+---+---+---+---+---+---+---+---+---+---+---+---+---+---+---+---+---+---+-\n",
      "  0   0   0   1   0   0   0   2   0   0   0   3   0   0   0   4   0   0   0   5\n",
      "--- --- --- --- --- --- --- --- --- --- --- --- --- --- --- --- --- --- --- ---\n",
      "              1               2               3               4               5\n",
      "--+---+---+---+---+---+---+---+---+---+---+---+---+---+---+---+---+---+---+---+-\n",
      "  0   0   0   6   0   0   0   7   0   0   0   8 255 255 255 255\n",
      "--- --- --- --- --- --- --- --- --- --- --- --- --- --- --- ---\n",
      "              6               7               8              -1\n"
     ]
    }
   ],
   "source": [
    "tree[\"METAssoc_AnalysisMETAux.jetLink\"].debug(0, dtype=\">i4\")"
   ]
  },
  {
   "cell_type": "code",
   "execution_count": 13,
   "id": "7efed30e-e897-4bff-bebc-ebe495d8bda7",
   "metadata": {
    "tags": []
   },
   "outputs": [
    {
     "data": {
      "text/html": [
       "<pre>[[{m_persKey: 1879769088, m_persIndex: 662269}, ..., {m_persKey: 393216, ...}],\n",
       " [{m_persKey: 589823, m_persIndex: 4294930443}, ..., {m_persKey: 3, ...}],\n",
       " [{m_persKey: 5, m_persIndex: 6}, {...}, ..., {...}, {m_persKey: 393216, ...}],\n",
       " [{m_persKey: 524288, m_persIndex: 589824}, {...}, ..., {m_persKey: 0, ...}],\n",
       " [{m_persKey: 1, m_persIndex: 2}, {...}, ..., {...}, {m_persKey: 65536, ...}],\n",
       " [{m_persKey: 196608, m_persIndex: 262144}, ..., {m_persKey: 452794649, ...}],\n",
       " [{m_persKey: 0, m_persIndex: 0}, {...}, ..., {m_persKey: 0, m_persIndex: 0}],\n",
       " [{m_persKey: 65536, m_persIndex: 131072}, {...}, ..., {m_persKey: 0, ...}],\n",
       " [{m_persKey: 2, m_persIndex: 3}, ..., {m_persKey: 12, m_persIndex: ..., ...}],\n",
       " [{m_persKey: 1879769088, m_persIndex: 400125}, ..., {m_persKey: ..., ...}],\n",
       " ...,\n",
       " [{m_persKey: 131072, m_persIndex: 196608}, ..., {m_persKey: 452794649, ...}],\n",
       " [{m_persKey: 452794649, m_persIndex: 452794649}, ..., {m_persKey: 7, ...}],\n",
       " [{m_persKey: 4294967295, m_persIndex: 1879769088}, ..., {m_persKey: ..., ...}],\n",
       " [{m_persKey: 452794649, m_persIndex: 452794649}, ..., {m_persKey: ..., ...}],\n",
       " [{m_persKey: 421075709, m_persIndex: 421075709}, ..., {m_persKey: ..., ...}],\n",
       " [{m_persKey: 589824, m_persIndex: 655360}, {...}, ..., {m_persKey: 7, ...}],\n",
       " [{m_persKey: 4294967295, m_persIndex: 1879769088}, ..., {m_persKey: ..., ...}],\n",
       " [{m_persKey: 452794649, m_persIndex: 0}, {...}, ..., {m_persKey: 0, ...}],\n",
       " [{m_persKey: 131072, m_persIndex: 196608}, ..., {m_persKey: 452794649, ...}]]\n",
       "--------------------------------------------------------------------------------\n",
       "type: 100 * var * struct[{\n",
       "    m_persKey: uint32,\n",
       "    m_persIndex: uint32\n",
       "}, parameters={&quot;__record__&quot;: &quot;ElementLink&lt;DataVector&lt;xAOD::Jet_v1&gt;&gt;&quot;}]</pre>"
      ],
      "text/plain": [
       "<Array [[{m_persKey: ..., ...}, ...], ...] type='100 * var * struct[{m_pers...'>"
      ]
     },
     "execution_count": 13,
     "metadata": {},
     "output_type": "execute_result"
    }
   ],
   "source": [
    "links = tree[\"METAssoc_AnalysisMETAux.jetLink\"].array() # buggy\n",
    "links"
   ]
  },
  {
   "cell_type": "code",
   "execution_count": 14,
   "id": "c35eec16-c7fe-41d7-b405-a071f53b8a6a",
   "metadata": {
    "tags": []
   },
   "outputs": [],
   "source": [
    "class Interpretation(uproot.interpretation.Interpretation):\n",
    "    cache_key = \"jetlink\"\n",
    "    _header_bytes = 16\n",
    "\n",
    "    def basket_array(\n",
    "        self,\n",
    "        data,\n",
    "        byte_offsets,\n",
    "        basket,\n",
    "        branch,\n",
    "        context,\n",
    "        cursor_offset,\n",
    "        library,\n",
    "        interp_options,\n",
    "    ):\n",
    "        byte_starts = byte_offsets[:-1] + self._header_bytes\n",
    "        byte_stops = byte_offsets[1:]\n",
    "\n",
    "        # mask out the headers\n",
    "        header_offsets = np.arange(self._header_bytes)\n",
    "        header_idxs = (byte_offsets[:-1] + header_offsets[:, np.newaxis]).ravel()\n",
    "        mask = np.full(len(data), True, dtype=np.bool_)\n",
    "        mask[header_idxs] = False\n",
    "        data = data[mask]\n",
    "\n",
    "        byte_counts = byte_stops - byte_starts\n",
    "        counts = byte_counts\n",
    "\n",
    "        offsets = np.empty(len(counts) + 1, dtype=np.int32)\n",
    "        offsets[0] = 0\n",
    "        np.cumsum(counts, out=offsets[1:])\n",
    "        \n",
    "        starts = offsets[:-1]\n",
    "        stops = offsets[1:]\n",
    "        counts = stops - starts\n",
    "\n",
    "        content = ak.contents.NumpyArray(data.view(\">i4\").newbyteorder().byteswap())\n",
    "        starts_key = starts // 4\n",
    "        stops_key = (starts + counts // 2) // 4\n",
    "        starts_index = stops_key\n",
    "        stops_index = stops // 4\n",
    "\n",
    "        m_persKey = ak.Array(\n",
    "            ak.contents.ListArray(\n",
    "                ak.index.Index(starts_key), ak.index.Index(stops_key), content\n",
    "            )\n",
    "        )\n",
    "        m_persIndex = ak.Array(\n",
    "            ak.contents.ListArray(\n",
    "                ak.index.Index(starts_index), ak.index.Index(stops_index), content\n",
    "            )\n",
    "        )\n",
    "        return ak.zip({\"m_persKey\": m_persKey, \"m_persIndex\": m_persIndex})\n",
    "\n",
    "Interpretation.final_array = uproot.interpretation.objects.AsObjects.final_array"
   ]
  },
  {
   "cell_type": "code",
   "execution_count": 15,
   "id": "0fcd1054-1c5e-4393-af6a-ae283620e8cb",
   "metadata": {
    "tags": []
   },
   "outputs": [
    {
     "data": {
      "text/html": [
       "<pre>[[{m_persKey: 452794649, m_persIndex: 0}, {...}, ..., {m_persKey: 0, ...}],\n",
       " [{m_persKey: 452794649, m_persIndex: 0}, {...}, ..., {m_persKey: 0, ...}],\n",
       " [{m_persKey: 452794649, m_persIndex: 0}, {...}, ..., {m_persKey: 0, ...}],\n",
       " [{m_persKey: 452794649, m_persIndex: 0}, {...}, ..., {m_persKey: 0, ...}],\n",
       " [{m_persKey: 452794649, m_persIndex: 0}, {...}, ..., {m_persKey: 0, ...}],\n",
       " [{m_persKey: 452794649, m_persIndex: 0}, {...}, ..., {m_persKey: 0, ...}],\n",
       " [{m_persKey: 452794649, m_persIndex: 0}, {...}, ..., {m_persKey: 0, ...}],\n",
       " [{m_persKey: 452794649, m_persIndex: 0}, {...}, ..., {m_persKey: 0, ...}],\n",
       " [{m_persKey: 452794649, m_persIndex: 0}, {...}, ..., {m_persKey: 0, ...}],\n",
       " [{m_persKey: 452794649, m_persIndex: 0}, {...}, ..., {m_persKey: 0, ...}],\n",
       " ...,\n",
       " [{m_persKey: 452794649, m_persIndex: 0}, {...}, ..., {m_persKey: 0, ...}],\n",
       " [{m_persKey: 452794649, m_persIndex: 0}, {...}, ..., {m_persKey: 0, ...}],\n",
       " [{m_persKey: 452794649, m_persIndex: 0}, {...}, ..., {m_persKey: 0, ...}],\n",
       " [{m_persKey: 452794649, m_persIndex: 0}, {...}, ..., {m_persKey: 0, ...}],\n",
       " [{m_persKey: 452794649, m_persIndex: 0}, {...}, ..., {m_persKey: 0, ...}],\n",
       " [{m_persKey: 452794649, m_persIndex: 0}, {...}, ..., {m_persKey: 0, ...}],\n",
       " [{m_persKey: 452794649, m_persIndex: 0}, {...}, ..., {m_persKey: 0, ...}],\n",
       " [{m_persKey: 452794649, m_persIndex: 0}, {...}, ..., {m_persKey: 0, ...}],\n",
       " [{m_persKey: 452794649, m_persIndex: 0}, {...}, ..., {m_persKey: 0, ...}]]\n",
       "---------------------------------------------------------------------------\n",
       "type: 100 * var * {\n",
       "    m_persKey: int32,\n",
       "    m_persIndex: int32\n",
       "}</pre>"
      ],
      "text/plain": [
       "<Array [[{m_persKey: ..., ...}, ...], ...] type='100 * var * {m_persKey: in...'>"
      ]
     },
     "execution_count": 15,
     "metadata": {},
     "output_type": "execute_result"
    }
   ],
   "source": [
    "tree._file.array_cache.clear()\n",
    "tree._file.object_cache.clear()\n",
    "array = tree[\"METAssoc_AnalysisMETAux.jetLink\"].array(interpretation=Interpretation())\n",
    "array"
   ]
  },
  {
   "cell_type": "code",
   "execution_count": 16,
   "id": "5f4c6119-bf5c-446b-b782-a4c9f571443a",
   "metadata": {
    "tags": []
   },
   "outputs": [
    {
     "data": {
      "text/html": [
       "<pre>[{m_persKey: 452794649, m_persIndex: 0},\n",
       " {m_persKey: 452794649, m_persIndex: 1},\n",
       " {m_persKey: 452794649, m_persIndex: 2},\n",
       " {m_persKey: 452794649, m_persIndex: 3},\n",
       " {m_persKey: 452794649, m_persIndex: 4},\n",
       " {m_persKey: 452794649, m_persIndex: 5},\n",
       " {m_persKey: 452794649, m_persIndex: 6},\n",
       " {m_persKey: 452794649, m_persIndex: 7},\n",
       " {m_persKey: 452794649, m_persIndex: 8},\n",
       " {m_persKey: 0, m_persIndex: -1}]\n",
       "----------------------------------------\n",
       "type: 10 * {\n",
       "    m_persKey: int32,\n",
       "    m_persIndex: int32\n",
       "}</pre>"
      ],
      "text/plain": [
       "<Array [{m_persKey: 452794649, ...}, ...] type='10 * {m_persKey: int32, m_p...'>"
      ]
     },
     "execution_count": 16,
     "metadata": {},
     "output_type": "execute_result"
    }
   ],
   "source": [
    "array[0]"
   ]
  },
  {
   "cell_type": "code",
   "execution_count": 17,
   "id": "bd102dac-41be-4bed-9c43-371a21252e04",
   "metadata": {
    "tags": []
   },
   "outputs": [
    {
     "data": {
      "text/html": [
       "<pre>[{m_persKey: 452794649, m_persIndex: 0},\n",
       " {m_persKey: 452794649, m_persIndex: 1},\n",
       " {m_persKey: 452794649, m_persIndex: 2},\n",
       " {m_persKey: 452794649, m_persIndex: 3},\n",
       " {m_persKey: 452794649, m_persIndex: 4},\n",
       " {m_persKey: 452794649, m_persIndex: 5},\n",
       " {m_persKey: 452794649, m_persIndex: 6},\n",
       " {m_persKey: 0, m_persIndex: -1}]\n",
       "----------------------------------------\n",
       "type: 8 * {\n",
       "    m_persKey: int32,\n",
       "    m_persIndex: int32\n",
       "}</pre>"
      ],
      "text/plain": [
       "<Array [{m_persKey: 452794649, ...}, ...] type='8 * {m_persKey: int32, m_pe...'>"
      ]
     },
     "execution_count": 17,
     "metadata": {},
     "output_type": "execute_result"
    }
   ],
   "source": [
    "array[1]"
   ]
  },
  {
   "cell_type": "code",
   "execution_count": 18,
   "id": "eb32af04-c19e-436e-b138-d98ac6fd2f5c",
   "metadata": {
    "tags": []
   },
   "outputs": [
    {
     "data": {
      "text/html": [
       "<pre>[[[], [956497600, 518718875], [], [], ..., [], [], [], [902907695]],\n",
       " [[], [980095599], [], [], [], [], [], []],\n",
       " [[], [], [518718875], [], [], [], ..., [], [], [], [], [980095599, 518718875]],\n",
       " [[518718875], [], [518718875], [], [], [], [518718875]],\n",
       " [[518718875], [], [518718875], [], [], [], [], [], [], [], []],\n",
       " [[], [], [], [956497600, 518718875], [], [], [], []],\n",
       " [[518718875], [], [], [], [], [], [], [], [], [], [], [902907695]],\n",
       " [[], [], [], [], [], [], [], [], [], [], [], [], [], []],\n",
       " [[], [], [902907695, 518718875], [518718875], [], []],\n",
       " [[], [], [], [], [518718875], [], [], [], []],\n",
       " ...,\n",
       " [[518718875], [956497600], [], [956497600], [], [980095599]],\n",
       " [[], [], [], [956497600, 518718875], [518718875], [], [], []],\n",
       " [[], [518718875], [], [518718875], [], [], [], [], [], [], []],\n",
       " [[], [], [], [], [], [], [], [], [], [], [980095599]],\n",
       " [[], [518718875], [], [], [], [], [], [], [], []],\n",
       " [[], [518718875], [], [518718875], [518718875], ..., [], [], [], [902907695]],\n",
       " [[980095599], [518718875], [], [], [], ..., [], [], [], [902907695], []],\n",
       " [[], [518718875], [], ..., [980095599], [], [980095599, 518718875]],\n",
       " [[], [518718875], [980095599], [518718875], [...], [], [], [], []]]\n",
       "--------------------------------------------------------------------------------\n",
       "type: 100 * var * var * uint32</pre>"
      ],
      "text/plain": [
       "<Array [[[], [...], ..., [], [902907695]], ...] type='100 * var * var * uint32'>"
      ]
     },
     "execution_count": 18,
     "metadata": {},
     "output_type": "execute_result"
    }
   ],
   "source": [
    "tree[\"METAssoc_AnalysisMETAux.objectLinks\"].array().m_persKey"
   ]
  },
  {
   "cell_type": "code",
   "execution_count": 19,
   "id": "5a8711ea-1778-44e6-990b-a45465961e76",
   "metadata": {
    "tags": []
   },
   "outputs": [
    {
     "data": {
      "text/plain": [
       "'AnalysisElectrons'"
      ]
     },
     "execution_count": 19,
     "metadata": {},
     "output_type": "execute_result"
    }
   ],
   "source": [
    "hash_to_branchname[956497600]"
   ]
  },
  {
   "cell_type": "code",
   "execution_count": 20,
   "id": "07de9462-75c4-462b-8036-552961070f16",
   "metadata": {
    "tags": []
   },
   "outputs": [
    {
     "data": {
      "text/plain": [
       "'AnalysisTauJets'"
      ]
     },
     "execution_count": 20,
     "metadata": {},
     "output_type": "execute_result"
    }
   ],
   "source": [
    "hash_to_branchname[518718875]"
   ]
  },
  {
   "cell_type": "code",
   "execution_count": 21,
   "id": "7f5f027e-dcb1-4aa8-ba68-3ed8641108c5",
   "metadata": {
    "tags": []
   },
   "outputs": [
    {
     "data": {
      "text/plain": [
       "'AnalysisPhotons'"
      ]
     },
     "execution_count": 21,
     "metadata": {},
     "output_type": "execute_result"
    }
   ],
   "source": [
    "hash_to_branchname[902907695]"
   ]
  },
  {
   "cell_type": "code",
   "execution_count": 22,
   "id": "faed1c02-9bae-4b9e-940e-cc571174336e",
   "metadata": {
    "tags": []
   },
   "outputs": [
    {
     "data": {
      "text/html": [
       "<pre>[[],\n",
       " [956497600, 518718875],\n",
       " [],\n",
       " [],\n",
       " [518718875],\n",
       " [],\n",
       " [],\n",
       " [],\n",
       " [],\n",
       " [902907695]]\n",
       "------------------------\n",
       "type: 10 * var * uint32</pre>"
      ],
      "text/plain": [
       "<Array [[], [956497600, ...], ..., [], [902907695]] type='10 * var * uint32'>"
      ]
     },
     "execution_count": 22,
     "metadata": {},
     "output_type": "execute_result"
    }
   ],
   "source": [
    "tree[\"METAssoc_AnalysisMETAux.objectLinks\"].array().m_persKey[0]"
   ]
  },
  {
   "cell_type": "code",
   "execution_count": 23,
   "id": "5f8acc16-7225-441a-a940-58ebfa05628d",
   "metadata": {
    "tags": []
   },
   "outputs": [
    {
     "data": {
      "text/html": [
       "<pre>[[],\n",
       " [0, 0],\n",
       " [],\n",
       " [],\n",
       " [1],\n",
       " [],\n",
       " [],\n",
       " [],\n",
       " [],\n",
       " [0]]\n",
       "-----------------------\n",
       "type: 10 * var * uint32</pre>"
      ],
      "text/plain": [
       "<Array [[], [0, 0], [], [], [1], ..., [], [], [], [0]] type='10 * var * uint32'>"
      ]
     },
     "execution_count": 23,
     "metadata": {},
     "output_type": "execute_result"
    }
   ],
   "source": [
    "tree[\"METAssoc_AnalysisMETAux.objectLinks\"].array().m_persIndex[0]"
   ]
  },
  {
   "cell_type": "code",
   "execution_count": 24,
   "id": "d17416f4-2d7d-43f6-8270-5c513aa8fe6b",
   "metadata": {
    "tags": []
   },
   "outputs": [
    {
     "data": {
      "text/html": [
       "<pre>[[],\n",
       " [0],\n",
       " [],\n",
       " [],\n",
       " [],\n",
       " [],\n",
       " [],\n",
       " []]\n",
       "----------------------\n",
       "type: 8 * var * uint32</pre>"
      ],
      "text/plain": [
       "<Array [[], [0], [], [], [], [], [], []] type='8 * var * uint32'>"
      ]
     },
     "execution_count": 24,
     "metadata": {},
     "output_type": "execute_result"
    }
   ],
   "source": [
    "tree[\"METAssoc_AnalysisMETAux.objectLinks\"].array().m_persIndex[1]"
   ]
  },
  {
   "cell_type": "code",
   "execution_count": null,
   "id": "2c8100c5-a9b4-4cb7-aad6-ddcd9dc5e7b2",
   "metadata": {},
   "outputs": [],
   "source": []
  },
  {
   "cell_type": "code",
   "execution_count": 25,
   "id": "cc0ec5b1-ea9f-4a7c-98ab-cee752d526b0",
   "metadata": {
    "tags": []
   },
   "outputs": [],
   "source": [
    "def read_metassoc(tree):\n",
    "    array = {}\n",
    "    for key in tree.keys(filter_name=\"METAssoc*\"):\n",
    "        try:\n",
    "            key = key.split(\"/\")[1]\n",
    "        except IndexError:\n",
    "            pass\n",
    "        if \"AuxContainerBase\" in key or key.endswith(\".\") or not \".\" in key:\n",
    "            continue\n",
    "        field = key.split(\".\")[-1]\n",
    "        if \"jetLink\" in key:\n",
    "            interpretation = Interpretation()\n",
    "        else:\n",
    "            interpretation = None\n",
    "        array[field] = tree[key].array(interpretation=interpretation)\n",
    "    return ak.zip(array, depth_limit=1)"
   ]
  },
  {
   "cell_type": "code",
   "execution_count": 26,
   "id": "d3b5671e-ed28-4efe-9ebe-3c95855440fb",
   "metadata": {
    "tags": []
   },
   "outputs": [
    {
     "data": {
      "text/html": [
       "<pre>[{jetLink: [{m_persKey: ..., ...}, ...], objectLinks: [[], ...], ...},\n",
       " {jetLink: [{m_persKey: ..., ...}, ...], objectLinks: [[], ...], ...},\n",
       " {jetLink: [{m_persKey: ..., ...}, ...], objectLinks: [[], ...], ...},\n",
       " {jetLink: [{m_persKey: ..., ...}, ...], objectLinks: [...], calpx: [...], ...},\n",
       " {jetLink: [{m_persKey: ..., ...}, ...], objectLinks: [...], calpx: [...], ...},\n",
       " {jetLink: [{m_persKey: ..., ...}, ...], objectLinks: [[], ...], ...},\n",
       " {jetLink: [{m_persKey: ..., ...}, ...], objectLinks: [...], calpx: [...], ...},\n",
       " {jetLink: [{m_persKey: ..., ...}, ...], objectLinks: [[], ...], ...},\n",
       " {jetLink: [{m_persKey: ..., ...}, ...], objectLinks: [[], ...], ...},\n",
       " {jetLink: [{m_persKey: ..., ...}, ...], objectLinks: [[], ...], ...},\n",
       " ...,\n",
       " {jetLink: [{m_persKey: ..., ...}, ...], objectLinks: [...], calpx: [...], ...},\n",
       " {jetLink: [{m_persKey: ..., ...}, ...], objectLinks: [[], ...], ...},\n",
       " {jetLink: [{m_persKey: ..., ...}, ...], objectLinks: [[], ...], ...},\n",
       " {jetLink: [{m_persKey: ..., ...}, ...], objectLinks: [[], ...], ...},\n",
       " {jetLink: [{m_persKey: ..., ...}, ...], objectLinks: [[], ...], ...},\n",
       " {jetLink: [{m_persKey: ..., ...}, ...], objectLinks: [[], ...], ...},\n",
       " {jetLink: [{m_persKey: ..., ...}, ...], objectLinks: [...], calpx: [...], ...},\n",
       " {jetLink: [{m_persKey: ..., ...}, ...], objectLinks: [[], ...], ...},\n",
       " {jetLink: [{m_persKey: ..., ...}, ...], objectLinks: [[], ...], ...}]\n",
       "--------------------------------------------------------------------------------\n",
       "type: 100 * {\n",
       "    jetLink: var * {\n",
       "        m_persKey: int32,\n",
       "        m_persIndex: int32\n",
       "    },\n",
       "    objectLinks: var * var * struct[{\n",
       "        m_persKey: uint32,\n",
       "        m_persIndex: uint32\n",
       "    }, parameters={&quot;__record__&quot;: &quot;ElementLink&lt;DataVector&lt;xAOD::IParticle&gt;&gt;&quot;}],\n",
       "    calpx: var * var * float32,\n",
       "    calpy: var * var * float32,\n",
       "    calpz: var * var * float32,\n",
       "    cale: var * var * float32,\n",
       "    calsumpt: var * var * float32,\n",
       "    calkey: var * var * uint64,\n",
       "    trkpx: var * var * float32,\n",
       "    trkpy: var * var * float32,\n",
       "    trkpz: var * var * float32,\n",
       "    trke: var * var * float32,\n",
       "    trksumpt: var * var * float32,\n",
       "    trkkey: var * var * uint64,\n",
       "    jettrkpx: var * float32,\n",
       "    jettrkpy: var * float32,\n",
       "    jettrkpz: var * float32,\n",
       "    jettrke: var * float32,\n",
       "    jettrksumpt: var * float32,\n",
       "    overlapIndices: var * var * var * uint64,\n",
       "    overlapTypes: var * var * var * uint8,\n",
       "    isMisc: var * int8\n",
       "}</pre>"
      ],
      "text/plain": [
       "<Array [{jetLink: [...], ...}, ..., {...}] type='100 * {jetLink: var * {m_p...'>"
      ]
     },
     "execution_count": 26,
     "metadata": {},
     "output_type": "execute_result"
    }
   ],
   "source": [
    "assoc = read_metassoc(tree)\n",
    "assoc"
   ]
  },
  {
   "cell_type": "code",
   "execution_count": 27,
   "id": "e7432c79-7d50-4e5e-9c53-bdced93e54d7",
   "metadata": {
    "tags": []
   },
   "outputs": [
    {
     "data": {
      "text/html": [
       "<pre>[[[]],\n",
       " [],\n",
       " [],\n",
       " [],\n",
       " [],\n",
       " [],\n",
       " [],\n",
       " [],\n",
       " [[2], [2], [0, 1]]]\n",
       "----------------------------\n",
       "type: 9 * var * var * uint64</pre>"
      ],
      "text/plain": [
       "<Array [[[]], [], ..., [], [[2], [2], [0, 1]]] type='9 * var * var * uint64'>"
      ]
     },
     "execution_count": 27,
     "metadata": {},
     "output_type": "execute_result"
    }
   ],
   "source": [
    "assoc.overlapIndices[15]"
   ]
  },
  {
   "cell_type": "code",
   "execution_count": 28,
   "id": "a924fb2a-f03c-4a5c-b569-2a35088b2a79",
   "metadata": {
    "tags": []
   },
   "outputs": [],
   "source": [
    "def pp_hash(stuff):\n",
    "    for event in stuff.tolist():\n",
    "        print([hash_to_branchname[h] for h in event])\n",
    "        print()"
   ]
  },
  {
   "cell_type": "code",
   "execution_count": 29,
   "id": "f25365a6-807e-409b-afec-1d15863dfc84",
   "metadata": {
    "tags": []
   },
   "outputs": [
    {
     "name": "stdout",
     "output_type": "stream",
     "text": [
      "['AnalysisMuons']\n",
      "\n",
      "[]\n",
      "\n",
      "[]\n",
      "\n",
      "[]\n",
      "\n",
      "[]\n",
      "\n",
      "[]\n",
      "\n",
      "[]\n",
      "\n",
      "[]\n",
      "\n",
      "['AnalysisMuons', 'AnalysisPhotons', 'AnalysisTauJets']\n",
      "\n"
     ]
    }
   ],
   "source": [
    "pp_hash(assoc.objectLinks[15].m_persKey)"
   ]
  },
  {
   "cell_type": "code",
   "execution_count": null,
   "id": "f2a92793-1e34-4498-b7a5-4580689f9534",
   "metadata": {},
   "outputs": [],
   "source": []
  },
  {
   "cell_type": "code",
   "execution_count": 30,
   "id": "cc359e0a-d653-42cc-9dad-606f029c1dd3",
   "metadata": {
    "tags": []
   },
   "outputs": [
    {
     "data": {
      "text/html": [
       "<pre>[0,\n",
       " 0,\n",
       " 0,\n",
       " 0,\n",
       " 0,\n",
       " 0,\n",
       " 0,\n",
       " 0,\n",
       " 0,\n",
       " 1]\n",
       "---------------\n",
       "type: 10 * int8</pre>"
      ],
      "text/plain": [
       "<Array [0, 0, 0, 0, 0, 0, 0, 0, 0, 1] type='10 * int8'>"
      ]
     },
     "execution_count": 30,
     "metadata": {},
     "output_type": "execute_result"
    }
   ],
   "source": [
    "assoc.isMisc[0]"
   ]
  },
  {
   "cell_type": "code",
   "execution_count": 31,
   "id": "63af316e-d1ba-4e81-8a25-417a348c9466",
   "metadata": {
    "tags": []
   },
   "outputs": [
    {
     "data": {
      "text/html": [
       "<pre>[0,\n",
       " 0,\n",
       " 0,\n",
       " 0,\n",
       " 0,\n",
       " 0,\n",
       " 0,\n",
       " 1]\n",
       "--------------\n",
       "type: 8 * int8</pre>"
      ],
      "text/plain": [
       "<Array [0, 0, 0, 0, 0, 0, 0, 1] type='8 * int8'>"
      ]
     },
     "execution_count": 31,
     "metadata": {},
     "output_type": "execute_result"
    }
   ],
   "source": [
    "assoc.isMisc[1]"
   ]
  },
  {
   "cell_type": "code",
   "execution_count": 32,
   "id": "66078a57-bf3d-400e-b22f-e5c94f4ed913",
   "metadata": {
    "tags": []
   },
   "outputs": [
    {
     "data": {
      "text/plain": [
       "'AnalysisTauJets'"
      ]
     },
     "execution_count": 32,
     "metadata": {},
     "output_type": "execute_result"
    }
   ],
   "source": [
    "hash_to_branchname[518718875]"
   ]
  },
  {
   "cell_type": "code",
   "execution_count": 33,
   "id": "d8e244f0-b00d-4691-af76-e412e4f4c25b",
   "metadata": {
    "tags": []
   },
   "outputs": [
    {
     "data": {
      "text/plain": [
       "'AnalysisMuons'"
      ]
     },
     "execution_count": 33,
     "metadata": {},
     "output_type": "execute_result"
    }
   ],
   "source": [
    "hash_to_branchname[980095599]"
   ]
  },
  {
   "cell_type": "code",
   "execution_count": 34,
   "id": "178317ad-2a10-4cad-a3c4-dc3a60fda093",
   "metadata": {
    "tags": []
   },
   "outputs": [
    {
     "data": {
      "text/plain": [
       "'AnalysisTauJets'"
      ]
     },
     "execution_count": 34,
     "metadata": {},
     "output_type": "execute_result"
    }
   ],
   "source": [
    "hash_to_branchname[518718875]"
   ]
  },
  {
   "cell_type": "code",
   "execution_count": 35,
   "id": "3df5445a-86f3-48d1-b58c-54681f48b68f",
   "metadata": {
    "tags": []
   },
   "outputs": [
    {
     "data": {
      "text/html": [
       "<pre>[[0, 0, 0, 0, 0, 0, 0, 0, 0, 1],\n",
       " [0, 0, 0, 0, 0, 0, 0, 1],\n",
       " [0, 0, 0, 0, 0, 0, 0, 0, 0, 0, 0, 0, 1],\n",
       " [0, 0, 0, 0, 0, 0, 1],\n",
       " [0, 0, 0, 0, 0, 0, 0, 0, 0, 0, 1],\n",
       " [0, 0, 0, 0, 0, 0, 0, 1],\n",
       " [0, 0, 0, 0, 0, 0, 0, 0, 0, 0, 0, 1],\n",
       " [0, 0, 0, 0, 0, 0, 0, 0, 0, 0, 0, 0, 0, 1],\n",
       " [0, 0, 0, 0, 0, 1],\n",
       " [0, 0, 0, 0, 0, 0, 0, 0, 1],\n",
       " ...,\n",
       " [0, 0, 0, 0, 0, 1],\n",
       " [0, 0, 0, 0, 0, 0, 0, 1],\n",
       " [0, 0, 0, 0, 0, 0, 0, 0, 0, 0, 1],\n",
       " [0, 0, 0, 0, 0, 0, 0, 0, 0, 0, 1],\n",
       " [0, 0, 0, 0, 0, 0, 0, 0, 0, 1],\n",
       " [0, 0, 0, 0, 0, 0, 0, 0, 0, 0, 0, 1],\n",
       " [0, 0, 0, 0, 0, 0, 0, 0, 0, 0, 0, 0, 1],\n",
       " [0, 0, 0, 0, 0, 0, 0, 0, 0, 1],\n",
       " [0, 0, 0, 0, 0, 0, 0, 0, 1]]\n",
       "--------------------------------------------\n",
       "type: 100 * var * int8</pre>"
      ],
      "text/plain": [
       "<Array [[0, 0, 0, 0, 0, 0, 0, 0, 0, 1], ..., [0, ...]] type='100 * var * int8'>"
      ]
     },
     "execution_count": 35,
     "metadata": {},
     "output_type": "execute_result"
    }
   ],
   "source": [
    "assoc.isMisc"
   ]
  },
  {
   "cell_type": "code",
   "execution_count": 36,
   "id": "d4f9e6bf-cd41-4bdf-8b89-4ed7cacd52ec",
   "metadata": {
    "tags": []
   },
   "outputs": [
    {
     "data": {
      "text/html": [
       "<pre>[[[], [0, 0], [], [], [1], [], [], [], [], [0]]]\n",
       "------------------------------------------------\n",
       "type: 1 * var * var * uint32</pre>"
      ],
      "text/plain": [
       "<Array [[[], [0, 0], [], [], ..., [], [], [0]]] type='1 * var * var * uint32'>"
      ]
     },
     "execution_count": 36,
     "metadata": {},
     "output_type": "execute_result"
    }
   ],
   "source": [
    "assoc.objectLinks.m_persIndex[:1]"
   ]
  },
  {
   "cell_type": "code",
   "execution_count": 37,
   "id": "f6449e9a-d0ae-4eb2-bd78-3ace686ed888",
   "metadata": {
    "tags": []
   },
   "outputs": [
    {
     "data": {
      "text/html": [
       "<pre>[[[], [], [], [], [], [], [], [], [], [0, 0]],\n",
       " [[], [], [], [], [], [], [], [0]],\n",
       " [[], [], [], [], [], [], [], [], [], [], [], [], []],\n",
       " [[1], [1], [1], [1], [1], [1], []],\n",
       " [[0], [0], [0], [0], [0], [0], [0], [0], [0], [0], []],\n",
       " [[], [], [], [], [], [], [], []],\n",
       " [[0], [0], [0], [0], [0], [0], [0], [0], [0], [0], [0], []],\n",
       " [[], [], [], [], [], [], [], [], [], [], [], [], [], []],\n",
       " [[], [], [], [], [], []],\n",
       " [[], [], [], [], [], [], [], [], []],\n",
       " ...,\n",
       " [[0], [0], [0], [0], [0], [0]],\n",
       " [[], [], [], [], [], [], [], []],\n",
       " [[], [], [], [], [], [], [], [], [], [], [1]],\n",
       " [[], [], [], [], [], [], [], [], [], [], []],\n",
       " [[], [], [], [], [], [], [], [], [], [0]],\n",
       " [[], [], [], [], [], [], [], [], [], [], [], [0]],\n",
       " [[0], [0], [0], [0], [0], [0], [0], [0], [0], [0], [0], [0], [0]],\n",
       " [[], [], [], [], [], [], [], [], [], [0]],\n",
       " [[], [], [], [], [], [], [], [], [0]]]\n",
       "-------------------------------------------------------------------\n",
       "type: 100 * var * var * uint32</pre>"
      ],
      "text/plain": [
       "<Array [[[], [], [], ..., [], [], [0, 0]], ...] type='100 * var * var * uint32'>"
      ]
     },
     "execution_count": 37,
     "metadata": {},
     "output_type": "execute_result"
    }
   ],
   "source": [
    "assoc.objectLinks.m_persIndex[assoc.isMisc]"
   ]
  },
  {
   "cell_type": "code",
   "execution_count": 38,
   "id": "787edeba-1cfa-4ccc-a32c-9d47c4c58b36",
   "metadata": {
    "tags": []
   },
   "outputs": [
    {
     "data": {
      "text/html": [
       "<pre>[[False, False, False, False, False, False, False, False, False, True],\n",
       " [False, False, False, False, False, False, False, True],\n",
       " [False, False, False, False, False, ..., False, False, False, False, True],\n",
       " [False, False, False, False, False, False, True],\n",
       " [False, False, False, False, False, ..., False, False, False, False, True],\n",
       " [False, False, False, False, False, False, False, True],\n",
       " [False, False, False, False, False, ..., False, False, False, False, True],\n",
       " [False, False, False, False, False, ..., False, False, False, False, True],\n",
       " [False, False, False, False, False, True],\n",
       " [False, False, False, False, False, False, False, False, True],\n",
       " ...,\n",
       " [False, False, False, False, False, True],\n",
       " [False, False, False, False, False, False, False, True],\n",
       " [False, False, False, False, False, ..., False, False, False, False, True],\n",
       " [False, False, False, False, False, ..., False, False, False, False, True],\n",
       " [False, False, False, False, False, False, False, False, False, True],\n",
       " [False, False, False, False, False, ..., False, False, False, False, True],\n",
       " [False, False, False, False, False, ..., False, False, False, False, True],\n",
       " [False, False, False, False, False, False, False, False, False, True],\n",
       " [False, False, False, False, False, False, False, False, True]]\n",
       "----------------------------------------------------------------------------\n",
       "type: 100 * var * bool</pre>"
      ],
      "text/plain": [
       "<Array [[False, False, False, ..., False, True], ...] type='100 * var * bool'>"
      ]
     },
     "execution_count": 38,
     "metadata": {},
     "output_type": "execute_result"
    }
   ],
   "source": [
    "assoc.isMisc == 1"
   ]
  },
  {
   "cell_type": "code",
   "execution_count": 39,
   "id": "209919e2-18c1-4494-a3da-cfa3740e9778",
   "metadata": {
    "tags": []
   },
   "outputs": [
    {
     "data": {
      "text/html": [
       "<pre>[[False, False, False, False, False, False, False, False, False, True],\n",
       " [False, False, False, False, False, False, False, True],\n",
       " [False, False, False, False, False, ..., False, False, False, False, True],\n",
       " [False, False, False, False, False, False, True],\n",
       " [False, False, False, False, False, ..., False, False, False, False, True],\n",
       " [False, False, False, False, False, False, False, True],\n",
       " [False, False, False, False, False, ..., False, False, False, False, True],\n",
       " [False, False, False, False, False, ..., False, False, False, False, True],\n",
       " [False, False, False, False, False, True],\n",
       " [False, False, False, False, False, False, False, False, True],\n",
       " ...,\n",
       " [False, False, False, False, False, True],\n",
       " [False, False, False, False, False, False, False, True],\n",
       " [False, False, False, False, False, ..., False, False, False, False, True],\n",
       " [False, False, False, False, False, ..., False, False, False, False, True],\n",
       " [False, False, False, False, False, False, False, False, False, True],\n",
       " [False, False, False, False, False, ..., False, False, False, False, True],\n",
       " [False, False, False, False, False, ..., False, False, False, False, True],\n",
       " [False, False, False, False, False, False, False, False, False, True],\n",
       " [False, False, False, False, False, False, False, False, True]]\n",
       "----------------------------------------------------------------------------\n",
       "type: 100 * var * bool</pre>"
      ],
      "text/plain": [
       "<Array [[False, False, False, ..., False, True], ...] type='100 * var * bool'>"
      ]
     },
     "execution_count": 39,
     "metadata": {},
     "output_type": "execute_result"
    }
   ],
   "source": [
    "assoc.isMisc == 1"
   ]
  },
  {
   "cell_type": "code",
   "execution_count": 40,
   "id": "bd0d461a-b8bc-4564-8345-6b9eab283528",
   "metadata": {
    "tags": []
   },
   "outputs": [
    {
     "data": {
      "text/html": [
       "<pre>[[[1], [], [2, 3]],\n",
       " [[4, 5], [6], []]]\n",
       "---------------------------\n",
       "type: 2 * var * var * int64</pre>"
      ],
      "text/plain": [
       "<Array [[[1], [], [2, 3]], [[4, ...], ...]] type='2 * var * var * int64'>"
      ]
     },
     "execution_count": 40,
     "metadata": {},
     "output_type": "execute_result"
    }
   ],
   "source": [
    "array = ak.Array([[[1], [], [2, 3]], [[4, 5], [6], []]])\n",
    "array"
   ]
  },
  {
   "cell_type": "code",
   "execution_count": 41,
   "id": "ed82ed9d-6c50-4b61-934e-d77928dda4bc",
   "metadata": {
    "tags": []
   },
   "outputs": [
    {
     "data": {
      "text/html": [
       "<pre>[[True, False, True],\n",
       " [False, False, True]]\n",
       "----------------------\n",
       "type: 2 * var * bool</pre>"
      ],
      "text/plain": [
       "<Array [[True, False, True], [False, ..., True]] type='2 * var * bool'>"
      ]
     },
     "execution_count": 41,
     "metadata": {},
     "output_type": "execute_result"
    }
   ],
   "source": [
    "mask = ak.Array([[True, False, True], [False, False, True]])\n",
    "mask"
   ]
  },
  {
   "cell_type": "code",
   "execution_count": 42,
   "id": "2a8b3efc-f585-4b63-a9cd-3706492ebc7f",
   "metadata": {
    "tags": []
   },
   "outputs": [
    {
     "data": {
      "text/html": [
       "<pre>[[[1], [2, 3]],\n",
       " [[]]]\n",
       "---------------------------\n",
       "type: 2 * var * var * int64</pre>"
      ],
      "text/plain": [
       "<Array [[[1], [2, 3]], [[]]] type='2 * var * var * int64'>"
      ]
     },
     "execution_count": 42,
     "metadata": {},
     "output_type": "execute_result"
    }
   ],
   "source": [
    "array[mask]"
   ]
  },
  {
   "cell_type": "code",
   "execution_count": 43,
   "id": "76f6ded6-2433-42e2-84af-ec282a2f6e4c",
   "metadata": {
    "tags": []
   },
   "outputs": [
    {
     "data": {
      "text/html": [
       "<pre>[[902907695],\n",
       " [],\n",
       " [980095599, 518718875],\n",
       " [518718875],\n",
       " [],\n",
       " [],\n",
       " [902907695],\n",
       " [],\n",
       " [],\n",
       " [],\n",
       " ...,\n",
       " [980095599],\n",
       " [],\n",
       " [],\n",
       " [980095599],\n",
       " [],\n",
       " [902907695],\n",
       " [],\n",
       " [980095599, 518718875],\n",
       " []]\n",
       "------------------------\n",
       "type: 100 * var * uint32</pre>"
      ],
      "text/plain": [
       "<Array [[902907695], [], ..., [980095599, ...], []] type='100 * var * uint32'>"
      ]
     },
     "execution_count": 43,
     "metadata": {},
     "output_type": "execute_result"
    }
   ],
   "source": [
    "assoc.objectLinks[assoc.isMisc == 1].m_persKey[:, 0]"
   ]
  },
  {
   "cell_type": "code",
   "execution_count": 44,
   "id": "0a431dd5-ac1f-42ba-a4d7-fc1bf2478c01",
   "metadata": {
    "tags": []
   },
   "outputs": [
    {
     "name": "stdout",
     "output_type": "stream",
     "text": [
      "['AnalysisPhotons']\n",
      "\n",
      "[]\n",
      "\n",
      "['AnalysisMuons', 'AnalysisTauJets']\n",
      "\n",
      "['AnalysisTauJets']\n",
      "\n",
      "[]\n",
      "\n",
      "[]\n",
      "\n",
      "['AnalysisPhotons']\n",
      "\n",
      "[]\n",
      "\n",
      "[]\n",
      "\n",
      "[]\n",
      "\n",
      "['AnalysisPhotons']\n",
      "\n",
      "[]\n",
      "\n",
      "[]\n",
      "\n",
      "['AnalysisMuons', 'AnalysisTauJets']\n",
      "\n",
      "[]\n",
      "\n",
      "['AnalysisMuons', 'AnalysisPhotons', 'AnalysisTauJets']\n",
      "\n",
      "[]\n",
      "\n",
      "[]\n",
      "\n",
      "[]\n",
      "\n",
      "[]\n",
      "\n",
      "[]\n",
      "\n",
      "[]\n",
      "\n",
      "[]\n",
      "\n",
      "['AnalysisMuons']\n",
      "\n",
      "[]\n",
      "\n",
      "['AnalysisPhotons']\n",
      "\n",
      "[]\n",
      "\n",
      "[]\n",
      "\n",
      "['AnalysisPhotons']\n",
      "\n",
      "[]\n",
      "\n",
      "[]\n",
      "\n",
      "[]\n",
      "\n",
      "[]\n",
      "\n",
      "[]\n",
      "\n",
      "[]\n",
      "\n",
      "[]\n",
      "\n",
      "['AnalysisMuons', 'AnalysisTauJets']\n",
      "\n",
      "[]\n",
      "\n",
      "['AnalysisMuons']\n",
      "\n",
      "['AnalysisPhotons']\n",
      "\n",
      "[]\n",
      "\n",
      "[]\n",
      "\n",
      "[]\n",
      "\n",
      "[]\n",
      "\n",
      "['AnalysisPhotons']\n",
      "\n",
      "['AnalysisPhotons']\n",
      "\n",
      "['AnalysisMuons']\n",
      "\n",
      "[]\n",
      "\n",
      "['AnalysisMuons']\n",
      "\n",
      "['AnalysisMuons', 'AnalysisPhotons', 'AnalysisTauJets']\n",
      "\n",
      "['AnalysisMuons', 'AnalysisPhotons', 'AnalysisTauJets']\n",
      "\n",
      "[]\n",
      "\n",
      "[]\n",
      "\n",
      "[]\n",
      "\n",
      "[]\n",
      "\n",
      "[]\n",
      "\n",
      "['AnalysisPhotons']\n",
      "\n",
      "[]\n",
      "\n",
      "['AnalysisMuons', 'AnalysisTauJets']\n",
      "\n",
      "[]\n",
      "\n",
      "['AnalysisPhotons']\n",
      "\n",
      "[]\n",
      "\n",
      "['AnalysisMuons', 'AnalysisPhotons']\n",
      "\n",
      "['AnalysisMuons']\n",
      "\n",
      "['AnalysisMuons', 'AnalysisPhotons', 'AnalysisTauJets']\n",
      "\n",
      "[]\n",
      "\n",
      "[]\n",
      "\n",
      "['AnalysisMuons', 'AnalysisTauJets']\n",
      "\n",
      "[]\n",
      "\n",
      "['AnalysisMuons']\n",
      "\n",
      "['AnalysisMuons', 'AnalysisTauJets']\n",
      "\n",
      "[]\n",
      "\n",
      "[]\n",
      "\n",
      "['AnalysisMuons']\n",
      "\n",
      "[]\n",
      "\n",
      "[]\n",
      "\n",
      "['AnalysisTauJets']\n",
      "\n",
      "[]\n",
      "\n",
      "[]\n",
      "\n",
      "[]\n",
      "\n",
      "['AnalysisTauJets']\n",
      "\n",
      "['AnalysisPhotons']\n",
      "\n",
      "[]\n",
      "\n",
      "[]\n",
      "\n",
      "['AnalysisPhotons', 'AnalysisPhotons']\n",
      "\n",
      "[]\n",
      "\n",
      "['AnalysisMuons']\n",
      "\n",
      "[]\n",
      "\n",
      "['AnalysisMuons']\n",
      "\n",
      "['AnalysisPhotons']\n",
      "\n",
      "[]\n",
      "\n",
      "['AnalysisMuons']\n",
      "\n",
      "[]\n",
      "\n",
      "[]\n",
      "\n",
      "['AnalysisMuons']\n",
      "\n",
      "[]\n",
      "\n",
      "['AnalysisPhotons']\n",
      "\n",
      "[]\n",
      "\n",
      "['AnalysisMuons', 'AnalysisTauJets']\n",
      "\n",
      "[]\n",
      "\n"
     ]
    }
   ],
   "source": [
    "pp_hash(ak.firsts(assoc.objectLinks[assoc.isMisc == 1].m_persKey))"
   ]
  },
  {
   "cell_type": "code",
   "execution_count": 45,
   "id": "3f55fab3-677c-47df-ba91-06eac5bb6929",
   "metadata": {
    "tags": []
   },
   "outputs": [
    {
     "data": {
      "text/html": [
       "<pre>[[-1.63e+03, -8.63e+03, 1.62e+04, 2.31e+04, 1.87e+04, ..., 781, 4.98e+03, 0, 0],\n",
       " [-1.96e+03, 1.89e+04, 1.63e+04, 3.03e+03, ..., 2.39e+03, 5.31e+03, 0],\n",
       " [0, 2.93e+04, 2.41e+04, 0, -2.15e+04, ..., 6.54e+03, -4.06e+03, 0, 0],\n",
       " [9.49e+03, 0, -9.93e+03, -1.58e+04, 262, 1.31e+04, 0],\n",
       " [1.75e+04, 3.16e+04, -2.25e+03, -2.12e+04, ..., 1.35e+03, -6.21e+03, 0],\n",
       " [3.96e+04, -5.49e+03, -2.29e+04, -1.8e+04, 0, -9.56e+03, -423, 0],\n",
       " [2.61e+04, -5.51e+03, -9.32e+03, 7.11e+03, -9.42e+03, ..., 0, 0, 0, 0],\n",
       " [3.8e+04, -2.71e+04, -1.43e+03, 1.45e+04, ..., -2.31e+03, -1.96e+03, 0],\n",
       " [-1.56e+04, 2.72e+04, -2.54e+03, -3.78e+03, 795, 0],\n",
       " [-3.63e+04, 5.7e+03, 3.1e+04, 1.86e+04, ..., -4.35e+03, 0, 6.45e+03, 0],\n",
       " ...,\n",
       " [-482, -1.23e+03, 1.45e+04, 1.36e+04, -9.68e+03, 0],\n",
       " [0, -8.25e+03, -623, 0, -3.86e+03, 356, 0, 0],\n",
       " [-1.74e+04, 2.59e+04, 1.52e+04, 1.5e+04, ..., -1.11e+03, 7.52e+03, 0, 0],\n",
       " [-1.69e+04, -1.15e+04, 9.12e+03, 1.41e+04, -9e+03, 0, 492, 269, 0, 0, 0],\n",
       " [0, -3.69e+03, -1.83e+04, 6.54e+03, 2.76e+03, 8.57e+03, 0, -182, 310, 0],\n",
       " [-2.27e+04, -1.42e+04, 2.91e+04, -2.98e+04, ..., -5.66e+03, -1.32e+03, 0],\n",
       " [3.15e+04, 6.18e+03, 2.5e+04, 2.12e+04, -2.2e+04, ..., 0, 192, -77, 0],\n",
       " [0, -1.62e+03, -1.51e+04, 1.34e+04, 6.54e+03, 0, 7.28e+03, -37.8, 0, 0],\n",
       " [8.12e+03, -9.12e+03, -4.95e+03, -6.12e+03, 0, 1.43e+04, 0, 0, 0]]\n",
       "--------------------------------------------------------------------------------\n",
       "type: 100 * var * float32</pre>"
      ],
      "text/plain": [
       "<Array [[-1.63e+03, -8.63e+03, ..., 0, 0], ...] type='100 * var * float32'>"
      ]
     },
     "execution_count": 45,
     "metadata": {},
     "output_type": "execute_result"
    }
   ],
   "source": [
    "assoc.jettrkpx"
   ]
  },
  {
   "cell_type": "code",
   "execution_count": 46,
   "id": "fc31e7e2-59fe-43ab-8e6b-b12706bf0f00",
   "metadata": {
    "tags": []
   },
   "outputs": [
    {
     "data": {
      "text/html": [
       "<pre>[452794649,\n",
       " 452794649,\n",
       " 452794649,\n",
       " 452794649,\n",
       " 452794649,\n",
       " 452794649,\n",
       " 452794649,\n",
       " 452794649,\n",
       " 452794649,\n",
       " 0]\n",
       "----------------\n",
       "type: 10 * int32</pre>"
      ],
      "text/plain": [
       "<Array [452794649, 452794649, 452794649, ..., 452794649, 0] type='10 * int32'>"
      ]
     },
     "execution_count": 46,
     "metadata": {},
     "output_type": "execute_result"
    }
   ],
   "source": [
    "assoc.jetLink.m_persKey[0]"
   ]
  },
  {
   "cell_type": "code",
   "execution_count": 47,
   "id": "993dc219-8bfd-4a50-80cf-d39b743476d4",
   "metadata": {
    "tags": []
   },
   "outputs": [
    {
     "data": {
      "text/html": [
       "<pre>[[[], [2, 3], [], [], [1], [], [], [], [], [1]],\n",
       " [[], [1], [], [], [], [], [], []],\n",
       " [[], [], [1], [], [], [], [], [], [], [], [], [], [2, 3]],\n",
       " [[1], [], [1], [], [], [], [1]],\n",
       " [[1], [], [1], [], [], [], [], [], [], [], []],\n",
       " [[], [], [], [3], [], [], [], []],\n",
       " [[1], [], [], [], [], [], [], [], [], [], [], [1]],\n",
       " [[], [], [], [], [], [], [], [], [], [], [], [], [], []],\n",
       " [[], [], [1, 2], [1], [], []],\n",
       " [[], [], [], [], [1], [], [], [], []],\n",
       " ...,\n",
       " [[1], [1], [], [1], [], [1]],\n",
       " [[], [], [], [2, 3], [1], [], [], []],\n",
       " [[], [1], [], [1], [], [], [], [], [], [], []],\n",
       " [[], [], [], [], [], [], [], [], [], [], [1]],\n",
       " [[], [1], [], [], [], [], [], [], [], []],\n",
       " [[], [1], [], [1], [1], [], [], [1], [], [], [], [1]],\n",
       " [[1], [1], [], [], [], [3], [], [], [], [], [], [1], []],\n",
       " [[], [1], [], [1], [], [], [], [1], [], [3]],\n",
       " [[], [1], [1], [1], [2, 3], [], [], [], []]]\n",
       "-----------------------------------------------------------\n",
       "type: 100 * var * var * uint64</pre>"
      ],
      "text/plain": [
       "<Array [[[], [2, 3], [], ..., [], [1]], ...] type='100 * var * var * uint64'>"
      ]
     },
     "execution_count": 47,
     "metadata": {},
     "output_type": "execute_result"
    }
   ],
   "source": [
    "assoc.calkey"
   ]
  },
  {
   "cell_type": "code",
   "execution_count": 48,
   "id": "9d557048-2090-4504-9252-2b937c5f2c43",
   "metadata": {
    "tags": []
   },
   "outputs": [
    {
     "data": {
      "text/html": [
       "<pre>[[],\n",
       " [],\n",
       " [],\n",
       " [],\n",
       " [1.31e+04],\n",
       " [],\n",
       " [],\n",
       " [],\n",
       " [],\n",
       " []]\n",
       "------------------------\n",
       "type: 10 * var * float32</pre>"
      ],
      "text/plain": [
       "<Array [[], [], [], [], ..., [], [], [], []] type='10 * var * float32'>"
      ]
     },
     "execution_count": 48,
     "metadata": {},
     "output_type": "execute_result"
    }
   ],
   "source": [
    "assoc.trkpx[0]"
   ]
  },
  {
   "cell_type": "code",
   "execution_count": 49,
   "id": "51e46022-d4ae-4eaf-8d5e-4f7c8ff26bf6",
   "metadata": {
    "tags": []
   },
   "outputs": [
    {
     "data": {
      "text/html": [
       "<pre>[[],\n",
       " [],\n",
       " [],\n",
       " [],\n",
       " [1],\n",
       " [],\n",
       " [],\n",
       " [],\n",
       " [],\n",
       " []]\n",
       "-----------------------\n",
       "type: 10 * var * uint64</pre>"
      ],
      "text/plain": [
       "<Array [[], [], [], [], [1], [], [], [], [], []] type='10 * var * uint64'>"
      ]
     },
     "execution_count": 49,
     "metadata": {},
     "output_type": "execute_result"
    }
   ],
   "source": [
    "assoc.trkkey[0]"
   ]
  },
  {
   "cell_type": "markdown",
   "id": "384e1247-b4cf-498c-9faa-7571e3e242ac",
   "metadata": {},
   "source": [
    "# Concept\n",
    "\n",
    "Going through the steps of TJ's high-level summary (https://gitlab.cern.ch/khoo/METRecoTutorial)\n",
    "\n",
    "1. A set of selected objects is identified as inputs to the lepton/photon/tau MET terms.\n",
    "\n",
    "Ok, we assume to already have that - e.g. attached a `baseline` flag to the objects\n",
    "\n",
    "2. Iterating over the selected objects in some defined order of priority, any objects overlapping a prior object are discarded.\n",
    "\n",
    "The overlaps we get from the `objectLink` and `overlapingIndices` field in the association map:"
   ]
  },
  {
   "cell_type": "code",
   "execution_count": 50,
   "id": "01fdca58-26ab-4b81-8d8d-2d5679fb6bdb",
   "metadata": {
    "tags": []
   },
   "outputs": [
    {
     "data": {
      "text/html": [
       "<pre>[[],\n",
       " [956497600, 518718875],\n",
       " [],\n",
       " [],\n",
       " [518718875],\n",
       " [],\n",
       " [],\n",
       " [],\n",
       " [],\n",
       " [902907695]]\n",
       "------------------------\n",
       "type: 10 * var * uint32</pre>"
      ],
      "text/plain": [
       "<Array [[], [956497600, ...], ..., [], [902907695]] type='10 * var * uint32'>"
      ]
     },
     "execution_count": 50,
     "metadata": {},
     "output_type": "execute_result"
    }
   ],
   "source": [
    "assoc.objectLinks[0].m_persKey"
   ]
  },
  {
   "cell_type": "code",
   "execution_count": 51,
   "id": "003f3959-8583-450c-84de-467bd3e21288",
   "metadata": {
    "tags": []
   },
   "outputs": [
    {
     "data": {
      "text/html": [
       "<pre>[[],\n",
       " [[1], [0]],\n",
       " [],\n",
       " [],\n",
       " [[]],\n",
       " [],\n",
       " [],\n",
       " [],\n",
       " [],\n",
       " [[]]]\n",
       "-----------------------------\n",
       "type: 10 * var * var * uint64</pre>"
      ],
      "text/plain": [
       "<Array [[], [[1], [0]], [], ..., [], [], [[]]] type='10 * var * var * uint64'>"
      ]
     },
     "execution_count": 51,
     "metadata": {},
     "output_type": "execute_result"
    }
   ],
   "source": [
    "assoc.overlapIndices[0]"
   ]
  },
  {
   "cell_type": "markdown",
   "id": "315a29cf-f826-490a-b3d9-6c98aeac27de",
   "metadata": {},
   "source": [
    "3. The remaining objects are summed into their respective MET terms.\n",
    "\n",
    "Ok, so with the procedure before we could have stored a flag e.g. `pass_met` and then do the summing of `px`, `py` and `summet` based on that\n",
    "\n",
    "4. Energy/momentum associated with any of the selected objects is removed from the jets that contain them.\n",
    "\n",
    "For the association we have `trkkey` and `calkey`"
   ]
  },
  {
   "cell_type": "code",
   "execution_count": 52,
   "id": "15f615b8-ed07-46d1-bf2e-ce398ed7c206",
   "metadata": {
    "tags": []
   },
   "outputs": [
    {
     "data": {
      "text/html": [
       "<pre>[[],\n",
       " [],\n",
       " [],\n",
       " [],\n",
       " [1],\n",
       " [],\n",
       " [],\n",
       " [],\n",
       " [],\n",
       " []]\n",
       "-----------------------\n",
       "type: 10 * var * uint64</pre>"
      ],
      "text/plain": [
       "<Array [[], [], [], [], [1], [], [], [], [], []] type='10 * var * uint64'>"
      ]
     },
     "execution_count": 52,
     "metadata": {},
     "output_type": "execute_result"
    }
   ],
   "source": [
    "assoc.trkkey[0]"
   ]
  },
  {
   "cell_type": "code",
   "execution_count": 53,
   "id": "48d5a7d7-186e-4510-9b6c-becd45608f31",
   "metadata": {
    "tags": []
   },
   "outputs": [
    {
     "data": {
      "text/html": [
       "<pre>[[],\n",
       " [2, 3],\n",
       " [],\n",
       " [],\n",
       " [1],\n",
       " [],\n",
       " [],\n",
       " [],\n",
       " [],\n",
       " [1]]\n",
       "-----------------------\n",
       "type: 10 * var * uint64</pre>"
      ],
      "text/plain": [
       "<Array [[], [2, 3], [], [], [1], ..., [], [], [], [1]] type='10 * var * uint64'>"
      ]
     },
     "execution_count": 53,
     "metadata": {},
     "output_type": "execute_result"
    }
   ],
   "source": [
    "assoc.calkey[0]"
   ]
  },
  {
   "cell_type": "markdown",
   "id": "d1501418-fae6-4231-8774-8963e53df6c3",
   "metadata": {},
   "source": [
    "These are links into `trkpx`, `trkpy`, ..."
   ]
  },
  {
   "cell_type": "code",
   "execution_count": 54,
   "id": "6976a1e1-ac6a-41b4-b920-5f43ddd215c3",
   "metadata": {
    "tags": []
   },
   "outputs": [
    {
     "data": {
      "text/html": [
       "<pre>[[],\n",
       " [],\n",
       " [],\n",
       " [],\n",
       " [1.31e+04],\n",
       " [],\n",
       " [],\n",
       " [],\n",
       " [],\n",
       " []]\n",
       "------------------------\n",
       "type: 10 * var * float32</pre>"
      ],
      "text/plain": [
       "<Array [[], [], [], [], ..., [], [], [], []] type='10 * var * float32'>"
      ]
     },
     "execution_count": 54,
     "metadata": {},
     "output_type": "execute_result"
    }
   ],
   "source": [
    "assoc.trkpx[0]"
   ]
  },
  {
   "cell_type": "code",
   "execution_count": 55,
   "id": "1adf556e-5399-42ae-bbd6-8e193473dba9",
   "metadata": {
    "tags": []
   },
   "outputs": [
    {
     "data": {
      "text/html": [
       "<pre>[[],\n",
       " [-5.89e+03, -5.5e+04],\n",
       " [],\n",
       " [],\n",
       " [5.39e+04],\n",
       " [],\n",
       " [],\n",
       " [],\n",
       " [],\n",
       " [-172]]\n",
       "------------------------\n",
       "type: 10 * var * float32</pre>"
      ],
      "text/plain": [
       "<Array [[], [-5.89e+03, -5.5e+04], ..., [], [-172]] type='10 * var * float32'>"
      ]
     },
     "execution_count": 55,
     "metadata": {},
     "output_type": "execute_result"
    }
   ],
   "source": [
    "assoc.calpx[0]"
   ]
  },
  {
   "cell_type": "markdown",
   "id": "98e220a5-cff2-48dc-a731-b9a1ef6f1379",
   "metadata": {},
   "source": [
    "mmhh something seems odd? have indices 2, 3 here but only 2 entries? -> check what the c++ does?\n",
    "it's mentioned the cal/trk keys are bitmasks - is that true?\n",
    "\n",
    "see the [tutorial](https://gitlab.cern.ch/khoo/METRecoTutorial/-/blob/master/Root/DemoMETRebuilding.cxx#L174) how to remove energy momentum of the jet - also helps for the next step:\n",
    "\n",
    "5. Jets are added into their own MET term if they pass a selection defined by the MET group2 and if they did not lose the bulk of their energy in step 4.\n",
    "6. Any jets failing the overlap removal have their residual momentum added to the core soft term.\n",
    "7. The momentum associated with objects in the misc association that were not selected is added to the soft term.\n",
    "\n",
    "Last point again should be able to use `objectLinks` and `trkKey`\n",
    "\n",
    "finally\n",
    "\n",
    "8. All MET terms (hard and soft) are summed up to form the total MET in the event."
   ]
  }
 ],
 "metadata": {
  "kernelspec": {
   "display_name": "Python 3 (ipykernel)",
   "language": "python",
   "name": "python3"
  },
  "language_info": {
   "codemirror_mode": {
    "name": "ipython",
    "version": 3
   },
   "file_extension": ".py",
   "mimetype": "text/x-python",
   "name": "python",
   "nbconvert_exporter": "python",
   "pygments_lexer": "ipython3",
   "version": "3.10.10"
  }
 },
 "nbformat": 4,
 "nbformat_minor": 5
}
