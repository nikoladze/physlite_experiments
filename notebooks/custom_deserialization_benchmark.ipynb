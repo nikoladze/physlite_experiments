{
 "cells": [
  {
   "cell_type": "code",
   "execution_count": 1,
   "id": "democratic-chassis",
   "metadata": {},
   "outputs": [],
   "source": [
    "import timeit\n",
    "from physlite_experiments.deserialization_hacks import branch_to_array\n",
    "import uproot\n",
    "import matplotlib.pyplot as plt\n",
    "import pandas as pd\n",
    "import numpy as np\n",
    "import json"
   ]
  },
  {
   "cell_type": "code",
   "execution_count": 2,
   "id": "informative-trigger",
   "metadata": {},
   "outputs": [],
   "source": [
    "rootfile = \"user.nihartma.22884623.EXT0._000001.DAOD_PHYSLITE.test.pool.root\""
   ]
  },
  {
   "cell_type": "code",
   "execution_count": 3,
   "id": "ethical-military",
   "metadata": {},
   "outputs": [],
   "source": [
    "f = uproot.open(rootfile)"
   ]
  },
  {
   "cell_type": "code",
   "execution_count": 4,
   "id": "mysterious-rental",
   "metadata": {},
   "outputs": [
    {
     "data": {
      "text/plain": [
       "ZLIB(5)"
      ]
     },
     "execution_count": 4,
     "metadata": {},
     "output_type": "execute_result"
    }
   ],
   "source": [
    "f.file.compression"
   ]
  },
  {
   "cell_type": "code",
   "execution_count": 5,
   "id": "respiratory-vacuum",
   "metadata": {},
   "outputs": [],
   "source": [
    "def read_branch(rootfile, branchname, custom=False, decompress_only=False):\n",
    "    with uproot.open(rootfile) as f:\n",
    "        branch = f[\"CollectionTree\"][branchname]\n",
    "        if decompress_only:\n",
    "            def decompress():\n",
    "                for i in range(branch.num_baskets):\n",
    "                    basket_data = branch.basket(i).data\n",
    "            return timeit.timeit(decompress, number=1)\n",
    "        elif custom:\n",
    "            return timeit.timeit(lambda: branch_to_array(branch), number=1)\n",
    "        else:\n",
    "            return timeit.timeit(lambda: branch.array(), number=1)"
   ]
  },
  {
   "cell_type": "code",
   "execution_count": 7,
   "id": "swedish-bacteria",
   "metadata": {},
   "outputs": [],
   "source": [
    "with open(\"root_reading_benchmark.json\") as json_file:\n",
    "    root_results = json.load(json_file)"
   ]
  },
  {
   "cell_type": "code",
   "execution_count": 8,
   "id": "tired-porter",
   "metadata": {},
   "outputs": [],
   "source": [
    "times = []\n",
    "labels_branches = [\n",
    "    (\"<vector<vector<int>> (Jets)\", \"AnalysisJetsAuxDyn.NumTrkPt500\"),\n",
    "    (\"<vector<vector<ElementLink> (Electrons)\", \"AnalysisElectronsAuxDyn.trackParticleLinks\"),\n",
    "    (\"<vector<vector<vector<char>>> (MET)\", \"METAssoc_AnalysisMETAux.overlapIndices\")\n",
    "]\n",
    "df = []\n",
    "for label, branch_name in labels_branches:\n",
    "    d = {\"label\" : label}\n",
    "    # record second time (read from page cache, jitted numba function)\n",
    "    read_branch(rootfile, branch_name)\n",
    "    d[\"Uproot default\"] = read_branch(rootfile, branch_name)\n",
    "    read_branch(rootfile, branch_name, custom=True)\n",
    "    d[\"Custom deserialization\"] = read_branch(rootfile, branch_name, custom=True)\n",
    "    read_branch(rootfile, branch_name, decompress_only=True)\n",
    "    d[\"Only decompression\"] = read_branch(rootfile, branch_name, decompress_only=True)\n",
    "    d[\"ROOT TTree::Draw\"] = root_results[branch_name]\n",
    "    df.append(d)\n",
    "df = pd.DataFrame(df)"
   ]
  },
  {
   "cell_type": "code",
   "execution_count": 9,
   "id": "conservative-mineral",
   "metadata": {},
   "outputs": [],
   "source": [
    "df.to_json(\"reading_benchmark_all.json\")"
   ]
  },
  {
   "cell_type": "code",
   "execution_count": 10,
   "id": "automotive-marketing",
   "metadata": {},
   "outputs": [
    {
     "data": {
      "text/html": [
       "<div>\n",
       "<style scoped>\n",
       "    .dataframe tbody tr th:only-of-type {\n",
       "        vertical-align: middle;\n",
       "    }\n",
       "\n",
       "    .dataframe tbody tr th {\n",
       "        vertical-align: top;\n",
       "    }\n",
       "\n",
       "    .dataframe thead th {\n",
       "        text-align: right;\n",
       "    }\n",
       "</style>\n",
       "<table border=\"1\" class=\"dataframe\">\n",
       "  <thead>\n",
       "    <tr style=\"text-align: right;\">\n",
       "      <th></th>\n",
       "      <th>label</th>\n",
       "      <th>Uproot default</th>\n",
       "      <th>Custom deserialization</th>\n",
       "      <th>Only decompression</th>\n",
       "      <th>ROOT TTree::Draw</th>\n",
       "    </tr>\n",
       "  </thead>\n",
       "  <tbody>\n",
       "    <tr>\n",
       "      <th>0</th>\n",
       "      <td>&lt;vector&lt;vector&lt;int&gt;&gt; (Jets)</td>\n",
       "      <td>6.210959</td>\n",
       "      <td>0.057588</td>\n",
       "      <td>0.031095</td>\n",
       "      <td>0.421207</td>\n",
       "    </tr>\n",
       "    <tr>\n",
       "      <th>1</th>\n",
       "      <td>&lt;vector&lt;vector&lt;ElementLink&gt; (Electrons)</td>\n",
       "      <td>26.733443</td>\n",
       "      <td>0.004510</td>\n",
       "      <td>0.002641</td>\n",
       "      <td>0.059559</td>\n",
       "    </tr>\n",
       "    <tr>\n",
       "      <th>2</th>\n",
       "      <td>&lt;vector&lt;vector&lt;vector&lt;char&gt;&gt;&gt; (MET)</td>\n",
       "      <td>1.296301</td>\n",
       "      <td>0.099937</td>\n",
       "      <td>0.002100</td>\n",
       "      <td>0.140157</td>\n",
       "    </tr>\n",
       "  </tbody>\n",
       "</table>\n",
       "</div>"
      ],
      "text/plain": [
       "                                     label  Uproot default  \\\n",
       "0              <vector<vector<int>> (Jets)        6.210959   \n",
       "1  <vector<vector<ElementLink> (Electrons)       26.733443   \n",
       "2      <vector<vector<vector<char>>> (MET)        1.296301   \n",
       "\n",
       "   Custom deserialization  Only decompression  ROOT TTree::Draw  \n",
       "0                0.057588            0.031095          0.421207  \n",
       "1                0.004510            0.002641          0.059559  \n",
       "2                0.099937            0.002100          0.140157  "
      ]
     },
     "execution_count": 10,
     "metadata": {},
     "output_type": "execute_result"
    }
   ],
   "source": [
    "df"
   ]
  },
  {
   "cell_type": "code",
   "execution_count": 11,
   "id": "virgin-block",
   "metadata": {},
   "outputs": [],
   "source": [
    "read_branch(rootfile, \"AnalysisJetsAuxDyn.pt\")\n",
    "time_vector_float = read_branch(rootfile, \"AnalysisJetsAuxDyn.pt\")"
   ]
  },
  {
   "cell_type": "code",
   "execution_count": 12,
   "id": "hairy-composition",
   "metadata": {},
   "outputs": [
    {
     "data": {
      "text/plain": [
       "0.007482646004064009"
      ]
     },
     "execution_count": 12,
     "metadata": {},
     "output_type": "execute_result"
    }
   ],
   "source": [
    "time_vector_float"
   ]
  },
  {
   "cell_type": "code",
   "execution_count": 13,
   "id": "precious-deployment",
   "metadata": {},
   "outputs": [
    {
     "data": {
      "image/png": "[encoded data removed]",
      "text/plain": [
       "<Figure size 720x360 with 1 Axes>"
      ]
     },
     "metadata": {
      "needs_background": "light"
     },
     "output_type": "display_data"
    }
   ],
   "source": [
    "fig, ax = plt.subplots(figsize=(10, 5))\n",
    "df.set_index(\"label\").plot(kind=\"bar\", ax=ax)\n",
    "ax.tick_params(axis='x', labelrotation=10)\n",
    "ax.set_xlabel(None)\n",
    "ax.set_ylabel(\"Loading time for 10000 events [s]\")\n",
    "ax.set_yscale(\"log\")\n",
    "ax.axhline(time_vector_float, linestyle=\"--\", color=\"black\", label=\"vector<float> (Jets) Uproot default\")\n",
    "ax.legend()\n",
    "fig.tight_layout()\n",
    "fig.savefig(\"loading_times.pdf\")"
   ]
  },
  {
   "cell_type": "code",
   "execution_count": null,
   "id": "organic-taste",
   "metadata": {},
   "outputs": [],
   "source": []
  }
 ],
 "metadata": {
  "kernelspec": {
   "display_name": "Python 3",
   "language": "python",
   "name": "python3"
  },
  "language_info": {
   "codemirror_mode": {
    "name": "ipython",
    "version": 3
   },
   "file_extension": ".py",
   "mimetype": "text/x-python",
   "name": "python",
   "nbconvert_exporter": "python",
   "pygments_lexer": "ipython3",
   "version": "3.8.0"
  },
  "toc": {
   "base_numbering": 1,
   "nav_menu": {},
   "number_sections": true,
   "sideBar": true,
   "skip_h1_title": false,
   "title_cell": "Table of Contents",
   "title_sidebar": "Contents",
   "toc_cell": false,
   "toc_position": {},
   "toc_section_display": true,
   "toc_window_display": false
  }
 },
 "nbformat": 4,
 "nbformat_minor": 5
}
