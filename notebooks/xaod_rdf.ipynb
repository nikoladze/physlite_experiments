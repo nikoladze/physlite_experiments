{
 "cells": [
  {
   "cell_type": "markdown",
   "id": "87176309-2165-4540-9f9e-e5d8009ba79c",
   "metadata": {},
   "source": [
    "# Use RDataFrame with xAODs + awkward array"
   ]
  },
  {
   "cell_type": "markdown",
   "id": "3ba8ef05-fe6c-4061-a8ca-6a3f562fb100",
   "metadata": {},
   "source": [
    "Possible setup to run this notebook (in a centos7 environment with cvmfs):\n",
    "\n",
    "**Install**\n",
    "```sh\n",
    "setupATLAS\n",
    "asetup AnalysisBase,22.2.74\n",
    "export PYTHONNOUSERSITE=1 # we want to put all extra packages into a virtualenv (ignore user site packages)\n",
    "# --system-site-packages will help to only install what is not yet in the ATLAS environment\n",
    "python -m venv --system-site-packages .extra-packages-AnalysisBase-22.2.74\n",
    "source .extra-packages-AnalysisBase-22.2.74/bin/activate\n",
    "# since the ATLAS setup uses PYTHONPATH we also put the extra-packages dir in front\n",
    "# to prioritize packages from there if nescessary\n",
    "export PYTHONPATH=$(pwd)/.extra-packages-AnalysisBase-22.2.74/lib/python3.9/site-packages:$PYTHONPATH\n",
    "# now install extra packages\n",
    "pip install jupyterlab awkward vector matplotlib\n",
    "```\n",
    "\n",
    "**Setup next time**\n",
    "```sh\n",
    "setupATLAS\n",
    "asetup AnalysisBase,22.2.74\n",
    "export PYTHONNOUSERSITE=1\n",
    "source .extra-packages-AnalysisBase-22.2.74/bin/activate\n",
    "export PYTHONPATH=$(pwd)/.extra-packages-AnalysisBase-22.2.74/lib/python3.9/site-packages:$PYTHONPATH\n",
    "```\n",
    "\n",
    "**Run with**\n",
    "```sh\n",
    "jupyter lab\n",
    "```"
   ]
  },
  {
   "cell_type": "code",
   "execution_count": 1,
   "id": "b17c5b15-c347-418d-94bc-c64e72e9ceb7",
   "metadata": {},
   "outputs": [
    {
     "name": "stdout",
     "output_type": "stream",
     "text": [
      "Welcome to JupyROOT 6.24/06\n"
     ]
    }
   ],
   "source": [
    "import ROOT\n",
    "import awkward as ak\n",
    "import numpy as np\n",
    "import vector\n",
    "import matplotlib.pyplot as plt"
   ]
  },
  {
   "cell_type": "markdown",
   "id": "9eff1644-a30d-44fc-8ea4-e232bc8223da",
   "metadata": {},
   "source": [
    "following Attila's presentation https://indico.cern.ch/event/1140386/\n",
    "\n",
    "Also see https://gitlab.cern.ch/akraszna/xAODDataSource/-/tree/master/xAODDataFrameTests/util"
   ]
  },
  {
   "cell_type": "code",
   "execution_count": 2,
   "id": "620c31ff-af59-4a7d-b2ab-5ec953b68528",
   "metadata": {},
   "outputs": [
    {
     "data": {
      "text/plain": [
       "<cppyy.gbl.DataVector<xAOD::Electron_v1> object at 0x1d1b9120>"
      ]
     },
     "execution_count": 2,
     "metadata": {},
     "output_type": "execute_result"
    },
    {
     "name": "stdout",
     "output_type": "stream",
     "text": [
      "xAOD::Init                INFO    Environment initialised for data access\n"
     ]
    }
   ],
   "source": [
    "ROOT.xAOD.Init().ignore()\n",
    "#ROOT.ROOT.EnableImplicitMT() # haven't gotting this working yet with decorators\n",
    "from xAODDataSource.Helpers import MakexAODDataFrame\n",
    "\n",
    "# instantiate needed container types\n",
    "ROOT.xAOD.ElectronContainer()"
   ]
  },
  {
   "cell_type": "code",
   "execution_count": 3,
   "id": "59309622-782c-45d1-a98d-7cba7babc9a4",
   "metadata": {},
   "outputs": [],
   "source": [
    "import urllib\n",
    "import os\n",
    "\n",
    "# 10k events, 140MB\n",
    "# produced from mc16_13TeV:AOD.13122612._000001.pool.root.1\n",
    "# from ttbar sample mc16_13TeV:mc16_13TeV.410470.PhPy8EG_A14_ttbar_hdamp258p75_nonallhad.merge.AOD.e6337_e5984_s3126_r10201_r10210\n",
    "filename = \"user.nihartma.22884623.EXT0._000001.DAOD_PHYSLITE.test.pool.root\"\n",
    "if not os.path.exists(filename):\n",
    "    print(\"downloading ...\")\n",
    "    urllib.request.urlretrieve(\n",
    "        \"https://cernbox.cern.ch/index.php/s/3Il7P7MJ0aAeyJG/download\", filename\n",
    "    )"
   ]
  },
  {
   "cell_type": "code",
   "execution_count": 4,
   "id": "b517e7e5-590c-4c3d-9fc0-0fcfc70bde6d",
   "metadata": {},
   "outputs": [],
   "source": [
    "rdf = MakexAODDataFrame(filename)"
   ]
  },
  {
   "cell_type": "code",
   "execution_count": null,
   "id": "ef2af955-770e-41ef-963a-b8fcb260536e",
   "metadata": {
    "tags": []
   },
   "outputs": [],
   "source": [
    "list(rdf.GetColumnNames())"
   ]
  },
  {
   "cell_type": "code",
   "execution_count": 6,
   "id": "1289c4e1-d36d-402a-98e5-6a1f76b5daf2",
   "metadata": {},
   "outputs": [
    {
     "data": {
      "text/plain": [
       "'DataVector<xAOD::Electron_v1>'"
      ]
     },
     "execution_count": 6,
     "metadata": {},
     "output_type": "execute_result"
    }
   ],
   "source": [
    "rdf.GetColumnType(\"AnalysisElectrons\")"
   ]
  },
  {
   "cell_type": "code",
   "execution_count": 7,
   "id": "c077cae7-e1a3-47f3-87a0-fbc251ea4f5e",
   "metadata": {},
   "outputs": [],
   "source": [
    "rdf2 = rdf.Define(\"el_pt_0\", \"AnalysisElectrons.size() > 0 ? AnalysisElectrons[0]->pt() : -999\")"
   ]
  },
  {
   "cell_type": "code",
   "execution_count": 8,
   "id": "210a8597-8994-4175-84fc-2ab4bbe59fd5",
   "metadata": {},
   "outputs": [
    {
     "data": {
      "text/plain": [
       "{'el_pt_0': ndarray([  -999.        ,   3373.38525391,  67384.453125  , ...,\n",
       "          100287.59375   ,  25825.640625  ,   6266.61523438])}"
      ]
     },
     "execution_count": 8,
     "metadata": {},
     "output_type": "execute_result"
    },
    {
     "name": "stderr",
     "output_type": "stream",
     "text": [
      "input_line_455:10:7: warning: ignoring return value of function declared with 'nodiscard' attribute [-Wunused-result]\n",
      "      ((const vector<double>*)obj)->empty();\n",
      "      ^~~~~~~~~~~~~~~~~~~~~~~~~~~~~~~~~~~\n"
     ]
    }
   ],
   "source": [
    "rdf2.AsNumpy([\"el_pt_0\"])"
   ]
  },
  {
   "cell_type": "code",
   "execution_count": 9,
   "id": "74b74b68-0c58-4aa9-b801-23eaa7175333",
   "metadata": {},
   "outputs": [
    {
     "data": {
      "text/plain": [
       "{'el_pt_0': ndarray([ -999.        ,  4129.17535388, 32111.68112368, ...,\n",
       "          91299.6962074 ,  2382.70603923,  5681.07067736])}"
      ]
     },
     "execution_count": 9,
     "metadata": {},
     "output_type": "execute_result"
    }
   ],
   "source": [
    "rdf2 = rdf.Define(\"el_pt_0\", \"AnalysisElectrons.size() > 0 ? AnalysisElectrons[0]->trackParticle()->pt() : -999\")\n",
    "rdf2.AsNumpy([\"el_pt_0\"])"
   ]
  },
  {
   "cell_type": "markdown",
   "id": "d920461b-0dac-4281-9027-bb6d1ac9db93",
   "metadata": {},
   "source": [
    "To use nested types we have to convert to an `awkward` array. A conversion function from `RDataFrame` to `awkward` [is in the works](https://github.com/scikit-hep/awkward/pull/1448). Until then, we can manually convert it using `RDataFrame.Take`:"
   ]
  },
  {
   "cell_type": "code",
   "execution_count": 10,
   "id": "9cb30881-ea07-49ac-a705-bd9932bdad59",
   "metadata": {},
   "outputs": [],
   "source": [
    "rdf3 = rdf.Define(\"el_track_pt\", \"\"\"\n",
    "std::vector<float> pt;\n",
    "for (auto electron: AnalysisElectrons) {\n",
    "  pt.push_back(electron->trackParticle()->pt());\n",
    "}\n",
    "return pt;\n",
    "\"\"\")"
   ]
  },
  {
   "cell_type": "code",
   "execution_count": 11,
   "id": "eb70e3ec-03f8-4453-8531-8e878e179e73",
   "metadata": {},
   "outputs": [
    {
     "data": {
      "text/plain": [
       "'vector<float>'"
      ]
     },
     "execution_count": 11,
     "metadata": {},
     "output_type": "execute_result"
    }
   ],
   "source": [
    "rdf3.GetColumnType(\"el_track_pt\")"
   ]
  },
  {
   "cell_type": "code",
   "execution_count": 12,
   "id": "541bf1e2-a18e-47d4-99cf-528df4fa4ef3",
   "metadata": {},
   "outputs": [],
   "source": [
    "ak_pt = ak.Array(rdf3.Take[rdf3.GetColumnType(\"el_track_pt\")](\"el_track_pt\"))"
   ]
  },
  {
   "cell_type": "code",
   "execution_count": null,
   "id": "20ca5480-92aa-42f9-80de-0d1d6d243d39",
   "metadata": {
    "tags": []
   },
   "outputs": [],
   "source": [
    "ak_pt.tolist()"
   ]
  },
  {
   "cell_type": "markdown",
   "id": "d768e0f3-bfb8-4bcf-8500-34ebdb2ade54",
   "metadata": {},
   "source": [
    "This was using a python loop - we can be a bit more efficient by defining a c++ function that splits the array into offsets and a flat content:"
   ]
  },
  {
   "cell_type": "code",
   "execution_count": 14,
   "id": "1d6a02d9-b2a9-473c-9f4b-4138a2e9052e",
   "metadata": {},
   "outputs": [],
   "source": [
    "%%cpp -d\n",
    "template <typename T>\n",
    "std::pair<std::vector<int64_t>, std::vector<T>>\n",
    "flatten(std::vector<std::vector<T>> vv) {\n",
    "  std::vector<int64_t> offsets;\n",
    "  std::vector<T> content;\n",
    "  offsets.reserve(1024);\n",
    "  content.reserve(1024);\n",
    "  int i = 0;\n",
    "  for (auto v : vv) {\n",
    "    offsets.push_back(i);\n",
    "    for (auto x : v) {\n",
    "      content.push_back(x);\n",
    "      i++;\n",
    "    }\n",
    "  }\n",
    "  offsets.push_back(i);\n",
    "  return std::make_pair(offsets, content);\n",
    "}"
   ]
  },
  {
   "cell_type": "code",
   "execution_count": 15,
   "id": "8b7f0d9f-50fe-4fd5-992a-c0693ade09b5",
   "metadata": {},
   "outputs": [],
   "source": [
    "vv = rdf3.Take[rdf3.GetColumnType(\"el_track_pt\")](\"el_track_pt\")"
   ]
  },
  {
   "cell_type": "code",
   "execution_count": 16,
   "id": "3ee494ba-e81b-4fb8-a9ab-db751b378cc7",
   "metadata": {},
   "outputs": [],
   "source": [
    "offsets, content = ROOT.flatten[\"float\"](vv.GetValue())"
   ]
  },
  {
   "cell_type": "code",
   "execution_count": 17,
   "id": "d67bcb07-5bf7-4598-9b5f-2a2237ca01cb",
   "metadata": {
    "tags": []
   },
   "outputs": [
    {
     "data": {
      "text/plain": [
       "array([ 4129.1753, 32111.682 , 76299.625 , ...,  5203.103 ,  2382.706 ,\n",
       "        5681.071 ], dtype=float32)"
      ]
     },
     "execution_count": 17,
     "metadata": {},
     "output_type": "execute_result"
    },
    {
     "name": "stderr",
     "output_type": "stream",
     "text": [
      "input_line_484:10:7: warning: ignoring return value of function declared with 'nodiscard' attribute [-Wunused-result]\n",
      "      ((const vector<float>*)obj)->empty();\n",
      "      ^~~~~~~~~~~~~~~~~~~~~~~~~~~~~~~~~~\n"
     ]
    }
   ],
   "source": [
    "np.array(content)"
   ]
  },
  {
   "cell_type": "code",
   "execution_count": 18,
   "id": "55bff43a-b86a-4dca-8dc9-0f18c523fee1",
   "metadata": {
    "tags": []
   },
   "outputs": [
    {
     "data": {
      "text/plain": [
       "array([   0,    0,    1, ..., 4727, 4728, 4729])"
      ]
     },
     "execution_count": 18,
     "metadata": {},
     "output_type": "execute_result"
    },
    {
     "name": "stderr",
     "output_type": "stream",
     "text": [
      "input_line_488:10:7: warning: ignoring return value of function declared with 'nodiscard' attribute [-Wunused-result]\n",
      "      ((const vector<long>*)obj)->empty();\n",
      "      ^~~~~~~~~~~~~~~~~~~~~~~~~~~~~~~~~\n"
     ]
    }
   ],
   "source": [
    "np.array(offsets)"
   ]
  },
  {
   "cell_type": "code",
   "execution_count": 19,
   "id": "c6eee7de-7f2e-4533-a6e4-d712ae109e26",
   "metadata": {},
   "outputs": [],
   "source": [
    "def vv_to_ak(vv, typename):\n",
    "    if hasattr(vv, \"GetValue\"):\n",
    "        vv = vv.GetValue()\n",
    "    offsets, content = ROOT.flatten[typename](vv)\n",
    "    return ak.Array(\n",
    "        ak.layout.ListOffsetArray64(\n",
    "            ak.layout.Index64(np.array(offsets.data())),\n",
    "            ak.layout.NumpyArray(np.array(content.data())),\n",
    "        )\n",
    "    )"
   ]
  },
  {
   "cell_type": "code",
   "execution_count": 20,
   "id": "6f7c8b11-7027-4185-9d58-de355f662db5",
   "metadata": {},
   "outputs": [],
   "source": [
    "def vv_rdf_to_ak(rdf, columns):\n",
    "    col_takes = {}\n",
    "    col_basetypes = {}\n",
    "    for column in columns:\n",
    "        col_type = rdf.GetColumnType(column)\n",
    "        col_basetypes[column] = col_type.split(\"<\")[1].split(\">\")[0]\n",
    "        col_takes[column] = rdf.Take[col_type](column)\n",
    "    array = {}\n",
    "    for column in columns:\n",
    "        array[column] = vv_to_ak(col_takes[column], col_basetypes[column])\n",
    "    return ak.zip(array)"
   ]
  },
  {
   "cell_type": "code",
   "execution_count": 21,
   "id": "3d2cbc75-0070-4cfb-b805-d90a2ad5f092",
   "metadata": {},
   "outputs": [
    {
     "data": {
      "text/plain": [
       "<Array [[], ... {el_track_pt: 5.68e+03}]] type='10000 * var * {\"el_track_pt\": fl...'>"
      ]
     },
     "execution_count": 21,
     "metadata": {},
     "output_type": "execute_result"
    }
   ],
   "source": [
    "vv_rdf_to_ak(rdf3, [\"el_track_pt\"])"
   ]
  },
  {
   "cell_type": "markdown",
   "id": "3ae53f1b-fd3f-404c-a389-824c8bd84364",
   "metadata": {},
   "source": [
    "We can then also pull out whole 4-momentum vectors, e.g."
   ]
  },
  {
   "cell_type": "code",
   "execution_count": 22,
   "id": "d49d37d0-9b74-4af9-be3a-647df3d00a3d",
   "metadata": {},
   "outputs": [],
   "source": [
    "def get_collection_4mom(rdf, collection):\n",
    "    columns = [\"pt\", \"eta\", \"phi\", \"e\"]\n",
    "    for column in columns:\n",
    "        rdf = rdf.Define(column, \"\"\"\n",
    "std::vector<float> res;\n",
    "res.reserve(%(collection)s.size());\n",
    "for (auto particle: %(collection)s) {\n",
    "  res.push_back(particle->%(column)s());\n",
    "}\n",
    "return res;\n",
    "\"\"\" % dict(column=column, collection=collection))\n",
    "    return vector.awk(vv_rdf_to_ak(rdf, columns))"
   ]
  },
  {
   "cell_type": "code",
   "execution_count": 23,
   "id": "b9491998-7445-47fc-8d33-23f1f464c4be",
   "metadata": {},
   "outputs": [],
   "source": [
    "electrons = get_collection_4mom(rdf, \"AnalysisElectrons\")"
   ]
  },
  {
   "cell_type": "code",
   "execution_count": 24,
   "id": "32c4d80a-d2f6-4d0e-8db8-90e26c3dc0b3",
   "metadata": {},
   "outputs": [
    {
     "data": {
      "image/png": "[encoded data removed]",
      "text/plain": [
       "<Figure size 432x288 with 1 Axes>"
      ]
     },
     "metadata": {
      "needs_background": "light"
     },
     "output_type": "display_data"
    }
   ],
   "source": [
    "plt.hist(ak.flatten(electrons.px).to_numpy(), bins=\"auto\");"
   ]
  },
  {
   "cell_type": "code",
   "execution_count": 25,
   "id": "ec54d421-794a-42e4-8bc9-35da969d8324",
   "metadata": {},
   "outputs": [],
   "source": [
    "jets = get_collection_4mom(rdf, \"AnalysisJets\")"
   ]
  },
  {
   "cell_type": "code",
   "execution_count": 26,
   "id": "6fbf5a97-ec46-436f-8039-ad94ff6ca21f",
   "metadata": {},
   "outputs": [
    {
     "data": {
      "image/png": "[encoded data removed]",
      "text/plain": [
       "<Figure size 432x288 with 1 Axes>"
      ]
     },
     "metadata": {
      "needs_background": "light"
     },
     "output_type": "display_data"
    }
   ],
   "source": [
    "plt.hist(ak.num(jets), bins=30, range=(0, 30));"
   ]
  },
  {
   "cell_type": "code",
   "execution_count": 27,
   "id": "cbf253a9-1151-4830-9f8d-b38db397a048",
   "metadata": {},
   "outputs": [],
   "source": [
    "f = ROOT.TFile.Open(filename)"
   ]
  },
  {
   "cell_type": "code",
   "execution_count": null,
   "id": "c000a61f-9951-4b82-b4d5-70b41bf2923a",
   "metadata": {
    "tags": []
   },
   "outputs": [],
   "source": [
    "list(branch.GetName() for branch in f.Get(\"CollectionTree\").GetListOfBranches() if branch.GetName().startswith(\"AnalysisElectrons\"))"
   ]
  },
  {
   "cell_type": "code",
   "execution_count": 29,
   "id": "b7451a62-4cf7-46ce-994d-7799483d2018",
   "metadata": {},
   "outputs": [],
   "source": [
    "rdf5 = rdf.Define(\"topoetcone20\", \"\"\"\n",
    "static const SG::AuxElement::ConstAccessor<float> acc(\"topoetcone20\");\n",
    "std::vector<float> dec;\n",
    "for (auto electron: AnalysisElectrons) {\n",
    "    dec.push_back(acc(*electron));\n",
    "}\n",
    "return dec;\n",
    "\"\"\")"
   ]
  },
  {
   "cell_type": "code",
   "execution_count": 30,
   "id": "982a2267-93b6-4e13-bb8a-c2a6bca7a123",
   "metadata": {},
   "outputs": [],
   "source": [
    "topoet = vv_rdf_to_ak(rdf5, [\"topoetcone20\"])"
   ]
  },
  {
   "cell_type": "code",
   "execution_count": 31,
   "id": "4835cbcb-1d70-43e7-90e1-d5049c4dcd55",
   "metadata": {},
   "outputs": [
    {
     "data": {
      "text/plain": [
       "[[],\n",
       " [{'topoetcone20': 4930.9033203125}],\n",
       " [{'topoetcone20': 1272.5250244140625}],\n",
       " [],\n",
       " [{'topoetcone20': 1824.3009033203125}],\n",
       " [{'topoetcone20': 5487.00390625}],\n",
       " [],\n",
       " [],\n",
       " [],\n",
       " [{'topoetcone20': -757.2159423828125}]]"
      ]
     },
     "execution_count": 31,
     "metadata": {},
     "output_type": "execute_result"
    }
   ],
   "source": [
    "topoet[:10].tolist()"
   ]
  },
  {
   "cell_type": "code",
   "execution_count": 32,
   "id": "8cac132e-61aa-49fd-90c7-e8b209e23b6c",
   "metadata": {},
   "outputs": [
    {
     "data": {
      "text/plain": [
       "[[],\n",
       " [4129.17529296875],\n",
       " [32111.681640625],\n",
       " [],\n",
       " [76299.625],\n",
       " [5160.49609375],\n",
       " [],\n",
       " [],\n",
       " [],\n",
       " [10969.140625]]"
      ]
     },
     "execution_count": 32,
     "metadata": {},
     "output_type": "execute_result"
    }
   ],
   "source": [
    "ak_pt[:10].tolist()"
   ]
  }
 ],
 "metadata": {
  "kernelspec": {
   "display_name": "Python 3 (ipykernel)",
   "language": "python",
   "name": "python3"
  },
  "language_info": {
   "codemirror_mode": {
    "name": "ipython",
    "version": 3
   },
   "file_extension": ".py",
   "mimetype": "text/x-python",
   "name": "python",
   "nbconvert_exporter": "python",
   "pygments_lexer": "ipython3",
   "version": "3.9.6"
  }
 },
 "nbformat": 4,
 "nbformat_minor": 5
}
